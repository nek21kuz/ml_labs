{
 "cells": [
  {
   "cell_type": "markdown",
   "metadata": {
    "id": "uHykt_Gqe3AX"
   },
   "source": [
    "# <center> Майнор \"Интеллектуальный анализ данных\" </center>"
   ]
  },
  {
   "cell_type": "markdown",
   "metadata": {
    "id": "1kbuFrXCe3AY"
   },
   "source": [
    "# <center> Курс \"Современные методы машинного обучения\" </center>"
   ]
  },
  {
   "cell_type": "markdown",
   "metadata": {
    "id": "CsQyC1HIe3AZ"
   },
   "source": [
    "# <center> Лабораторная работа №2. Deep Learning. </center>"
   ]
  },
  {
   "cell_type": "code",
   "execution_count": 6,
   "metadata": {
    "id": "TWh7leoTe3AZ"
   },
   "outputs": [],
   "source": [
    "import warnings\n",
    "warnings.filterwarnings(\"ignore\")\n",
    "from tqdm import tqdm"
   ]
  },
  {
   "cell_type": "code",
   "execution_count": 7,
   "metadata": {
    "id": "BoJ4233Le3AZ"
   },
   "outputs": [],
   "source": [
    "import numpy as np\n",
    "import matplotlib.pyplot as plt"
   ]
  },
  {
   "cell_type": "code",
   "execution_count": 8,
   "metadata": {
    "id": "SWGON9a_e3AZ"
   },
   "outputs": [],
   "source": [
    "import os\n",
    "import string\n",
    "import pandas as pd"
   ]
  },
  {
   "cell_type": "markdown",
   "metadata": {
    "id": "vQw4tMJie3Ad"
   },
   "source": [
    "# RANDOM_STATE"
   ]
  },
  {
   "cell_type": "code",
   "execution_count": 10,
   "metadata": {
    "id": "JAxSsxxNe3Ad"
   },
   "outputs": [],
   "source": [
    "import torch\n",
    "import torch.nn as nn\n",
    "import torch.nn.functional as F\n",
    "import random"
   ]
  },
  {
   "cell_type": "code",
   "execution_count": 11,
   "metadata": {
    "id": "wleGGGVee3Ad"
   },
   "outputs": [],
   "source": [
    "def seed_everything(seed):\n",
    "    random.seed(seed)\n",
    "    os.environ['PYTHONHASHSEED'] = str(seed)\n",
    "    np.random.seed(seed)\n",
    "    torch.manual_seed(seed)\n",
    "    torch.cuda.manual_seed(seed)\n",
    "    torch.backends.cudnn.deterministic = True\n",
    "    \n",
    "RANDOM_STATE = 1337\n",
    "seed_everything(RANDOM_STATE)"
   ]
  },
  {
   "cell_type": "markdown",
   "metadata": {
    "id": "-nOCVzUve3Ad"
   },
   "source": [
    "# Данные"
   ]
  },
  {
   "cell_type": "code",
   "execution_count": 12,
   "metadata": {
    "id": "hIs-waXne3Ad"
   },
   "outputs": [],
   "source": [
    "import torchvision\n",
    "from torchvision import datasets, models, transforms\n",
    "from torch.utils.data import DataLoader, Dataset"
   ]
  },
  {
   "cell_type": "code",
   "execution_count": 13,
   "metadata": {
    "id": "Nim0bON-e3Ae"
   },
   "outputs": [],
   "source": [
    "preprocess=transforms.Compose([\n",
    "    transforms.ToTensor(),\n",
    "    transforms.Grayscale(1),\n",
    "    transforms.Normalize([0.485], [0.229])\n",
    "    ])"
   ]
  },
  {
   "cell_type": "code",
   "execution_count": 14,
   "metadata": {
    "id": "rNVtzlmhe3Ae"
   },
   "outputs": [],
   "source": [
    "BATCH_SIZE = 100\n",
    "TTD = ['train', 'test']"
   ]
  },
  {
   "cell_type": "code",
   "execution_count": 15,
   "metadata": {
    "colab": {
     "base_uri": "https://localhost:8080/"
    },
    "id": "RmCW7-X9e3Ae",
    "outputId": "f0905d69-b190-4d7a-e4a3-0a96d1041d5c"
   },
   "outputs": [
    {
     "data": {
      "text/plain": [
       "True"
      ]
     },
     "execution_count": 15,
     "metadata": {
      "tags": []
     },
     "output_type": "execute_result"
    }
   ],
   "source": [
    "use_cuda = torch.cuda.is_available()\n",
    "kwargs = {'num_workers': 4, 'pin_memory': True} if use_cuda else {}\n",
    "\n",
    "use_cuda"
   ]
  },
  {
   "cell_type": "code",
   "execution_count": 16,
   "metadata": {
    "id": "r7_qly-Fp79a"
   },
   "outputs": [],
   "source": [
    "train_loader = DataLoader(datasets.ImageFolder(root = 'train', transform=preprocess), batch_size=BATCH_SIZE, shuffle=True, **kwargs) \n",
    "test_loader = DataLoader(datasets.ImageFolder(root = 'test', transform=preprocess), batch_size=BATCH_SIZE, shuffle=True, **kwargs) "
   ]
  },
  {
   "cell_type": "code",
   "execution_count": null,
   "metadata": {
    "id": "0Lm46dl83mrV"
   },
   "outputs": [],
   "source": []
  },
  {
   "cell_type": "markdown",
   "metadata": {
    "id": "vsYzL06De3Af"
   },
   "source": [
    "## Основные задания"
   ]
  },
  {
   "cell_type": "markdown",
   "metadata": {
    "id": "ooNmwQ4De3Af"
   },
   "source": [
    "Ваша задача - создать и обучить модель на основе нейронной сети, которая будет предсказывать букву на картинке.  \n",
    "Обучение необходимо проводить на данных из `train`, качество модели проверять на данных из `test`.  \n",
    "Целевая метрика - accuracy.  \n",
    "Для моделирования необходимо использовать `pytorch`."
   ]
  },
  {
   "cell_type": "code",
   "execution_count": 17,
   "metadata": {
    "id": "8O0AQuZpe3Af"
   },
   "outputs": [],
   "source": [
    "import time\n",
    "import copy"
   ]
  },
  {
   "cell_type": "code",
   "execution_count": 18,
   "metadata": {
    "id": "WlkQfV85e3Af"
   },
   "outputs": [],
   "source": [
    "device = torch.device(\"cuda:0\" if use_cuda else \"cpu\")"
   ]
  },
  {
   "cell_type": "code",
   "execution_count": 19,
   "metadata": {
    "id": "M7O8ImETlPaJ"
   },
   "outputs": [],
   "source": [
    "def train(model, train_loader, criterion, optimizer, scheduler, device, epoch, verbose = True):\n",
    "  model.train()\n",
    "  train_loss = 0.0\n",
    "  correct_train = 0\n",
    "  model.train()\n",
    "  for batch_idx, (data, target) in enumerate(train_loader):\n",
    "      optimizer.zero_grad()\n",
    "\n",
    "      data, target = data.to(device), target.to(device)\n",
    "      \n",
    "      output = model(data)\n",
    "      loss = criterion(output, target)\n",
    "      \n",
    "      loss.backward()\n",
    "      optimizer.step()\n",
    "      \n",
    "      if verbose:\n",
    "        display('Train Epoch: {} [{}/{} ({:.0f}%)] Loss: {:.6f}'.format(\n",
    "            epoch, (batch_idx+1) * len(data), len(train_loader.dataset),\n",
    "            100. * batch_idx / len(train_loader), loss.item()), display_id=str(epoch), update=True)\n",
    "\n",
    "      _, predicted = torch.max(output.data, 1)\n",
    "      train_loss += loss.item()* data.size(0)\n",
    "      correct_train += torch.sum(predicted == target.data)\n",
    "  \n",
    "  \n",
    "  epoch_loss = train_loss / len(train_loader.dataset)\n",
    "  epoch_acc = 100.*(correct_train.double() / len(train_loader.dataset))\n",
    "  if verbose:\n",
    "    print('Train set: Average loss: {:.4f}, Accuracy: {}/{} {:.0f}%\\n'.format(\n",
    "        epoch_loss,correct_train, len(train_loader.dataset), epoch_acc))\n",
    "  \n",
    "  if scheduler:\n",
    "    scheduler.step()\n",
    "    \n",
    "  return epoch_loss,epoch_acc"
   ]
  },
  {
   "cell_type": "code",
   "execution_count": 20,
   "metadata": {
    "id": "KeQZE8mV0w41"
   },
   "outputs": [],
   "source": [
    "def test(model, criterion, device, test_loader, verbose):\n",
    "  model.eval()\n",
    "  test_loss = 0\n",
    "  correct_test = 0\n",
    "  with torch.no_grad():\n",
    "      for data, target in test_loader:\n",
    "          data, target = data.to(device), target.to(device)\n",
    "          output = model(data)\n",
    "          loss = criterion(output, target) \n",
    "         \n",
    "          _, predicted = torch.max(output.data, 1) \n",
    "          test_loss += loss.item()* data.size(0)\n",
    "          correct_test += torch.sum(predicted == target.data)\n",
    "\n",
    "  test_loss = test_loss / len(test_loader.dataset)\n",
    "  accuracy = 100. * correct_test.double() / len(test_loader.dataset)\n",
    "\n",
    "  if verbose:\n",
    "    print('Val set: Average loss: {:.4f}, Accuracy: {}/{} ({:.0f}%)\\n'.format(\n",
    "        test_loss, correct_test, len(test_loader.dataset),\n",
    "        accuracy))\n",
    "  return test_loss,accuracy.item()"
   ]
  },
  {
   "cell_type": "markdown",
   "metadata": {
    "id": "ux6GOj4Pe3Af"
   },
   "source": [
    "### Задание 1  \n",
    "  \n",
    "*Вес в общей оценке - 0.35*  \n",
    "  \n",
    "1. Постройте и обучите модели с 2-мя и 3-мя полносвязными (dense) скрытыми слоями.  \n",
    "При моделировании необходимо попробовать разные параметры нейронной сети - число нейронов на каждом слое, learning rate, batch size, функции активации, регуляризации и т.д. Оцените качество моделей с различными параметрами, проведите сравнительный анализ. \n",
    "2. Для наилучшей модели постройте confusion matrix результатов предсказаний модели на тестовых данных.  \n",
    "Насколько равномерно обучилась ваша модель? Приведите буквы с самой лучшей и с самой худшей точностью детекции.\n",
    "3. Найдите 10 пар букв, которые чаще всего путаются между собой, дайте возможное объяснение. Приведите примеры с картинками, которые были детектированы с ошибкой.\n",
    "4. Возьмите первую букву вашей фамилии и укажите её точность детекции. С какими буквами ваша модель чаще всего путает эту букву?     "
   ]
  },
  {
   "cell_type": "code",
   "execution_count": 21,
   "metadata": {
    "id": "pY5uraUee3Af"
   },
   "outputs": [],
   "source": [
    "class NetLr(nn.Module):\n",
    "\n",
    "    act_dict = nn.ModuleDict([\n",
    "                ['smax', nn.Softmax()],\n",
    "                ['relu', nn.ReLU()],\n",
    "                ['sigm', nn.Sigmoid()],\n",
    "                ['lsmax', nn.LogSoftmax()]\n",
    "        ])\n",
    "    \n",
    "\n",
    "    def __init__(self, ll, act=None, drop=None, norm='bn'):\n",
    "\n",
    "        super(NetLr, self).__init__()        \n",
    "       \n",
    "        #FC\n",
    "        self.linears = nn.ModuleList(\n",
    "            [nn.Linear(ll[i], ll[i+1]) for i in range(len(ll) - 1)]\n",
    "        )\n",
    "        \n",
    "        #NORMALIZATION\n",
    "        if not norm:\n",
    "          self.normalizations = [None]*(len(ll) - 2)\n",
    "        else:\n",
    "          self.normalizations = nn.ModuleList(\n",
    "              [nn.BatchNorm1d(i) for i in ll[1: -1]]\n",
    "        )\n",
    "\n",
    "        #DROP\n",
    "        if not drop:\n",
    "          drop = [0]*(len(ll) - 2)\n",
    "        self.drops = nn.ModuleList(\n",
    "            [nn.Dropout(p) for p in drop]\n",
    "        )\n",
    "\n",
    "        #ACTIVATIONS\n",
    "        if not act:\n",
    "          act = ['relu']*(len(ll) - 2) + ['lsmax']\n",
    "        self.activations = nn.ModuleList(\n",
    "            [NetLr.act_dict[i] for i in act]\n",
    "        )\n",
    "            \n",
    "    def forward(self, x):\n",
    "        x = x.view(-1, self.num_flat_features(x))\n",
    "        for l, a, d, n in zip(self.linears, self.activations, self.drops, self.normalizations):\n",
    "            x = l(x)\n",
    "            if n:\n",
    "              x = n(x)\n",
    "            x = d(x)\n",
    "            x = a(x)\n",
    "        x = self.linears[-1](x)\n",
    "        x = self.activations[-1](x)\n",
    "        return x\n",
    "    \n",
    "    def num_flat_features(self, x):\n",
    "        size = x.size()[1:] \n",
    "        num_features = 1\n",
    "        for s in size:\n",
    "            num_features *= s\n",
    "        return num_features"
   ]
  },
  {
   "cell_type": "code",
   "execution_count": 22,
   "metadata": {
    "id": "3MmLeLtee3Af"
   },
   "outputs": [],
   "source": [
    "import torch.optim as optim\n",
    "from torch.optim import lr_scheduler"
   ]
  },
  {
   "cell_type": "code",
   "execution_count": 23,
   "metadata": {
    "id": "94PeQiWXXHSO"
   },
   "outputs": [],
   "source": [
    "criterion = nn.NLLLoss()"
   ]
  },
  {
   "cell_type": "markdown",
   "metadata": {
    "id": "szCOubT4nG1m"
   },
   "source": [
    "**2 скрытых слоя**\n"
   ]
  },
  {
   "cell_type": "markdown",
   "metadata": {
    "id": "rkMuWcIjladv"
   },
   "source": [
    "Модель плохо обучается, если первый скрытый слой больше 500 и меньше 150 и если второй слой больше 300 или почти такой же как выходной.\n",
    "\n",
    "Batch Norm увеличил качество, но не сильно. Регуляризация не помогла.\n",
    "\n",
    "Дроп аут, даже очень маленький, очень сильно снижает качество.\n",
    "\n",
    "\n",
    "Оптимальная модель:\n"
   ]
  },
  {
   "cell_type": "code",
   "execution_count": null,
   "metadata": {
    "id": "2WOZcfia1GAH"
   },
   "outputs": [],
   "source": [
    "ll = [28*28, 260, 90, 26]\n",
    "net = NetLr(ll).to(device)"
   ]
  },
  {
   "cell_type": "code",
   "execution_count": null,
   "metadata": {
    "colab": {
     "base_uri": "https://localhost:8080/"
    },
    "id": "6cVXPKLre3Af",
    "outputId": "1b267e7b-87eb-4bc2-ce35-9a351909011a"
   },
   "outputs": [
    {
     "name": "stdout",
     "output_type": "stream",
     "text": [
      "Adjusting learning rate of group 0 to 1.0000e-03.\n"
     ]
    }
   ],
   "source": [
    "criterion = nn.NLLLoss()\n",
    "\n",
    "optimizer= optim.Adam(net.parameters(), lr=0.001, betas=(0.9, 0.999), eps=1e-08, weight_decay=0)\n",
    "\n",
    "scheduler = lr_scheduler.StepLR(optimizer, step_size=3, gamma=0.1, verbose=True)"
   ]
  },
  {
   "cell_type": "code",
   "execution_count": null,
   "metadata": {
    "colab": {
     "base_uri": "https://localhost:8080/",
     "height": 647
    },
    "id": "oQ3ENmoze3Ag",
    "outputId": "94fc4bd5-90d2-46c1-def9-91817c0eda67",
    "scrolled": true
   },
   "outputs": [
    {
     "data": {
      "application/vnd.google.colaboratory.intrinsic+json": {
       "type": "string"
      },
      "text/plain": [
       "'Train Epoch: 0 [65000/65000 (100%)] Loss: 0.444137'"
      ]
     },
     "metadata": {
      "tags": []
     },
     "output_type": "display_data"
    },
    {
     "name": "stdout",
     "output_type": "stream",
     "text": [
      "Train set: Average loss: 0.8092, Accuracy: 50801/65000 78%\n",
      "\n",
      "Adjusting learning rate of group 0 to 1.0000e-03.\n",
      "Val set: Average loss: 0.4577, Accuracy: 11142/13000 (86%)\n",
      "\n"
     ]
    },
    {
     "data": {
      "application/vnd.google.colaboratory.intrinsic+json": {
       "type": "string"
      },
      "text/plain": [
       "'Train Epoch: 1 [65000/65000 (100%)] Loss: 0.389235'"
      ]
     },
     "metadata": {
      "tags": []
     },
     "output_type": "display_data"
    },
    {
     "name": "stdout",
     "output_type": "stream",
     "text": [
      "Train set: Average loss: 0.3806, Accuracy: 57126/65000 88%\n",
      "\n",
      "Adjusting learning rate of group 0 to 1.0000e-03.\n",
      "Val set: Average loss: 0.3719, Accuracy: 11480/13000 (88%)\n",
      "\n"
     ]
    },
    {
     "data": {
      "application/vnd.google.colaboratory.intrinsic+json": {
       "type": "string"
      },
      "text/plain": [
       "'Train Epoch: 2 [65000/65000 (100%)] Loss: 0.521126'"
      ]
     },
     "metadata": {
      "tags": []
     },
     "output_type": "display_data"
    },
    {
     "name": "stdout",
     "output_type": "stream",
     "text": [
      "Train set: Average loss: 0.3022, Accuracy: 58554/65000 90%\n",
      "\n",
      "Adjusting learning rate of group 0 to 1.0000e-04.\n",
      "Val set: Average loss: 0.3453, Accuracy: 11491/13000 (88%)\n",
      "\n"
     ]
    },
    {
     "data": {
      "application/vnd.google.colaboratory.intrinsic+json": {
       "type": "string"
      },
      "text/plain": [
       "'Train Epoch: 3 [65000/65000 (100%)] Loss: 0.184074'"
      ]
     },
     "metadata": {
      "tags": []
     },
     "output_type": "display_data"
    },
    {
     "name": "stdout",
     "output_type": "stream",
     "text": [
      "Train set: Average loss: 0.2095, Accuracy: 60619/65000 93%\n",
      "\n",
      "Adjusting learning rate of group 0 to 1.0000e-04.\n",
      "Val set: Average loss: 0.2888, Accuracy: 11785/13000 (91%)\n",
      "\n"
     ]
    },
    {
     "data": {
      "application/vnd.google.colaboratory.intrinsic+json": {
       "type": "string"
      },
      "text/plain": [
       "'Train Epoch: 4 [65000/65000 (100%)] Loss: 0.167482'"
      ]
     },
     "metadata": {
      "tags": []
     },
     "output_type": "display_data"
    },
    {
     "name": "stdout",
     "output_type": "stream",
     "text": [
      "Train set: Average loss: 0.1855, Accuracy: 61070/65000 94%\n",
      "\n",
      "Adjusting learning rate of group 0 to 1.0000e-04.\n",
      "Val set: Average loss: 0.2831, Accuracy: 11802/13000 (91%)\n",
      "\n"
     ]
    },
    {
     "data": {
      "application/vnd.google.colaboratory.intrinsic+json": {
       "type": "string"
      },
      "text/plain": [
       "'Train Epoch: 5 [65000/65000 (100%)] Loss: 0.141828'"
      ]
     },
     "metadata": {
      "tags": []
     },
     "output_type": "display_data"
    },
    {
     "name": "stdout",
     "output_type": "stream",
     "text": [
      "Train set: Average loss: 0.1743, Accuracy: 61350/65000 94%\n",
      "\n",
      "Adjusting learning rate of group 0 to 1.0000e-05.\n",
      "Val set: Average loss: 0.2786, Accuracy: 11837/13000 (91%)\n",
      "\n"
     ]
    }
   ],
   "source": [
    "for i in range(6):\n",
    "  train(net, train_loader, criterion, optimizer, scheduler, device, i)\n",
    "  test(net, criterion, device, test_loader)"
   ]
  },
  {
   "cell_type": "code",
   "execution_count": null,
   "metadata": {
    "id": "GNLt6B9Bjfod"
   },
   "outputs": [],
   "source": [
    "PATH = f'/content/drive/MyDrive/Lab_2/cifar_net{random.randint(1, 10000)}.pth'\n",
    "torch.save(net.state_dict(), PATH)"
   ]
  },
  {
   "cell_type": "markdown",
   "metadata": {
    "id": "2svBInMsndUM"
   },
   "source": [
    "**3 скрытыйх слоя**"
   ]
  },
  {
   "cell_type": "markdown",
   "metadata": {
    "id": "iviOB_P8p00i"
   },
   "source": [
    "Всё, что было сказанно про предыдущую верно и для этой.\n",
    "\n",
    "\n",
    "\n",
    "Вот оптимальная модель:"
   ]
  },
  {
   "cell_type": "code",
   "execution_count": null,
   "metadata": {
    "id": "7btZAjmrFe2S"
   },
   "outputs": [],
   "source": [
    "Сll = [784, 392, 128, 64, 26]\n",
    "#act = ['sigm']*3\n",
    "net = NetLr(ll, drop=[0]*3).to(device)"
   ]
  },
  {
   "cell_type": "code",
   "execution_count": null,
   "metadata": {
    "colab": {
     "base_uri": "https://localhost:8080/"
    },
    "id": "EPqgGQpUnwGP",
    "outputId": "5530badc-4b4f-47e9-cdc1-712af42c630b"
   },
   "outputs": [
    {
     "name": "stdout",
     "output_type": "stream",
     "text": [
      "Adjusting learning rate of group 0 to 1.0000e-02.\n"
     ]
    }
   ],
   "source": [
    "optimizer= optim.Adam(net.parameters(), lr=0.01, betas=(0.9, 0.999), eps=1e-08, weight_decay=0)\n",
    "\n",
    "scheduler = lr_scheduler.MultiStepLR(optimizer, milestones=[2, 6], gamma=0.1, verbose=True)"
   ]
  },
  {
   "cell_type": "code",
   "execution_count": null,
   "metadata": {
    "colab": {
     "base_uri": "https://localhost:8080/",
     "height": 752
    },
    "id": "Ni7tYA-dnwGT",
    "outputId": "b2270afc-4e10-44e8-d6e8-7cc00a86aa01",
    "scrolled": true
   },
   "outputs": [
    {
     "data": {
      "application/vnd.google.colaboratory.intrinsic+json": {
       "type": "string"
      },
      "text/plain": [
       "'Train Epoch: 0 [65000/65000 (100%)] Loss: 0.541517'"
      ]
     },
     "metadata": {
      "tags": []
     },
     "output_type": "display_data"
    },
    {
     "name": "stdout",
     "output_type": "stream",
     "text": [
      "Train set: Average loss: 0.6689, Accuracy: 51370/65000 79%\n",
      "\n",
      "Adjusting learning rate of group 0 to 1.0000e-02.\n",
      "Val set: Average loss: 0.4270, Accuracy: 11201/13000 (86%)\n",
      "\n"
     ]
    },
    {
     "data": {
      "application/vnd.google.colaboratory.intrinsic+json": {
       "type": "string"
      },
      "text/plain": [
       "'Train Epoch: 1 [65000/65000 (100%)] Loss: 0.425068'"
      ]
     },
     "metadata": {
      "tags": []
     },
     "output_type": "display_data"
    },
    {
     "name": "stdout",
     "output_type": "stream",
     "text": [
      "Train set: Average loss: 0.3767, Accuracy: 56932/65000 88%\n",
      "\n",
      "Adjusting learning rate of group 0 to 1.0000e-03.\n",
      "Val set: Average loss: 0.3606, Accuracy: 11465/13000 (88%)\n",
      "\n"
     ]
    },
    {
     "data": {
      "application/vnd.google.colaboratory.intrinsic+json": {
       "type": "string"
      },
      "text/plain": [
       "'Train Epoch: 2 [65000/65000 (100%)] Loss: 0.174945'"
      ]
     },
     "metadata": {
      "tags": []
     },
     "output_type": "display_data"
    },
    {
     "name": "stdout",
     "output_type": "stream",
     "text": [
      "Train set: Average loss: 0.2245, Accuracy: 60055/65000 92%\n",
      "\n",
      "Adjusting learning rate of group 0 to 1.0000e-03.\n",
      "Val set: Average loss: 0.2611, Accuracy: 11894/13000 (91%)\n",
      "\n"
     ]
    },
    {
     "data": {
      "application/vnd.google.colaboratory.intrinsic+json": {
       "type": "string"
      },
      "text/plain": [
       "'Train Epoch: 3 [65000/65000 (100%)] Loss: 0.226625'"
      ]
     },
     "metadata": {
      "tags": []
     },
     "output_type": "display_data"
    },
    {
     "name": "stdout",
     "output_type": "stream",
     "text": [
      "Train set: Average loss: 0.1893, Accuracy: 60710/65000 93%\n",
      "\n",
      "Adjusting learning rate of group 0 to 1.0000e-03.\n",
      "Val set: Average loss: 0.2566, Accuracy: 11920/13000 (92%)\n",
      "\n"
     ]
    },
    {
     "data": {
      "application/vnd.google.colaboratory.intrinsic+json": {
       "type": "string"
      },
      "text/plain": [
       "'Train Epoch: 4 [65000/65000 (100%)] Loss: 0.237067'"
      ]
     },
     "metadata": {
      "tags": []
     },
     "output_type": "display_data"
    },
    {
     "name": "stdout",
     "output_type": "stream",
     "text": [
      "Train set: Average loss: 0.1716, Accuracy: 61094/65000 94%\n",
      "\n",
      "Adjusting learning rate of group 0 to 1.0000e-03.\n",
      "Val set: Average loss: 0.2523, Accuracy: 11938/13000 (92%)\n",
      "\n"
     ]
    },
    {
     "data": {
      "application/vnd.google.colaboratory.intrinsic+json": {
       "type": "string"
      },
      "text/plain": [
       "'Train Epoch: 5 [65000/65000 (100%)] Loss: 0.102231'"
      ]
     },
     "metadata": {
      "tags": []
     },
     "output_type": "display_data"
    },
    {
     "name": "stdout",
     "output_type": "stream",
     "text": [
      "Train set: Average loss: 0.1559, Accuracy: 61376/65000 94%\n",
      "\n",
      "Adjusting learning rate of group 0 to 1.0000e-04.\n",
      "Val set: Average loss: 0.2592, Accuracy: 11917/13000 (92%)\n",
      "\n"
     ]
    },
    {
     "data": {
      "application/vnd.google.colaboratory.intrinsic+json": {
       "type": "string"
      },
      "text/plain": [
       "'Train Epoch: 6 [65000/65000 (100%)] Loss: 0.235221'"
      ]
     },
     "metadata": {
      "tags": []
     },
     "output_type": "display_data"
    },
    {
     "name": "stdout",
     "output_type": "stream",
     "text": [
      "Train set: Average loss: 0.1325, Accuracy: 61952/65000 95%\n",
      "\n",
      "Adjusting learning rate of group 0 to 1.0000e-04.\n",
      "Val set: Average loss: 0.2515, Accuracy: 11958/13000 (92%)\n",
      "\n"
     ]
    }
   ],
   "source": [
    "for i in range(7):\n",
    "  train(net, train_loader, criterion, optimizer, scheduler, device, i)\n",
    "  test(net, criterion, device, test_loader)"
   ]
  },
  {
   "cell_type": "markdown",
   "metadata": {
    "id": "gfk8lOywCnkN"
   },
   "source": [
    "**confusion matrix**"
   ]
  },
  {
   "cell_type": "code",
   "execution_count": 68,
   "metadata": {
    "id": "YCb2oTVkPPZw"
   },
   "outputs": [],
   "source": [
    "LABELS = list(string.ascii_lowercase)"
   ]
  },
  {
   "cell_type": "code",
   "execution_count": null,
   "metadata": {
    "colab": {
     "base_uri": "https://localhost:8080/",
     "height": 700
    },
    "id": "LOYijT4BCmnE",
    "outputId": "0dcd68a6-b4fa-4c2c-f249-c2a650d29700"
   },
   "outputs": [
    {
     "data": {
      "image/png": "[encoded data removed]",
      "text/plain": [
       "<Figure size 1440x864 with 2 Axes>"
      ]
     },
     "metadata": {
      "needs_background": "light",
      "tags": []
     },
     "output_type": "display_data"
    }
   ],
   "source": [
    "from sklearn import metrics\n",
    "import seaborn as sns\n",
    "\n",
    "PTD = ['p', 't', 'd']\n",
    "full_data = {i: torch.rand(0).to(device) for i in PTD}\n",
    "\n",
    "for data, target in test_loader:\n",
    "        tmp = {'d': data.to(device), 't': target.to(device)}                                        \n",
    "        output = net(tmp['d']) \n",
    "          \n",
    "        _, tmp['p'] = torch.max(output.data, 1)\n",
    "       \n",
    "        full_data = {i: torch.cat((full_data[i], tmp[i])) for i in PTD}\n",
    "\n",
    "full_data = {i: full_data[i].cpu() for i in PTD}\n",
    "cm = metrics.confusion_matrix(full_data['t'], full_data['p'])\n",
    "cm_df = pd.DataFrame(cm, columns=LABELS, index=LABELS)\n",
    "\n",
    "plt.figure(figsize=(20, 12))\n",
    "sns.heatmap(cm_df, annot=True, cmap='Blues', fmt='')\n",
    "plt.show()\n"
   ]
  },
  {
   "cell_type": "code",
   "execution_count": null,
   "metadata": {
    "colab": {
     "base_uri": "https://localhost:8080/"
    },
    "id": "bk5fjTuYzdXc",
    "outputId": "4dc1eb13-cf75-4ac7-b087-9bb2ff8879cd"
   },
   "outputs": [
    {
     "name": "stdout",
     "output_type": "stream",
     "text": [
      "буквы: l i количество ошибок: 214\n",
      "буквы: q g количество ошибок: 125\n",
      "буквы: v u количество ошибок: 31\n",
      "буквы: y v количество ошибок: 24\n",
      "буквы: q a количество ошибок: 22\n",
      "буквы: j i количество ошибок: 21\n",
      "буквы: e c количество ошибок: 21\n",
      "буквы: o d количество ошибок: 19\n",
      "буквы: s g количество ошибок: 18\n",
      "буквы: p f количество ошибок: 17\n"
     ]
    }
   ],
   "source": [
    "cm_sum = np.triu(cm).transpose() + np.tril(cm)\n",
    "top = sorted([[cm_sum[i, j], i, j] for i in range(len(cm_sum)) for j in range(i)], reverse=True)\n",
    "for i in top[:10]:\n",
    "  print('буквы:', LABELS[i[1]], LABELS[i[2]], 'количество ошибок:', i[0])"
   ]
  },
  {
   "cell_type": "markdown",
   "metadata": {
    "id": "NApjAdcPrYmV"
   },
   "source": [
    "фамилия Кузьмин, точность K"
   ]
  },
  {
   "cell_type": "code",
   "execution_count": null,
   "metadata": {
    "colab": {
     "base_uri": "https://localhost:8080/"
    },
    "id": "QpinXs0xrs7D",
    "outputId": "21378807-42c0-4d1f-b187-9b63a6072959"
   },
   "outputs": [
    {
     "data": {
      "text/plain": [
       "0.928"
      ]
     },
     "execution_count": 40,
     "metadata": {
      "tags": []
     },
     "output_type": "execute_result"
    }
   ],
   "source": [
    "cm[10][10]/500"
   ]
  },
  {
   "cell_type": "markdown",
   "metadata": {
    "id": "HMItZ7yZrAXJ"
   },
   "source": [
    "**примеры**"
   ]
  },
  {
   "cell_type": "code",
   "execution_count": null,
   "metadata": {
    "id": "XOZMN_ht5_u0"
   },
   "outputs": [],
   "source": [
    "mask = torch.ne(full_data['p'], full_data['t'])\n",
    "wrong_pair = {(i, j): [] for i in LABELS for j in LABELS}\n",
    "for i in np.where(mask.numpy() == True)[0]:\n",
    "  wrong_pair[(LABELS[int(full_data['p'][i].item())], LABELS[int(full_data['t'][i].item())])].append(full_data['d'][i])"
   ]
  },
  {
   "cell_type": "code",
   "execution_count": null,
   "metadata": {
    "id": "mB2QPd2dU4WJ"
   },
   "outputs": [],
   "source": [
    "def rand_pair(p, t):\n",
    "  plt.title(f'prediction:{p}, real label:{t}')\n",
    "  try:\n",
    "    tenz = random.choice(wrong_pair[(p, t)])\n",
    "  except:\n",
    "    print('эти буквы не путают')\n",
    "    return\n",
    "  plt.imshow(tenz.numpy()[0].transpose()*0.485 + 0.229, cmap='gray')"
   ]
  },
  {
   "cell_type": "code",
   "execution_count": null,
   "metadata": {
    "colab": {
     "base_uri": "https://localhost:8080/",
     "height": 1000
    },
    "id": "s1xMvBlwh38Y",
    "outputId": "da2b32dd-8725-443a-eb43-b4d4cd883bd9"
   },
   "outputs": [
    {
     "data": {
      "image/png": "[encoded data removed]",
      "text/plain": [
       "<Figure size 432x288 with 1 Axes>"
      ]
     },
     "metadata": {
      "needs_background": "light",
      "tags": []
     },
     "output_type": "display_data"
    },
    {
     "data": {
      "image/png": "[encoded data removed]",
      "text/plain": [
       "<Figure size 432x288 with 1 Axes>"
      ]
     },
     "metadata": {
      "needs_background": "light",
      "tags": []
     },
     "output_type": "display_data"
    },
    {
     "data": {
      "image/png": "[encoded data removed]",
      "text/plain": [
       "<Figure size 432x288 with 1 Axes>"
      ]
     },
     "metadata": {
      "needs_background": "light",
      "tags": []
     },
     "output_type": "display_data"
    },
    {
     "data": {
      "image/png": "[encoded data removed]",
      "text/plain": [
       "<Figure size 432x288 with 1 Axes>"
      ]
     },
     "metadata": {
      "needs_background": "light",
      "tags": []
     },
     "output_type": "display_data"
    },
    {
     "data": {
      "image/png": "[encoded data removed]",
      "text/plain": [
       "<Figure size 432x288 with 1 Axes>"
      ]
     },
     "metadata": {
      "needs_background": "light",
      "tags": []
     },
     "output_type": "display_data"
    },
    {
     "data": {
      "image/png": "[encoded data removed]",
      "text/plain": [
       "<Figure size 432x288 with 1 Axes>"
      ]
     },
     "metadata": {
      "needs_background": "light",
      "tags": []
     },
     "output_type": "display_data"
    },
    {
     "data": {
      "image/png": "[encoded data removed]",
      "text/plain": [
       "<Figure size 432x288 with 1 Axes>"
      ]
     },
     "metadata": {
      "needs_background": "light",
      "tags": []
     },
     "output_type": "display_data"
    },
    {
     "data": {
      "image/png": "[encoded data removed]",
      "text/plain": [
       "<Figure size 432x288 with 1 Axes>"
      ]
     },
     "metadata": {
      "needs_background": "light",
      "tags": []
     },
     "output_type": "display_data"
    },
    {
     "data": {
      "image/png": "[encoded data removed]",
      "text/plain": [
       "<Figure size 432x288 with 1 Axes>"
      ]
     },
     "metadata": {
      "needs_background": "light",
      "tags": []
     },
     "output_type": "display_data"
    },
    {
     "data": {
      "image/png": "[encoded data removed]",
      "text/plain": [
       "<Figure size 432x288 with 1 Axes>"
      ]
     },
     "metadata": {
      "needs_background": "light",
      "tags": []
     },
     "output_type": "display_data"
    }
   ],
   "source": [
    "for i, p in enumerate(top[:10]):\n",
    "  plt.figure(i)\n",
    "  rand_pair(LABELS[p[1]], LABELS[p[2]])\n",
    "plt.show()"
   ]
  },
  {
   "cell_type": "markdown",
   "metadata": {
    "id": "WpMq53J4e3Ah"
   },
   "source": [
    "### Задание 2  \n",
    "  \n",
    "*Вес в общей оценке - 0.35*  \n",
    "  \n",
    "1. Постройте и обучите модели нейронной сети с 1-м, 2-мя и 3-мя сверточными слоями.  \n",
    "Попробуйте различные значения параметров сверток и числа фильтров на каждом слое. Оцените качество моделей с различными параметрами, проведите сравнительный анализ.  \n",
    "2. Для наилучшей конфигурации из предыдущего пункта, сравните, как меняется качество модели при увеличении размера батча при использовании BatchNorm и GroupNorm.    "
   ]
  },
  {
   "cell_type": "markdown",
   "metadata": {
    "id": "xa6V1SPvg4kq"
   },
   "source": [
    "**1 свёрточный сллой**"
   ]
  },
  {
   "cell_type": "markdown",
   "metadata": {
    "id": "uebs-w52edLO"
   },
   "source": [
    "Качество сильно падает при изменнении количество выходных каналов в 3 или более раз, при неадекватно большом размере свёртки и при отсутствии пулинга и 1 FC слое.\n",
    "\n",
    "В остальном при изменении параметров модели качество практически не меняется.\n",
    "\n",
    "Модель достаточно быстро начинает переобучаться, l2 нормализация помогает избежать переобучения при значениях 0.0001 до 0.001, при более сильно регуляризации модель перестаёт обучаться. Кроме того, регуляризация по сути не увеличивает качество.\n",
    "\n",
    "Нормализация батчей и добавление дополнительных FC слоёв на качество опять же практически не влияют.\n",
    "\n"
   ]
  },
  {
   "cell_type": "markdown",
   "metadata": {
    "id": "Tx1o1kvjf-QM"
   },
   "source": [
    "Лучшая модель:"
   ]
  },
  {
   "cell_type": "code",
   "execution_count": null,
   "metadata": {
    "id": "fDBStx_3qBgD"
   },
   "outputs": [],
   "source": [
    "class Net_(nn.Module):\n",
    "    def __init__(self):\n",
    "        super(Net, self).__init__()\n",
    "        self.conv1 = nn.Conv2d(in_channels=1, out_channels=32, kernel_size=5, stride=1, padding=0)\n",
    "        self.bn2d1 = nn.BatchNorm2d(32)\n",
    "        self.fc1 = nn.Linear(32*(12)**2, 512)\n",
    "        self.fc2 = nn.Linear(512, 26)\n",
    "\n",
    "    def forward(self, x):\n",
    "        x = self.conv1(x)\n",
    "        x = self.bn2d1(x)\n",
    "        x = torch.relu(x)\n",
    "        x = F.max_pool2d(x, 2)\n",
    "\n",
    "        x = torch.flatten(x, 1)\n",
    "        #print(x.size())\n",
    "\n",
    "        x = self.fc1(x)\n",
    "        x = torch.relu(x)\n",
    "        x = self.fc2(x)\n",
    "\n",
    "        return F.log_softmax(x, dim=1)"
   ]
  },
  {
   "cell_type": "code",
   "execution_count": null,
   "metadata": {
    "id": "b7EQWycRrFcZ"
   },
   "outputs": [],
   "source": [
    "net = Net().to(device)"
   ]
  },
  {
   "cell_type": "code",
   "execution_count": null,
   "metadata": {
    "colab": {
     "base_uri": "https://localhost:8080/"
    },
    "id": "dTTX0MBxrVDh",
    "outputId": "aa68ea95-2253-4d8b-a00a-d8a80efe961f"
   },
   "outputs": [
    {
     "name": "stdout",
     "output_type": "stream",
     "text": [
      "Adjusting learning rate of group 0 to 1.0000e-03.\n"
     ]
    }
   ],
   "source": [
    "optimizer= optim.Adam(net.parameters(), lr=0.001, betas=(0.9, 0.999), eps=1e-08, weight_decay=0.0005)\n",
    "scheduler = lr_scheduler.MultiStepLR(optimizer, milestones=[2, 5], gamma=0.2, verbose=True)"
   ]
  },
  {
   "cell_type": "code",
   "execution_count": null,
   "metadata": {
    "colab": {
     "base_uri": "https://localhost:8080/",
     "height": 752
    },
    "id": "gewR63dXrVYI",
    "outputId": "3242ce83-c3a5-4dd1-8d7a-f227207b31d5"
   },
   "outputs": [
    {
     "data": {
      "application/vnd.google.colaboratory.intrinsic+json": {
       "type": "string"
      },
      "text/plain": [
       "'Train Epoch: 0 [65000/65000 (100%)] Loss: 0.207168'"
      ]
     },
     "metadata": {
      "tags": []
     },
     "output_type": "display_data"
    },
    {
     "name": "stdout",
     "output_type": "stream",
     "text": [
      "Train set: Average loss: 0.5525, Accuracy: 53828/65000 83%\n",
      "\n",
      "Adjusting learning rate of group 0 to 1.0000e-03.\n",
      "Val set: Average loss: 0.3710, Accuracy: 11390/13000 (88%)\n",
      "\n"
     ]
    },
    {
     "data": {
      "application/vnd.google.colaboratory.intrinsic+json": {
       "type": "string"
      },
      "text/plain": [
       "'Train Epoch: 1 [65000/65000 (100%)] Loss: 0.186816'"
      ]
     },
     "metadata": {
      "tags": []
     },
     "output_type": "display_data"
    },
    {
     "name": "stdout",
     "output_type": "stream",
     "text": [
      "Train set: Average loss: 0.2855, Accuracy: 58820/65000 90%\n",
      "\n",
      "Adjusting learning rate of group 0 to 2.0000e-04.\n",
      "Val set: Average loss: 0.2825, Accuracy: 11806/13000 (91%)\n",
      "\n"
     ]
    },
    {
     "data": {
      "application/vnd.google.colaboratory.intrinsic+json": {
       "type": "string"
      },
      "text/plain": [
       "'Train Epoch: 2 [65000/65000 (100%)] Loss: 0.191265'"
      ]
     },
     "metadata": {
      "tags": []
     },
     "output_type": "display_data"
    },
    {
     "name": "stdout",
     "output_type": "stream",
     "text": [
      "Train set: Average loss: 0.1684, Accuracy: 61271/65000 94%\n",
      "\n",
      "Adjusting learning rate of group 0 to 2.0000e-04.\n",
      "Val set: Average loss: 0.2165, Accuracy: 12068/13000 (93%)\n",
      "\n"
     ]
    },
    {
     "data": {
      "application/vnd.google.colaboratory.intrinsic+json": {
       "type": "string"
      },
      "text/plain": [
       "'Train Epoch: 3 [65000/65000 (100%)] Loss: 0.122325'"
      ]
     },
     "metadata": {
      "tags": []
     },
     "output_type": "display_data"
    },
    {
     "name": "stdout",
     "output_type": "stream",
     "text": [
      "Train set: Average loss: 0.1489, Accuracy: 61802/65000 95%\n",
      "\n",
      "Adjusting learning rate of group 0 to 2.0000e-04.\n",
      "Val set: Average loss: 0.2143, Accuracy: 12119/13000 (93%)\n",
      "\n"
     ]
    },
    {
     "data": {
      "application/vnd.google.colaboratory.intrinsic+json": {
       "type": "string"
      },
      "text/plain": [
       "'Train Epoch: 4 [65000/65000 (100%)] Loss: 0.118177'"
      ]
     },
     "metadata": {
      "tags": []
     },
     "output_type": "display_data"
    },
    {
     "name": "stdout",
     "output_type": "stream",
     "text": [
      "Train set: Average loss: 0.1390, Accuracy: 61964/65000 95%\n",
      "\n",
      "Adjusting learning rate of group 0 to 4.0000e-05.\n",
      "Val set: Average loss: 0.2159, Accuracy: 12093/13000 (93%)\n",
      "\n"
     ]
    },
    {
     "data": {
      "application/vnd.google.colaboratory.intrinsic+json": {
       "type": "string"
      },
      "text/plain": [
       "'Train Epoch: 5 [65000/65000 (100%)] Loss: 0.135280'"
      ]
     },
     "metadata": {
      "tags": []
     },
     "output_type": "display_data"
    },
    {
     "name": "stdout",
     "output_type": "stream",
     "text": [
      "Train set: Average loss: 0.1104, Accuracy: 62701/65000 96%\n",
      "\n",
      "Adjusting learning rate of group 0 to 4.0000e-05.\n",
      "Val set: Average loss: 0.2017, Accuracy: 12120/13000 (93%)\n",
      "\n"
     ]
    },
    {
     "data": {
      "application/vnd.google.colaboratory.intrinsic+json": {
       "type": "string"
      },
      "text/plain": [
       "'Train Epoch: 6 [65000/65000 (100%)] Loss: 0.114175'"
      ]
     },
     "metadata": {
      "tags": []
     },
     "output_type": "display_data"
    },
    {
     "name": "stdout",
     "output_type": "stream",
     "text": [
      "Train set: Average loss: 0.1056, Accuracy: 62887/65000 97%\n",
      "\n",
      "Adjusting learning rate of group 0 to 4.0000e-05.\n",
      "Val set: Average loss: 0.2027, Accuracy: 12120/13000 (93%)\n",
      "\n"
     ]
    }
   ],
   "source": [
    "for i in range(7):\n",
    "  train(net, train_loader, criterion, optimizer, scheduler, device, i)\n",
    "  test(net, criterion, device, test_loader)"
   ]
  },
  {
   "cell_type": "markdown",
   "metadata": {
    "id": "c_S37XijhX2P"
   },
   "source": [
    "**2 свёрточных слоя**"
   ]
  },
  {
   "cell_type": "markdown",
   "metadata": {
    "id": "bvUnaYf91nB8"
   },
   "source": [
    "Batch Norm очень сильно ухудшил качество. Group Norm выполнил функцию регуляризации, но качество осталось прежним.\n",
    "\n",
    "в остальном ситуация как и с предыдущей моделью.\n"
   ]
  },
  {
   "cell_type": "markdown",
   "metadata": {
    "id": "APgp9eJigDns"
   },
   "source": [
    "Лучшая модель:"
   ]
  },
  {
   "cell_type": "code",
   "execution_count": null,
   "metadata": {
    "id": "tHY48qhMhbJV"
   },
   "outputs": [],
   "source": [
    "class Net(nn.Module):\n",
    "    def __init__(self):\n",
    "        super(Net, self).__init__()\n",
    "        self.conv1 = nn.Conv2d(in_channels=1, out_channels=64, kernel_size=3, stride=1, padding=0)\n",
    "        self.conv2 = nn.Conv2d(in_channels=64, out_channels=64, kernel_size=5, stride=1, padding=0)\n",
    "        self.bn2d1 = nn.BatchNorm2d(64)\n",
    "        self.gn1 = nn.GroupNorm(8, 64)\n",
    "        self.fc1 = nn.Linear(64*(11)**2, 512)\n",
    "        self.fc2 = nn.Linear(512, 26)\n",
    "\n",
    "    def forward(self, x):\n",
    "        x = self.conv1(x)\n",
    "        #x = self.gn1(x)\n",
    "        x = torch.relu(x)\n",
    "        #x = F.max_pool2d(x, 2)\n",
    "        x = self.conv2(x)\n",
    "        #x = self.gn1(x)\n",
    "        x = torch.relu(x)\n",
    "        x = F.max_pool2d(x, 2)\n",
    "\n",
    "        x = torch.flatten(x, 1)\n",
    "        #print(x.size())\n",
    "\n",
    "        x = self.fc1(x)\n",
    "        x = torch.relu(x)\n",
    "        x = self.fc2(x)\n",
    "\n",
    "        return F.log_softmax(x, dim=1)"
   ]
  },
  {
   "cell_type": "code",
   "execution_count": null,
   "metadata": {
    "id": "ENUeJNrFmB9-"
   },
   "outputs": [],
   "source": [
    "net = Net().to(device)"
   ]
  },
  {
   "cell_type": "code",
   "execution_count": null,
   "metadata": {
    "colab": {
     "base_uri": "https://localhost:8080/"
    },
    "id": "BLWIuZWYmCNu",
    "outputId": "8728643e-5ec1-47e4-9462-2dbd51a93440"
   },
   "outputs": [
    {
     "name": "stdout",
     "output_type": "stream",
     "text": [
      "Adjusting learning rate of group 0 to 1.0000e-03.\n"
     ]
    }
   ],
   "source": [
    "optimizer= optim.Adam(net.parameters(), lr=0.001, betas=(0.9, 0.999), eps=1e-08, weight_decay=0.0005)\n",
    "scheduler = lr_scheduler.MultiStepLR(optimizer, milestones=[2, 3], gamma=0.1, verbose=True)"
   ]
  },
  {
   "cell_type": "code",
   "execution_count": null,
   "metadata": {
    "colab": {
     "base_uri": "https://localhost:8080/",
     "height": 437
    },
    "id": "1Ci9a4XLmGz5",
    "outputId": "425f7b5d-11cd-42e2-c1bb-654c66cf0b13"
   },
   "outputs": [
    {
     "data": {
      "application/vnd.google.colaboratory.intrinsic+json": {
       "type": "string"
      },
      "text/plain": [
       "'Train Epoch: 0 [65000/65000 (100%)] Loss: 0.220560'"
      ]
     },
     "metadata": {
      "tags": []
     },
     "output_type": "display_data"
    },
    {
     "name": "stdout",
     "output_type": "stream",
     "text": [
      "Train set: Average loss: 0.4715, Accuracy: 55387/65000 85%\n",
      "\n",
      "Adjusting learning rate of group 0 to 1.0000e-03.\n",
      "Val set: Average loss: 0.2623, Accuracy: 11880/13000 (91%)\n",
      "\n"
     ]
    },
    {
     "data": {
      "application/vnd.google.colaboratory.intrinsic+json": {
       "type": "string"
      },
      "text/plain": [
       "'Train Epoch: 1 [65000/65000 (100%)] Loss: 0.257992'"
      ]
     },
     "metadata": {
      "tags": []
     },
     "output_type": "display_data"
    },
    {
     "name": "stdout",
     "output_type": "stream",
     "text": [
      "Train set: Average loss: 0.2329, Accuracy: 59899/65000 92%\n",
      "\n",
      "Adjusting learning rate of group 0 to 1.0000e-04.\n",
      "Val set: Average loss: 0.2634, Accuracy: 11881/13000 (91%)\n",
      "\n"
     ]
    },
    {
     "data": {
      "application/vnd.google.colaboratory.intrinsic+json": {
       "type": "string"
      },
      "text/plain": [
       "'Train Epoch: 2 [65000/65000 (100%)] Loss: 0.083835'"
      ]
     },
     "metadata": {
      "tags": []
     },
     "output_type": "display_data"
    },
    {
     "name": "stdout",
     "output_type": "stream",
     "text": [
      "Train set: Average loss: 0.1280, Accuracy: 62054/65000 95%\n",
      "\n",
      "Adjusting learning rate of group 0 to 1.0000e-05.\n",
      "Val set: Average loss: 0.1922, Accuracy: 12176/13000 (94%)\n",
      "\n"
     ]
    },
    {
     "data": {
      "application/vnd.google.colaboratory.intrinsic+json": {
       "type": "string"
      },
      "text/plain": [
       "'Train Epoch: 3 [65000/65000 (100%)] Loss: 0.071442'"
      ]
     },
     "metadata": {
      "tags": []
     },
     "output_type": "display_data"
    },
    {
     "name": "stdout",
     "output_type": "stream",
     "text": [
      "Train set: Average loss: 0.1005, Accuracy: 62705/65000 96%\n",
      "\n",
      "Adjusting learning rate of group 0 to 1.0000e-05.\n",
      "Val set: Average loss: 0.1894, Accuracy: 12203/13000 (94%)\n",
      "\n"
     ]
    }
   ],
   "source": [
    "for i in range(5):\n",
    "  train(net, train_loader, criterion, optimizer, scheduler, device, i)\n",
    "  test(net, criterion, device, test_loader)"
   ]
  },
  {
   "cell_type": "markdown",
   "metadata": {
    "id": "AvifvO7eDbmT"
   },
   "source": [
    "**3 свёрточных слоя**"
   ]
  },
  {
   "cell_type": "markdown",
   "metadata": {
    "id": "5lGEve_GgIBZ"
   },
   "source": [
    "Лучшая модель:"
   ]
  },
  {
   "cell_type": "code",
   "execution_count": 86,
   "metadata": {
    "id": "5oOLU3zcDsDt"
   },
   "outputs": [],
   "source": [
    "class Net(nn.Module):\n",
    "    def __init__(self):\n",
    "        super(Net, self).__init__()\n",
    "        self.conv1 = nn.Conv2d(in_channels=1, out_channels=48, kernel_size=3, stride=1, padding=0)\n",
    "        self.conv2 = nn.Conv2d(in_channels=48, out_channels=64, kernel_size=5, stride=1, padding=0)\n",
    "        self.conv3 = nn.Conv2d(in_channels=64, out_channels=48, kernel_size=7, stride=1, padding=0)\n",
    "        \n",
    "        self.bn2d1 = nn.BatchNorm2d(64)\n",
    "        self.gn1 = nn.GroupNorm(8, 64)\n",
    "        \n",
    "        self.fc1 = nn.Linear(48*(8)**2, 512)\n",
    "        self.fc2 = nn.Linear(512, 26)\n",
    "\n",
    "    def forward(self, x):\n",
    "        x = self.conv1(x)\n",
    "        #x = self.gn1(x)\n",
    "        x = torch.relu(x)\n",
    "        #x = F.max_pool2d(x, 2)\n",
    "        x = self.conv2(x)\n",
    "        #x = self.gn1(x)\n",
    "        x = torch.relu(x)\n",
    "        #x = F.max_pool2d(x, 2)\n",
    "        x = self.conv3(x)\n",
    "        #x = self.gn1(x)\n",
    "        x = torch.relu(x)\n",
    "        \n",
    "        x = F.max_pool2d(x, 2)\n",
    "\n",
    "        x = torch.flatten(x, 1)\n",
    "        #print(x.size())\n",
    "\n",
    "        x = self.fc1(x)\n",
    "        x = torch.relu(x)\n",
    "        x = self.fc2(x)\n",
    "\n",
    "        return F.log_softmax(x, dim=1)"
   ]
  },
  {
   "cell_type": "code",
   "execution_count": 87,
   "metadata": {
    "id": "-rqyJt8bE7V9"
   },
   "outputs": [],
   "source": [
    "net_main = Net().to(device)"
   ]
  },
  {
   "cell_type": "code",
   "execution_count": 88,
   "metadata": {
    "colab": {
     "base_uri": "https://localhost:8080/"
    },
    "id": "JbX6iUE5E7WG",
    "outputId": "bd7aa0bf-94a7-4db6-c8f1-d642d2f9928e"
   },
   "outputs": [
    {
     "name": "stdout",
     "output_type": "stream",
     "text": [
      "Adjusting learning rate of group 0 to 1.0000e-03.\n"
     ]
    }
   ],
   "source": [
    "optimizer= optim.Adam(net_main.parameters(), lr=0.001, betas=(0.9, 0.999), eps=1e-08, weight_decay=0)\n",
    "scheduler = lr_scheduler.MultiStepLR(optimizer, milestones=[2, 3], gamma=0.1, verbose=True)"
   ]
  },
  {
   "cell_type": "code",
   "execution_count": 89,
   "metadata": {
    "colab": {
     "base_uri": "https://localhost:8080/",
     "height": 438
    },
    "id": "iW_2DAqKE7WO",
    "outputId": "4cc38182-1df3-47ed-abb2-4b5e08e51658"
   },
   "outputs": [
    {
     "data": {
      "application/vnd.google.colaboratory.intrinsic+json": {
       "type": "string"
      },
      "text/plain": [
       "'Train Epoch: 0 [43360/65000 (100%)] Loss: 0.158776'"
      ]
     },
     "metadata": {
      "tags": []
     },
     "output_type": "display_data"
    },
    {
     "name": "stdout",
     "output_type": "stream",
     "text": [
      "Train set: Average loss: 0.4273, Accuracy: 56234/65000 87%\n",
      "\n",
      "Adjusting learning rate of group 0 to 1.0000e-03.\n",
      "Val set: Average loss: 0.2317, Accuracy: 11985/13000 (92%)\n",
      "\n"
     ]
    },
    {
     "data": {
      "application/vnd.google.colaboratory.intrinsic+json": {
       "type": "string"
      },
      "text/plain": [
       "'Train Epoch: 1 [43360/65000 (100%)] Loss: 0.150922'"
      ]
     },
     "metadata": {
      "tags": []
     },
     "output_type": "display_data"
    },
    {
     "name": "stdout",
     "output_type": "stream",
     "text": [
      "Train set: Average loss: 0.1978, Accuracy: 60595/65000 93%\n",
      "\n",
      "Adjusting learning rate of group 0 to 1.0000e-04.\n",
      "Val set: Average loss: 0.2028, Accuracy: 12090/13000 (93%)\n",
      "\n"
     ]
    },
    {
     "data": {
      "application/vnd.google.colaboratory.intrinsic+json": {
       "type": "string"
      },
      "text/plain": [
       "'Train Epoch: 2 [43360/65000 (100%)] Loss: 0.205635'"
      ]
     },
     "metadata": {
      "tags": []
     },
     "output_type": "display_data"
    },
    {
     "name": "stdout",
     "output_type": "stream",
     "text": [
      "Train set: Average loss: 0.1074, Accuracy: 62393/65000 96%\n",
      "\n",
      "Adjusting learning rate of group 0 to 1.0000e-05.\n",
      "Val set: Average loss: 0.1663, Accuracy: 12300/13000 (95%)\n",
      "\n"
     ]
    },
    {
     "data": {
      "application/vnd.google.colaboratory.intrinsic+json": {
       "type": "string"
      },
      "text/plain": [
       "'Train Epoch: 3 [43360/65000 (100%)] Loss: 0.126163'"
      ]
     },
     "metadata": {
      "tags": []
     },
     "output_type": "display_data"
    },
    {
     "name": "stdout",
     "output_type": "stream",
     "text": [
      "Train set: Average loss: 0.0866, Accuracy: 62913/65000 97%\n",
      "\n",
      "Adjusting learning rate of group 0 to 1.0000e-05.\n",
      "Val set: Average loss: 0.1647, Accuracy: 12317/13000 (95%)\n",
      "\n"
     ]
    }
   ],
   "source": [
    "for i in range(4):\n",
    "  train(net_main, train_loader, criterion, optimizer, scheduler, device, i)\n",
    "  test(net_main, criterion, device, test_loader, True)"
   ]
  },
  {
   "cell_type": "markdown",
   "metadata": {
    "id": "DKguz3mKuFyr"
   },
   "source": [
    "**сравнение batc и group norm**"
   ]
  },
  {
   "cell_type": "code",
   "execution_count": 24,
   "metadata": {
    "id": "DsywmBVmyquV"
   },
   "outputs": [],
   "source": [
    "class Net_n(nn.Module):\n",
    "    def __init__(self, norm='b'):\n",
    "        super(Net_n, self).__init__()\n",
    "        self.conv1 = nn.Conv2d(in_channels=1, out_channels=48, kernel_size=3, stride=1, padding=0)\n",
    "        self.conv2 = nn.Conv2d(in_channels=48, out_channels=64, kernel_size=5, stride=1, padding=0)\n",
    "        self.conv3 = nn.Conv2d(in_channels=64, out_channels=48, kernel_size=7, stride=1, padding=0)\n",
    "        \n",
    "        self.bn2d1 = nn.BatchNorm2d(48)\n",
    "        self.bn2d2 = nn.BatchNorm2d(64)\n",
    "        self.gn1 = nn.GroupNorm(8, 48)\n",
    "        self.gn2 = nn.GroupNorm(8, 64)\n",
    "        \n",
    "        self.fc1 = nn.Linear(48*(8)**2, 512)\n",
    "        self.fc2 = nn.Linear(512, 26)\n",
    "\n",
    "        self.norm = norm\n",
    "\n",
    "    def forward(self, x):\n",
    "        x = self.conv1(x)\n",
    "        if self.norm == 'b':\n",
    "          x = self.bn2d1(x)\n",
    "        x = self.gn1(x)\n",
    "        x = torch.relu(x)\n",
    "        #x = F.max_pool2d(x, 2)\n",
    "        x = self.conv2(x)\n",
    "        if self.norm == 'b':\n",
    "          x = self.bn2d2(x)\n",
    "        x = self.gn2(x)\n",
    "        x = torch.relu(x)\n",
    "        #x = F.max_pool2d(x, 2)\n",
    "        x = self.conv3(x)\n",
    "        if self.norm == 'b':\n",
    "          x = self.bn2d1(x)\n",
    "        x = self.gn1(x)\n",
    "        x = torch.relu(x)\n",
    "        \n",
    "        x = F.max_pool2d(x, 2)\n",
    "\n",
    "        x = torch.flatten(x, 1)\n",
    "        #print(x.size())\n",
    "\n",
    "        x = self.fc1(x)\n",
    "        x = torch.relu(x)\n",
    "        x = self.fc2(x)\n",
    "\n",
    "        return F.log_softmax(x, dim=1)"
   ]
  },
  {
   "cell_type": "code",
   "execution_count": 25,
   "metadata": {
    "colab": {
     "base_uri": "https://localhost:8080/"
    },
    "id": "UJ5h1ejGhNc-",
    "outputId": "77449ffb-467e-41d6-e659-925cdcaaaed1"
   },
   "outputs": [
    {
     "name": "stdout",
     "output_type": "stream",
     "text": [
      "batc: 20\n",
      "batc: 40\n",
      "batc: 60\n",
      "batc: 80\n",
      "batc: 100\n",
      "batc: 120\n"
     ]
    }
   ],
   "source": [
    "acc = {'b': [], 'g': []}\n",
    "for i in range(20, 121, 20):\n",
    "  print('batc:', i)\n",
    "  train_loader = DataLoader(datasets.ImageFolder(root = 'train', transform=preprocess), batch_size=i, shuffle=True, **kwargs) \n",
    "  test_loader = DataLoader(datasets.ImageFolder(root = 'test', transform=preprocess), batch_size=i, shuffle=True, **kwargs) \n",
    "\n",
    "  for t in ['b', 'g']:\n",
    "    net = Net_n(norm=t).to(device)\n",
    "    optimizer= optim.Adam(net.parameters(), lr=0.001, betas=(0.9, 0.999), eps=1e-08, weight_decay=0)\n",
    "    scheduler = lr_scheduler.MultiStepLR(optimizer, milestones=[2, 3], gamma=0.1, verbose=False)\n",
    "    for i in range(4):\n",
    "      train(net, train_loader, criterion, optimizer, scheduler, device, i, verbose=False)\n",
    "    res = test(net, criterion, device, test_loader, verbose=False)[1]\n",
    "    acc[t].append(res)\n"
   ]
  },
  {
   "cell_type": "markdown",
   "metadata": {
    "id": "4qUDlGglMNpP"
   },
   "source": [
    "batch norm справляется намного намного хуже, а group norm по сути не влияет на качество."
   ]
  },
  {
   "cell_type": "code",
   "execution_count": 28,
   "metadata": {
    "colab": {
     "base_uri": "https://localhost:8080/",
     "height": 592
    },
    "id": "2s1vB5EhxdhN",
    "outputId": "10fccfa4-ca97-4542-ec61-c26968f5729e"
   },
   "outputs": [
    {
     "data": {
      "image/png": "[encoded data removed]",
      "text/plain": [
       "<Figure size 720x720 with 1 Axes>"
      ]
     },
     "metadata": {
      "needs_background": "light",
      "tags": []
     },
     "output_type": "display_data"
    }
   ],
   "source": [
    "plt.figure(figsize=(10, 10))\n",
    "plt.plot(acc['b'], marker='o', label='bn')\n",
    "plt.plot(acc['g'], marker='o', label='gn')\n",
    "plt.legend()\n",
    "plt.show()"
   ]
  },
  {
   "cell_type": "markdown",
   "metadata": {
    "id": "WJpt-vfze3Ah"
   },
   "source": [
    "### Задание 3    \n",
    "  \n",
    "Обучите модель с точностью (accuracy) на тестовых данных:  \n",
    "- `>= 0.85`    +1 балл\n",
    "- `>= 0.95`    +2 балла\n",
    "- `>= 0.99`    +3 балла  "
   ]
  },
  {
   "cell_type": "markdown",
   "metadata": {
    "id": "yhmm_dPKgPQC"
   },
   "source": [
    "95% представленна в предыдущем задании"
   ]
  },
  {
   "cell_type": "markdown",
   "metadata": {
    "id": "PYyLld-Le3Ah"
   },
   "source": [
    "## Бонусные задания"
   ]
  },
  {
   "cell_type": "markdown",
   "metadata": {
    "id": "nBgOT9vqe3Ah"
   },
   "source": [
    "**Задание 1 (1 балл).**  \n",
    "\n",
    "Напишите на листке белой бумаги (маркером или ручкой) от 5 разных букв (можно больше 5 букв в целом с повторениями, но должно быть минимум 5 разных) английского алфавита (в датасете есть как прописные, так и строчные буквы). Сфотографируйте букву и приведите её картинку к размеру $28\\times28$ и, желательно, к чёрно-белой палитре цветов. Передайте получившиеся изображения вашей модели и выполните предсказание, оцените результат.  \n",
    "  \n",
    "**Tips:**  \n",
    "- В датасете все буквы занимают практически всё пространство картинки по высоте или ширине (или вместе). Если ваша буква будет слишком маленькой или большой, это может повлиять на результат детекции.\n",
    "- Помните, что буква должна быть белого цвета, а фон - чёрного.\n",
    "- Описание ваших действий при выполнении этого задания (что вы использовали, чтобы привести картинку к нужному виду) категорически приветствуется :)"
   ]
  },
  {
   "cell_type": "code",
   "execution_count": 90,
   "metadata": {
    "id": "fbRz6n_8SBDx"
   },
   "outputs": [],
   "source": [
    "class Negative:\n",
    "\n",
    "  def __call__(self, x):\n",
    "    x = 255-x\n",
    "    return x\n",
    "\n",
    "preprocess=transforms.Compose([\n",
    "    torchvision.transforms.Resize((28, 28), interpolation=2),\n",
    "    transforms.Grayscale(1),\n",
    "    transforms.ToTensor(),\n",
    "    Negative(),\n",
    "    transforms.Normalize(mean=[0.485],\n",
    "                         std=[0.229] )\n",
    "    ])\n",
    "\n",
    "kwargs = {'num_workers': 4, 'pin_memory': True} if use_cuda else {}\n",
    "\n",
    "test_dataset_l = torchvision.datasets.ImageFolder(root='/content/drive/MyDrive/letters', transform=preprocess)\n",
    "test_loader_l  = torch.utils.data.DataLoader(test_dataset_l, batch_size=1, shuffle=False, **kwargs) "
   ]
  },
  {
   "cell_type": "code",
   "execution_count": 100,
   "metadata": {
    "colab": {
     "base_uri": "https://localhost:8080/",
     "height": 1000
    },
    "id": "PzaS26WyTsZp",
    "outputId": "a884684b-fc47-4ee1-a161-411840f3654b"
   },
   "outputs": [
    {
     "name": "stderr",
     "output_type": "stream",
     "text": [
      "No handles with labels found to put in legend.\n"
     ]
    },
    {
     "data": {
      "image/png": "[encoded data removed]",
      "text/plain": [
       "<Figure size 144x144 with 1 Axes>"
      ]
     },
     "metadata": {
      "needs_background": "light",
      "tags": []
     },
     "output_type": "display_data"
    },
    {
     "data": {
      "image/png": "[encoded data removed]",
      "text/plain": [
       "<Figure size 144x144 with 1 Axes>"
      ]
     },
     "metadata": {
      "needs_background": "light",
      "tags": []
     },
     "output_type": "display_data"
    },
    {
     "data": {
      "image/png": "[encoded data removed]",
      "text/plain": [
       "<Figure size 144x144 with 1 Axes>"
      ]
     },
     "metadata": {
      "needs_background": "light",
      "tags": []
     },
     "output_type": "display_data"
    },
    {
     "data": {
      "image/png": "[encoded data removed]",
      "text/plain": [
       "<Figure size 144x144 with 1 Axes>"
      ]
     },
     "metadata": {
      "needs_background": "light",
      "tags": []
     },
     "output_type": "display_data"
    },
    {
     "data": {
      "image/png": "[encoded data removed]",
      "text/plain": [
       "<Figure size 144x144 with 1 Axes>"
      ]
     },
     "metadata": {
      "needs_background": "light",
      "tags": []
     },
     "output_type": "display_data"
    },
    {
     "data": {
      "image/png": "[encoded data removed]",
      "text/plain": [
       "<Figure size 144x144 with 1 Axes>"
      ]
     },
     "metadata": {
      "needs_background": "light",
      "tags": []
     },
     "output_type": "display_data"
    },
    {
     "data": {
      "image/png": "[encoded data removed]",
      "text/plain": [
       "<Figure size 144x144 with 1 Axes>"
      ]
     },
     "metadata": {
      "needs_background": "light",
      "tags": []
     },
     "output_type": "display_data"
    }
   ],
   "source": [
    "\n",
    "i=0\n",
    "for data, _ in test_loader_l:\n",
    "  #print(i, data)\n",
    "  data = data.to(device)\n",
    "  out = net_main(data)\n",
    "  \n",
    "  pred = out.argmax(dim=1, keepdim=True)\n",
    "  plt.figure(i, figsize=(2,2))\n",
    "  plt.title(LABELS[pred.item()])\n",
    "  plt.imshow(data.cpu().view(-1, 28), cmap='gray')\n",
    "  i+=1\n",
    "\n",
    "\n",
    "plt.legend()\n",
    "plt.show()"
   ]
  },
  {
   "cell_type": "markdown",
   "metadata": {
    "id": "I9hlUJZCfmXP"
   },
   "source": [
    "Модель всегда предсказывает букву g :("
   ]
  },
  {
   "cell_type": "markdown",
   "metadata": {
    "id": "axK7Z2hHe3Ah"
   },
   "source": [
    "**Задание 2 (1 балл):**    \n",
    "  \n",
    "Используйте transfer learning подход для решения задачи - дообучите какую-либо модель, предобученную на ImageNet, для классификации рукописных букв. Оцените качество решения.  \n",
    "В качестве предобученой модели можно взять одну из [torchvision models](https://pytorch.org/docs/stable/torchvision/models.html)."
   ]
  },
  {
   "cell_type": "code",
   "execution_count": null,
   "metadata": {
    "id": "ESsg-fQHTrn8"
   },
   "outputs": [],
   "source": []
  },
  {
   "cell_type": "markdown",
   "metadata": {
    "id": "oMWmMoare3Ah"
   },
   "source": [
    "**Задание 3 (1 балл):**  \n",
    "  \n",
    "Добавьте вывод значений функции потерь и accuracy в tensorboard.  \n",
    "Метрики нужно выводить и для обучающей, и для тестовой выборки."
   ]
  },
  {
   "cell_type": "code",
   "execution_count": null,
   "metadata": {
    "id": "pDJ8uoTTs3oG"
   },
   "outputs": [],
   "source": []
  }
 ],
 "metadata": {
  "accelerator": "GPU",
  "colab": {
   "collapsed_sections": [
    "uHykt_Gqe3AX",
    "1kbuFrXCe3AY",
    "WJpt-vfze3Ah"
   ],
   "name": "Modern_ML.Lab_2.Deep_Learning.ipynb",
   "provenance": []
  },
  "kernelspec": {
   "display_name": "Python 3",
   "language": "python",
   "name": "python3"
  },
  "language_info": {
   "codemirror_mode": {
    "name": "ipython",
    "version": 3
   },
   "file_extension": ".py",
   "mimetype": "text/x-python",
   "name": "python",
   "nbconvert_exporter": "python",
   "pygments_lexer": "ipython3",
   "version": "3.6.9"
  }
 },
 "nbformat": 4,
 "nbformat_minor": 1
}
