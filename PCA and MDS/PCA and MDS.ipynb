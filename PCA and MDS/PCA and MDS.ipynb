{
  "cells": [
    {
      "cell_type": "markdown",
      "source": [
        "#Подключаем библиотеки и импортируем данные\n",
        "\n",
        "\n"
      ],
      "metadata": {
        "id": "vQDEheOE-3vB"
      },
      "id": "vQDEheOE-3vB"
    },
    {
      "cell_type": "markdown",
      "source": [],
      "metadata": {
        "id": "-EAVt-LJgkmk"
      },
      "id": "-EAVt-LJgkmk"
    },
    {
      "cell_type": "code",
      "execution_count": null,
      "id": "a9751ad3",
      "metadata": {
        "id": "a9751ad3",
        "colab": {
          "base_uri": "https://localhost:8080/"
        },
        "outputId": "7d6975c0-48aa-455f-972a-2fdf65394b1e"
      },
      "outputs": [
        {
          "output_type": "stream",
          "name": "stdout",
          "text": [
            "Drive already mounted at /content/drive; to attempt to forcibly remount, call drive.mount(\"/content/drive\", force_remount=True).\n"
          ]
        }
      ],
      "source": [
        "from google.colab import drive\n",
        "drive.mount('/content/drive')\n",
        "from google.colab import data_table\n",
        "data_table.enable_dataframe_formatter\n",
        "\n",
        "import pandas as pd\n",
        "import numpy as np\n",
        "import matplotlib.pyplot as plt\n",
        "import seaborn as sns\n",
        "\n",
        "\n",
        "from sklearn.experimental import enable_iterative_imputer\n",
        "from sklearn.impute import IterativeImputer\n",
        "from scipy.spatial import distance_matrix\n",
        "from sklearn.manifold import MDS"
      ]
    },
    {
      "cell_type": "code",
      "execution_count": null,
      "id": "d26b4dd9",
      "metadata": {
        "id": "d26b4dd9"
      },
      "outputs": [],
      "source": [
        "labels = [\n",
        "    'Возраст',\n",
        "    'Количество иждевенцев',\n",
        "    'Доход(руб./мес.)',\n",
        "    'Срок проживания(лет)',\n",
        "    'Оценка автомобиля(USD)',\n",
        "    'Размер кредита(тыс.руб.)'\n",
        "    ]\n",
        "\n",
        "data_raw = pd.DataFrame(pd.read_csv('/content/drive/MyDrive/Colab/22MAG_HW_1_v6.csv', header=None, names=labels))"
      ]
    },
    {
      "cell_type": "code",
      "source": [
        "data_raw.head()"
      ],
      "metadata": {
        "colab": {
          "base_uri": "https://localhost:8080/",
          "height": 206
        },
        "id": "opPQi56_IJPB",
        "outputId": "a1ce4bca-c1a8-489a-c771-578e3ad0149b"
      },
      "id": "opPQi56_IJPB",
      "execution_count": null,
      "outputs": [
        {
          "output_type": "execute_result",
          "data": {
            "text/plain": [
              "   Возраст  Количество иждевенцев  Доход(руб./мес.)  Срок проживания(лет)  \\\n",
              "0     51.0                    3.0           17600.0                  17.0   \n",
              "1     40.0                    2.0               NaN                  10.0   \n",
              "2     51.0                    3.0            7100.0                  17.0   \n",
              "3      NaN                    2.0           16000.0                  13.0   \n",
              "4     49.0                    3.0           14900.0                  16.0   \n",
              "\n",
              "   Оценка автомобиля(USD)  Размер кредита(тыс.руб.)  \n",
              "0                 20000.0                  190000.0  \n",
              "1                 13000.0                  127000.0  \n",
              "2                  9000.0                   82000.0  \n",
              "3                 17000.0                  165000.0  \n",
              "4                 17000.0                  159000.0  "
            ],
            "text/html": [
              "\n",
              "  <div id=\"df-d9ad64c2-f161-4acf-b96f-b6d26fe5bb79\">\n",
              "    <div class=\"colab-df-container\">\n",
              "      <div>\n",
              "<style scoped>\n",
              "    .dataframe tbody tr th:only-of-type {\n",
              "        vertical-align: middle;\n",
              "    }\n",
              "\n",
              "    .dataframe tbody tr th {\n",
              "        vertical-align: top;\n",
              "    }\n",
              "\n",
              "    .dataframe thead th {\n",
              "        text-align: right;\n",
              "    }\n",
              "</style>\n",
              "<table border=\"1\" class=\"dataframe\">\n",
              "  <thead>\n",
              "    <tr style=\"text-align: right;\">\n",
              "      <th></th>\n",
              "      <th>Возраст</th>\n",
              "      <th>Количество иждевенцев</th>\n",
              "      <th>Доход(руб./мес.)</th>\n",
              "      <th>Срок проживания(лет)</th>\n",
              "      <th>Оценка автомобиля(USD)</th>\n",
              "      <th>Размер кредита(тыс.руб.)</th>\n",
              "    </tr>\n",
              "  </thead>\n",
              "  <tbody>\n",
              "    <tr>\n",
              "      <th>0</th>\n",
              "      <td>51.0</td>\n",
              "      <td>3.0</td>\n",
              "      <td>17600.0</td>\n",
              "      <td>17.0</td>\n",
              "      <td>20000.0</td>\n",
              "      <td>190000.0</td>\n",
              "    </tr>\n",
              "    <tr>\n",
              "      <th>1</th>\n",
              "      <td>40.0</td>\n",
              "      <td>2.0</td>\n",
              "      <td>NaN</td>\n",
              "      <td>10.0</td>\n",
              "      <td>13000.0</td>\n",
              "      <td>127000.0</td>\n",
              "    </tr>\n",
              "    <tr>\n",
              "      <th>2</th>\n",
              "      <td>51.0</td>\n",
              "      <td>3.0</td>\n",
              "      <td>7100.0</td>\n",
              "      <td>17.0</td>\n",
              "      <td>9000.0</td>\n",
              "      <td>82000.0</td>\n",
              "    </tr>\n",
              "    <tr>\n",
              "      <th>3</th>\n",
              "      <td>NaN</td>\n",
              "      <td>2.0</td>\n",
              "      <td>16000.0</td>\n",
              "      <td>13.0</td>\n",
              "      <td>17000.0</td>\n",
              "      <td>165000.0</td>\n",
              "    </tr>\n",
              "    <tr>\n",
              "      <th>4</th>\n",
              "      <td>49.0</td>\n",
              "      <td>3.0</td>\n",
              "      <td>14900.0</td>\n",
              "      <td>16.0</td>\n",
              "      <td>17000.0</td>\n",
              "      <td>159000.0</td>\n",
              "    </tr>\n",
              "  </tbody>\n",
              "</table>\n",
              "</div>\n",
              "      <button class=\"colab-df-convert\" onclick=\"convertToInteractive('df-d9ad64c2-f161-4acf-b96f-b6d26fe5bb79')\"\n",
              "              title=\"Convert this dataframe to an interactive table.\"\n",
              "              style=\"display:none;\">\n",
              "        \n",
              "  <svg xmlns=\"http://www.w3.org/2000/svg\" height=\"24px\"viewBox=\"0 0 24 24\"\n",
              "       width=\"24px\">\n",
              "    <path d=\"M0 0h24v24H0V0z\" fill=\"none\"/>\n",
              "    <path d=\"M18.56 5.44l.94 2.06.94-2.06 2.06-.94-2.06-.94-.94-2.06-.94 2.06-2.06.94zm-11 1L8.5 8.5l.94-2.06 2.06-.94-2.06-.94L8.5 2.5l-.94 2.06-2.06.94zm10 10l.94 2.06.94-2.06 2.06-.94-2.06-.94-.94-2.06-.94 2.06-2.06.94z\"/><path d=\"M17.41 7.96l-1.37-1.37c-.4-.4-.92-.59-1.43-.59-.52 0-1.04.2-1.43.59L10.3 9.45l-7.72 7.72c-.78.78-.78 2.05 0 2.83L4 21.41c.39.39.9.59 1.41.59.51 0 1.02-.2 1.41-.59l7.78-7.78 2.81-2.81c.8-.78.8-2.07 0-2.86zM5.41 20L4 18.59l7.72-7.72 1.47 1.35L5.41 20z\"/>\n",
              "  </svg>\n",
              "      </button>\n",
              "      \n",
              "  <style>\n",
              "    .colab-df-container {\n",
              "      display:flex;\n",
              "      flex-wrap:wrap;\n",
              "      gap: 12px;\n",
              "    }\n",
              "\n",
              "    .colab-df-convert {\n",
              "      background-color: #E8F0FE;\n",
              "      border: none;\n",
              "      border-radius: 50%;\n",
              "      cursor: pointer;\n",
              "      display: none;\n",
              "      fill: #1967D2;\n",
              "      height: 32px;\n",
              "      padding: 0 0 0 0;\n",
              "      width: 32px;\n",
              "    }\n",
              "\n",
              "    .colab-df-convert:hover {\n",
              "      background-color: #E2EBFA;\n",
              "      box-shadow: 0px 1px 2px rgba(60, 64, 67, 0.3), 0px 1px 3px 1px rgba(60, 64, 67, 0.15);\n",
              "      fill: #174EA6;\n",
              "    }\n",
              "\n",
              "    [theme=dark] .colab-df-convert {\n",
              "      background-color: #3B4455;\n",
              "      fill: #D2E3FC;\n",
              "    }\n",
              "\n",
              "    [theme=dark] .colab-df-convert:hover {\n",
              "      background-color: #434B5C;\n",
              "      box-shadow: 0px 1px 3px 1px rgba(0, 0, 0, 0.15);\n",
              "      filter: drop-shadow(0px 1px 2px rgba(0, 0, 0, 0.3));\n",
              "      fill: #FFFFFF;\n",
              "    }\n",
              "  </style>\n",
              "\n",
              "      <script>\n",
              "        const buttonEl =\n",
              "          document.querySelector('#df-d9ad64c2-f161-4acf-b96f-b6d26fe5bb79 button.colab-df-convert');\n",
              "        buttonEl.style.display =\n",
              "          google.colab.kernel.accessAllowed ? 'block' : 'none';\n",
              "\n",
              "        async function convertToInteractive(key) {\n",
              "          const element = document.querySelector('#df-d9ad64c2-f161-4acf-b96f-b6d26fe5bb79');\n",
              "          const dataTable =\n",
              "            await google.colab.kernel.invokeFunction('convertToInteractive',\n",
              "                                                     [key], {});\n",
              "          if (!dataTable) return;\n",
              "\n",
              "          const docLinkHtml = 'Like what you see? Visit the ' +\n",
              "            '<a target=\"_blank\" href=https://colab.research.google.com/notebooks/data_table.ipynb>data table notebook</a>'\n",
              "            + ' to learn more about interactive tables.';\n",
              "          element.innerHTML = '';\n",
              "          dataTable['output_type'] = 'display_data';\n",
              "          await google.colab.output.renderOutput(dataTable, element);\n",
              "          const docLink = document.createElement('div');\n",
              "          docLink.innerHTML = docLinkHtml;\n",
              "          element.appendChild(docLink);\n",
              "        }\n",
              "      </script>\n",
              "    </div>\n",
              "  </div>\n",
              "  "
            ]
          },
          "metadata": {},
          "execution_count": 5
        }
      ]
    },
    {
      "cell_type": "markdown",
      "source": [
        "#Первичная обработка данных"
      ],
      "metadata": {
        "id": "gqsmBzV489i4"
      },
      "id": "gqsmBzV489i4"
    },
    {
      "cell_type": "markdown",
      "source": [
        "##1. Осмотр данных."
      ],
      "metadata": {
        "id": "OtcYE6W598TG"
      },
      "id": "OtcYE6W598TG"
    },
    {
      "cell_type": "markdown",
      "source": [
        "**Основные характеристики данных.**"
      ],
      "metadata": {
        "id": "vp3ddvA8FdIH"
      },
      "id": "vp3ddvA8FdIH"
    },
    {
      "cell_type": "code",
      "execution_count": null,
      "id": "c0c016c1",
      "metadata": {
        "id": "c0c016c1",
        "colab": {
          "base_uri": "https://localhost:8080/",
          "height": 300
        },
        "outputId": "2a0226e1-67c5-45af-ddf0-35785d2156d8"
      },
      "outputs": [
        {
          "output_type": "execute_result",
          "data": {
            "text/plain": [
              "         Возраст  Количество иждевенцев  Доход(руб./мес.)  \\\n",
              "count  39.000000              39.000000         39.000000   \n",
              "mean   38.512821               1.974359      19600.000000   \n",
              "std     8.855185               1.038399       9682.077854   \n",
              "min    19.000000               0.000000        700.000000   \n",
              "25%    31.500000               1.000000      15150.000000   \n",
              "50%    39.000000               2.000000      20200.000000   \n",
              "75%    44.000000               3.000000      26600.000000   \n",
              "max    56.000000               4.000000      38600.000000   \n",
              "\n",
              "       Срок проживания(лет)  Оценка автомобиля(USD)  Размер кредита(тыс.руб.)  \n",
              "count             39.000000               39.000000                 39.000000  \n",
              "mean              10.487179            20846.153846             205846.153846  \n",
              "std                4.849698            11868.885598              98675.315119  \n",
              "min                1.000000                0.000000               3000.000000  \n",
              "25%                6.500000            14500.000000             162000.000000  \n",
              "50%               11.000000            20000.000000             207000.000000  \n",
              "75%               13.000000            27000.000000             269000.000000  \n",
              "max               20.000000            50000.000000             397000.000000  "
            ],
            "text/html": [
              "\n",
              "  <div id=\"df-88ff2d87-b436-42d7-8e90-e2565343bf9c\">\n",
              "    <div class=\"colab-df-container\">\n",
              "      <div>\n",
              "<style scoped>\n",
              "    .dataframe tbody tr th:only-of-type {\n",
              "        vertical-align: middle;\n",
              "    }\n",
              "\n",
              "    .dataframe tbody tr th {\n",
              "        vertical-align: top;\n",
              "    }\n",
              "\n",
              "    .dataframe thead th {\n",
              "        text-align: right;\n",
              "    }\n",
              "</style>\n",
              "<table border=\"1\" class=\"dataframe\">\n",
              "  <thead>\n",
              "    <tr style=\"text-align: right;\">\n",
              "      <th></th>\n",
              "      <th>Возраст</th>\n",
              "      <th>Количество иждевенцев</th>\n",
              "      <th>Доход(руб./мес.)</th>\n",
              "      <th>Срок проживания(лет)</th>\n",
              "      <th>Оценка автомобиля(USD)</th>\n",
              "      <th>Размер кредита(тыс.руб.)</th>\n",
              "    </tr>\n",
              "  </thead>\n",
              "  <tbody>\n",
              "    <tr>\n",
              "      <th>count</th>\n",
              "      <td>39.000000</td>\n",
              "      <td>39.000000</td>\n",
              "      <td>39.000000</td>\n",
              "      <td>39.000000</td>\n",
              "      <td>39.000000</td>\n",
              "      <td>39.000000</td>\n",
              "    </tr>\n",
              "    <tr>\n",
              "      <th>mean</th>\n",
              "      <td>38.512821</td>\n",
              "      <td>1.974359</td>\n",
              "      <td>19600.000000</td>\n",
              "      <td>10.487179</td>\n",
              "      <td>20846.153846</td>\n",
              "      <td>205846.153846</td>\n",
              "    </tr>\n",
              "    <tr>\n",
              "      <th>std</th>\n",
              "      <td>8.855185</td>\n",
              "      <td>1.038399</td>\n",
              "      <td>9682.077854</td>\n",
              "      <td>4.849698</td>\n",
              "      <td>11868.885598</td>\n",
              "      <td>98675.315119</td>\n",
              "    </tr>\n",
              "    <tr>\n",
              "      <th>min</th>\n",
              "      <td>19.000000</td>\n",
              "      <td>0.000000</td>\n",
              "      <td>700.000000</td>\n",
              "      <td>1.000000</td>\n",
              "      <td>0.000000</td>\n",
              "      <td>3000.000000</td>\n",
              "    </tr>\n",
              "    <tr>\n",
              "      <th>25%</th>\n",
              "      <td>31.500000</td>\n",
              "      <td>1.000000</td>\n",
              "      <td>15150.000000</td>\n",
              "      <td>6.500000</td>\n",
              "      <td>14500.000000</td>\n",
              "      <td>162000.000000</td>\n",
              "    </tr>\n",
              "    <tr>\n",
              "      <th>50%</th>\n",
              "      <td>39.000000</td>\n",
              "      <td>2.000000</td>\n",
              "      <td>20200.000000</td>\n",
              "      <td>11.000000</td>\n",
              "      <td>20000.000000</td>\n",
              "      <td>207000.000000</td>\n",
              "    </tr>\n",
              "    <tr>\n",
              "      <th>75%</th>\n",
              "      <td>44.000000</td>\n",
              "      <td>3.000000</td>\n",
              "      <td>26600.000000</td>\n",
              "      <td>13.000000</td>\n",
              "      <td>27000.000000</td>\n",
              "      <td>269000.000000</td>\n",
              "    </tr>\n",
              "    <tr>\n",
              "      <th>max</th>\n",
              "      <td>56.000000</td>\n",
              "      <td>4.000000</td>\n",
              "      <td>38600.000000</td>\n",
              "      <td>20.000000</td>\n",
              "      <td>50000.000000</td>\n",
              "      <td>397000.000000</td>\n",
              "    </tr>\n",
              "  </tbody>\n",
              "</table>\n",
              "</div>\n",
              "      <button class=\"colab-df-convert\" onclick=\"convertToInteractive('df-88ff2d87-b436-42d7-8e90-e2565343bf9c')\"\n",
              "              title=\"Convert this dataframe to an interactive table.\"\n",
              "              style=\"display:none;\">\n",
              "        \n",
              "  <svg xmlns=\"http://www.w3.org/2000/svg\" height=\"24px\"viewBox=\"0 0 24 24\"\n",
              "       width=\"24px\">\n",
              "    <path d=\"M0 0h24v24H0V0z\" fill=\"none\"/>\n",
              "    <path d=\"M18.56 5.44l.94 2.06.94-2.06 2.06-.94-2.06-.94-.94-2.06-.94 2.06-2.06.94zm-11 1L8.5 8.5l.94-2.06 2.06-.94-2.06-.94L8.5 2.5l-.94 2.06-2.06.94zm10 10l.94 2.06.94-2.06 2.06-.94-2.06-.94-.94-2.06-.94 2.06-2.06.94z\"/><path d=\"M17.41 7.96l-1.37-1.37c-.4-.4-.92-.59-1.43-.59-.52 0-1.04.2-1.43.59L10.3 9.45l-7.72 7.72c-.78.78-.78 2.05 0 2.83L4 21.41c.39.39.9.59 1.41.59.51 0 1.02-.2 1.41-.59l7.78-7.78 2.81-2.81c.8-.78.8-2.07 0-2.86zM5.41 20L4 18.59l7.72-7.72 1.47 1.35L5.41 20z\"/>\n",
              "  </svg>\n",
              "      </button>\n",
              "      \n",
              "  <style>\n",
              "    .colab-df-container {\n",
              "      display:flex;\n",
              "      flex-wrap:wrap;\n",
              "      gap: 12px;\n",
              "    }\n",
              "\n",
              "    .colab-df-convert {\n",
              "      background-color: #E8F0FE;\n",
              "      border: none;\n",
              "      border-radius: 50%;\n",
              "      cursor: pointer;\n",
              "      display: none;\n",
              "      fill: #1967D2;\n",
              "      height: 32px;\n",
              "      padding: 0 0 0 0;\n",
              "      width: 32px;\n",
              "    }\n",
              "\n",
              "    .colab-df-convert:hover {\n",
              "      background-color: #E2EBFA;\n",
              "      box-shadow: 0px 1px 2px rgba(60, 64, 67, 0.3), 0px 1px 3px 1px rgba(60, 64, 67, 0.15);\n",
              "      fill: #174EA6;\n",
              "    }\n",
              "\n",
              "    [theme=dark] .colab-df-convert {\n",
              "      background-color: #3B4455;\n",
              "      fill: #D2E3FC;\n",
              "    }\n",
              "\n",
              "    [theme=dark] .colab-df-convert:hover {\n",
              "      background-color: #434B5C;\n",
              "      box-shadow: 0px 1px 3px 1px rgba(0, 0, 0, 0.15);\n",
              "      filter: drop-shadow(0px 1px 2px rgba(0, 0, 0, 0.3));\n",
              "      fill: #FFFFFF;\n",
              "    }\n",
              "  </style>\n",
              "\n",
              "      <script>\n",
              "        const buttonEl =\n",
              "          document.querySelector('#df-88ff2d87-b436-42d7-8e90-e2565343bf9c button.colab-df-convert');\n",
              "        buttonEl.style.display =\n",
              "          google.colab.kernel.accessAllowed ? 'block' : 'none';\n",
              "\n",
              "        async function convertToInteractive(key) {\n",
              "          const element = document.querySelector('#df-88ff2d87-b436-42d7-8e90-e2565343bf9c');\n",
              "          const dataTable =\n",
              "            await google.colab.kernel.invokeFunction('convertToInteractive',\n",
              "                                                     [key], {});\n",
              "          if (!dataTable) return;\n",
              "\n",
              "          const docLinkHtml = 'Like what you see? Visit the ' +\n",
              "            '<a target=\"_blank\" href=https://colab.research.google.com/notebooks/data_table.ipynb>data table notebook</a>'\n",
              "            + ' to learn more about interactive tables.';\n",
              "          element.innerHTML = '';\n",
              "          dataTable['output_type'] = 'display_data';\n",
              "          await google.colab.output.renderOutput(dataTable, element);\n",
              "          const docLink = document.createElement('div');\n",
              "          docLink.innerHTML = docLinkHtml;\n",
              "          element.appendChild(docLink);\n",
              "        }\n",
              "      </script>\n",
              "    </div>\n",
              "  </div>\n",
              "  "
            ]
          },
          "metadata": {},
          "execution_count": 6
        }
      ],
      "source": [
        "data_raw.describe()"
      ]
    },
    {
      "cell_type": "markdown",
      "source": [
        "**Гистограммы признаков**"
      ],
      "metadata": {
        "id": "f-k8Cl5S-FOk"
      },
      "id": "f-k8Cl5S-FOk"
    },
    {
      "cell_type": "code",
      "source": [
        "plt.figure(figsize=(24, 12))\n",
        "for i, col in enumerate(data_raw.columns):\n",
        "  plt.subplot(2, 3, i+1)\n",
        "  plt.hist(data_raw[col])\n",
        "  plt.xlabel(col)\n",
        "plt.show()"
      ],
      "metadata": {
        "id": "3FnR3OOE8dro",
        "colab": {
          "base_uri": "https://localhost:8080/",
          "height": 638
        },
        "outputId": "57b3bff5-42a4-4a1f-918d-c3c2c7ea18b7"
      },
      "id": "3FnR3OOE8dro",
      "execution_count": null,
      "outputs": [
        {
          "output_type": "display_data",
          "data": {
            "text/plain": [
              "<Figure size 1728x864 with 6 Axes>"
            ],
            "image/png": "[encoded data removed]"
          },
          "metadata": {
            "needs_background": "light"
          }
        }
      ]
    },
    {
      "cell_type": "markdown",
      "source": [
        "**Ящик с усами**"
      ],
      "metadata": {
        "id": "Z3fFg2jO-NAw"
      },
      "id": "Z3fFg2jO-NAw"
    },
    {
      "cell_type": "code",
      "source": [
        "plt.figure(figsize=(24, 7))\n",
        "for i, col in enumerate([['Возраст',  'Срок проживания(лет)'], ['Количество иждевенцев'], ['Доход(руб./мес.)',  'Оценка автомобиля(USD)'], ['Размер кредита(тыс.руб.)']]):\n",
        "  plt.subplot(1, 4, i+1)\n",
        "  data_raw.boxplot(column = col).plot()\n",
        "plt.show()"
      ],
      "metadata": {
        "id": "RmPtrm9vfB5_",
        "colab": {
          "base_uri": "https://localhost:8080/",
          "height": 384
        },
        "outputId": "02c2f53c-9f1a-4556-b925-98ba9c87b3d6"
      },
      "id": "RmPtrm9vfB5_",
      "execution_count": null,
      "outputs": [
        {
          "output_type": "display_data",
          "data": {
            "text/plain": [
              "<Figure size 1728x504 with 4 Axes>"
            ],
            "image/png": "[encoded data removed]"
          },
          "metadata": {
            "needs_background": "light"
          }
        }
      ]
    },
    {
      "cell_type": "markdown",
      "source": [
        "Распределения дохода, оценки автомобиля и размера кредита похожи. Также похожи распределения возраста и срока проживания.\n",
        "\n",
        "Можно заметить выбросы в оценке автомобиля."
      ],
      "metadata": {
        "id": "pOKE1ragg0ei"
      },
      "id": "pOKE1ragg0ei"
    },
    {
      "cell_type": "markdown",
      "source": [
        "##2. Восстановление пропусков."
      ],
      "metadata": {
        "id": "_wqRTrUVQSng"
      },
      "id": "_wqRTrUVQSng"
    },
    {
      "cell_type": "markdown",
      "source": [
        "Восстанавливаем признаки с помощью баесовской линейной регрессии.\n",
        "\n",
        "Сначала пропуски заполняются медианой, потом на всём датасете обучается линейная регрессия, и дальше она заполняет пропуски уже своими предсказаниями с некоторой нормально распределёной ошибкой."
      ],
      "metadata": {
        "id": "mcne4HSrhLpc"
      },
      "id": "mcne4HSrhLpc"
    },
    {
      "cell_type": "code",
      "source": [
        "Imputer = IterativeImputer(random_state=0)\n",
        "Imputer.fit(data_raw)\n",
        "np_data_without_na = Imputer.transform(data_raw)\n",
        "data_without_na = pd.DataFrame(np_data_without_na, columns=data_raw.columns)"
      ],
      "metadata": {
        "id": "vv1urcKXQS9M"
      },
      "id": "vv1urcKXQS9M",
      "execution_count": null,
      "outputs": []
    },
    {
      "cell_type": "markdown",
      "source": [
        "Мы потеряли категориальность некоторых признаков. Кроме того, значения некоторых признаков(например дохода) были кратны 1000. Мы могли бы привести данные к такому виду, что добавило бы некоторую случайность в заполненые пропуски.\n",
        "Но во-первых, мы уже добавили ошибку и дополнительная случайность может быть избыточной, а во-вторых, наши данные далее будут нормализованы, поэтому в этом нет особого смысла."
      ],
      "metadata": {
        "id": "BxinCi6Nk_ZD"
      },
      "id": "BxinCi6Nk_ZD"
    },
    {
      "cell_type": "markdown",
      "source": [
        "##3. Удаление выбросов."
      ],
      "metadata": {
        "id": "YL4P8qa1YsF-"
      },
      "id": "YL4P8qa1YsF-"
    },
    {
      "cell_type": "markdown",
      "source": [
        "Поскольку данных немного, все выбросы можно увидеть по \"ящику с усами\" из пункта 1.\n",
        "\n",
        "Удаляем выбросы."
      ],
      "metadata": {
        "id": "cIbqG7yIhSGy"
      },
      "id": "cIbqG7yIhSGy"
    },
    {
      "cell_type": "code",
      "source": [
        "data_without_outlier = data_without_na.loc[data_without_na['Оценка автомобиля(USD)'] < 45000]"
      ],
      "metadata": {
        "id": "sK-EAoiBWYb2"
      },
      "id": "sK-EAoiBWYb2",
      "execution_count": null,
      "outputs": []
    },
    {
      "cell_type": "markdown",
      "source": [
        "#Метод PCA"
      ],
      "metadata": {
        "id": "V025PeGS9Ckc"
      },
      "id": "V025PeGS9Ckc"
    },
    {
      "cell_type": "markdown",
      "source": [
        "##4. Централизация и нормализация."
      ],
      "metadata": {
        "id": "3E4khkEplJjV"
      },
      "id": "3E4khkEplJjV"
    },
    {
      "cell_type": "markdown",
      "source": [
        "Выполняем центрирование данных."
      ],
      "metadata": {
        "id": "0xSNHEXEJskT"
      },
      "id": "0xSNHEXEJskT"
    },
    {
      "cell_type": "code",
      "source": [
        "data_centered = data_without_outlier.apply(lambda x: x - x.mean())\n",
        "data_centered.head(3)"
      ],
      "metadata": {
        "id": "KS_AorQjqG36",
        "colab": {
          "base_uri": "https://localhost:8080/",
          "height": 143
        },
        "outputId": "51275cf4-1e58-4ae1-a5c5-290e34f9a7ae"
      },
      "id": "KS_AorQjqG36",
      "execution_count": null,
      "outputs": [
        {
          "output_type": "execute_result",
          "data": {
            "text/plain": [
              "     Возраст  Количество иждевенцев  Доход(руб./мес.)  Срок проживания(лет)  \\\n",
              "0  10.963451               1.032988      -2379.984013              6.934156   \n",
              "1  -0.036549               0.032988      -7404.050505             -0.065844   \n",
              "2  10.963451               1.032988     -12879.984013              6.934156   \n",
              "\n",
              "   Оценка автомобиля(USD)  Размер кредита(тыс.руб.)  \n",
              "0               22.871912             -10083.500976  \n",
              "1            -6977.128088             -73083.500976  \n",
              "2           -10977.128088            -118083.500976  "
            ],
            "text/html": [
              "\n",
              "  <div id=\"df-5524ebdf-db65-4c4f-8f06-484eb8502147\">\n",
              "    <div class=\"colab-df-container\">\n",
              "      <div>\n",
              "<style scoped>\n",
              "    .dataframe tbody tr th:only-of-type {\n",
              "        vertical-align: middle;\n",
              "    }\n",
              "\n",
              "    .dataframe tbody tr th {\n",
              "        vertical-align: top;\n",
              "    }\n",
              "\n",
              "    .dataframe thead th {\n",
              "        text-align: right;\n",
              "    }\n",
              "</style>\n",
              "<table border=\"1\" class=\"dataframe\">\n",
              "  <thead>\n",
              "    <tr style=\"text-align: right;\">\n",
              "      <th></th>\n",
              "      <th>Возраст</th>\n",
              "      <th>Количество иждевенцев</th>\n",
              "      <th>Доход(руб./мес.)</th>\n",
              "      <th>Срок проживания(лет)</th>\n",
              "      <th>Оценка автомобиля(USD)</th>\n",
              "      <th>Размер кредита(тыс.руб.)</th>\n",
              "    </tr>\n",
              "  </thead>\n",
              "  <tbody>\n",
              "    <tr>\n",
              "      <th>0</th>\n",
              "      <td>10.963451</td>\n",
              "      <td>1.032988</td>\n",
              "      <td>-2379.984013</td>\n",
              "      <td>6.934156</td>\n",
              "      <td>22.871912</td>\n",
              "      <td>-10083.500976</td>\n",
              "    </tr>\n",
              "    <tr>\n",
              "      <th>1</th>\n",
              "      <td>-0.036549</td>\n",
              "      <td>0.032988</td>\n",
              "      <td>-7404.050505</td>\n",
              "      <td>-0.065844</td>\n",
              "      <td>-6977.128088</td>\n",
              "      <td>-73083.500976</td>\n",
              "    </tr>\n",
              "    <tr>\n",
              "      <th>2</th>\n",
              "      <td>10.963451</td>\n",
              "      <td>1.032988</td>\n",
              "      <td>-12879.984013</td>\n",
              "      <td>6.934156</td>\n",
              "      <td>-10977.128088</td>\n",
              "      <td>-118083.500976</td>\n",
              "    </tr>\n",
              "  </tbody>\n",
              "</table>\n",
              "</div>\n",
              "      <button class=\"colab-df-convert\" onclick=\"convertToInteractive('df-5524ebdf-db65-4c4f-8f06-484eb8502147')\"\n",
              "              title=\"Convert this dataframe to an interactive table.\"\n",
              "              style=\"display:none;\">\n",
              "        \n",
              "  <svg xmlns=\"http://www.w3.org/2000/svg\" height=\"24px\"viewBox=\"0 0 24 24\"\n",
              "       width=\"24px\">\n",
              "    <path d=\"M0 0h24v24H0V0z\" fill=\"none\"/>\n",
              "    <path d=\"M18.56 5.44l.94 2.06.94-2.06 2.06-.94-2.06-.94-.94-2.06-.94 2.06-2.06.94zm-11 1L8.5 8.5l.94-2.06 2.06-.94-2.06-.94L8.5 2.5l-.94 2.06-2.06.94zm10 10l.94 2.06.94-2.06 2.06-.94-2.06-.94-.94-2.06-.94 2.06-2.06.94z\"/><path d=\"M17.41 7.96l-1.37-1.37c-.4-.4-.92-.59-1.43-.59-.52 0-1.04.2-1.43.59L10.3 9.45l-7.72 7.72c-.78.78-.78 2.05 0 2.83L4 21.41c.39.39.9.59 1.41.59.51 0 1.02-.2 1.41-.59l7.78-7.78 2.81-2.81c.8-.78.8-2.07 0-2.86zM5.41 20L4 18.59l7.72-7.72 1.47 1.35L5.41 20z\"/>\n",
              "  </svg>\n",
              "      </button>\n",
              "      \n",
              "  <style>\n",
              "    .colab-df-container {\n",
              "      display:flex;\n",
              "      flex-wrap:wrap;\n",
              "      gap: 12px;\n",
              "    }\n",
              "\n",
              "    .colab-df-convert {\n",
              "      background-color: #E8F0FE;\n",
              "      border: none;\n",
              "      border-radius: 50%;\n",
              "      cursor: pointer;\n",
              "      display: none;\n",
              "      fill: #1967D2;\n",
              "      height: 32px;\n",
              "      padding: 0 0 0 0;\n",
              "      width: 32px;\n",
              "    }\n",
              "\n",
              "    .colab-df-convert:hover {\n",
              "      background-color: #E2EBFA;\n",
              "      box-shadow: 0px 1px 2px rgba(60, 64, 67, 0.3), 0px 1px 3px 1px rgba(60, 64, 67, 0.15);\n",
              "      fill: #174EA6;\n",
              "    }\n",
              "\n",
              "    [theme=dark] .colab-df-convert {\n",
              "      background-color: #3B4455;\n",
              "      fill: #D2E3FC;\n",
              "    }\n",
              "\n",
              "    [theme=dark] .colab-df-convert:hover {\n",
              "      background-color: #434B5C;\n",
              "      box-shadow: 0px 1px 3px 1px rgba(0, 0, 0, 0.15);\n",
              "      filter: drop-shadow(0px 1px 2px rgba(0, 0, 0, 0.3));\n",
              "      fill: #FFFFFF;\n",
              "    }\n",
              "  </style>\n",
              "\n",
              "      <script>\n",
              "        const buttonEl =\n",
              "          document.querySelector('#df-5524ebdf-db65-4c4f-8f06-484eb8502147 button.colab-df-convert');\n",
              "        buttonEl.style.display =\n",
              "          google.colab.kernel.accessAllowed ? 'block' : 'none';\n",
              "\n",
              "        async function convertToInteractive(key) {\n",
              "          const element = document.querySelector('#df-5524ebdf-db65-4c4f-8f06-484eb8502147');\n",
              "          const dataTable =\n",
              "            await google.colab.kernel.invokeFunction('convertToInteractive',\n",
              "                                                     [key], {});\n",
              "          if (!dataTable) return;\n",
              "\n",
              "          const docLinkHtml = 'Like what you see? Visit the ' +\n",
              "            '<a target=\"_blank\" href=https://colab.research.google.com/notebooks/data_table.ipynb>data table notebook</a>'\n",
              "            + ' to learn more about interactive tables.';\n",
              "          element.innerHTML = '';\n",
              "          dataTable['output_type'] = 'display_data';\n",
              "          await google.colab.output.renderOutput(dataTable, element);\n",
              "          const docLink = document.createElement('div');\n",
              "          docLink.innerHTML = docLinkHtml;\n",
              "          element.appendChild(docLink);\n",
              "        }\n",
              "      </script>\n",
              "    </div>\n",
              "  </div>\n",
              "  "
            ]
          },
          "metadata": {},
          "execution_count": 11
        }
      ]
    },
    {
      "cell_type": "markdown",
      "source": [
        "Выполняем нормировку."
      ],
      "metadata": {
        "id": "ZWWxG1TdJy-y"
      },
      "id": "ZWWxG1TdJy-y"
    },
    {
      "cell_type": "code",
      "source": [
        "data = data_centered.apply(lambda x: x/np.sqrt(np.sum(np.square(x))))\n",
        "data.head(3)"
      ],
      "metadata": {
        "id": "ooxkdLz3q45a",
        "colab": {
          "base_uri": "https://localhost:8080/",
          "height": 143
        },
        "outputId": "56514d1c-e2e8-4209-cf46-5fbe5c4df291"
      },
      "id": "ooxkdLz3q45a",
      "execution_count": null,
      "outputs": [
        {
          "output_type": "execute_result",
          "data": {
            "text/plain": [
              "    Возраст  Количество иждевенцев  Доход(руб./мес.)  Срок проживания(лет)  \\\n",
              "0  0.219035               0.157057         -0.038250              0.223238   \n",
              "1 -0.000730               0.005016         -0.118994             -0.002120   \n",
              "2  0.219035               0.157057         -0.207000              0.223238   \n",
              "\n",
              "   Оценка автомобиля(USD)  Размер кредита(тыс.руб.)  \n",
              "0                0.000366                 -0.016166  \n",
              "1               -0.111498                 -0.117167  \n",
              "2               -0.175420                 -0.189310  "
            ],
            "text/html": [
              "\n",
              "  <div id=\"df-30321dac-bdf6-4c96-9e0e-685e1cef3796\">\n",
              "    <div class=\"colab-df-container\">\n",
              "      <div>\n",
              "<style scoped>\n",
              "    .dataframe tbody tr th:only-of-type {\n",
              "        vertical-align: middle;\n",
              "    }\n",
              "\n",
              "    .dataframe tbody tr th {\n",
              "        vertical-align: top;\n",
              "    }\n",
              "\n",
              "    .dataframe thead th {\n",
              "        text-align: right;\n",
              "    }\n",
              "</style>\n",
              "<table border=\"1\" class=\"dataframe\">\n",
              "  <thead>\n",
              "    <tr style=\"text-align: right;\">\n",
              "      <th></th>\n",
              "      <th>Возраст</th>\n",
              "      <th>Количество иждевенцев</th>\n",
              "      <th>Доход(руб./мес.)</th>\n",
              "      <th>Срок проживания(лет)</th>\n",
              "      <th>Оценка автомобиля(USD)</th>\n",
              "      <th>Размер кредита(тыс.руб.)</th>\n",
              "    </tr>\n",
              "  </thead>\n",
              "  <tbody>\n",
              "    <tr>\n",
              "      <th>0</th>\n",
              "      <td>0.219035</td>\n",
              "      <td>0.157057</td>\n",
              "      <td>-0.038250</td>\n",
              "      <td>0.223238</td>\n",
              "      <td>0.000366</td>\n",
              "      <td>-0.016166</td>\n",
              "    </tr>\n",
              "    <tr>\n",
              "      <th>1</th>\n",
              "      <td>-0.000730</td>\n",
              "      <td>0.005016</td>\n",
              "      <td>-0.118994</td>\n",
              "      <td>-0.002120</td>\n",
              "      <td>-0.111498</td>\n",
              "      <td>-0.117167</td>\n",
              "    </tr>\n",
              "    <tr>\n",
              "      <th>2</th>\n",
              "      <td>0.219035</td>\n",
              "      <td>0.157057</td>\n",
              "      <td>-0.207000</td>\n",
              "      <td>0.223238</td>\n",
              "      <td>-0.175420</td>\n",
              "      <td>-0.189310</td>\n",
              "    </tr>\n",
              "  </tbody>\n",
              "</table>\n",
              "</div>\n",
              "      <button class=\"colab-df-convert\" onclick=\"convertToInteractive('df-30321dac-bdf6-4c96-9e0e-685e1cef3796')\"\n",
              "              title=\"Convert this dataframe to an interactive table.\"\n",
              "              style=\"display:none;\">\n",
              "        \n",
              "  <svg xmlns=\"http://www.w3.org/2000/svg\" height=\"24px\"viewBox=\"0 0 24 24\"\n",
              "       width=\"24px\">\n",
              "    <path d=\"M0 0h24v24H0V0z\" fill=\"none\"/>\n",
              "    <path d=\"M18.56 5.44l.94 2.06.94-2.06 2.06-.94-2.06-.94-.94-2.06-.94 2.06-2.06.94zm-11 1L8.5 8.5l.94-2.06 2.06-.94-2.06-.94L8.5 2.5l-.94 2.06-2.06.94zm10 10l.94 2.06.94-2.06 2.06-.94-2.06-.94-.94-2.06-.94 2.06-2.06.94z\"/><path d=\"M17.41 7.96l-1.37-1.37c-.4-.4-.92-.59-1.43-.59-.52 0-1.04.2-1.43.59L10.3 9.45l-7.72 7.72c-.78.78-.78 2.05 0 2.83L4 21.41c.39.39.9.59 1.41.59.51 0 1.02-.2 1.41-.59l7.78-7.78 2.81-2.81c.8-.78.8-2.07 0-2.86zM5.41 20L4 18.59l7.72-7.72 1.47 1.35L5.41 20z\"/>\n",
              "  </svg>\n",
              "      </button>\n",
              "      \n",
              "  <style>\n",
              "    .colab-df-container {\n",
              "      display:flex;\n",
              "      flex-wrap:wrap;\n",
              "      gap: 12px;\n",
              "    }\n",
              "\n",
              "    .colab-df-convert {\n",
              "      background-color: #E8F0FE;\n",
              "      border: none;\n",
              "      border-radius: 50%;\n",
              "      cursor: pointer;\n",
              "      display: none;\n",
              "      fill: #1967D2;\n",
              "      height: 32px;\n",
              "      padding: 0 0 0 0;\n",
              "      width: 32px;\n",
              "    }\n",
              "\n",
              "    .colab-df-convert:hover {\n",
              "      background-color: #E2EBFA;\n",
              "      box-shadow: 0px 1px 2px rgba(60, 64, 67, 0.3), 0px 1px 3px 1px rgba(60, 64, 67, 0.15);\n",
              "      fill: #174EA6;\n",
              "    }\n",
              "\n",
              "    [theme=dark] .colab-df-convert {\n",
              "      background-color: #3B4455;\n",
              "      fill: #D2E3FC;\n",
              "    }\n",
              "\n",
              "    [theme=dark] .colab-df-convert:hover {\n",
              "      background-color: #434B5C;\n",
              "      box-shadow: 0px 1px 3px 1px rgba(0, 0, 0, 0.15);\n",
              "      filter: drop-shadow(0px 1px 2px rgba(0, 0, 0, 0.3));\n",
              "      fill: #FFFFFF;\n",
              "    }\n",
              "  </style>\n",
              "\n",
              "      <script>\n",
              "        const buttonEl =\n",
              "          document.querySelector('#df-30321dac-bdf6-4c96-9e0e-685e1cef3796 button.colab-df-convert');\n",
              "        buttonEl.style.display =\n",
              "          google.colab.kernel.accessAllowed ? 'block' : 'none';\n",
              "\n",
              "        async function convertToInteractive(key) {\n",
              "          const element = document.querySelector('#df-30321dac-bdf6-4c96-9e0e-685e1cef3796');\n",
              "          const dataTable =\n",
              "            await google.colab.kernel.invokeFunction('convertToInteractive',\n",
              "                                                     [key], {});\n",
              "          if (!dataTable) return;\n",
              "\n",
              "          const docLinkHtml = 'Like what you see? Visit the ' +\n",
              "            '<a target=\"_blank\" href=https://colab.research.google.com/notebooks/data_table.ipynb>data table notebook</a>'\n",
              "            + ' to learn more about interactive tables.';\n",
              "          element.innerHTML = '';\n",
              "          dataTable['output_type'] = 'display_data';\n",
              "          await google.colab.output.renderOutput(dataTable, element);\n",
              "          const docLink = document.createElement('div');\n",
              "          docLink.innerHTML = docLinkHtml;\n",
              "          element.appendChild(docLink);\n",
              "        }\n",
              "      </script>\n",
              "    </div>\n",
              "  </div>\n",
              "  "
            ]
          },
          "metadata": {},
          "execution_count": 12
        }
      ]
    },
    {
      "cell_type": "markdown",
      "source": [
        "##5. SVD разложение."
      ],
      "metadata": {
        "id": "CChGVOu34etc"
      },
      "id": "CChGVOu34etc"
    },
    {
      "cell_type": "markdown",
      "source": [
        "Находим SVD разложение матрицы $Z = USV^T$."
      ],
      "metadata": {
        "id": "Is2hqMZaJ9YU"
      },
      "id": "Is2hqMZaJ9YU"
    },
    {
      "cell_type": "code",
      "source": [
        "Z = data.to_numpy()\n",
        "U, S, V = np.linalg.svd(Z, full_matrices = False)\n",
        "print('Сингулярные числа:', S)"
      ],
      "metadata": {
        "id": "T2zG_ls7174U",
        "colab": {
          "base_uri": "https://localhost:8080/"
        },
        "outputId": "b2bb21be-30a0-4ad9-ba7f-c47a5f11d60c"
      },
      "id": "T2zG_ls7174U",
      "execution_count": null,
      "outputs": [
        {
          "output_type": "stream",
          "name": "stdout",
          "text": [
            "Сингулярные числа: [1.8110584  1.63382867 0.21815324 0.04554977 0.02956165 0.011483  ]\n"
          ]
        }
      ]
    },
    {
      "cell_type": "markdown",
      "source": [
        "##6. Скрытые факторы."
      ],
      "metadata": {
        "id": "J0IJSAEbWoYV"
      },
      "id": "J0IJSAEbWoYV"
    },
    {
      "cell_type": "markdown",
      "source": [
        "Сингулярные чила и их вклады в вариацию данных(в %)"
      ],
      "metadata": {
        "id": "dSfnv3-xTZM7"
      },
      "id": "dSfnv3-xTZM7"
    },
    {
      "cell_type": "code",
      "source": [
        "pd.DataFrame([[round(i, 3) for i in S], [round(100*(i)**2/np.sum(np.square(S)), 3) for i in S]], index=['sv', '%'])"
      ],
      "metadata": {
        "colab": {
          "base_uri": "https://localhost:8080/",
          "height": 112
        },
        "id": "FCj1hLUORTvE",
        "outputId": "19074fcd-acc0-44e8-f52d-e603a58b8fd6"
      },
      "id": "FCj1hLUORTvE",
      "execution_count": null,
      "outputs": [
        {
          "output_type": "execute_result",
          "data": {
            "text/plain": [
              "         0       1      2      3      4      5\n",
              "sv   1.811   1.634  0.218  0.046  0.030  0.011\n",
              "%   54.666  44.490  0.793  0.035  0.015  0.002"
            ],
            "text/html": [
              "\n",
              "  <div id=\"df-cf637ced-8172-487e-a1fc-b4d21436b87d\">\n",
              "    <div class=\"colab-df-container\">\n",
              "      <div>\n",
              "<style scoped>\n",
              "    .dataframe tbody tr th:only-of-type {\n",
              "        vertical-align: middle;\n",
              "    }\n",
              "\n",
              "    .dataframe tbody tr th {\n",
              "        vertical-align: top;\n",
              "    }\n",
              "\n",
              "    .dataframe thead th {\n",
              "        text-align: right;\n",
              "    }\n",
              "</style>\n",
              "<table border=\"1\" class=\"dataframe\">\n",
              "  <thead>\n",
              "    <tr style=\"text-align: right;\">\n",
              "      <th></th>\n",
              "      <th>0</th>\n",
              "      <th>1</th>\n",
              "      <th>2</th>\n",
              "      <th>3</th>\n",
              "      <th>4</th>\n",
              "      <th>5</th>\n",
              "    </tr>\n",
              "  </thead>\n",
              "  <tbody>\n",
              "    <tr>\n",
              "      <th>sv</th>\n",
              "      <td>1.811</td>\n",
              "      <td>1.634</td>\n",
              "      <td>0.218</td>\n",
              "      <td>0.046</td>\n",
              "      <td>0.030</td>\n",
              "      <td>0.011</td>\n",
              "    </tr>\n",
              "    <tr>\n",
              "      <th>%</th>\n",
              "      <td>54.666</td>\n",
              "      <td>44.490</td>\n",
              "      <td>0.793</td>\n",
              "      <td>0.035</td>\n",
              "      <td>0.015</td>\n",
              "      <td>0.002</td>\n",
              "    </tr>\n",
              "  </tbody>\n",
              "</table>\n",
              "</div>\n",
              "      <button class=\"colab-df-convert\" onclick=\"convertToInteractive('df-cf637ced-8172-487e-a1fc-b4d21436b87d')\"\n",
              "              title=\"Convert this dataframe to an interactive table.\"\n",
              "              style=\"display:none;\">\n",
              "        \n",
              "  <svg xmlns=\"http://www.w3.org/2000/svg\" height=\"24px\"viewBox=\"0 0 24 24\"\n",
              "       width=\"24px\">\n",
              "    <path d=\"M0 0h24v24H0V0z\" fill=\"none\"/>\n",
              "    <path d=\"M18.56 5.44l.94 2.06.94-2.06 2.06-.94-2.06-.94-.94-2.06-.94 2.06-2.06.94zm-11 1L8.5 8.5l.94-2.06 2.06-.94-2.06-.94L8.5 2.5l-.94 2.06-2.06.94zm10 10l.94 2.06.94-2.06 2.06-.94-2.06-.94-.94-2.06-.94 2.06-2.06.94z\"/><path d=\"M17.41 7.96l-1.37-1.37c-.4-.4-.92-.59-1.43-.59-.52 0-1.04.2-1.43.59L10.3 9.45l-7.72 7.72c-.78.78-.78 2.05 0 2.83L4 21.41c.39.39.9.59 1.41.59.51 0 1.02-.2 1.41-.59l7.78-7.78 2.81-2.81c.8-.78.8-2.07 0-2.86zM5.41 20L4 18.59l7.72-7.72 1.47 1.35L5.41 20z\"/>\n",
              "  </svg>\n",
              "      </button>\n",
              "      \n",
              "  <style>\n",
              "    .colab-df-container {\n",
              "      display:flex;\n",
              "      flex-wrap:wrap;\n",
              "      gap: 12px;\n",
              "    }\n",
              "\n",
              "    .colab-df-convert {\n",
              "      background-color: #E8F0FE;\n",
              "      border: none;\n",
              "      border-radius: 50%;\n",
              "      cursor: pointer;\n",
              "      display: none;\n",
              "      fill: #1967D2;\n",
              "      height: 32px;\n",
              "      padding: 0 0 0 0;\n",
              "      width: 32px;\n",
              "    }\n",
              "\n",
              "    .colab-df-convert:hover {\n",
              "      background-color: #E2EBFA;\n",
              "      box-shadow: 0px 1px 2px rgba(60, 64, 67, 0.3), 0px 1px 3px 1px rgba(60, 64, 67, 0.15);\n",
              "      fill: #174EA6;\n",
              "    }\n",
              "\n",
              "    [theme=dark] .colab-df-convert {\n",
              "      background-color: #3B4455;\n",
              "      fill: #D2E3FC;\n",
              "    }\n",
              "\n",
              "    [theme=dark] .colab-df-convert:hover {\n",
              "      background-color: #434B5C;\n",
              "      box-shadow: 0px 1px 3px 1px rgba(0, 0, 0, 0.15);\n",
              "      filter: drop-shadow(0px 1px 2px rgba(0, 0, 0, 0.3));\n",
              "      fill: #FFFFFF;\n",
              "    }\n",
              "  </style>\n",
              "\n",
              "      <script>\n",
              "        const buttonEl =\n",
              "          document.querySelector('#df-cf637ced-8172-487e-a1fc-b4d21436b87d button.colab-df-convert');\n",
              "        buttonEl.style.display =\n",
              "          google.colab.kernel.accessAllowed ? 'block' : 'none';\n",
              "\n",
              "        async function convertToInteractive(key) {\n",
              "          const element = document.querySelector('#df-cf637ced-8172-487e-a1fc-b4d21436b87d');\n",
              "          const dataTable =\n",
              "            await google.colab.kernel.invokeFunction('convertToInteractive',\n",
              "                                                     [key], {});\n",
              "          if (!dataTable) return;\n",
              "\n",
              "          const docLinkHtml = 'Like what you see? Visit the ' +\n",
              "            '<a target=\"_blank\" href=https://colab.research.google.com/notebooks/data_table.ipynb>data table notebook</a>'\n",
              "            + ' to learn more about interactive tables.';\n",
              "          element.innerHTML = '';\n",
              "          dataTable['output_type'] = 'display_data';\n",
              "          await google.colab.output.renderOutput(dataTable, element);\n",
              "          const docLink = document.createElement('div');\n",
              "          docLink.innerHTML = docLinkHtml;\n",
              "          element.appendChild(docLink);\n",
              "        }\n",
              "      </script>\n",
              "    </div>\n",
              "  </div>\n",
              "  "
            ]
          },
          "metadata": {},
          "execution_count": 14
        }
      ]
    },
    {
      "cell_type": "markdown",
      "source": [
        "Заметим, что 2 главных фактора вносят более 99% вариации данных."
      ],
      "metadata": {
        "id": "zJLdrqgakjZ5"
      },
      "id": "zJLdrqgakjZ5"
    },
    {
      "cell_type": "markdown",
      "source": [
        "Таким образом, относительная ошибка аппроксимации матрицами ранга 2 в норме Фробениуса меньше 1%.\n",
        "\n"
      ],
      "metadata": {
        "id": "ZacvOn0XjZXY"
      },
      "id": "ZacvOn0XjZXY"
    },
    {
      "cell_type": "code",
      "source": [
        "print(100 * (np.sum(np.square(S[2:]))/np.sum(np.square(S))),'%')"
      ],
      "metadata": {
        "colab": {
          "base_uri": "https://localhost:8080/"
        },
        "id": "9h3rHhuwVEvI",
        "outputId": "28148f61-fce4-42aa-f953-2b02123ae678"
      },
      "id": "9h3rHhuwVEvI",
      "execution_count": null,
      "outputs": [
        {
          "output_type": "stream",
          "name": "stdout",
          "text": [
            "0.8445227913270398 %\n"
          ]
        }
      ]
    },
    {
      "cell_type": "markdown",
      "source": [
        "Относительная ошибка аппроксимации матрицами ранга 2 в спектральной евклидовой норме."
      ],
      "metadata": {
        "id": "FJM1ISDejebd"
      },
      "id": "FJM1ISDejebd"
    },
    {
      "cell_type": "code",
      "source": [
        "print(100 * S[2]/S[0],'%')"
      ],
      "metadata": {
        "colab": {
          "base_uri": "https://localhost:8080/"
        },
        "id": "EvCmz8IyjeoT",
        "outputId": "d8c713aa-e21c-4a1c-ab4b-67fdbe47e65d"
      },
      "id": "EvCmz8IyjeoT",
      "execution_count": null,
      "outputs": [
        {
          "output_type": "stream",
          "name": "stdout",
          "text": [
            "12.045621401868514 %\n"
          ]
        }
      ]
    },
    {
      "cell_type": "markdown",
      "source": [
        "Отсюда можно сделать вывод, что главных фактора два."
      ],
      "metadata": {
        "id": "0fXWU97Xkrv3"
      },
      "id": "0fXWU97Xkrv3"
    },
    {
      "cell_type": "markdown",
      "source": [
        "##7. Карта клиентов."
      ],
      "metadata": {
        "id": "e_8R_yrGkgJK"
      },
      "id": "e_8R_yrGkgJK"
    },
    {
      "cell_type": "code",
      "source": [
        "plt.figure(figsize=(10, 10))\n",
        "sns.scatterplot(x=U[:, 0], y=U[:, 1])\n",
        "plt.show()"
      ],
      "metadata": {
        "colab": {
          "base_uri": "https://localhost:8080/",
          "height": 592
        },
        "id": "iahhlP8xmnsV",
        "outputId": "3f165d62-e758-4917-c1b1-ff6b7cc0e5fc"
      },
      "id": "iahhlP8xmnsV",
      "execution_count": null,
      "outputs": [
        {
          "output_type": "display_data",
          "data": {
            "text/plain": [
              "<Figure size 720x720 with 1 Axes>"
            ],
            "image/png": "[encoded data removed]"
          },
          "metadata": {
            "needs_background": "light"
          }
        }
      ]
    },
    {
      "cell_type": "markdown",
      "source": [
        "Трудно сделать какой-либо вывод по этой карте клиентов.\n",
        "Можно сказать, что у банка достаточно разные клиенты :)"
      ],
      "metadata": {
        "id": "IYxTSnAAKOyO"
      },
      "id": "IYxTSnAAKOyO"
    },
    {
      "cell_type": "markdown",
      "source": [
        "##8, 9. Интерпритация главных факторов.\n",
        "\n"
      ],
      "metadata": {
        "id": "6iFuHuyRppjX"
      },
      "id": "6iFuHuyRppjX"
    },
    {
      "cell_type": "markdown",
      "source": [
        "Выпишем разложения признаков $z^j$."
      ],
      "metadata": {
        "id": "WvqZp71zKnbl"
      },
      "id": "WvqZp71zKnbl"
    },
    {
      "cell_type": "code",
      "source": [
        "print(*[f'z^{i} = {round(S[0] * V[0, i],2)} * u_1 + {round(S[1] * V[1, i],2)} * u_2  //' + data.columns[i] for i in range(len(S))], sep='\\n')"
      ],
      "metadata": {
        "colab": {
          "base_uri": "https://localhost:8080/"
        },
        "id": "oQniiIqFpo2m",
        "outputId": "d736b3a7-e3be-4aa6-b98d-3b6eeba037ca"
      },
      "id": "oQniiIqFpo2m",
      "execution_count": null,
      "outputs": [
        {
          "output_type": "stream",
          "name": "stdout",
          "text": [
            "z^0 = -0.67 * u_1 + 0.74 * u_2  //Возраст\n",
            "z^1 = -0.36 * u_1 + 0.92 * u_2  //Количество иждевенцев\n",
            "z^2 = 0.9 * u_1 + 0.44 * u_2  //Доход(руб./мес.)\n",
            "z^3 = -0.72 * u_1 + 0.68 * u_2  //Срок проживания(лет)\n",
            "z^4 = 0.81 * u_1 + 0.59 * u_2  //Оценка автомобиля(USD)\n",
            "z^5 = 0.85 * u_1 + 0.53 * u_2  //Размер кредита(тыс.руб.)\n"
          ]
        }
      ]
    },
    {
      "cell_type": "markdown",
      "source": [
        "Так же для интерпритации признаков можно обратить внимание на матрицу корреляции."
      ],
      "metadata": {
        "id": "G4X5NdVcKxjg"
      },
      "id": "G4X5NdVcKxjg"
    },
    {
      "cell_type": "code",
      "source": [
        "data.corr()"
      ],
      "metadata": {
        "colab": {
          "base_uri": "https://localhost:8080/",
          "height": 237
        },
        "id": "FOlUe4Dsfqin",
        "outputId": "31ea46f1-b4fe-4453-f8b7-a73487ccbc33"
      },
      "id": "FOlUe4Dsfqin",
      "execution_count": null,
      "outputs": [
        {
          "output_type": "execute_result",
          "data": {
            "text/plain": [
              "                           Возраст  Количество иждевенцев  Доход(руб./мес.)  \\\n",
              "Возраст                   1.000000               0.902999         -0.269962   \n",
              "Количество иждевенцев     0.902999               1.000000          0.079054   \n",
              "Доход(руб./мес.)         -0.269962               0.079054          1.000000   \n",
              "Срок проживания(лет)      0.994667               0.871774         -0.346696   \n",
              "Оценка автомобиля(USD)   -0.103639               0.238271          0.984918   \n",
              "Размер кредита(тыс.руб.) -0.173547               0.173060          0.994974   \n",
              "\n",
              "                          Срок проживания(лет)  Оценка автомобиля(USD)  \\\n",
              "Возраст                               0.994667               -0.103639   \n",
              "Количество иждевенцев                 0.871774                0.238271   \n",
              "Доход(руб./мес.)                     -0.346696                0.984918   \n",
              "Срок проживания(лет)                  1.000000               -0.183792   \n",
              "Оценка автомобиля(USD)               -0.183792                1.000000   \n",
              "Размер кредита(тыс.руб.)             -0.252541                0.996840   \n",
              "\n",
              "                          Размер кредита(тыс.руб.)  \n",
              "Возраст                                  -0.173547  \n",
              "Количество иждевенцев                     0.173060  \n",
              "Доход(руб./мес.)                          0.994974  \n",
              "Срок проживания(лет)                     -0.252541  \n",
              "Оценка автомобиля(USD)                    0.996840  \n",
              "Размер кредита(тыс.руб.)                  1.000000  "
            ],
            "text/html": [
              "\n",
              "  <div id=\"df-70fd7c45-1387-4e4c-9fe6-fe37d68fac33\">\n",
              "    <div class=\"colab-df-container\">\n",
              "      <div>\n",
              "<style scoped>\n",
              "    .dataframe tbody tr th:only-of-type {\n",
              "        vertical-align: middle;\n",
              "    }\n",
              "\n",
              "    .dataframe tbody tr th {\n",
              "        vertical-align: top;\n",
              "    }\n",
              "\n",
              "    .dataframe thead th {\n",
              "        text-align: right;\n",
              "    }\n",
              "</style>\n",
              "<table border=\"1\" class=\"dataframe\">\n",
              "  <thead>\n",
              "    <tr style=\"text-align: right;\">\n",
              "      <th></th>\n",
              "      <th>Возраст</th>\n",
              "      <th>Количество иждевенцев</th>\n",
              "      <th>Доход(руб./мес.)</th>\n",
              "      <th>Срок проживания(лет)</th>\n",
              "      <th>Оценка автомобиля(USD)</th>\n",
              "      <th>Размер кредита(тыс.руб.)</th>\n",
              "    </tr>\n",
              "  </thead>\n",
              "  <tbody>\n",
              "    <tr>\n",
              "      <th>Возраст</th>\n",
              "      <td>1.000000</td>\n",
              "      <td>0.902999</td>\n",
              "      <td>-0.269962</td>\n",
              "      <td>0.994667</td>\n",
              "      <td>-0.103639</td>\n",
              "      <td>-0.173547</td>\n",
              "    </tr>\n",
              "    <tr>\n",
              "      <th>Количество иждевенцев</th>\n",
              "      <td>0.902999</td>\n",
              "      <td>1.000000</td>\n",
              "      <td>0.079054</td>\n",
              "      <td>0.871774</td>\n",
              "      <td>0.238271</td>\n",
              "      <td>0.173060</td>\n",
              "    </tr>\n",
              "    <tr>\n",
              "      <th>Доход(руб./мес.)</th>\n",
              "      <td>-0.269962</td>\n",
              "      <td>0.079054</td>\n",
              "      <td>1.000000</td>\n",
              "      <td>-0.346696</td>\n",
              "      <td>0.984918</td>\n",
              "      <td>0.994974</td>\n",
              "    </tr>\n",
              "    <tr>\n",
              "      <th>Срок проживания(лет)</th>\n",
              "      <td>0.994667</td>\n",
              "      <td>0.871774</td>\n",
              "      <td>-0.346696</td>\n",
              "      <td>1.000000</td>\n",
              "      <td>-0.183792</td>\n",
              "      <td>-0.252541</td>\n",
              "    </tr>\n",
              "    <tr>\n",
              "      <th>Оценка автомобиля(USD)</th>\n",
              "      <td>-0.103639</td>\n",
              "      <td>0.238271</td>\n",
              "      <td>0.984918</td>\n",
              "      <td>-0.183792</td>\n",
              "      <td>1.000000</td>\n",
              "      <td>0.996840</td>\n",
              "    </tr>\n",
              "    <tr>\n",
              "      <th>Размер кредита(тыс.руб.)</th>\n",
              "      <td>-0.173547</td>\n",
              "      <td>0.173060</td>\n",
              "      <td>0.994974</td>\n",
              "      <td>-0.252541</td>\n",
              "      <td>0.996840</td>\n",
              "      <td>1.000000</td>\n",
              "    </tr>\n",
              "  </tbody>\n",
              "</table>\n",
              "</div>\n",
              "      <button class=\"colab-df-convert\" onclick=\"convertToInteractive('df-70fd7c45-1387-4e4c-9fe6-fe37d68fac33')\"\n",
              "              title=\"Convert this dataframe to an interactive table.\"\n",
              "              style=\"display:none;\">\n",
              "        \n",
              "  <svg xmlns=\"http://www.w3.org/2000/svg\" height=\"24px\"viewBox=\"0 0 24 24\"\n",
              "       width=\"24px\">\n",
              "    <path d=\"M0 0h24v24H0V0z\" fill=\"none\"/>\n",
              "    <path d=\"M18.56 5.44l.94 2.06.94-2.06 2.06-.94-2.06-.94-.94-2.06-.94 2.06-2.06.94zm-11 1L8.5 8.5l.94-2.06 2.06-.94-2.06-.94L8.5 2.5l-.94 2.06-2.06.94zm10 10l.94 2.06.94-2.06 2.06-.94-2.06-.94-.94-2.06-.94 2.06-2.06.94z\"/><path d=\"M17.41 7.96l-1.37-1.37c-.4-.4-.92-.59-1.43-.59-.52 0-1.04.2-1.43.59L10.3 9.45l-7.72 7.72c-.78.78-.78 2.05 0 2.83L4 21.41c.39.39.9.59 1.41.59.51 0 1.02-.2 1.41-.59l7.78-7.78 2.81-2.81c.8-.78.8-2.07 0-2.86zM5.41 20L4 18.59l7.72-7.72 1.47 1.35L5.41 20z\"/>\n",
              "  </svg>\n",
              "      </button>\n",
              "      \n",
              "  <style>\n",
              "    .colab-df-container {\n",
              "      display:flex;\n",
              "      flex-wrap:wrap;\n",
              "      gap: 12px;\n",
              "    }\n",
              "\n",
              "    .colab-df-convert {\n",
              "      background-color: #E8F0FE;\n",
              "      border: none;\n",
              "      border-radius: 50%;\n",
              "      cursor: pointer;\n",
              "      display: none;\n",
              "      fill: #1967D2;\n",
              "      height: 32px;\n",
              "      padding: 0 0 0 0;\n",
              "      width: 32px;\n",
              "    }\n",
              "\n",
              "    .colab-df-convert:hover {\n",
              "      background-color: #E2EBFA;\n",
              "      box-shadow: 0px 1px 2px rgba(60, 64, 67, 0.3), 0px 1px 3px 1px rgba(60, 64, 67, 0.15);\n",
              "      fill: #174EA6;\n",
              "    }\n",
              "\n",
              "    [theme=dark] .colab-df-convert {\n",
              "      background-color: #3B4455;\n",
              "      fill: #D2E3FC;\n",
              "    }\n",
              "\n",
              "    [theme=dark] .colab-df-convert:hover {\n",
              "      background-color: #434B5C;\n",
              "      box-shadow: 0px 1px 3px 1px rgba(0, 0, 0, 0.15);\n",
              "      filter: drop-shadow(0px 1px 2px rgba(0, 0, 0, 0.3));\n",
              "      fill: #FFFFFF;\n",
              "    }\n",
              "  </style>\n",
              "\n",
              "      <script>\n",
              "        const buttonEl =\n",
              "          document.querySelector('#df-70fd7c45-1387-4e4c-9fe6-fe37d68fac33 button.colab-df-convert');\n",
              "        buttonEl.style.display =\n",
              "          google.colab.kernel.accessAllowed ? 'block' : 'none';\n",
              "\n",
              "        async function convertToInteractive(key) {\n",
              "          const element = document.querySelector('#df-70fd7c45-1387-4e4c-9fe6-fe37d68fac33');\n",
              "          const dataTable =\n",
              "            await google.colab.kernel.invokeFunction('convertToInteractive',\n",
              "                                                     [key], {});\n",
              "          if (!dataTable) return;\n",
              "\n",
              "          const docLinkHtml = 'Like what you see? Visit the ' +\n",
              "            '<a target=\"_blank\" href=https://colab.research.google.com/notebooks/data_table.ipynb>data table notebook</a>'\n",
              "            + ' to learn more about interactive tables.';\n",
              "          element.innerHTML = '';\n",
              "          dataTable['output_type'] = 'display_data';\n",
              "          await google.colab.output.renderOutput(dataTable, element);\n",
              "          const docLink = document.createElement('div');\n",
              "          docLink.innerHTML = docLinkHtml;\n",
              "          element.appendChild(docLink);\n",
              "        }\n",
              "      </script>\n",
              "    </div>\n",
              "  </div>\n",
              "  "
            ]
          },
          "metadata": {},
          "execution_count": 19
        }
      ]
    },
    {
      "cell_type": "markdown",
      "source": [
        "Не трудно заметить, что признаки 'Возраст', 'Количество иждевенцев' и 'Срок проживания' сильно кореллируют между собой, остальные признаки также можно объединить в один. Таким образом, главными факторами являются: $u_1$ - это финансовое положение объекта, а $u_2$ - уровень оседлости."
      ],
      "metadata": {
        "id": "3K9sUkRTxVB1"
      },
      "id": "3K9sUkRTxVB1"
    },
    {
      "cell_type": "markdown",
      "source": [
        "#Метод MDS."
      ],
      "metadata": {
        "id": "gaFCiGfq12g0"
      },
      "id": "gaFCiGfq12g0"
    },
    {
      "cell_type": "markdown",
      "source": [
        "## 10. Матрица расстояний."
      ],
      "metadata": {
        "id": "A4CKiI_8OEQu"
      },
      "id": "A4CKiI_8OEQu"
    },
    {
      "cell_type": "markdown",
      "source": [
        "Будем использовать евклидову метрику."
      ],
      "metadata": {
        "id": "i8jUb7GlRb-J"
      },
      "id": "i8jUb7GlRb-J"
    },
    {
      "cell_type": "markdown",
      "source": [
        "Строим матрицу расстояний $D$."
      ],
      "metadata": {
        "id": "ThrScnm3QkP2"
      },
      "id": "ThrScnm3QkP2"
    },
    {
      "cell_type": "code",
      "source": [
        "X = data.to_numpy()\n",
        "D = distance_matrix(X, X)"
      ],
      "metadata": {
        "id": "Ara5S5SqO4zg"
      },
      "id": "Ara5S5SqO4zg",
      "execution_count": null,
      "outputs": []
    },
    {
      "cell_type": "markdown",
      "source": [
        "## 11. \"Чистый\" MDS."
      ],
      "metadata": {
        "id": "L17uK5N4OJpo"
      },
      "id": "L17uK5N4OJpo"
    },
    {
      "cell_type": "markdown",
      "source": [
        "Строим матрицу $S = -\\frac{1}{2}(E_n - \\frac{J_n}{n})D^2 (E_n - \\frac{J_n}{n})$, где $E_n$ -единичная матрица, а $J_n$ - матрица из единиц.\n"
      ],
      "metadata": {
        "id": "C5Fs3X2rQoQT"
      },
      "id": "C5Fs3X2rQoQT"
    },
    {
      "cell_type": "code",
      "source": [
        "n = D.shape[0]\n",
        "C = np.eye(n) - (np.ones((n, n))/n)\n",
        "S = (-1/2)*np.dot(np.dot(C, np.square(D)), C)"
      ],
      "metadata": {
        "id": "0z1yRocMMkd6"
      },
      "id": "0z1yRocMMkd6",
      "execution_count": null,
      "outputs": []
    },
    {
      "cell_type": "markdown",
      "source": [
        "Находим все собственные значения матрицы $S$."
      ],
      "metadata": {
        "id": "jpYf1NQ_K-qW"
      },
      "id": "jpYf1NQ_K-qW"
    },
    {
      "cell_type": "code",
      "source": [
        "eig_values = np.around(np.linalg.eigvalsh(S), 14)[::-1]\n",
        "print(eig_values)"
      ],
      "metadata": {
        "id": "Zi8dEBNH8RD_",
        "colab": {
          "base_uri": "https://localhost:8080/"
        },
        "outputId": "26d2c955-6f20-4d5f-811b-92a6fed29c54"
      },
      "id": "Zi8dEBNH8RD_",
      "execution_count": null,
      "outputs": [
        {
          "output_type": "stream",
          "name": "stdout",
          "text": [
            "[ 3.27993252e+00  2.66939611e+00  4.75908352e-02  2.07478150e-03\n",
            "  8.73891392e-04  1.31859338e-04  0.00000000e+00  0.00000000e+00\n",
            "  0.00000000e+00  0.00000000e+00  0.00000000e+00  0.00000000e+00\n",
            "  0.00000000e+00  0.00000000e+00  0.00000000e+00  0.00000000e+00\n",
            "  0.00000000e+00  0.00000000e+00  0.00000000e+00  0.00000000e+00\n",
            "  0.00000000e+00  0.00000000e+00  0.00000000e+00 -0.00000000e+00\n",
            " -0.00000000e+00 -0.00000000e+00 -0.00000000e+00 -0.00000000e+00\n",
            " -0.00000000e+00 -0.00000000e+00 -0.00000000e+00 -0.00000000e+00\n",
            " -0.00000000e+00 -0.00000000e+00 -0.00000000e+00 -0.00000000e+00\n",
            " -0.00000000e+00 -0.00000000e+00 -0.00000000e+00 -0.00000000e+00]\n"
          ]
        }
      ]
    },
    {
      "cell_type": "markdown",
      "source": [
        "В данной матрице только 6 ненулевых значений, кроме того, они неотрицательны\n"
      ],
      "metadata": {
        "id": "HCIIVwP-uxrE"
      },
      "id": "HCIIVwP-uxrE"
    },
    {
      "cell_type": "code",
      "source": [
        "np.all(np.around(np.linalg.eigvalsh(S), 14)[::-1] >= 0)"
      ],
      "metadata": {
        "colab": {
          "base_uri": "https://localhost:8080/"
        },
        "id": "DX5mp4HlW9_o",
        "outputId": "8e9356ba-c8b4-41c5-b93d-c6c249fb6d58"
      },
      "id": "DX5mp4HlW9_o",
      "execution_count": null,
      "outputs": [
        {
          "output_type": "execute_result",
          "data": {
            "text/plain": [
              "True"
            ]
          },
          "metadata": {},
          "execution_count": 23
        }
      ]
    },
    {
      "cell_type": "markdown",
      "source": [
        "Поэтому можно сказать, что вложить клиентов банка в пространство меньшей размерности нельзя."
      ],
      "metadata": {
        "id": "au5IMkRb9ODv"
      },
      "id": "au5IMkRb9ODv"
    },
    {
      "cell_type": "markdown",
      "source": [
        "## 12. MDS с ошибкой."
      ],
      "metadata": {
        "id": "x99SXDlnOVoM"
      },
      "id": "x99SXDlnOVoM"
    },
    {
      "cell_type": "markdown",
      "source": [
        "Воспользуемся реализованным алгоритмом MDS. Сначал найдём размерность с наименьшим значением \"стресса\"."
      ],
      "metadata": {
        "id": "hWd7LnWsLXP3"
      },
      "id": "hWd7LnWsLXP3"
    },
    {
      "cell_type": "code",
      "source": [
        "stress = []\n",
        "for dim in range(2, 7):\n",
        "    mds = MDS(n_components=dim, dissimilarity='precomputed', random_state=554, max_iter=1000)\n",
        "    pts = mds.fit_transform(D)\n",
        "    stress.append(mds.stress_)\n",
        "\n",
        "plt.plot(range(2, 7), stress)\n",
        "plt.xticks(range(2, 7, 2))\n",
        "plt.xlabel('dim')\n",
        "plt.ylabel('stress')\n",
        "plt.show()"
      ],
      "metadata": {
        "colab": {
          "base_uri": "https://localhost:8080/",
          "height": 279
        },
        "id": "RK-P4TTIqJ9v",
        "outputId": "b7edb4b5-9d73-4e8e-fde6-0d291cf5cc80"
      },
      "id": "RK-P4TTIqJ9v",
      "execution_count": null,
      "outputs": [
        {
          "output_type": "display_data",
          "data": {
            "text/plain": [
              "<Figure size 432x288 with 1 Axes>"
            ],
            "image/png": "[encoded data removed]"
          },
          "metadata": {
            "needs_background": "light"
          }
        }
      ]
    },
    {
      "cell_type": "markdown",
      "source": [
        "Видно, что лучше всего подходит размерность 2. А для размерности 1 \"стресс\" на несколько порядков больше."
      ],
      "metadata": {
        "id": "xxpw-ngjLp02"
      },
      "id": "xxpw-ngjLp02"
    },
    {
      "cell_type": "code",
      "source": [
        "mds = MDS(n_components=1, dissimilarity='precomputed', random_state=554, max_iter=1000)\n",
        "pts = mds.fit_transform(D)\n",
        "mds.stress_"
      ],
      "metadata": {
        "colab": {
          "base_uri": "https://localhost:8080/"
        },
        "id": "c1FPqin8LzXH",
        "outputId": "db9a2f60-69b7-4602-f6b7-760a7d04a205"
      },
      "id": "c1FPqin8LzXH",
      "execution_count": null,
      "outputs": [
        {
          "output_type": "execute_result",
          "data": {
            "text/plain": [
              "57.03501381938833"
            ]
          },
          "metadata": {},
          "execution_count": 25
        }
      ]
    },
    {
      "cell_type": "markdown",
      "source": [
        "Ещё раз обучим MDS для размерности 2."
      ],
      "metadata": {
        "id": "p3D2f3NtMBoV"
      },
      "id": "p3D2f3NtMBoV"
    },
    {
      "cell_type": "code",
      "source": [
        "mds = MDS(n_components=2, dissimilarity='precomputed', random_state=554, max_iter=1000)\n",
        "pts = mds.fit_transform(D)"
      ],
      "metadata": {
        "id": "NR7FPX8xL7il"
      },
      "id": "NR7FPX8xL7il",
      "execution_count": null,
      "outputs": []
    },
    {
      "cell_type": "markdown",
      "source": [
        "Построим новую карту клиентов."
      ],
      "metadata": {
        "id": "lho_L9o5NDib"
      },
      "id": "lho_L9o5NDib"
    },
    {
      "cell_type": "code",
      "source": [
        "plt.figure(figsize=(10, 10))\n",
        "sns.scatterplot(x=pts[:, 1], y=(-1)*pts[:, 0])\n",
        "plt.show()"
      ],
      "metadata": {
        "colab": {
          "base_uri": "https://localhost:8080/",
          "height": 592
        },
        "id": "nfoWKRioMHjr",
        "outputId": "7d7cd3e8-b2b1-4727-9d1f-164486840645"
      },
      "id": "nfoWKRioMHjr",
      "execution_count": null,
      "outputs": [
        {
          "output_type": "display_data",
          "data": {
            "text/plain": [
              "<Figure size 720x720 with 1 Axes>"
            ],
            "image/png": "[encoded data removed]"
          },
          "metadata": {
            "needs_background": "light"
          }
        }
      ]
    },
    {
      "cell_type": "markdown",
      "source": [
        "С помощью метода пристального взгляда можно заметить, что она незначительно отличается от карты построенной с помощью PCA."
      ],
      "metadata": {
        "id": "YEdoyWgxNgc9"
      },
      "id": "YEdoyWgxNgc9"
    },
    {
      "cell_type": "code",
      "source": [
        "%%shell\n",
        "jupyter nbconvert --to html /content/Копия_блокнота__Homework1_ipynb_.ipynb"
      ],
      "metadata": {
        "colab": {
          "base_uri": "https://localhost:8080/"
        },
        "id": "7KytfDtAkGms",
        "outputId": "b590ba7a-28f5-4117-e4fb-24b679b7ca0b"
      },
      "id": "7KytfDtAkGms",
      "execution_count": null,
      "outputs": [
        {
          "output_type": "stream",
          "name": "stdout",
          "text": [
            "[NbConvertApp] Converting notebook /content/Копия_блокнота__Homework1_ipynb_.ipynb to html\n",
            "[NbConvertApp] Writing 450276 bytes to /content/Копия_блокнота__Homework1_ipynb_.html\n"
          ]
        },
        {
          "output_type": "execute_result",
          "data": {
            "text/plain": []
          },
          "metadata": {},
          "execution_count": 29
        }
      ]
    }
  ],
  "metadata": {
    "kernelspec": {
      "display_name": "Python 3 (ipykernel)",
      "language": "python",
      "name": "python3"
    },
    "language_info": {
      "codemirror_mode": {
        "name": "ipython",
        "version": 3
      },
      "file_extension": ".py",
      "mimetype": "text/x-python",
      "name": "python",
      "nbconvert_exporter": "python",
      "pygments_lexer": "ipython3",
      "version": "3.9.11"
    },
    "colab": {
      "provenance": []
    }
  },
  "nbformat": 4,
  "nbformat_minor": 5
}