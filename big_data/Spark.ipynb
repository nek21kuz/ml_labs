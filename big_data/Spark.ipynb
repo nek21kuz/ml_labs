{
  "cells": [
    {
      "cell_type": "markdown",
      "source": [
        "# Подключаем Spark"
      ],
      "metadata": {
        "id": "qrZ_j_5CIcNX"
      }
    },
    {
      "cell_type": "code",
      "execution_count": null,
      "metadata": {
        "id": "FMXbZLVauK9u"
      },
      "outputs": [],
      "source": [
        "!apt-get install openjdk-8-jdk-headless -qq > /dev/null\n",
        "!wget -q https://archive.apache.org/dist/spark/spark-3.0.0/spark-3.0.0-bin-hadoop3.2.tgz\n",
        "!tar xf spark-3.0.0-bin-hadoop3.2.tgz"
      ]
    },
    {
      "cell_type": "code",
      "execution_count": null,
      "metadata": {
        "id": "2SNWn0lew39O"
      },
      "outputs": [],
      "source": [
        "import os\n",
        "os.environ[\"JAVA_HOME\"] = \"/usr/lib/jvm/java-8-openjdk-amd64\"\n",
        "os.environ[\"SPARK_HOME\"] = \"/content/spark-3.0.0-bin-hadoop3.2\""
      ]
    },
    {
      "cell_type": "code",
      "execution_count": null,
      "metadata": {
        "id": "eISU44E8ua1L",
        "colab": {
          "base_uri": "https://localhost:8080/"
        },
        "outputId": "1422a9cd-59a2-4552-f760-5dbe04d060c2"
      },
      "outputs": [
        {
          "output_type": "stream",
          "name": "stdout",
          "text": [
            "Looking in indexes: https://pypi.org/simple, https://us-python.pkg.dev/colab-wheels/public/simple/\n",
            "Requirement already satisfied: findspark in /usr/local/lib/python3.9/dist-packages (2.0.1)\n"
          ]
        }
      ],
      "source": [
        "!pip install findspark\n",
        "import findspark\n",
        "findspark.init()"
      ]
    },
    {
      "cell_type": "code",
      "execution_count": null,
      "metadata": {
        "id": "Hsl9vIgFxD0C"
      },
      "outputs": [],
      "source": [
        "from pyspark.sql import SparkSession\n",
        "from pyspark.sql.types import StructType,StructField, StringType, IntegerType, DoubleType\n",
        "spark = SparkSession.builder.master(\"local[*]\").getOrCreate()"
      ]
    },
    {
      "cell_type": "code",
      "execution_count": null,
      "metadata": {
        "id": "_IZlb5NDJ4bT",
        "colab": {
          "base_uri": "https://localhost:8080/"
        },
        "outputId": "f9d1aec4-75a3-46b1-d883-409aa332f5f2"
      },
      "outputs": [
        {
          "output_type": "stream",
          "name": "stdout",
          "text": [
            "Drive already mounted at /content/drive; to attempt to forcibly remount, call drive.mount(\"/content/drive\", force_remount=True).\n"
          ]
        }
      ],
      "source": [
        "from google.colab import drive\n",
        "drive.mount('/content/drive')"
      ]
    },
    {
      "cell_type": "markdown",
      "source": [
        "# Загружаем датасет"
      ],
      "metadata": {
        "id": "pEIzqzeAImVu"
      }
    },
    {
      "cell_type": "code",
      "source": [
        "schema = StructType([\n",
        "    StructField('age',IntegerType(),True),\n",
        "    StructField('workclass',StringType(),True),\n",
        "    StructField('fnlwgt',DoubleType(),True),\n",
        "    StructField('education', StringType(), True),\n",
        "    StructField('education-num', DoubleType(), True),\n",
        "    StructField('marital-status', StringType(), True),\n",
        "    StructField('occupation',StringType(),True),\n",
        "    StructField('relationship',StringType(),True),\n",
        "    StructField('race',StringType(),True),\n",
        "    StructField('sex', StringType(), True),\n",
        "    StructField('capital-gain', DoubleType(), True),\n",
        "    StructField('capital-loss', DoubleType(), True),\n",
        "    StructField('hours-per-week', DoubleType(), True),\n",
        "    StructField('native-country', StringType(), True),\n",
        "    StructField('50k', StringType(), True)\n",
        "  ])"
      ],
      "metadata": {
        "id": "T3YEj69QN5_Z"
      },
      "execution_count": null,
      "outputs": []
    },
    {
      "cell_type": "code",
      "execution_count": null,
      "metadata": {
        "id": "XhoXgXjOJ5hv"
      },
      "outputs": [],
      "source": [
        "train = spark.read.format(\"csv\") \\\n",
        "      .option('delimiter', ', ') \\\n",
        "      .option(\"header\", False) \\\n",
        "      .schema(schema) \\\n",
        "      .load('/content/drive/MyDrive/Colab/adult.data')\n",
        "\n",
        "test = spark.read.format(\"csv\") \\\n",
        "      .option('delimiter', ', ') \\\n",
        "      .option(\"header\", False) \\\n",
        "      .schema(schema) \\\n",
        "      .load('/content/drive/MyDrive/Colab/adult.test')\n"
      ]
    },
    {
      "cell_type": "code",
      "source": [
        "test.show(5)"
      ],
      "metadata": {
        "id": "B6jWz9us9gAT",
        "colab": {
          "base_uri": "https://localhost:8080/"
        },
        "outputId": "0437c722-4e84-458b-bc88-27317d64f3bd"
      },
      "execution_count": null,
      "outputs": [
        {
          "output_type": "stream",
          "name": "stdout",
          "text": [
            "+----+---------+--------+------------+-------------+------------------+-----------------+------------+-----+----+------------+------------+--------------+--------------+------+\n",
            "| age|workclass|  fnlwgt|   education|education-num|    marital-status|       occupation|relationship| race| sex|capital-gain|capital-loss|hours-per-week|native-country|   50k|\n",
            "+----+---------+--------+------------+-------------+------------------+-----------------+------------+-----+----+------------+------------+--------------+--------------+------+\n",
            "|null|     null|    null|        null|         null|              null|             null|        null| null|null|        null|        null|          null|          null|  null|\n",
            "|  25|  Private|226802.0|        11th|          7.0|     Never-married|Machine-op-inspct|   Own-child|Black|Male|         0.0|         0.0|          40.0| United-States|<=50K.|\n",
            "|  38|  Private| 89814.0|     HS-grad|          9.0|Married-civ-spouse|  Farming-fishing|     Husband|White|Male|         0.0|         0.0|          50.0| United-States|<=50K.|\n",
            "|  28|Local-gov|336951.0|  Assoc-acdm|         12.0|Married-civ-spouse|  Protective-serv|     Husband|White|Male|         0.0|         0.0|          40.0| United-States| >50K.|\n",
            "|  44|  Private|160323.0|Some-college|         10.0|Married-civ-spouse|Machine-op-inspct|     Husband|Black|Male|      7688.0|         0.0|          40.0| United-States| >50K.|\n",
            "+----+---------+--------+------------+-------------+------------------+-----------------+------------+-----+----+------------+------------+--------------+--------------+------+\n",
            "only showing top 5 rows\n",
            "\n"
          ]
        }
      ]
    },
    {
      "cell_type": "code",
      "source": [
        "import pyspark.sql.functions as F\n",
        "#test.select(F.translate('50k', '>50K. ', '>50K ').alias('50k'))\n",
        "test = test.withColumn('50k', F.regexp_replace('50k', '>50K.', '>50K'))\n",
        "test = test.withColumn('50k', F.regexp_replace('50k', '<=50K.', '<=50K'))"
      ],
      "metadata": {
        "id": "p1wPu3Xc8B_F"
      },
      "execution_count": null,
      "outputs": []
    },
    {
      "cell_type": "code",
      "source": [
        "from pyspark.sql.functions import col\n",
        "test.show(5)"
      ],
      "metadata": {
        "id": "ktVlF21B9xrE",
        "colab": {
          "base_uri": "https://localhost:8080/"
        },
        "outputId": "fb16e46d-d0eb-4ad2-fd22-f0d6525d8dd0"
      },
      "execution_count": null,
      "outputs": [
        {
          "output_type": "stream",
          "name": "stdout",
          "text": [
            "+----+---------+--------+------------+-------------+------------------+-----------------+------------+-----+----+------------+------------+--------------+--------------+-----+\n",
            "| age|workclass|  fnlwgt|   education|education-num|    marital-status|       occupation|relationship| race| sex|capital-gain|capital-loss|hours-per-week|native-country|  50k|\n",
            "+----+---------+--------+------------+-------------+------------------+-----------------+------------+-----+----+------------+------------+--------------+--------------+-----+\n",
            "|null|     null|    null|        null|         null|              null|             null|        null| null|null|        null|        null|          null|          null| null|\n",
            "|  25|  Private|226802.0|        11th|          7.0|     Never-married|Machine-op-inspct|   Own-child|Black|Male|         0.0|         0.0|          40.0| United-States|<=50K|\n",
            "|  38|  Private| 89814.0|     HS-grad|          9.0|Married-civ-spouse|  Farming-fishing|     Husband|White|Male|         0.0|         0.0|          50.0| United-States|<=50K|\n",
            "|  28|Local-gov|336951.0|  Assoc-acdm|         12.0|Married-civ-spouse|  Protective-serv|     Husband|White|Male|         0.0|         0.0|          40.0| United-States| >50K|\n",
            "|  44|  Private|160323.0|Some-college|         10.0|Married-civ-spouse|Machine-op-inspct|     Husband|Black|Male|      7688.0|         0.0|          40.0| United-States| >50K|\n",
            "+----+---------+--------+------------+-------------+------------------+-----------------+------------+-----+----+------------+------------+--------------+--------------+-----+\n",
            "only showing top 5 rows\n",
            "\n"
          ]
        }
      ]
    },
    {
      "cell_type": "code",
      "source": [
        "data = train.union(test)"
      ],
      "metadata": {
        "id": "USBETOR044W6"
      },
      "execution_count": null,
      "outputs": []
    },
    {
      "cell_type": "code",
      "source": [
        "data.count(), len(data.columns)"
      ],
      "metadata": {
        "id": "CNZ2eJs7O3OW",
        "colab": {
          "base_uri": "https://localhost:8080/"
        },
        "outputId": "09fb857e-e6ba-4973-9e90-ad38aaf876c4"
      },
      "execution_count": null,
      "outputs": [
        {
          "output_type": "execute_result",
          "data": {
            "text/plain": [
              "(48843, 15)"
            ]
          },
          "metadata": {},
          "execution_count": 12
        }
      ]
    },
    {
      "cell_type": "code",
      "source": [
        "data.printSchema()"
      ],
      "metadata": {
        "id": "p-yxGlqKQoAl",
        "colab": {
          "base_uri": "https://localhost:8080/"
        },
        "outputId": "d5f43e79-b712-4caa-ba1e-e42e718bcf4b"
      },
      "execution_count": null,
      "outputs": [
        {
          "output_type": "stream",
          "name": "stdout",
          "text": [
            "root\n",
            " |-- age: integer (nullable = true)\n",
            " |-- workclass: string (nullable = true)\n",
            " |-- fnlwgt: double (nullable = true)\n",
            " |-- education: string (nullable = true)\n",
            " |-- education-num: double (nullable = true)\n",
            " |-- marital-status: string (nullable = true)\n",
            " |-- occupation: string (nullable = true)\n",
            " |-- relationship: string (nullable = true)\n",
            " |-- race: string (nullable = true)\n",
            " |-- sex: string (nullable = true)\n",
            " |-- capital-gain: double (nullable = true)\n",
            " |-- capital-loss: double (nullable = true)\n",
            " |-- hours-per-week: double (nullable = true)\n",
            " |-- native-country: string (nullable = true)\n",
            " |-- 50k: string (nullable = true)\n",
            "\n"
          ]
        }
      ]
    },
    {
      "cell_type": "markdown",
      "source": [
        "# Предобработка данных"
      ],
      "metadata": {
        "id": "82yn5wdfI1TM"
      }
    },
    {
      "cell_type": "markdown",
      "source": [
        "## Удаление пропусков"
      ],
      "metadata": {
        "id": "NDyqFFyqJIoO"
      }
    },
    {
      "cell_type": "code",
      "source": [
        "data.describe().show()"
      ],
      "metadata": {
        "id": "IINMwDTKRcYL",
        "colab": {
          "base_uri": "https://localhost:8080/"
        },
        "outputId": "b16985e3-b3a4-4ea9-a58c-0f1bb6767db6"
      },
      "execution_count": null,
      "outputs": [
        {
          "output_type": "stream",
          "name": "stdout",
          "text": [
            "+-------+------------------+-----------+------------------+------------+------------------+--------------+----------------+------------+------------------+------+------------------+-----------------+------------------+--------------+-----+\n",
            "|summary|               age|  workclass|            fnlwgt|   education|     education-num|marital-status|      occupation|relationship|              race|   sex|      capital-gain|     capital-loss|    hours-per-week|native-country|  50k|\n",
            "+-------+------------------+-----------+------------------+------------+------------------+--------------+----------------+------------+------------------+------+------------------+-----------------+------------------+--------------+-----+\n",
            "|  count|             48842|      48842|             48842|       48842|             48842|         48842|           48842|       48842|             48842| 48842|             48842|            48842|             48842|         48842|48842|\n",
            "|   mean| 38.64358543876172|       null|189664.13459727284|        null|10.078088530363212|          null|            null|        null|              null|  null|1079.0676262233324|87.50231358257237|40.422382375824085|          null| null|\n",
            "| stddev|13.710509934443563|       null|105604.02542315733|        null| 2.570972755592263|          null|            null|        null|              null|  null| 7452.019057655401|403.0045521243599|  12.3914440242523|          null| null|\n",
            "|    min|                17|          ?|           12285.0|        10th|               1.0|      Divorced|               ?|     Husband|Amer-Indian-Eskimo|Female|               0.0|              0.0|               1.0|             ?|<=50K|\n",
            "|    max|                90|Without-pay|         1490400.0|Some-college|              16.0|       Widowed|Transport-moving|        Wife|             White|  Male|           99999.0|           4356.0|              99.0|    Yugoslavia| >50K|\n",
            "+-------+------------------+-----------+------------------+------------+------------------+--------------+----------------+------------+------------------+------+------------------+-----------------+------------------+--------------+-----+\n",
            "\n"
          ]
        }
      ]
    },
    {
      "cell_type": "code",
      "source": [
        "data.filter(data.workclass == '?').show(5)"
      ],
      "metadata": {
        "id": "lO-fv3dv5Q72",
        "colab": {
          "base_uri": "https://localhost:8080/"
        },
        "outputId": "4464f07e-7a2b-4ac8-c9d1-99d2055fb561"
      },
      "execution_count": null,
      "outputs": [
        {
          "output_type": "stream",
          "name": "stdout",
          "text": [
            "+---+---------+--------+------------+-------------+--------------------+----------+-------------+------------------+------+------------+------------+--------------+--------------+-----+\n",
            "|age|workclass|  fnlwgt|   education|education-num|      marital-status|occupation| relationship|              race|   sex|capital-gain|capital-loss|hours-per-week|native-country|  50k|\n",
            "+---+---------+--------+------------+-------------+--------------------+----------+-------------+------------------+------+------------+------------+--------------+--------------+-----+\n",
            "| 54|        ?|180211.0|Some-college|         10.0|  Married-civ-spouse|         ?|      Husband|Asian-Pac-Islander|  Male|         0.0|         0.0|          60.0|         South| >50K|\n",
            "| 32|        ?|293936.0|     7th-8th|          4.0|Married-spouse-ab...|         ?|Not-in-family|             White|  Male|         0.0|         0.0|          40.0|             ?|<=50K|\n",
            "| 25|        ?|200681.0|Some-college|         10.0|       Never-married|         ?|    Own-child|             White|  Male|         0.0|         0.0|          40.0| United-States|<=50K|\n",
            "| 67|        ?|212759.0|        10th|          6.0|  Married-civ-spouse|         ?|      Husband|             White|  Male|         0.0|         0.0|           2.0| United-States|<=50K|\n",
            "| 17|        ?|304873.0|        10th|          6.0|       Never-married|         ?|    Own-child|             White|Female|     34095.0|         0.0|          32.0| United-States|<=50K|\n",
            "+---+---------+--------+------------+-------------+--------------------+----------+-------------+------------------+------+------------+------------+--------------+--------------+-----+\n",
            "only showing top 5 rows\n",
            "\n"
          ]
        }
      ]
    },
    {
      "cell_type": "code",
      "source": [
        "data.filter(data.workclass == '?').show(5)"
      ],
      "metadata": {
        "id": "dwOxE2ergiwK",
        "colab": {
          "base_uri": "https://localhost:8080/"
        },
        "outputId": "e4f88f1d-5e43-48a9-e98b-77b7e0d28390"
      },
      "execution_count": null,
      "outputs": [
        {
          "output_type": "stream",
          "name": "stdout",
          "text": [
            "+---+---------+--------+------------+-------------+--------------------+----------+-------------+------------------+------+------------+------------+--------------+--------------+-----+\n",
            "|age|workclass|  fnlwgt|   education|education-num|      marital-status|occupation| relationship|              race|   sex|capital-gain|capital-loss|hours-per-week|native-country|  50k|\n",
            "+---+---------+--------+------------+-------------+--------------------+----------+-------------+------------------+------+------------+------------+--------------+--------------+-----+\n",
            "| 54|        ?|180211.0|Some-college|         10.0|  Married-civ-spouse|         ?|      Husband|Asian-Pac-Islander|  Male|         0.0|         0.0|          60.0|         South| >50K|\n",
            "| 32|        ?|293936.0|     7th-8th|          4.0|Married-spouse-ab...|         ?|Not-in-family|             White|  Male|         0.0|         0.0|          40.0|             ?|<=50K|\n",
            "| 25|        ?|200681.0|Some-college|         10.0|       Never-married|         ?|    Own-child|             White|  Male|         0.0|         0.0|          40.0| United-States|<=50K|\n",
            "| 67|        ?|212759.0|        10th|          6.0|  Married-civ-spouse|         ?|      Husband|             White|  Male|         0.0|         0.0|           2.0| United-States|<=50K|\n",
            "| 17|        ?|304873.0|        10th|          6.0|       Never-married|         ?|    Own-child|             White|Female|     34095.0|         0.0|          32.0| United-States|<=50K|\n",
            "+---+---------+--------+------------+-------------+--------------------+----------+-------------+------------------+------+------------+------------+--------------+--------------+-----+\n",
            "only showing top 5 rows\n",
            "\n"
          ]
        }
      ]
    },
    {
      "cell_type": "code",
      "source": [
        "from pyspark.sql.functions import col\n",
        "data_without_misses = data.filter(col(\"workclass\") != '?').filter(col(\"occupation\") != '?').filter(col(\"native-country\") != '?')"
      ],
      "metadata": {
        "id": "9FLuirRkl_6p"
      },
      "execution_count": null,
      "outputs": []
    },
    {
      "cell_type": "code",
      "source": [
        "data_without_misses.show(5)"
      ],
      "metadata": {
        "id": "lpG0VEz8po0_",
        "colab": {
          "base_uri": "https://localhost:8080/"
        },
        "outputId": "29eccbf9-0e9c-4c17-9948-89134c36a79f"
      },
      "execution_count": null,
      "outputs": [
        {
          "output_type": "stream",
          "name": "stdout",
          "text": [
            "+---+----------------+--------+---------+-------------+------------------+-----------------+-------------+-----+------+------------+------------+--------------+--------------+-----+\n",
            "|age|       workclass|  fnlwgt|education|education-num|    marital-status|       occupation| relationship| race|   sex|capital-gain|capital-loss|hours-per-week|native-country|  50k|\n",
            "+---+----------------+--------+---------+-------------+------------------+-----------------+-------------+-----+------+------------+------------+--------------+--------------+-----+\n",
            "| 39|       State-gov| 77516.0|Bachelors|         13.0|     Never-married|     Adm-clerical|Not-in-family|White|  Male|      2174.0|         0.0|          40.0| United-States|<=50K|\n",
            "| 50|Self-emp-not-inc| 83311.0|Bachelors|         13.0|Married-civ-spouse|  Exec-managerial|      Husband|White|  Male|         0.0|         0.0|          13.0| United-States|<=50K|\n",
            "| 38|         Private|215646.0|  HS-grad|          9.0|          Divorced|Handlers-cleaners|Not-in-family|White|  Male|         0.0|         0.0|          40.0| United-States|<=50K|\n",
            "| 53|         Private|234721.0|     11th|          7.0|Married-civ-spouse|Handlers-cleaners|      Husband|Black|  Male|         0.0|         0.0|          40.0| United-States|<=50K|\n",
            "| 28|         Private|338409.0|Bachelors|         13.0|Married-civ-spouse|   Prof-specialty|         Wife|Black|Female|         0.0|         0.0|          40.0|          Cuba|<=50K|\n",
            "+---+----------------+--------+---------+-------------+------------------+-----------------+-------------+-----+------+------------+------------+--------------+--------------+-----+\n",
            "only showing top 5 rows\n",
            "\n"
          ]
        }
      ]
    },
    {
      "cell_type": "code",
      "source": [
        "data_without_misses.count(), len(data_without_misses.columns)"
      ],
      "metadata": {
        "id": "VSGZDRIzpzS4",
        "colab": {
          "base_uri": "https://localhost:8080/"
        },
        "outputId": "8e65e943-55a3-4a41-8a52-6b2bcf2d4a37"
      },
      "execution_count": null,
      "outputs": [
        {
          "output_type": "execute_result",
          "data": {
            "text/plain": [
              "(45222, 15)"
            ]
          },
          "metadata": {},
          "execution_count": 19
        }
      ]
    },
    {
      "cell_type": "markdown",
      "source": [
        "## Удаление дубликатов"
      ],
      "metadata": {
        "id": "qcGR_DOkJNQk"
      }
    },
    {
      "cell_type": "code",
      "source": [
        "df2 = data_without_misses.dropDuplicates()\n",
        "df2.show(5, truncate=False)\n",
        "print(str(df2.count()))"
      ],
      "metadata": {
        "id": "M4pNVrmVuyTY",
        "colab": {
          "base_uri": "https://localhost:8080/"
        },
        "outputId": "4515d4f8-988a-41aa-e143-058263897938"
      },
      "execution_count": null,
      "outputs": [
        {
          "output_type": "stream",
          "name": "stdout",
          "text": [
            "+---+---------+--------+------------+-------------+------------------+-----------------+-------------+------------------+------+------------+------------+--------------+--------------+-----+\n",
            "|age|workclass|fnlwgt  |education   |education-num|marital-status    |occupation       |relationship |race              |sex   |capital-gain|capital-loss|hours-per-week|native-country|50k  |\n",
            "+---+---------+--------+------------+-------------+------------------+-----------------+-------------+------------------+------+------------+------------+--------------+--------------+-----+\n",
            "|30 |Private  |194901.0|11th        |7.0          |Never-married     |Handlers-cleaners|Own-child    |White             |Male  |0.0         |0.0         |40.0          |United-States |<=50K|\n",
            "|19 |Private  |316868.0|Some-college|10.0         |Never-married     |Other-service    |Own-child    |White             |Male  |0.0         |0.0         |30.0          |Mexico        |<=50K|\n",
            "|52 |Private  |190762.0|1st-4th     |2.0          |Married-civ-spouse|Machine-op-inspct|Husband      |White             |Male  |0.0         |0.0         |40.0          |Mexico        |<=50K|\n",
            "|25 |Private  |267044.0|Some-college|10.0         |Never-married     |Adm-clerical     |Not-in-family|Amer-Indian-Eskimo|Female|0.0         |0.0         |20.0          |United-States |<=50K|\n",
            "|65 |Private  |109351.0|9th         |5.0          |Widowed           |Priv-house-serv  |Unmarried    |Black             |Female|0.0         |0.0         |24.0          |United-States |<=50K|\n",
            "+---+---------+--------+------------+-------------+------------------+-----------------+-------------+------------------+------+------------+------------+--------------+--------------+-----+\n",
            "only showing top 5 rows\n",
            "\n",
            "45175\n"
          ]
        }
      ]
    },
    {
      "cell_type": "code",
      "source": [
        "df = df2.toPandas()"
      ],
      "metadata": {
        "id": "t3BP6-dWMsSq"
      },
      "execution_count": null,
      "outputs": []
    },
    {
      "cell_type": "markdown",
      "source": [
        "## Обработка неинформативных признаков\n"
      ],
      "metadata": {
        "id": "ikpjELnuMV8U"
      }
    },
    {
      "cell_type": "code",
      "source": [
        "df.describe().transpose()"
      ],
      "metadata": {
        "colab": {
          "base_uri": "https://localhost:8080/",
          "height": 237
        },
        "id": "v5X4BMfo1JqN",
        "outputId": "070df69d-7177-4ade-9430-caf9dac138c9"
      },
      "execution_count": null,
      "outputs": [
        {
          "output_type": "execute_result",
          "data": {
            "text/plain": [
              "                  count           mean            std      min       25%  \\\n",
              "age             45175.0      38.556170      13.215349     17.0      28.0   \n",
              "fnlwgt          45175.0  189738.798450  105652.436515  13492.0  117392.5   \n",
              "education-num   45175.0      10.119314       2.551740      1.0       9.0   \n",
              "capital-gain    45175.0    1102.576270    7510.249876      0.0       0.0   \n",
              "capital-loss    45175.0      88.687593     405.156611      0.0       0.0   \n",
              "hours-per-week  45175.0      40.942512      12.007730      1.0      40.0   \n",
              "\n",
              "                     50%       75%        max  \n",
              "age                 37.0      47.0       90.0  \n",
              "fnlwgt          178312.0  237903.0  1490400.0  \n",
              "education-num       10.0      13.0       16.0  \n",
              "capital-gain         0.0       0.0    99999.0  \n",
              "capital-loss         0.0       0.0     4356.0  \n",
              "hours-per-week      40.0      45.0       99.0  "
            ],
            "text/html": [
              "\n",
              "  <div id=\"df-b3534b2e-8864-44ef-be75-0f34266348c4\">\n",
              "    <div class=\"colab-df-container\">\n",
              "      <div>\n",
              "<style scoped>\n",
              "    .dataframe tbody tr th:only-of-type {\n",
              "        vertical-align: middle;\n",
              "    }\n",
              "\n",
              "    .dataframe tbody tr th {\n",
              "        vertical-align: top;\n",
              "    }\n",
              "\n",
              "    .dataframe thead th {\n",
              "        text-align: right;\n",
              "    }\n",
              "</style>\n",
              "<table border=\"1\" class=\"dataframe\">\n",
              "  <thead>\n",
              "    <tr style=\"text-align: right;\">\n",
              "      <th></th>\n",
              "      <th>count</th>\n",
              "      <th>mean</th>\n",
              "      <th>std</th>\n",
              "      <th>min</th>\n",
              "      <th>25%</th>\n",
              "      <th>50%</th>\n",
              "      <th>75%</th>\n",
              "      <th>max</th>\n",
              "    </tr>\n",
              "  </thead>\n",
              "  <tbody>\n",
              "    <tr>\n",
              "      <th>age</th>\n",
              "      <td>45175.0</td>\n",
              "      <td>38.556170</td>\n",
              "      <td>13.215349</td>\n",
              "      <td>17.0</td>\n",
              "      <td>28.0</td>\n",
              "      <td>37.0</td>\n",
              "      <td>47.0</td>\n",
              "      <td>90.0</td>\n",
              "    </tr>\n",
              "    <tr>\n",
              "      <th>fnlwgt</th>\n",
              "      <td>45175.0</td>\n",
              "      <td>189738.798450</td>\n",
              "      <td>105652.436515</td>\n",
              "      <td>13492.0</td>\n",
              "      <td>117392.5</td>\n",
              "      <td>178312.0</td>\n",
              "      <td>237903.0</td>\n",
              "      <td>1490400.0</td>\n",
              "    </tr>\n",
              "    <tr>\n",
              "      <th>education-num</th>\n",
              "      <td>45175.0</td>\n",
              "      <td>10.119314</td>\n",
              "      <td>2.551740</td>\n",
              "      <td>1.0</td>\n",
              "      <td>9.0</td>\n",
              "      <td>10.0</td>\n",
              "      <td>13.0</td>\n",
              "      <td>16.0</td>\n",
              "    </tr>\n",
              "    <tr>\n",
              "      <th>capital-gain</th>\n",
              "      <td>45175.0</td>\n",
              "      <td>1102.576270</td>\n",
              "      <td>7510.249876</td>\n",
              "      <td>0.0</td>\n",
              "      <td>0.0</td>\n",
              "      <td>0.0</td>\n",
              "      <td>0.0</td>\n",
              "      <td>99999.0</td>\n",
              "    </tr>\n",
              "    <tr>\n",
              "      <th>capital-loss</th>\n",
              "      <td>45175.0</td>\n",
              "      <td>88.687593</td>\n",
              "      <td>405.156611</td>\n",
              "      <td>0.0</td>\n",
              "      <td>0.0</td>\n",
              "      <td>0.0</td>\n",
              "      <td>0.0</td>\n",
              "      <td>4356.0</td>\n",
              "    </tr>\n",
              "    <tr>\n",
              "      <th>hours-per-week</th>\n",
              "      <td>45175.0</td>\n",
              "      <td>40.942512</td>\n",
              "      <td>12.007730</td>\n",
              "      <td>1.0</td>\n",
              "      <td>40.0</td>\n",
              "      <td>40.0</td>\n",
              "      <td>45.0</td>\n",
              "      <td>99.0</td>\n",
              "    </tr>\n",
              "  </tbody>\n",
              "</table>\n",
              "</div>\n",
              "      <button class=\"colab-df-convert\" onclick=\"convertToInteractive('df-b3534b2e-8864-44ef-be75-0f34266348c4')\"\n",
              "              title=\"Convert this dataframe to an interactive table.\"\n",
              "              style=\"display:none;\">\n",
              "        \n",
              "  <svg xmlns=\"http://www.w3.org/2000/svg\" height=\"24px\"viewBox=\"0 0 24 24\"\n",
              "       width=\"24px\">\n",
              "    <path d=\"M0 0h24v24H0V0z\" fill=\"none\"/>\n",
              "    <path d=\"M18.56 5.44l.94 2.06.94-2.06 2.06-.94-2.06-.94-.94-2.06-.94 2.06-2.06.94zm-11 1L8.5 8.5l.94-2.06 2.06-.94-2.06-.94L8.5 2.5l-.94 2.06-2.06.94zm10 10l.94 2.06.94-2.06 2.06-.94-2.06-.94-.94-2.06-.94 2.06-2.06.94z\"/><path d=\"M17.41 7.96l-1.37-1.37c-.4-.4-.92-.59-1.43-.59-.52 0-1.04.2-1.43.59L10.3 9.45l-7.72 7.72c-.78.78-.78 2.05 0 2.83L4 21.41c.39.39.9.59 1.41.59.51 0 1.02-.2 1.41-.59l7.78-7.78 2.81-2.81c.8-.78.8-2.07 0-2.86zM5.41 20L4 18.59l7.72-7.72 1.47 1.35L5.41 20z\"/>\n",
              "  </svg>\n",
              "      </button>\n",
              "      \n",
              "  <style>\n",
              "    .colab-df-container {\n",
              "      display:flex;\n",
              "      flex-wrap:wrap;\n",
              "      gap: 12px;\n",
              "    }\n",
              "\n",
              "    .colab-df-convert {\n",
              "      background-color: #E8F0FE;\n",
              "      border: none;\n",
              "      border-radius: 50%;\n",
              "      cursor: pointer;\n",
              "      display: none;\n",
              "      fill: #1967D2;\n",
              "      height: 32px;\n",
              "      padding: 0 0 0 0;\n",
              "      width: 32px;\n",
              "    }\n",
              "\n",
              "    .colab-df-convert:hover {\n",
              "      background-color: #E2EBFA;\n",
              "      box-shadow: 0px 1px 2px rgba(60, 64, 67, 0.3), 0px 1px 3px 1px rgba(60, 64, 67, 0.15);\n",
              "      fill: #174EA6;\n",
              "    }\n",
              "\n",
              "    [theme=dark] .colab-df-convert {\n",
              "      background-color: #3B4455;\n",
              "      fill: #D2E3FC;\n",
              "    }\n",
              "\n",
              "    [theme=dark] .colab-df-convert:hover {\n",
              "      background-color: #434B5C;\n",
              "      box-shadow: 0px 1px 3px 1px rgba(0, 0, 0, 0.15);\n",
              "      filter: drop-shadow(0px 1px 2px rgba(0, 0, 0, 0.3));\n",
              "      fill: #FFFFFF;\n",
              "    }\n",
              "  </style>\n",
              "\n",
              "      <script>\n",
              "        const buttonEl =\n",
              "          document.querySelector('#df-b3534b2e-8864-44ef-be75-0f34266348c4 button.colab-df-convert');\n",
              "        buttonEl.style.display =\n",
              "          google.colab.kernel.accessAllowed ? 'block' : 'none';\n",
              "\n",
              "        async function convertToInteractive(key) {\n",
              "          const element = document.querySelector('#df-b3534b2e-8864-44ef-be75-0f34266348c4');\n",
              "          const dataTable =\n",
              "            await google.colab.kernel.invokeFunction('convertToInteractive',\n",
              "                                                     [key], {});\n",
              "          if (!dataTable) return;\n",
              "\n",
              "          const docLinkHtml = 'Like what you see? Visit the ' +\n",
              "            '<a target=\"_blank\" href=https://colab.research.google.com/notebooks/data_table.ipynb>data table notebook</a>'\n",
              "            + ' to learn more about interactive tables.';\n",
              "          element.innerHTML = '';\n",
              "          dataTable['output_type'] = 'display_data';\n",
              "          await google.colab.output.renderOutput(dataTable, element);\n",
              "          const docLink = document.createElement('div');\n",
              "          docLink.innerHTML = docLinkHtml;\n",
              "          element.appendChild(docLink);\n",
              "        }\n",
              "      </script>\n",
              "    </div>\n",
              "  </div>\n",
              "  "
            ]
          },
          "metadata": {},
          "execution_count": 22
        }
      ]
    },
    {
      "cell_type": "code",
      "source": [
        "num_rows = len(df.index)\n",
        "low_information_cols = []\n",
        "\n",
        "for col_ in df.columns:\n",
        "    cnts = df[col_].value_counts(dropna=False)\n",
        "    top_pct = (cnts/num_rows).iloc[0]\n",
        "\n",
        "    if top_pct > 0.90:\n",
        "        low_information_cols.append(col_)\n",
        "        print('{0}: {1:.5f}%'.format(col_, top_pct*100))\n",
        "        print(cnts.iloc[:5])\n",
        "\n",
        "print(low_information_cols)"
      ],
      "metadata": {
        "colab": {
          "base_uri": "https://localhost:8080/"
        },
        "id": "m4Lup41n1mq2",
        "outputId": "85c413a1-a310-47ca-d602-9faea5852065"
      },
      "execution_count": null,
      "outputs": [
        {
          "output_type": "stream",
          "name": "stdout",
          "text": [
            "capital-gain: 91.61040%\n",
            "0.0        41385\n",
            "15024.0      498\n",
            "7688.0       391\n",
            "7298.0       351\n",
            "99999.0      229\n",
            "Name: capital-gain, dtype: int64\n",
            "capital-loss: 95.26287%\n",
            "0.0       43035\n",
            "1902.0      294\n",
            "1977.0      246\n",
            "1887.0      228\n",
            "2415.0       68\n",
            "Name: capital-loss, dtype: int64\n",
            "native-country: 91.32485%\n",
            "United-States    41256\n",
            "Mexico             895\n",
            "Philippines        282\n",
            "Germany            193\n",
            "Puerto-Rico        175\n",
            "Name: native-country, dtype: int64\n",
            "['capital-gain', 'capital-loss', 'native-country']\n"
          ]
        }
      ]
    },
    {
      "cell_type": "markdown",
      "source": [
        "Видим, что у ттрех признаков не менее 90% одинаковых значений. Поэтому удалим их из датасет, посколько они неинформативные."
      ],
      "metadata": {
        "id": "7Nu5LuhzNDok"
      }
    },
    {
      "cell_type": "code",
      "source": [
        "df.drop(columns = low_information_cols, axis = 1, inplace=True)"
      ],
      "metadata": {
        "id": "yB5w3dzBXC1p"
      },
      "execution_count": null,
      "outputs": []
    },
    {
      "cell_type": "code",
      "source": [
        "import matplotlib.pyplot as plt\n",
        "plt.figure(figsize=(20, 5))\n",
        "for i, col_ in enumerate(['age','fnlwgt', 'education-num', 'hours-per-week']):\n",
        "  plt.subplot(1, 4, i+1)\n",
        "  df[col_].hist(bins=100)\n",
        "  plt.title(col_)\n",
        "plt.show()"
      ],
      "metadata": {
        "id": "PSKZK54nrgFu",
        "colab": {
          "base_uri": "https://localhost:8080/",
          "height": 349
        },
        "outputId": "3bdb78ab-5b5e-4779-f04b-1e45d6298fa0"
      },
      "execution_count": null,
      "outputs": [
        {
          "output_type": "display_data",
          "data": {
            "text/plain": [
              "<Figure size 1440x360 with 4 Axes>"
            ],
            "image/png": "[encoded data removed]"
          },
          "metadata": {
            "needs_background": "light"
          }
        }
      ]
    },
    {
      "cell_type": "code",
      "source": [
        "df2 = spark.createDataFrame(df)"
      ],
      "metadata": {
        "id": "7oWK1xFkOgnb"
      },
      "execution_count": null,
      "outputs": []
    },
    {
      "cell_type": "markdown",
      "source": [
        "## Данные сильно несбалансированы"
      ],
      "metadata": {
        "id": "512nIL4qhmya"
      }
    },
    {
      "cell_type": "code",
      "source": [
        "df2.groupBy(\"50k\").count().show()"
      ],
      "metadata": {
        "colab": {
          "base_uri": "https://localhost:8080/"
        },
        "id": "lTZ1ZTPGZ-HT",
        "outputId": "8b233706-e8e8-4301-a45b-b08dc962128d"
      },
      "execution_count": null,
      "outputs": [
        {
          "output_type": "stream",
          "name": "stdout",
          "text": [
            "+-----+-----+\n",
            "|  50k|count|\n",
            "+-----+-----+\n",
            "|<=50K|33973|\n",
            "| >50K|11202|\n",
            "+-----+-----+\n",
            "\n"
          ]
        }
      ]
    },
    {
      "cell_type": "code",
      "source": [
        "from pyspark.ml.feature import StringIndexer\n",
        "indexer = StringIndexer(inputCol=\"50k\", outputCol=\"label\")\n",
        "data = indexer.fit(df2).transform(df2)"
      ],
      "metadata": {
        "id": "XljQjN4OcQDr"
      },
      "execution_count": null,
      "outputs": []
    },
    {
      "cell_type": "code",
      "source": [
        "from pyspark.sql.functions import col\n",
        "data = data.drop(col('50k'))"
      ],
      "metadata": {
        "id": "nCQ_R_SqZtDe"
      },
      "execution_count": null,
      "outputs": []
    },
    {
      "cell_type": "code",
      "source": [
        "data.printSchema()"
      ],
      "metadata": {
        "colab": {
          "base_uri": "https://localhost:8080/"
        },
        "id": "d1bKKEi1PjIh",
        "outputId": "160c4683-310c-4e2e-da83-3e18431e7fdc"
      },
      "execution_count": null,
      "outputs": [
        {
          "output_type": "stream",
          "name": "stdout",
          "text": [
            "root\n",
            " |-- age: long (nullable = true)\n",
            " |-- workclass: string (nullable = true)\n",
            " |-- fnlwgt: double (nullable = true)\n",
            " |-- education: string (nullable = true)\n",
            " |-- education-num: double (nullable = true)\n",
            " |-- marital-status: string (nullable = true)\n",
            " |-- occupation: string (nullable = true)\n",
            " |-- relationship: string (nullable = true)\n",
            " |-- race: string (nullable = true)\n",
            " |-- sex: string (nullable = true)\n",
            " |-- hours-per-week: double (nullable = true)\n",
            " |-- label: double (nullable = false)\n",
            "\n"
          ]
        }
      ]
    },
    {
      "cell_type": "code",
      "source": [
        "import numpy as np\n",
        "from pyspark.sql.functions import col\n",
        "df1 = data.filter(col(\"label\") == 1)\n",
        "df0 = data.filter(col(\"label\") == 0)\n",
        "ratio = int(df0.count() / df1.count())\n",
        "print(ratio)"
      ],
      "metadata": {
        "colab": {
          "base_uri": "https://localhost:8080/"
        },
        "id": "b1CDljF_cEfk",
        "outputId": "5db0ebc2-730d-44cc-a93c-52d92b8a692c"
      },
      "execution_count": null,
      "outputs": [
        {
          "output_type": "stream",
          "name": "stdout",
          "text": [
            "3\n"
          ]
        }
      ]
    },
    {
      "cell_type": "code",
      "source": [
        "from pyspark.sql.functions import col, explode, array, lit\n",
        "a = range(ratio)\n",
        "oversampled_df = df1.withColumn(\"dummy\", explode(array([lit(x) for x in a]))).drop('dummy')\n",
        "combined_df = df0.unionAll(oversampled_df)\n",
        "combined_df.show(5)"
      ],
      "metadata": {
        "colab": {
          "base_uri": "https://localhost:8080/"
        },
        "id": "ZLUfeE6Ne9bb",
        "outputId": "f37a5cfe-84cd-48cc-bbbc-131d7cb0e4c8"
      },
      "execution_count": null,
      "outputs": [
        {
          "output_type": "stream",
          "name": "stdout",
          "text": [
            "+---+---------+--------+------------+-------------+------------------+-----------------+-------------+------------------+------+--------------+-----+\n",
            "|age|workclass|  fnlwgt|   education|education-num|    marital-status|       occupation| relationship|              race|   sex|hours-per-week|label|\n",
            "+---+---------+--------+------------+-------------+------------------+-----------------+-------------+------------------+------+--------------+-----+\n",
            "| 30|  Private|194901.0|        11th|          7.0|     Never-married|Handlers-cleaners|    Own-child|             White|  Male|          40.0|  0.0|\n",
            "| 19|  Private|316868.0|Some-college|         10.0|     Never-married|    Other-service|    Own-child|             White|  Male|          30.0|  0.0|\n",
            "| 52|  Private|190762.0|     1st-4th|          2.0|Married-civ-spouse|Machine-op-inspct|      Husband|             White|  Male|          40.0|  0.0|\n",
            "| 25|  Private|267044.0|Some-college|         10.0|     Never-married|     Adm-clerical|Not-in-family|Amer-Indian-Eskimo|Female|          20.0|  0.0|\n",
            "| 65|  Private|109351.0|         9th|          5.0|           Widowed|  Priv-house-serv|    Unmarried|             Black|Female|          24.0|  0.0|\n",
            "+---+---------+--------+------------+-------------+------------------+-----------------+-------------+------------------+------+--------------+-----+\n",
            "only showing top 5 rows\n",
            "\n"
          ]
        }
      ]
    },
    {
      "cell_type": "code",
      "source": [
        "combined_df.groupBy(\"label\").count().show()"
      ],
      "metadata": {
        "colab": {
          "base_uri": "https://localhost:8080/"
        },
        "id": "1dZKIGlAfUSY",
        "outputId": "f551992d-e094-4adc-eb50-99eddd35e1c6"
      },
      "execution_count": null,
      "outputs": [
        {
          "output_type": "stream",
          "name": "stdout",
          "text": [
            "+-----+-----+\n",
            "|label|count|\n",
            "+-----+-----+\n",
            "|  0.0|33973|\n",
            "|  1.0|33606|\n",
            "+-----+-----+\n",
            "\n"
          ]
        }
      ]
    },
    {
      "cell_type": "markdown",
      "source": [
        "Теперь данные сбалансированны"
      ],
      "metadata": {
        "id": "VLDKOGuHhuE6"
      }
    },
    {
      "cell_type": "markdown",
      "source": [
        "## Проиндексируем строковые признаки"
      ],
      "metadata": {
        "id": "3jG5GX54Ec9i"
      }
    },
    {
      "cell_type": "code",
      "source": [
        "from pyspark.ml.feature import StringIndexer\n",
        "\n",
        "string_columns = []\n",
        "for field in combined_df.schema.fields:\n",
        "    if field.dataType == StringType():\n",
        "      string_columns.append(field.name)\n",
        "\n",
        "string_columns_ind = [x + '_ind' for x in string_columns]\n",
        "\n",
        "\n",
        "indexer = StringIndexer(inputCols=string_columns, outputCols=string_columns_ind)\n",
        "\n",
        "data = indexer.fit(combined_df).transform(combined_df)\n"
      ],
      "metadata": {
        "id": "TtCAqEwhwzfD"
      },
      "execution_count": null,
      "outputs": []
    },
    {
      "cell_type": "markdown",
      "source": [
        "## Кодируем категориальные признаки"
      ],
      "metadata": {
        "id": "Kb2IYO5zElKz"
      }
    },
    {
      "cell_type": "code",
      "source": [
        "from pyspark.ml.feature import OneHotEncoder\n",
        "\n",
        "cat_columns = [x + '_coded' for x in string_columns_ind]\n",
        "encoder = OneHotEncoder(inputCols = string_columns_ind, outputCols=cat_columns)\n",
        "\n",
        "encoded = encoder.fit(data).transform(data)"
      ],
      "metadata": {
        "id": "-7CXC8TN_rvP"
      },
      "execution_count": null,
      "outputs": []
    },
    {
      "cell_type": "code",
      "source": [
        "encoded.show(5)"
      ],
      "metadata": {
        "colab": {
          "base_uri": "https://localhost:8080/"
        },
        "id": "58-88jOXBJSc",
        "outputId": "94ffef08-88db-4759-95b8-9963a05215ff"
      },
      "execution_count": null,
      "outputs": [
        {
          "output_type": "stream",
          "name": "stdout",
          "text": [
            "+---+---------+--------+------------+-------------+------------------+-----------------+-------------+------------------+------+--------------+-----+-------------+-------------+------------------+--------------+----------------+--------+-------+-------------------+-------------------+------------------------+--------------------+----------------------+--------------+-------------+\n",
            "|age|workclass|  fnlwgt|   education|education-num|    marital-status|       occupation| relationship|              race|   sex|hours-per-week|label|workclass_ind|education_ind|marital-status_ind|occupation_ind|relationship_ind|race_ind|sex_ind|workclass_ind_coded|education_ind_coded|marital-status_ind_coded|occupation_ind_coded|relationship_ind_coded|race_ind_coded|sex_ind_coded|\n",
            "+---+---------+--------+------------+-------------+------------------+-----------------+-------------+------------------+------+--------------+-----+-------------+-------------+------------------+--------------+----------------+--------+-------+-------------------+-------------------+------------------------+--------------------+----------------------+--------------+-------------+\n",
            "| 30|  Private|194901.0|        11th|          7.0|     Never-married|Handlers-cleaners|    Own-child|             White|  Male|          40.0|  0.0|          0.0|          7.0|               1.0|           8.0|             2.0|     0.0|    0.0|      (6,[0],[1.0])|     (15,[7],[1.0])|           (6,[1],[1.0])|      (13,[8],[1.0])|         (5,[2],[1.0])| (4,[0],[1.0])|(1,[0],[1.0])|\n",
            "| 19|  Private|316868.0|Some-college|         10.0|     Never-married|    Other-service|    Own-child|             White|  Male|          30.0|  0.0|          0.0|          2.0|               1.0|           5.0|             2.0|     0.0|    0.0|      (6,[0],[1.0])|     (15,[2],[1.0])|           (6,[1],[1.0])|      (13,[5],[1.0])|         (5,[2],[1.0])| (4,[0],[1.0])|(1,[0],[1.0])|\n",
            "| 52|  Private|190762.0|     1st-4th|          2.0|Married-civ-spouse|Machine-op-inspct|      Husband|             White|  Male|          40.0|  0.0|          0.0|         14.0|               0.0|           6.0|             0.0|     0.0|    0.0|      (6,[0],[1.0])|    (15,[14],[1.0])|           (6,[0],[1.0])|      (13,[6],[1.0])|         (5,[0],[1.0])| (4,[0],[1.0])|(1,[0],[1.0])|\n",
            "| 25|  Private|267044.0|Some-college|         10.0|     Never-married|     Adm-clerical|Not-in-family|Amer-Indian-Eskimo|Female|          20.0|  0.0|          0.0|          2.0|               1.0|           4.0|             1.0|     3.0|    1.0|      (6,[0],[1.0])|     (15,[2],[1.0])|           (6,[1],[1.0])|      (13,[4],[1.0])|         (5,[1],[1.0])| (4,[3],[1.0])|    (1,[],[])|\n",
            "| 65|  Private|109351.0|         9th|          5.0|           Widowed|  Priv-house-serv|    Unmarried|             Black|Female|          24.0|  0.0|          0.0|         11.0|               4.0|          12.0|             3.0|     1.0|    1.0|      (6,[0],[1.0])|    (15,[11],[1.0])|           (6,[4],[1.0])|     (13,[12],[1.0])|         (5,[3],[1.0])| (4,[1],[1.0])|    (1,[],[])|\n",
            "+---+---------+--------+------------+-------------+------------------+-----------------+-------------+------------------+------+--------------+-----+-------------+-------------+------------------+--------------+----------------+--------+-------+-------------------+-------------------+------------------------+--------------------+----------------------+--------------+-------------+\n",
            "only showing top 5 rows\n",
            "\n"
          ]
        }
      ]
    },
    {
      "cell_type": "markdown",
      "source": [
        "## Преобразуем в вектор"
      ],
      "metadata": {
        "id": "yqSft4VSE125"
      }
    },
    {
      "cell_type": "code",
      "source": [
        "features = ['age', 'hours-per-week', 'fnlwgt', 'education-num',\n",
        "            'education_ind_coded', 'marital-status_ind_coded', 'occupation_ind_coded',\n",
        "            'relationship_ind_coded', 'race_ind_coded', 'sex_ind_coded', 'workclass_ind_coded'\n",
        "            ]\n",
        "target = 'label'\n",
        "attributes = features + [target]"
      ],
      "metadata": {
        "id": "ix2_3NVh0ThK"
      },
      "execution_count": null,
      "outputs": []
    },
    {
      "cell_type": "code",
      "source": [
        "from pyspark.ml.feature import VectorAssembler\n",
        "assembler = VectorAssembler(inputCols=features,\n",
        "                            outputCol='features')\n",
        "output = assembler.transform(encoded)"
      ],
      "metadata": {
        "id": "0EWtj8va04kN"
      },
      "execution_count": null,
      "outputs": []
    },
    {
      "cell_type": "code",
      "source": [
        "output.select('features').show(5, truncate=False)"
      ],
      "metadata": {
        "colab": {
          "base_uri": "https://localhost:8080/"
        },
        "id": "f4q9fXrLC58p",
        "outputId": "4ad82a29-e96c-46b5-824e-3eac0b791e50"
      },
      "execution_count": null,
      "outputs": [
        {
          "output_type": "stream",
          "name": "stdout",
          "text": [
            "+----------------------------------------------------------------------------------------+\n",
            "|features                                                                                |\n",
            "+----------------------------------------------------------------------------------------+\n",
            "|(54,[0,1,2,3,11,20,33,40,43,47,48],[30.0,40.0,194901.0,7.0,1.0,1.0,1.0,1.0,1.0,1.0,1.0])|\n",
            "|(54,[0,1,2,3,6,20,30,40,43,47,48],[19.0,30.0,316868.0,10.0,1.0,1.0,1.0,1.0,1.0,1.0,1.0])|\n",
            "|(54,[0,1,2,3,18,19,31,38,43,47,48],[52.0,40.0,190762.0,2.0,1.0,1.0,1.0,1.0,1.0,1.0,1.0])|\n",
            "|(54,[0,1,2,3,6,20,29,39,46,48],[25.0,20.0,267044.0,10.0,1.0,1.0,1.0,1.0,1.0,1.0])       |\n",
            "|(54,[0,1,2,3,15,23,37,41,44,48],[65.0,24.0,109351.0,5.0,1.0,1.0,1.0,1.0,1.0,1.0])       |\n",
            "+----------------------------------------------------------------------------------------+\n",
            "only showing top 5 rows\n",
            "\n"
          ]
        }
      ]
    },
    {
      "cell_type": "markdown",
      "source": [
        "## Нормализуем векторы"
      ],
      "metadata": {
        "id": "zOMSUJS3FAA0"
      }
    },
    {
      "cell_type": "code",
      "source": [
        "from pyspark.ml.feature import MinMaxScaler\n",
        "\n",
        "scaler = MinMaxScaler(inputCol=\"features\", outputCol=\"norm_features\")\n",
        "\n",
        "scaler_model = scaler.fit(output)\n",
        "\n",
        "scaled_data = scaler_model.transform(output)\n",
        "scaled_data.select(\"norm_features\").show(5, truncate=False)"
      ],
      "metadata": {
        "colab": {
          "base_uri": "https://localhost:8080/"
        },
        "id": "NFBBbGKEoWf6",
        "outputId": "5296fc07-6a3c-4da9-9a5f-ee338f0ffa22"
      },
      "execution_count": null,
      "outputs": [
        {
          "output_type": "stream",
          "name": "stdout",
          "text": [
            "+------------------------------------------------------------------------------------------------------------------------------------------------+\n",
            "|norm_features                                                                                                                                   |\n",
            "+------------------------------------------------------------------------------------------------------------------------------------------------+\n",
            "|(54,[0,1,2,3,11,20,33,40,43,47,48],[0.1780821917808219,0.39795918367346933,0.12283026430894815,0.4,1.0,1.0,1.0,1.0,1.0,1.0,1.0])                |\n",
            "|(54,[0,1,2,3,6,20,30,40,43,47,48],[0.0273972602739726,0.29591836734693877,0.20541293025699636,0.6,1.0,1.0,1.0,1.0,1.0,1.0,1.0])                 |\n",
            "|(54,[0,1,2,3,18,19,31,38,43,47,48],[0.4794520547945205,0.39795918367346933,0.12002778778366695,0.06666666666666667,1.0,1.0,1.0,1.0,1.0,1.0,1.0])|\n",
            "|(54,[0,1,2,3,6,20,29,39,46,48],[0.1095890410958904,0.19387755102040816,0.1716775858753558,0.6,1.0,1.0,1.0,1.0,1.0,1.0])                         |\n",
            "|(54,[0,1,2,3,15,23,37,41,44,48],[0.6575342465753424,0.2346938775510204,0.06490519382385361,0.26666666666666666,1.0,1.0,1.0,1.0,1.0,1.0])        |\n",
            "+------------------------------------------------------------------------------------------------------------------------------------------------+\n",
            "only showing top 5 rows\n",
            "\n"
          ]
        }
      ]
    },
    {
      "cell_type": "markdown",
      "source": [
        "# Построим несколько моделей классификаторов"
      ],
      "metadata": {
        "id": "sQBjqsUBFIs0"
      }
    },
    {
      "cell_type": "markdown",
      "source": [
        "## Логичтичечкая регрессия"
      ],
      "metadata": {
        "id": "vP1kkxSU2Dz5"
      }
    },
    {
      "cell_type": "code",
      "source": [
        "train, test = scaled_data.randomSplit([0.8, 0.2])"
      ],
      "metadata": {
        "id": "Yb7qZETQ13Bt"
      },
      "execution_count": null,
      "outputs": []
    },
    {
      "cell_type": "code",
      "source": [
        "from pyspark.ml.classification import LogisticRegression\n",
        "lr = LogisticRegression(featuresCol='norm_features',\n",
        "                        labelCol='label', maxIter = 10)\n",
        "#print(lr.explainParams())\n",
        "model = lr.fit(train)"
      ],
      "metadata": {
        "id": "3J6k0KW217t-"
      },
      "execution_count": null,
      "outputs": []
    },
    {
      "cell_type": "code",
      "source": [
        "predictions = model.transform(test)"
      ],
      "metadata": {
        "id": "Qgj0PDJA2Eo4"
      },
      "execution_count": null,
      "outputs": []
    },
    {
      "cell_type": "code",
      "source": [
        "from pyspark.ml.evaluation import BinaryClassificationEvaluator\n",
        "evaluator = BinaryClassificationEvaluator(labelCol='label')\n",
        "print('Evaluation:', evaluator.evaluate(predictions))"
      ],
      "metadata": {
        "colab": {
          "base_uri": "https://localhost:8080/"
        },
        "id": "ms24edaK2Fkn",
        "outputId": "f135010c-5974-47c5-eb81-babc2ad3e102"
      },
      "execution_count": null,
      "outputs": [
        {
          "output_type": "stream",
          "name": "stdout",
          "text": [
            "Evaluation: 0.8875487461215633\n"
          ]
        }
      ]
    },
    {
      "cell_type": "code",
      "source": [
        "trainingSummary = model.summary\n",
        "roc = trainingSummary.roc.toPandas()\n",
        "#help(model.summary)\n",
        "plt.plot(roc['FPR'],roc['TPR'])\n",
        "plt.ylabel('False Positive Rate')\n",
        "plt.xlabel('True Positive Rate')\n",
        "plt.title('ROC Curve')\n",
        "plt.show()\n",
        "print('Площадь под ROC-кривой: ' + str(trainingSummary.areaUnderROC))"
      ],
      "metadata": {
        "colab": {
          "base_uri": "https://localhost:8080/",
          "height": 312
        },
        "id": "kgRVO7Y3e3e0",
        "outputId": "475a8ec2-1fa0-4947-8f4f-c65890329e46"
      },
      "execution_count": null,
      "outputs": [
        {
          "output_type": "display_data",
          "data": {
            "text/plain": [
              "<Figure size 432x288 with 1 Axes>"
            ],
            "image/png": "[encoded data removed]"
          },
          "metadata": {
            "needs_background": "light"
          }
        },
        {
          "output_type": "stream",
          "name": "stdout",
          "text": [
            "Площадь под ROC-кривой: 0.8841608073819047\n"
          ]
        }
      ]
    },
    {
      "cell_type": "code",
      "source": [
        "print(trainingSummary.accuracy)"
      ],
      "metadata": {
        "colab": {
          "base_uri": "https://localhost:8080/"
        },
        "id": "CQbKzQW3_6rI",
        "outputId": "72b80d27-ff64-48ee-8425-ef1bc7610816"
      },
      "execution_count": null,
      "outputs": [
        {
          "output_type": "stream",
          "name": "stdout",
          "text": [
            "0.8036307896875231\n"
          ]
        }
      ]
    },
    {
      "cell_type": "code",
      "source": [
        "pr = trainingSummary.pr.toPandas()\n",
        "plt.plot(pr['recall'],pr['precision'])\n",
        "plt.ylabel('Precision')\n",
        "plt.xlabel('Recall')\n",
        "plt.show()"
      ],
      "metadata": {
        "colab": {
          "base_uri": "https://localhost:8080/",
          "height": 279
        },
        "id": "tXvqcwMzfEQ5",
        "outputId": "29dc04fd-9926-4faa-aaab-642070952eb7"
      },
      "execution_count": null,
      "outputs": [
        {
          "output_type": "display_data",
          "data": {
            "text/plain": [
              "<Figure size 432x288 with 1 Axes>"
            ],
            "image/png": "[encoded data removed]"
          },
          "metadata": {
            "needs_background": "light"
          }
        }
      ]
    },
    {
      "cell_type": "code",
      "source": [
        "tp = predictions.filter((col(\"label\") == 1) & (col(\"prediction\") == 1)).count()\n",
        "tn = predictions.filter((col(\"label\") == 0) & (col(\"prediction\") == 0)).count()\n",
        "fp = predictions.filter((col(\"label\") == 0) & (col(\"prediction\") == 1)).count()\n",
        "fn = predictions.filter((col(\"label\") == 1) & (col(\"prediction\") == 0)).count()"
      ],
      "metadata": {
        "id": "c4HSlVN9EF9E"
      },
      "execution_count": null,
      "outputs": []
    },
    {
      "cell_type": "code",
      "source": [
        "print('Матрица ошибок:')\n",
        "print(tp, fp)\n",
        "print(fn, tn)"
      ],
      "metadata": {
        "colab": {
          "base_uri": "https://localhost:8080/"
        },
        "id": "FKT4_xAFE_5L",
        "outputId": "99b90466-da68-4a1a-e7c7-62fc44b51296"
      },
      "execution_count": null,
      "outputs": [
        {
          "output_type": "stream",
          "name": "stdout",
          "text": [
            "Матрица ошибок:\n",
            "5576 1479\n",
            "1117 5259\n"
          ]
        }
      ]
    },
    {
      "cell_type": "code",
      "source": [
        "accuracy = (tp + tn) / (tp + tn + fp + fn)\n",
        "precision = tp / (tp + fp)\n",
        "recall = tp / (tp + fn)\n",
        "\n",
        "print('Accuracy =', accuracy)\n",
        "print('Precision =', precision)\n",
        "print('Recall =', recall)\n",
        "print('F-score =',2*(precision * recall/(precision + recall)))"
      ],
      "metadata": {
        "colab": {
          "base_uri": "https://localhost:8080/"
        },
        "id": "eZx3tvPdW31p",
        "outputId": "c91631bb-1b55-45d0-876b-1eb8af3ee6ba"
      },
      "execution_count": null,
      "outputs": [
        {
          "output_type": "stream",
          "name": "stdout",
          "text": [
            "Accuracy = 0.8067158067158067\n",
            "Precision = 0.7903614457831325\n",
            "Recall = 0.833109218586583\n",
            "F-score = 0.8111725341867908\n"
          ]
        }
      ]
    },
    {
      "cell_type": "code",
      "source": [
        "evaluator = BinaryClassificationEvaluator(labelCol = 'label')\n",
        "#print(dtModel.explainParams())\n",
        "\n",
        "print(\"Площадь под ROC-кривой: \" + str(evaluator.evaluate(predictions, {evaluator.metricName: \"areaUnderROC\"})))"
      ],
      "metadata": {
        "colab": {
          "base_uri": "https://localhost:8080/"
        },
        "id": "FLuleLhr0p7v",
        "outputId": "7a6a1474-22b0-496e-d56a-0c0e5595e4f5"
      },
      "execution_count": null,
      "outputs": [
        {
          "output_type": "stream",
          "name": "stdout",
          "text": [
            "Площадь под ROC-кривой: 0.8875546888100105\n"
          ]
        }
      ]
    },
    {
      "cell_type": "code",
      "source": [
        "from pyspark.ml.classification import DecisionTreeClassifier\n",
        "dt = DecisionTreeClassifier(featuresCol = 'norm_features', labelCol = 'label', maxDepth = 5)\n",
        "dtModel = dt.fit(train)\n",
        "predictions = dtModel.transform(test)\n",
        "#predictions.select('label', 'rawPrediction', 'prediction', 'probability').show(5)"
      ],
      "metadata": {
        "id": "_UCOvgdEiDt5"
      },
      "execution_count": null,
      "outputs": []
    },
    {
      "cell_type": "code",
      "source": [
        "tp = predictions.filter((col(\"label\") == 1) & (col(\"prediction\") == 1)).count()\n",
        "tn = predictions.filter((col(\"label\") == 0) & (col(\"prediction\") == 0)).count()\n",
        "fp = predictions.filter((col(\"label\") == 0) & (col(\"prediction\") == 1)).count()\n",
        "fn = predictions.filter((col(\"label\") == 1) & (col(\"prediction\") == 0)).count()"
      ],
      "metadata": {
        "id": "WUxfZGxksMZu"
      },
      "execution_count": null,
      "outputs": []
    },
    {
      "cell_type": "code",
      "source": [
        "print('Матрица ошибок:')\n",
        "print(tp, fp)\n",
        "print(fn, tn)"
      ],
      "metadata": {
        "colab": {
          "base_uri": "https://localhost:8080/"
        },
        "id": "6R-ymr8bX9Db",
        "outputId": "bd10abcb-1822-4633-d4b9-61a652d77696"
      },
      "execution_count": null,
      "outputs": [
        {
          "output_type": "stream",
          "name": "stdout",
          "text": [
            "Матрица ошибок:\n",
            "5658 1637\n",
            "1035 5101\n"
          ]
        }
      ]
    },
    {
      "cell_type": "code",
      "source": [
        "accuracy = (tp + tn) / (tp + tn + fp + fn)\n",
        "precision = tp / (tp + fp)\n",
        "recall = tp / (tp + fn)\n",
        "\n",
        "print('Accuracy =', accuracy)\n",
        "print('Precision =', precision)\n",
        "print('Recall =', recall)\n",
        "print('F-score =',2*(precision * recall/(precision + recall)))"
      ],
      "metadata": {
        "colab": {
          "base_uri": "https://localhost:8080/"
        },
        "id": "zGHvsuHnX_4g",
        "outputId": "7930703e-edac-41f2-ec68-f77fa16df903"
      },
      "execution_count": null,
      "outputs": [
        {
          "output_type": "stream",
          "name": "stdout",
          "text": [
            "Accuracy = 0.8010572556027101\n",
            "Precision = 0.7755997258396162\n",
            "Recall = 0.845360824742268\n",
            "F-score = 0.8089791249642552\n"
          ]
        }
      ]
    },
    {
      "cell_type": "markdown",
      "source": [
        "## Случайный лес"
      ],
      "metadata": {
        "id": "jClePhXd3FUw"
      }
    },
    {
      "cell_type": "code",
      "source": [
        "from pyspark.ml.classification import RandomForestClassifier\n",
        "rf = RandomForestClassifier(featuresCol = 'norm_features', labelCol = 'label')\n",
        "rfModel = rf.fit(train)\n",
        "predictions = rfModel.transform(test)\n",
        "#predictions.select('label', 'rawPrediction', 'prediction', 'probability').show(10)"
      ],
      "metadata": {
        "id": "Y0DURcdBjg6L"
      },
      "execution_count": null,
      "outputs": []
    },
    {
      "cell_type": "code",
      "source": [
        "evaluator = BinaryClassificationEvaluator(labelCol = 'label')\n",
        "print(\"Площадь под ROC-кривой: \" + str(evaluator.evaluate(predictions, {evaluator.metricName: \"areaUnderROC\"})))"
      ],
      "metadata": {
        "colab": {
          "base_uri": "https://localhost:8080/"
        },
        "id": "Mb9gCbPMjuBD",
        "outputId": "c5f42ed9-46a8-4af9-9b8e-104b31b0e42f"
      },
      "execution_count": null,
      "outputs": [
        {
          "output_type": "stream",
          "name": "stdout",
          "text": [
            "Площадь под ROC-кривой: 0.8707478456534796\n"
          ]
        }
      ]
    },
    {
      "cell_type": "markdown",
      "source": [
        "## Дерево решений с градиентным бустингом"
      ],
      "metadata": {
        "id": "KCoQmq5a3gYW"
      }
    },
    {
      "cell_type": "code",
      "source": [
        "from pyspark.ml.classification import GBTClassifier\n",
        "gbt = GBTClassifier(featuresCol = 'norm_features', labelCol = 'label', maxIter=10)\n",
        "gbtModel = gbt.fit(train)\n",
        "predictions = gbtModel.transform(test)\n",
        "#predictions.select('label', 'rawPrediction', 'prediction', 'probability').show(5)"
      ],
      "metadata": {
        "id": "vu4Q9MIij4mv"
      },
      "execution_count": null,
      "outputs": []
    },
    {
      "cell_type": "code",
      "source": [
        "evaluator = BinaryClassificationEvaluator(labelCol = 'label')\n",
        "print(\"Площадь под ROC-кривой: \" + str(evaluator.evaluate(predictions, {evaluator.metricName: \"areaUnderROC\"})))"
      ],
      "metadata": {
        "colab": {
          "base_uri": "https://localhost:8080/"
        },
        "id": "Lm2w7FcgkFAk",
        "outputId": "501a9c8a-c0e5-4689-df57-efd975adf34e"
      },
      "execution_count": null,
      "outputs": [
        {
          "output_type": "stream",
          "name": "stdout",
          "text": [
            "Площадь под ROC-кривой: 0.8894067010553195\n"
          ]
        }
      ]
    },
    {
      "cell_type": "code",
      "source": [
        "tp = predictions.filter((col(\"label\") == 1) & (col(\"prediction\") == 1)).count()\n",
        "tn = predictions.filter((col(\"label\") == 0) & (col(\"prediction\") == 0)).count()\n",
        "fp = predictions.filter((col(\"label\") == 0) & (col(\"prediction\") == 1)).count()\n",
        "fn = predictions.filter((col(\"label\") == 1) & (col(\"prediction\") == 0)).count()"
      ],
      "metadata": {
        "id": "pCS9JoY511bc"
      },
      "execution_count": null,
      "outputs": []
    },
    {
      "cell_type": "code",
      "source": [
        "accuracy = (tp + tn) / (tp + tn + fp + fn)\n",
        "precision = tp / (tp + fp)\n",
        "recall = tp / (tp + fn)\n",
        "\n",
        "print('Accuracy =', accuracy)\n",
        "print('Precision =', precision)\n",
        "print('Recall =', recall)\n",
        "print('F-score =',2*(precision * recall/(precision + recall)))"
      ],
      "metadata": {
        "colab": {
          "base_uri": "https://localhost:8080/"
        },
        "id": "wc92GZNP1w70",
        "outputId": "aac62ec7-bd4c-4f9c-ed83-9fee740da89c"
      },
      "execution_count": null,
      "outputs": [
        {
          "output_type": "stream",
          "name": "stdout",
          "text": [
            "Accuracy = 0.8063435336162609\n",
            "Precision = 0.7787465940054495\n",
            "Recall = 0.8540265949499477\n",
            "F-score = 0.8146511793629301\n"
          ]
        }
      ]
    },
    {
      "cell_type": "markdown",
      "source": [
        "#Создадим Pipiline"
      ],
      "metadata": {
        "id": "mky_Ad8Q069j"
      }
    },
    {
      "cell_type": "code",
      "source": [
        "from pyspark.ml import Pipeline\n",
        "stages = []\n",
        "label_stringIdx = StringIndexer(inputCol=\"50k\", outputCol=\"label\")\n",
        "stages += [label_stringIdx]\n",
        "\n",
        "categoricalColumns = ['education', 'marital-status', 'occupation',\n",
        "            'relationship', 'race', 'sex', 'workclass'\n",
        "            ]\n",
        "target = 'label'\n",
        "attributes = features + [target]\n",
        "for categoricalCol in categoricalColumns:\n",
        "    stringIndexer = StringIndexer(inputCol = categoricalCol, outputCol = categoricalCol + 'Index')\n",
        "    encoder = OneHotEncoder(inputCols=[stringIndexer.getOutputCol()], outputCols=[categoricalCol + \"classVec\"])\n",
        "    stages += [stringIndexer, encoder]\n",
        "numericCols = ['age', 'hours-per-week', 'fnlwgt', 'education-num']\n",
        "assemblerInputs = [c + \"classVec\" for c in categoricalColumns] + numericCols\n",
        "assembler = VectorAssembler(inputCols=assemblerInputs, outputCol=\"features\")\n",
        "stages += [assembler]\n",
        "scaler = MinMaxScaler(inputCol=\"features\", outputCol=\"norm_features\")\n",
        "stages +=[scaler]"
      ],
      "metadata": {
        "id": "B4ZkU5UPt6rr"
      },
      "execution_count": null,
      "outputs": []
    },
    {
      "cell_type": "code",
      "source": [
        "from pyspark.ml.classification import GBTClassifier\n",
        "(train, test) = data_without_misses.randomSplit([0.8, 0.2])\n",
        "gbt = GBTClassifier(labelCol=\"label\", featuresCol=\"features\", maxIter=10)\n",
        "stages += [gbt]\n",
        "pipeline = Pipeline(stages=stages)"
      ],
      "metadata": {
        "id": "oMoNUOusxOea"
      },
      "execution_count": null,
      "outputs": []
    },
    {
      "cell_type": "code",
      "source": [
        "evaluator = BinaryClassificationEvaluator(labelCol = 'label')\n",
        "print(\"Площадь под ROC-кривой: \" + str(evaluator.evaluate(predictions, {evaluator.metricName: \"areaUnderROC\"})))"
      ],
      "metadata": {
        "colab": {
          "base_uri": "https://localhost:8080/"
        },
        "id": "dRq4pH7DieQr",
        "outputId": "0ee94320-e637-4e2a-fcaa-54890f78e1c5"
      },
      "execution_count": null,
      "outputs": [
        {
          "output_type": "stream",
          "name": "stdout",
          "text": [
            "Площадь под ROC-кривой: 0.8894024436068803\n"
          ]
        }
      ]
    },
    {
      "cell_type": "code",
      "source": [
        "model = pipeline.fit(train)\n",
        "\n",
        "predictions = model.transform(test)"
      ],
      "metadata": {
        "id": "6byGhwjJxRue"
      },
      "execution_count": null,
      "outputs": []
    },
    {
      "cell_type": "code",
      "source": [
        "tp = predictions.filter((col(\"label\") == 1) & (col(\"prediction\") == 1)).count()\n",
        "tn = predictions.filter((col(\"label\") == 0) & (col(\"prediction\") == 0)).count()\n",
        "fp = predictions.filter((col(\"label\") == 0) & (col(\"prediction\") == 1)).count()\n",
        "fn = predictions.filter((col(\"label\") == 1) & (col(\"prediction\") == 0)).count()"
      ],
      "metadata": {
        "id": "5Gl-QVwMF5x7"
      },
      "execution_count": null,
      "outputs": []
    },
    {
      "cell_type": "code",
      "source": [
        "accuracy = (tp + tn) / (tp + tn + fp + fn)\n",
        "precision = tp / (tp + fp)\n",
        "recall = tp / (tp + fn)\n",
        "\n",
        "print('Accuracy =', accuracy)\n",
        "print('Precision =', precision)\n",
        "print('Recall =', recall)\n",
        "print('F-score =',2*(precision * recall/(precision + recall)))"
      ],
      "metadata": {
        "colab": {
          "base_uri": "https://localhost:8080/"
        },
        "id": "BQoGGNJaF8QL",
        "outputId": "6d7b6be3-e139-4a59-c3db-c2f052e9da51"
      },
      "execution_count": null,
      "outputs": [
        {
          "output_type": "stream",
          "name": "stdout",
          "text": [
            "Accuracy = 0.8295151245551602\n",
            "Precision = 0.7131195335276967\n",
            "Recall = 0.5401943462897526\n",
            "F-score = 0.6147273184217139\n"
          ]
        }
      ]
    }
  ],
  "metadata": {
    "colab": {
      "provenance": []
    },
    "kernelspec": {
      "display_name": "Python 3",
      "name": "python3"
    },
    "language_info": {
      "name": "python"
    }
  },
  "nbformat": 4,
  "nbformat_minor": 0
}