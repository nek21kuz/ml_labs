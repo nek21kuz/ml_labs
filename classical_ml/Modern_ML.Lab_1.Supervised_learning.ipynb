{
 "cells": [
  {
   "cell_type": "markdown",
   "metadata": {},
   "source": [
    "# <center> Майнор \"Интеллектуальный анализ данных\" <center>"
   ]
  },
  {
   "cell_type": "markdown",
   "metadata": {},
   "source": [
    "# <center> Курс \"Современные методы машинного обучения\" <center>"
   ]
  },
  {
   "cell_type": "markdown",
   "metadata": {},
   "source": [
    "# <center> Лабораторная работа №1. Supervised learning <center>"
   ]
  },
  {
   "cell_type": "markdown",
   "metadata": {},
   "source": [
    "## Table of contents  \n",
    "  \n",
    "* [Часть 1. Работа с данными](#part1)\n",
    "* [Часть 2. Методы машинного обучения](#part2)\n",
    "* [Часть 3. Соревнование по машинному обучению](#part3)"
   ]
  },
  {
   "cell_type": "code",
   "execution_count": 1,
   "metadata": {},
   "outputs": [],
   "source": [
    "import pandas as pd\n",
    "import numpy as np\n",
    "import matplotlib.pyplot as plt\n",
    "import seaborn as sns\n",
    "import graphviz\n",
    "\n",
    "sns.set_style(\"dark\")\n",
    "\n",
    "from sklearn.model_selection import GridSearchCV, RandomizedSearchCV, KFold, train_test_split, RepeatedStratifiedKFold, cross_val_score, cross_validate\n",
    "from sklearn import metrics\n",
    "from sklearn.tree import DecisionTreeClassifier, export_graphviz\n",
    "from sklearn.ensemble import RandomForestClassifier, AdaBoostClassifier\n",
    "from sklearn.linear_model import LogisticRegression, LogisticRegressionCV\n",
    "from sklearn.preprocessing import LabelEncoder, StandardScaler\n",
    "from sklearn.svm import SVC\n",
    "\n",
    "from scipy.stats import loguniform\n",
    "\n",
    "from catboost import CatBoostClassifier, Pool "
   ]
  },
  {
   "cell_type": "code",
   "execution_count": 2,
   "metadata": {
    "scrolled": true
   },
   "outputs": [],
   "source": [
    "def tmp_mtrcs(answ, pr):\n",
    "    return np.array([metrics.f1_score(answ,pr),\n",
    "                    metrics.recall_score(answ,pr, zero_division=0),\n",
    "                    metrics.precision_score(answ,pr, zero_division=0),\n",
    "                    metrics.accuracy_score(answ,pr),\n",
    "                    metrics.balanced_accuracy_score(answ,pr)])\n",
    "\n",
    "def prnt_mtrcs(arr_num):\n",
    "    print('F1: %.5f' %  arr_num[0])\n",
    "    print('recall: %.5f' %  arr_num[1])\n",
    "    print('precision: %.5f' % arr_num[2])\n",
    "    print('accuracy: %.5f' % arr_num[3])\n",
    "    print('balanced accuracy: %.5f' % arr_num[4])"
   ]
  },
  {
   "cell_type": "code",
   "execution_count": 3,
   "metadata": {},
   "outputs": [],
   "source": [
    "def csv(model):\n",
    "    model.fit(X, Y)\n",
    "\n",
    "    preds = model.predict(df_test)\n",
    "    df_subm = pd.DataFrame()\n",
    "    df_subm['ID'] = pd.read_csv('test.csv', sep=';')['ID']\n",
    "    df_subm['Churn'] = preds\n",
    "    df_subm.to_csv('subm_'+str(model)[:str(model).find('(')]+'.csv', index=False)"
   ]
  },
  {
   "cell_type": "markdown",
   "metadata": {},
   "source": [
    "## Часть 1. Работа с данными <a id=\"part1\"></a>"
   ]
  },
  {
   "cell_type": "markdown",
   "metadata": {},
   "source": [
    "*Вес в общей оценке - 0.3*"
   ]
  },
  {
   "cell_type": "markdown",
   "metadata": {},
   "source": [
    "В данной части лабораторной вам предстоит работать с данными по оттоку клиентов одной телекомуникационной компании."
   ]
  },
  {
   "cell_type": "markdown",
   "metadata": {},
   "source": [
    "Данные находятся в файле `train.csv`"
   ]
  },
  {
   "cell_type": "markdown",
   "metadata": {},
   "source": [
    "При решении заданий старайтесь писать лаконичный и эффективный код; использовать методы `Pandas`."
   ]
  },
  {
   "cell_type": "markdown",
   "metadata": {},
   "source": [
    "**Описание данных:**"
   ]
  },
  {
   "cell_type": "code",
   "execution_count": 4,
   "metadata": {},
   "outputs": [],
   "source": [
    "pd.set_option('display.max_columns', 40)\n",
    "pd.set_option('display.max_colwidth', None)"
   ]
  },
  {
   "cell_type": "code",
   "execution_count": 5,
   "metadata": {
    "scrolled": false
   },
   "outputs": [
    {
     "data": {
      "text/html": [
       "<div>\n",
       "<style scoped>\n",
       "    .dataframe tbody tr th:only-of-type {\n",
       "        vertical-align: middle;\n",
       "    }\n",
       "\n",
       "    .dataframe tbody tr th {\n",
       "        vertical-align: top;\n",
       "    }\n",
       "\n",
       "    .dataframe thead th {\n",
       "        text-align: right;\n",
       "    }\n",
       "</style>\n",
       "<table border=\"1\" class=\"dataframe\">\n",
       "  <thead>\n",
       "    <tr style=\"text-align: right;\">\n",
       "      <th></th>\n",
       "      <th>Признак</th>\n",
       "      <th>Описание</th>\n",
       "      <th>Тип</th>\n",
       "    </tr>\n",
       "  </thead>\n",
       "  <tbody>\n",
       "    <tr>\n",
       "      <th>0</th>\n",
       "      <td>ID</td>\n",
       "      <td>Уникальный идентификатор объекта</td>\n",
       "      <td>Числовой (integer)</td>\n",
       "    </tr>\n",
       "    <tr>\n",
       "      <th>1</th>\n",
       "      <td>Sex</td>\n",
       "      <td>Пол</td>\n",
       "      <td>Символьный</td>\n",
       "    </tr>\n",
       "    <tr>\n",
       "      <th>2</th>\n",
       "      <td>Age</td>\n",
       "      <td>Возраст</td>\n",
       "      <td>Числовой (integer)</td>\n",
       "    </tr>\n",
       "    <tr>\n",
       "      <th>3</th>\n",
       "      <td>State</td>\n",
       "      <td>Буквенный код штата</td>\n",
       "      <td>Символьный</td>\n",
       "    </tr>\n",
       "    <tr>\n",
       "      <th>4</th>\n",
       "      <td>Account length</td>\n",
       "      <td>Как долго клиент обслуживается компанией</td>\n",
       "      <td>Числовой (integer)</td>\n",
       "    </tr>\n",
       "    <tr>\n",
       "      <th>5</th>\n",
       "      <td>Phone number</td>\n",
       "      <td>Номер телефона клиента</td>\n",
       "      <td>Символьный</td>\n",
       "    </tr>\n",
       "    <tr>\n",
       "      <th>6</th>\n",
       "      <td>Plans</td>\n",
       "      <td>Подключенные планы</td>\n",
       "      <td>Символьный (None; International/Voice mail or both)</td>\n",
       "    </tr>\n",
       "    <tr>\n",
       "      <th>7</th>\n",
       "      <td>Number vmail messages</td>\n",
       "      <td>Количество голосовых сообщений</td>\n",
       "      <td>Числовой (integer)</td>\n",
       "    </tr>\n",
       "    <tr>\n",
       "      <th>8</th>\n",
       "      <td>Total day minutes</td>\n",
       "      <td>Общая длительность разговоров днем</td>\n",
       "      <td>Числовой (float)</td>\n",
       "    </tr>\n",
       "    <tr>\n",
       "      <th>9</th>\n",
       "      <td>Total day calls</td>\n",
       "      <td>Общее количество звонков днем</td>\n",
       "      <td>Числовой (float)</td>\n",
       "    </tr>\n",
       "    <tr>\n",
       "      <th>10</th>\n",
       "      <td>Total day charge</td>\n",
       "      <td>Общая сумма оплаты за услуги днем</td>\n",
       "      <td>Числовой (float)</td>\n",
       "    </tr>\n",
       "    <tr>\n",
       "      <th>11</th>\n",
       "      <td>Total eve minutes</td>\n",
       "      <td>Общая длительность разговоров вечером</td>\n",
       "      <td>Числовой (float)</td>\n",
       "    </tr>\n",
       "    <tr>\n",
       "      <th>12</th>\n",
       "      <td>Total eve calls</td>\n",
       "      <td>Общее количество звонков вечером</td>\n",
       "      <td>Числовой (float)</td>\n",
       "    </tr>\n",
       "    <tr>\n",
       "      <th>13</th>\n",
       "      <td>Total eve charge</td>\n",
       "      <td>Общая сумма оплаты за услуги вечером</td>\n",
       "      <td>Числовой (float)</td>\n",
       "    </tr>\n",
       "    <tr>\n",
       "      <th>14</th>\n",
       "      <td>Total night minutes</td>\n",
       "      <td>Общая длительность разговоров ночью</td>\n",
       "      <td>Числовой (float)</td>\n",
       "    </tr>\n",
       "    <tr>\n",
       "      <th>15</th>\n",
       "      <td>Total night calls</td>\n",
       "      <td>Общее количество звонков ночью</td>\n",
       "      <td>Числовой (float)</td>\n",
       "    </tr>\n",
       "    <tr>\n",
       "      <th>16</th>\n",
       "      <td>Total night charge</td>\n",
       "      <td>Общая сумма оплаты за услуги ночью</td>\n",
       "      <td>Числовой (float)</td>\n",
       "    </tr>\n",
       "    <tr>\n",
       "      <th>17</th>\n",
       "      <td>Total intl minutes</td>\n",
       "      <td>Общая длительность международных разговоров</td>\n",
       "      <td>Числовой (float)</td>\n",
       "    </tr>\n",
       "    <tr>\n",
       "      <th>18</th>\n",
       "      <td>Total intl calls</td>\n",
       "      <td>Общее количество международных разговоров</td>\n",
       "      <td>Числовой (float)</td>\n",
       "    </tr>\n",
       "    <tr>\n",
       "      <th>19</th>\n",
       "      <td>Total intl charge</td>\n",
       "      <td>Общая сумма оплаты за международные разговор</td>\n",
       "      <td>Числовой (float)</td>\n",
       "    </tr>\n",
       "    <tr>\n",
       "      <th>20</th>\n",
       "      <td>Total charge</td>\n",
       "      <td>Общая сумма оплаты за услуги</td>\n",
       "      <td>Числовой (float)</td>\n",
       "    </tr>\n",
       "    <tr>\n",
       "      <th>21</th>\n",
       "      <td>Customer service calls</td>\n",
       "      <td>Число обращений в сервисный центр</td>\n",
       "      <td>Числовой (integer)</td>\n",
       "    </tr>\n",
       "    <tr>\n",
       "      <th>22</th>\n",
       "      <td>Churn</td>\n",
       "      <td>Отток клиента (остался или ушел)</td>\n",
       "      <td>Логический (True - ушел; False - остался)</td>\n",
       "    </tr>\n",
       "  </tbody>\n",
       "</table>\n",
       "</div>"
      ],
      "text/plain": [
       "                   Признак                                      Описание  \\\n",
       "0                       ID              Уникальный идентификатор объекта   \n",
       "1                      Sex                                           Пол   \n",
       "2                      Age                                       Возраст   \n",
       "3                    State                           Буквенный код штата   \n",
       "4           Account length      Как долго клиент обслуживается компанией   \n",
       "5             Phone number                        Номер телефона клиента   \n",
       "6                    Plans                            Подключенные планы   \n",
       "7    Number vmail messages                Количество голосовых сообщений   \n",
       "8        Total day minutes            Общая длительность разговоров днем   \n",
       "9          Total day calls                 Общее количество звонков днем   \n",
       "10        Total day charge             Общая сумма оплаты за услуги днем   \n",
       "11       Total eve minutes         Общая длительность разговоров вечером   \n",
       "12         Total eve calls              Общее количество звонков вечером   \n",
       "13        Total eve charge          Общая сумма оплаты за услуги вечером   \n",
       "14     Total night minutes           Общая длительность разговоров ночью   \n",
       "15       Total night calls                Общее количество звонков ночью   \n",
       "16      Total night charge            Общая сумма оплаты за услуги ночью   \n",
       "17      Total intl minutes   Общая длительность международных разговоров   \n",
       "18        Total intl calls     Общее количество международных разговоров   \n",
       "19       Total intl charge  Общая сумма оплаты за международные разговор   \n",
       "20            Total charge                  Общая сумма оплаты за услуги   \n",
       "21  Customer service calls             Число обращений в сервисный центр   \n",
       "22                   Churn              Отток клиента (остался или ушел)   \n",
       "\n",
       "                                                    Тип  \n",
       "0                                    Числовой (integer)  \n",
       "1                                            Символьный  \n",
       "2                                    Числовой (integer)  \n",
       "3                                           Символьный   \n",
       "4                                    Числовой (integer)  \n",
       "5                                            Символьный  \n",
       "6   Символьный (None; International/Voice mail or both)  \n",
       "7                                    Числовой (integer)  \n",
       "8                                      Числовой (float)  \n",
       "9                                      Числовой (float)  \n",
       "10                                     Числовой (float)  \n",
       "11                                     Числовой (float)  \n",
       "12                                     Числовой (float)  \n",
       "13                                     Числовой (float)  \n",
       "14                                     Числовой (float)  \n",
       "15                                     Числовой (float)  \n",
       "16                                     Числовой (float)  \n",
       "17                                     Числовой (float)  \n",
       "18                                     Числовой (float)  \n",
       "19                                     Числовой (float)  \n",
       "20                                     Числовой (float)  \n",
       "21                                   Числовой (integer)  \n",
       "22            Логический (True - ушел; False - остался)  "
      ]
     },
     "execution_count": 5,
     "metadata": {},
     "output_type": "execute_result"
    }
   ],
   "source": [
    "pd.read_csv('telecom_churn_description.csv')"
   ]
  },
  {
   "cell_type": "markdown",
   "metadata": {},
   "source": [
    "### Задание 1  \n",
    "  \n",
    "Считайте данные из файла. Оцените размерность данных, есть ли в данных пропущенные значения. Посмотрите на автоматически определенные типы признаков."
   ]
  },
  {
   "cell_type": "code",
   "execution_count": 6,
   "metadata": {
    "scrolled": true
   },
   "outputs": [
    {
     "data": {
      "text/html": [
       "<div>\n",
       "<style scoped>\n",
       "    .dataframe tbody tr th:only-of-type {\n",
       "        vertical-align: middle;\n",
       "    }\n",
       "\n",
       "    .dataframe tbody tr th {\n",
       "        vertical-align: top;\n",
       "    }\n",
       "\n",
       "    .dataframe thead th {\n",
       "        text-align: right;\n",
       "    }\n",
       "</style>\n",
       "<table border=\"1\" class=\"dataframe\">\n",
       "  <thead>\n",
       "    <tr style=\"text-align: right;\">\n",
       "      <th></th>\n",
       "      <th>ID</th>\n",
       "      <th>Sex</th>\n",
       "      <th>Age</th>\n",
       "      <th>State</th>\n",
       "      <th>Account length</th>\n",
       "      <th>Phone number</th>\n",
       "      <th>Plans</th>\n",
       "      <th>Number vmail messages</th>\n",
       "      <th>Total day minutes</th>\n",
       "      <th>Total day calls</th>\n",
       "      <th>Total day charge</th>\n",
       "      <th>Total eve minutes</th>\n",
       "      <th>Total eve calls</th>\n",
       "      <th>Total eve charge</th>\n",
       "      <th>Total night minutes</th>\n",
       "      <th>Total night calls</th>\n",
       "      <th>Total night charge</th>\n",
       "      <th>Total intl minutes</th>\n",
       "      <th>Total intl calls</th>\n",
       "      <th>Total intl charge</th>\n",
       "      <th>Total charge</th>\n",
       "      <th>Customer service calls</th>\n",
       "      <th>Churn</th>\n",
       "    </tr>\n",
       "  </thead>\n",
       "  <tbody>\n",
       "    <tr>\n",
       "      <th>0</th>\n",
       "      <td>10001</td>\n",
       "      <td>Female</td>\n",
       "      <td>35.0</td>\n",
       "      <td>MN</td>\n",
       "      <td>150</td>\n",
       "      <td>415 695 24 37</td>\n",
       "      <td>Voice mail</td>\n",
       "      <td>28</td>\n",
       "      <td>174.4</td>\n",
       "      <td>75.0</td>\n",
       "      <td>29.65</td>\n",
       "      <td>169.9</td>\n",
       "      <td>80.0</td>\n",
       "      <td>14.44</td>\n",
       "      <td>201.6</td>\n",
       "      <td>130.0</td>\n",
       "      <td>9.07</td>\n",
       "      <td>11.0</td>\n",
       "      <td>4.0</td>\n",
       "      <td>2.97</td>\n",
       "      <td>56.13</td>\n",
       "      <td>1</td>\n",
       "      <td>0</td>\n",
       "    </tr>\n",
       "    <tr>\n",
       "      <th>1</th>\n",
       "      <td>10010</td>\n",
       "      <td>Female</td>\n",
       "      <td>43.0</td>\n",
       "      <td>AR</td>\n",
       "      <td>87</td>\n",
       "      <td>408 673 99 45</td>\n",
       "      <td>None</td>\n",
       "      <td>0</td>\n",
       "      <td>185.8</td>\n",
       "      <td>119.0</td>\n",
       "      <td>31.59</td>\n",
       "      <td>192.3</td>\n",
       "      <td>83.0</td>\n",
       "      <td>16.35</td>\n",
       "      <td>200.0</td>\n",
       "      <td>96.0</td>\n",
       "      <td>9.00</td>\n",
       "      <td>6.6</td>\n",
       "      <td>4.0</td>\n",
       "      <td>1.78</td>\n",
       "      <td>58.72</td>\n",
       "      <td>1</td>\n",
       "      <td>0</td>\n",
       "    </tr>\n",
       "    <tr>\n",
       "      <th>2</th>\n",
       "      <td>10029</td>\n",
       "      <td>Female</td>\n",
       "      <td>39.0</td>\n",
       "      <td>ND</td>\n",
       "      <td>180</td>\n",
       "      <td>415 693 30 62</td>\n",
       "      <td>None</td>\n",
       "      <td>0</td>\n",
       "      <td>224.9</td>\n",
       "      <td>105.0</td>\n",
       "      <td>38.23</td>\n",
       "      <td>250.0</td>\n",
       "      <td>101.0</td>\n",
       "      <td>21.25</td>\n",
       "      <td>216.1</td>\n",
       "      <td>73.0</td>\n",
       "      <td>9.72</td>\n",
       "      <td>6.7</td>\n",
       "      <td>5.0</td>\n",
       "      <td>1.81</td>\n",
       "      <td>71.01</td>\n",
       "      <td>3</td>\n",
       "      <td>1</td>\n",
       "    </tr>\n",
       "    <tr>\n",
       "      <th>3</th>\n",
       "      <td>10030</td>\n",
       "      <td>Female</td>\n",
       "      <td>36.0</td>\n",
       "      <td>AL</td>\n",
       "      <td>200</td>\n",
       "      <td>408 248 27 61</td>\n",
       "      <td>None</td>\n",
       "      <td>0</td>\n",
       "      <td>128.2</td>\n",
       "      <td>87.0</td>\n",
       "      <td>21.79</td>\n",
       "      <td>133.2</td>\n",
       "      <td>105.0</td>\n",
       "      <td>11.32</td>\n",
       "      <td>177.6</td>\n",
       "      <td>123.0</td>\n",
       "      <td>7.99</td>\n",
       "      <td>11.2</td>\n",
       "      <td>2.0</td>\n",
       "      <td>3.02</td>\n",
       "      <td>44.12</td>\n",
       "      <td>1</td>\n",
       "      <td>0</td>\n",
       "    </tr>\n",
       "    <tr>\n",
       "      <th>4</th>\n",
       "      <td>10122</td>\n",
       "      <td>Male</td>\n",
       "      <td>37.0</td>\n",
       "      <td>DE</td>\n",
       "      <td>122</td>\n",
       "      <td>510 297 57 75</td>\n",
       "      <td>None</td>\n",
       "      <td>0</td>\n",
       "      <td>157.1</td>\n",
       "      <td>134.0</td>\n",
       "      <td>26.71</td>\n",
       "      <td>184.9</td>\n",
       "      <td>122.0</td>\n",
       "      <td>15.72</td>\n",
       "      <td>197.2</td>\n",
       "      <td>59.0</td>\n",
       "      <td>8.87</td>\n",
       "      <td>8.5</td>\n",
       "      <td>5.0</td>\n",
       "      <td>2.30</td>\n",
       "      <td>53.6</td>\n",
       "      <td>4</td>\n",
       "      <td>1</td>\n",
       "    </tr>\n",
       "  </tbody>\n",
       "</table>\n",
       "</div>"
      ],
      "text/plain": [
       "      ID     Sex   Age State  Account length   Phone number       Plans  \\\n",
       "0  10001  Female  35.0    MN             150  415 695 24 37  Voice mail   \n",
       "1  10010  Female  43.0    AR              87  408 673 99 45        None   \n",
       "2  10029  Female  39.0    ND             180  415 693 30 62        None   \n",
       "3  10030  Female  36.0    AL             200  408 248 27 61        None   \n",
       "4  10122    Male  37.0    DE             122  510 297 57 75        None   \n",
       "\n",
       "   Number vmail messages Total day minutes Total day calls  Total day charge  \\\n",
       "0                     28             174.4            75.0             29.65   \n",
       "1                      0             185.8           119.0             31.59   \n",
       "2                      0             224.9           105.0             38.23   \n",
       "3                      0             128.2            87.0             21.79   \n",
       "4                      0             157.1           134.0             26.71   \n",
       "\n",
       "   Total eve minutes  Total eve calls  Total eve charge Total night minutes  \\\n",
       "0              169.9             80.0             14.44               201.6   \n",
       "1              192.3             83.0             16.35               200.0   \n",
       "2              250.0            101.0             21.25               216.1   \n",
       "3              133.2            105.0             11.32               177.6   \n",
       "4              184.9            122.0             15.72               197.2   \n",
       "\n",
       "   Total night calls  Total night charge Total intl minutes  Total intl calls  \\\n",
       "0              130.0                9.07               11.0               4.0   \n",
       "1               96.0                9.00                6.6               4.0   \n",
       "2               73.0                9.72                6.7               5.0   \n",
       "3              123.0                7.99               11.2               2.0   \n",
       "4               59.0                8.87                8.5               5.0   \n",
       "\n",
       "   Total intl charge Total charge Customer service calls  Churn  \n",
       "0               2.97        56.13                      1      0  \n",
       "1               1.78        58.72                      1      0  \n",
       "2               1.81        71.01                      3      1  \n",
       "3               3.02        44.12                      1      0  \n",
       "4               2.30         53.6                      4      1  "
      ]
     },
     "execution_count": 6,
     "metadata": {},
     "output_type": "execute_result"
    }
   ],
   "source": [
    "data = pd.read_csv('train.csv', sep=';')\n",
    "data.head(5)"
   ]
  },
  {
   "cell_type": "markdown",
   "metadata": {},
   "source": [
    "Имеем данные о 2499 клиентах."
   ]
  },
  {
   "cell_type": "code",
   "execution_count": 7,
   "metadata": {},
   "outputs": [
    {
     "data": {
      "text/plain": [
       "(2499, 23)"
      ]
     },
     "execution_count": 7,
     "metadata": {},
     "output_type": "execute_result"
    }
   ],
   "source": [
    "data.shape"
   ]
  },
  {
   "cell_type": "markdown",
   "metadata": {},
   "source": [
    "Видно, что есть пропуски и некоторые признаки отнесены к неправильному типу."
   ]
  },
  {
   "cell_type": "code",
   "execution_count": 8,
   "metadata": {},
   "outputs": [
    {
     "name": "stdout",
     "output_type": "stream",
     "text": [
      "<class 'pandas.core.frame.DataFrame'>\n",
      "RangeIndex: 2499 entries, 0 to 2498\n",
      "Data columns (total 23 columns):\n",
      " #   Column                  Non-Null Count  Dtype  \n",
      "---  ------                  --------------  -----  \n",
      " 0   ID                      2499 non-null   int64  \n",
      " 1   Sex                     2499 non-null   object \n",
      " 2   Age                     1757 non-null   float64\n",
      " 3   State                   2499 non-null   object \n",
      " 4   Account length          2499 non-null   int64  \n",
      " 5   Phone number            2499 non-null   object \n",
      " 6   Plans                   2428 non-null   object \n",
      " 7   Number vmail messages   2499 non-null   int64  \n",
      " 8   Total day minutes       2499 non-null   object \n",
      " 9   Total day calls         2499 non-null   object \n",
      " 10  Total day charge        2499 non-null   float64\n",
      " 11  Total eve minutes       2499 non-null   float64\n",
      " 12  Total eve calls         2499 non-null   float64\n",
      " 13  Total eve charge        2499 non-null   float64\n",
      " 14  Total night minutes     2499 non-null   object \n",
      " 15  Total night calls       2499 non-null   float64\n",
      " 16  Total night charge      2499 non-null   float64\n",
      " 17  Total intl minutes      2499 non-null   object \n",
      " 18  Total intl calls        2499 non-null   float64\n",
      " 19  Total intl charge       2499 non-null   float64\n",
      " 20  Total charge            2499 non-null   object \n",
      " 21  Customer service calls  2499 non-null   object \n",
      " 22  Churn                   2499 non-null   int64  \n",
      "dtypes: float64(9), int64(4), object(10)\n",
      "memory usage: 449.2+ KB\n"
     ]
    }
   ],
   "source": [
    "data.info()"
   ]
  },
  {
   "cell_type": "markdown",
   "metadata": {},
   "source": [
    "### Задание 2  \n",
    "  \n",
    "Приведите числовые признаки, которые были распознаны некорректно, к числовому типу данных.  \n",
    "Найдите и опишите ошибки в данных, которые мешают приведению типов. Сколько признаков содержат ошибки, сколько наблюдений по каждому такому признаку? Исправьте эти ошибки и снова выполните приведение типов.  \n",
    "**NB:** Исправлять ошибки необходимо программно (используя python), изменять исходный файл \"руками\" не разрешается. "
   ]
  },
  {
   "cell_type": "markdown",
   "metadata": {},
   "source": [
    "Признаки неверно определённые как не числовые."
   ]
  },
  {
   "cell_type": "code",
   "execution_count": 9,
   "metadata": {
    "scrolled": true
   },
   "outputs": [
    {
     "data": {
      "text/plain": [
       "['Total day minutes',\n",
       " 'Total day calls',\n",
       " 'Total night minutes',\n",
       " 'Total intl minutes',\n",
       " 'Total charge',\n",
       " 'Customer service calls']"
      ]
     },
     "execution_count": 9,
     "metadata": {},
     "output_type": "execute_result"
    }
   ],
   "source": [
    "non_num = data.dtypes[data.dtypes == 'object'].index.tolist()[4:]\n",
    "non_num"
   ]
  },
  {
   "cell_type": "markdown",
   "metadata": {},
   "source": [
    "Было выяснено(с помощью двойного forа и функции isfloat, которая представленна ниже), что содержаться ошибки видов:\n",
    "\n",
    "1) o вместо 0\n",
    "\n",
    "2) l вместо 1\n",
    "\n",
    "3) , вместо . \n",
    "\n",
    "4) присутствует слово hundred в стобце Total charge"
   ]
  },
  {
   "cell_type": "code",
   "execution_count": 10,
   "metadata": {
    "scrolled": true
   },
   "outputs": [],
   "source": [
    "def isfloat(n):\n",
    "    try:\n",
    "        float(n)\n",
    "        return True\n",
    "    except:\n",
    "        return False\n",
    "\n",
    "for i in non_num:\n",
    "    for j in data[i]:\n",
    "        new_val = j\n",
    "        \n",
    "        if not isfloat(j):\n",
    "            for x, y in ('o', '0'), ('l', '1'), (',', '.'), (' hundred', ''):\n",
    "                new_val = new_val.replace(x, y)\n",
    "            \n",
    "            if 'hundred' in j:\n",
    "                new_val = str(float(new_val)*100)\n",
    "            \n",
    "            data.loc[data[i] == j, i] = new_val"
   ]
  },
  {
   "cell_type": "code",
   "execution_count": 11,
   "metadata": {},
   "outputs": [],
   "source": [
    "data[non_num] = data[non_num].apply(pd.to_numeric)"
   ]
  },
  {
   "cell_type": "markdown",
   "metadata": {},
   "source": [
    "Попробуем найти другие опечатки в данных."
   ]
  },
  {
   "cell_type": "code",
   "execution_count": 12,
   "metadata": {},
   "outputs": [
    {
     "data": {
      "text/plain": [
       "['Sex', 'State', 'Phone number', 'Plans']"
      ]
     },
     "execution_count": 12,
     "metadata": {},
     "output_type": "execute_result"
    }
   ],
   "source": [
    "rem_non_num = data.dtypes[data.dtypes == 'object'].index.tolist()\n",
    "rem_non_num"
   ]
  },
  {
   "cell_type": "code",
   "execution_count": 13,
   "metadata": {},
   "outputs": [
    {
     "name": "stdout",
     "output_type": "stream",
     "text": [
      "Sex : ['Female' 'Male']\n",
      "State : ['MN' 'AR' 'ND' 'AL' 'DE' 'NE' 'GA' 'NC' 'DC' 'IA' 'MS' 'NH' 'NY' 'AZ'\n",
      " 'UT' 'IN' 'WI' 'OK' 'WV' 'OR' 'ID' 'FL' 'NV' 'WY' 'MI' 'KS' 'KY' 'VA'\n",
      " 'MT' 'PA' 'NM' 'IL' 'NJ' 'CO' 'LA' 'CA' 'MD' 'SD' 'OH' 'ME' 'SC' 'TN'\n",
      " 'WA' 'AK' 'MA' 'RI' 'HI' 'VT' 'MO' 'TX' 'CT']\n",
      "Phone number : ['415 695 24 37' '408 673 99 45' '415 693 30 62' ... '510 191 97 69'\n",
      " '415 846 60 88' '408 739 90 49']\n",
      "Plans : ['Voice mail' 'None' 'International, Voice mail' 'International' nan]\n"
     ]
    }
   ],
   "source": [
    "for col in rem_non_num:\n",
    "    print(col, ':', data[col].unique())"
   ]
  },
  {
   "cell_type": "markdown",
   "metadata": {},
   "source": [
    "Видно, что в признак Sex, State, Plans опечаток нет.\n",
    "Признак Phone number пока трогать не будем и проверим его позже, если вдруг будем использовать."
   ]
  },
  {
   "cell_type": "markdown",
   "metadata": {},
   "source": [
    "### Задание 3  \n",
    "  \n",
    "Оцените набор данных на предмет пропущенных значений. Какие признаки содержат пропуски? Сколько наблюдений с пропусками по каждому такому признаку?  \n",
    "По каждому признаку предложите и обоснуйте, что делать с пропущенными значениями. "
   ]
  },
  {
   "cell_type": "markdown",
   "metadata": {},
   "source": [
    "Есть пропуски в признаках Age и Plans."
   ]
  },
  {
   "cell_type": "code",
   "execution_count": 14,
   "metadata": {},
   "outputs": [
    {
     "name": "stdout",
     "output_type": "stream",
     "text": [
      "Age 742 NaN\n",
      "Plans 71 NaN\n"
     ]
    }
   ],
   "source": [
    "for col in data.columns:\n",
    "    num_nan = data.shape[0] - data[col].value_counts().sum()\n",
    "    if num_nan != 0:\n",
    "        print(col, num_nan, 'NaN')"
   ]
  },
  {
   "cell_type": "markdown",
   "metadata": {},
   "source": [
    "В Plans мало пропусков, кроме того, подавляющее большинство значений у этого параметра None."
   ]
  },
  {
   "cell_type": "code",
   "execution_count": 15,
   "metadata": {},
   "outputs": [
    {
     "data": {
      "text/plain": [
       "None                         1568\n",
       "Voice mail                    618\n",
       "International                 167\n",
       "International, Voice mail      75\n",
       "Name: Plans, dtype: int64"
      ]
     },
     "execution_count": 15,
     "metadata": {},
     "output_type": "execute_result"
    }
   ],
   "source": [
    "data['Plans'].value_counts()"
   ]
  },
  {
   "cell_type": "markdown",
   "metadata": {},
   "source": [
    "Видно, что люди у которых пропущенно это поле Plans, пользуются голосовой почтой также, как люди, у которых в этом поле None. А по поводу роуминга сказать что либо сложно."
   ]
  },
  {
   "cell_type": "code",
   "execution_count": 16,
   "metadata": {},
   "outputs": [],
   "source": [
    "data_test = data.copy()\n",
    "data_test['Plans'] = data_test['Plans'].fillna('???')"
   ]
  },
  {
   "cell_type": "code",
   "execution_count": 17,
   "metadata": {},
   "outputs": [
    {
     "data": {
      "text/html": [
       "<div>\n",
       "<style scoped>\n",
       "    .dataframe tbody tr th:only-of-type {\n",
       "        vertical-align: middle;\n",
       "    }\n",
       "\n",
       "    .dataframe tbody tr th {\n",
       "        vertical-align: top;\n",
       "    }\n",
       "\n",
       "    .dataframe thead th {\n",
       "        text-align: right;\n",
       "    }\n",
       "</style>\n",
       "<table border=\"1\" class=\"dataframe\">\n",
       "  <thead>\n",
       "    <tr style=\"text-align: right;\">\n",
       "      <th></th>\n",
       "      <th>Number vmail messages</th>\n",
       "      <th>Total intl calls</th>\n",
       "    </tr>\n",
       "    <tr>\n",
       "      <th>Plans</th>\n",
       "      <th></th>\n",
       "      <th></th>\n",
       "    </tr>\n",
       "  </thead>\n",
       "  <tbody>\n",
       "    <tr>\n",
       "      <th>???</th>\n",
       "      <td>0.000000</td>\n",
       "      <td>4.661972</td>\n",
       "    </tr>\n",
       "    <tr>\n",
       "      <th>International</th>\n",
       "      <td>0.000000</td>\n",
       "      <td>4.700599</td>\n",
       "    </tr>\n",
       "    <tr>\n",
       "      <th>International, Voice mail</th>\n",
       "      <td>29.586667</td>\n",
       "      <td>5.026667</td>\n",
       "    </tr>\n",
       "    <tr>\n",
       "      <th>None</th>\n",
       "      <td>0.000000</td>\n",
       "      <td>4.458865</td>\n",
       "    </tr>\n",
       "    <tr>\n",
       "      <th>Voice mail</th>\n",
       "      <td>29.145631</td>\n",
       "      <td>4.484628</td>\n",
       "    </tr>\n",
       "  </tbody>\n",
       "</table>\n",
       "</div>"
      ],
      "text/plain": [
       "                           Number vmail messages  Total intl calls\n",
       "Plans                                                             \n",
       "???                                     0.000000          4.661972\n",
       "International                           0.000000          4.700599\n",
       "International, Voice mail              29.586667          5.026667\n",
       "None                                    0.000000          4.458865\n",
       "Voice mail                             29.145631          4.484628"
      ]
     },
     "execution_count": 17,
     "metadata": {},
     "output_type": "execute_result"
    }
   ],
   "source": [
    "data_test.pivot_table(['Number vmail messages', 'Total intl calls'], \n",
    "['Plans'], aggfunc='mean')"
   ]
  },
  {
   "cell_type": "markdown",
   "metadata": {},
   "source": [
    "Заполняем пропуски."
   ]
  },
  {
   "cell_type": "code",
   "execution_count": 18,
   "metadata": {},
   "outputs": [],
   "source": [
    "data['Plans'] = data['Plans'].fillna('None')"
   ]
  },
  {
   "cell_type": "markdown",
   "metadata": {},
   "source": [
    "1) Коррелция Age с Churn интуитивно не очевидно, кроме того её не видно на графике.\n",
    "2) Видно, что мы имеем дело с одной возрастной группой\n",
    "3) У нас отсутствует треть значений"
   ]
  },
  {
   "cell_type": "code",
   "execution_count": 19,
   "metadata": {},
   "outputs": [
    {
     "data": {
      "image/png": "[encoded data removed]",
      "text/plain": [
       "<Figure size 1440x432 with 1 Axes>"
      ]
     },
     "metadata": {},
     "output_type": "display_data"
    }
   ],
   "source": [
    "plt.figure(figsize=(20,6))\n",
    "sns.countplot(x='Age', hue='Churn', data=data)\n",
    "plt.show()"
   ]
  },
  {
   "cell_type": "markdown",
   "metadata": {},
   "source": [
    "Видим, что ID коррелирует с Churn сильнее, чем Age!"
   ]
  },
  {
   "cell_type": "code",
   "execution_count": 20,
   "metadata": {},
   "outputs": [
    {
     "data": {
      "text/html": [
       "<div>\n",
       "<style scoped>\n",
       "    .dataframe tbody tr th:only-of-type {\n",
       "        vertical-align: middle;\n",
       "    }\n",
       "\n",
       "    .dataframe tbody tr th {\n",
       "        vertical-align: top;\n",
       "    }\n",
       "\n",
       "    .dataframe thead th {\n",
       "        text-align: right;\n",
       "    }\n",
       "</style>\n",
       "<table border=\"1\" class=\"dataframe\">\n",
       "  <thead>\n",
       "    <tr style=\"text-align: right;\">\n",
       "      <th></th>\n",
       "      <th>Age</th>\n",
       "      <th>ID</th>\n",
       "      <th>Churn</th>\n",
       "    </tr>\n",
       "  </thead>\n",
       "  <tbody>\n",
       "    <tr>\n",
       "      <th>Age</th>\n",
       "      <td>1.000000</td>\n",
       "      <td>-0.002838</td>\n",
       "      <td>0.002066</td>\n",
       "    </tr>\n",
       "    <tr>\n",
       "      <th>ID</th>\n",
       "      <td>-0.002838</td>\n",
       "      <td>1.000000</td>\n",
       "      <td>-0.002658</td>\n",
       "    </tr>\n",
       "    <tr>\n",
       "      <th>Churn</th>\n",
       "      <td>0.002066</td>\n",
       "      <td>-0.002658</td>\n",
       "      <td>1.000000</td>\n",
       "    </tr>\n",
       "  </tbody>\n",
       "</table>\n",
       "</div>"
      ],
      "text/plain": [
       "            Age        ID     Churn\n",
       "Age    1.000000 -0.002838  0.002066\n",
       "ID    -0.002838  1.000000 -0.002658\n",
       "Churn  0.002066 -0.002658  1.000000"
      ]
     },
     "execution_count": 20,
     "metadata": {},
     "output_type": "execute_result"
    }
   ],
   "source": [
    "data[['Age', 'ID', 'Churn']].corr()"
   ]
  },
  {
   "cell_type": "markdown",
   "metadata": {},
   "source": [
    "Поэтому удалим признак Age."
   ]
  },
  {
   "cell_type": "code",
   "execution_count": 21,
   "metadata": {},
   "outputs": [],
   "source": [
    "data.drop(['Age'], axis=1, inplace=True)"
   ]
  },
  {
   "cell_type": "markdown",
   "metadata": {},
   "source": [
    "### Задание 4  \n",
    "  \n",
    "В признаке `Phone number` первые три цифры номера отвечают за код зоны покрытия сети.  \n",
    "Создайте новый признак `Area code`, содержайщий код покрытия сети.  \n",
    "Вычислите, сколько таких зон представлено в данных. Сколько наблюдений по каждой зоне?  \n",
    "Вычислите, сколько штатов входит в каждую зону. Есть ли штаты, которые находятся сразу в нескольких зонах покрытия? Если есть, приведите примеры."
   ]
  },
  {
   "cell_type": "markdown",
   "metadata": {},
   "source": [
    "Создаём новый признак Area code."
   ]
  },
  {
   "cell_type": "code",
   "execution_count": 22,
   "metadata": {},
   "outputs": [],
   "source": [
    "data.insert(loc=6, column='Area code', value=[int(i[0:3]) for i in data['Phone number']]) "
   ]
  },
  {
   "cell_type": "markdown",
   "metadata": {},
   "source": [
    "Смотрим на количество наблюдений в каждой зоне. И сразу убеждаемся, что опечаток, по крайней мере в первых 3 цифрах, в телефонных номерах нет. "
   ]
  },
  {
   "cell_type": "code",
   "execution_count": 23,
   "metadata": {},
   "outputs": [
    {
     "data": {
      "text/plain": [
       "415    1247\n",
       "408     632\n",
       "510     620\n",
       "Name: Area code, dtype: int64"
      ]
     },
     "execution_count": 23,
     "metadata": {},
     "output_type": "execute_result"
    }
   ],
   "source": [
    "data['Area code'].value_counts()"
   ]
  },
  {
   "cell_type": "markdown",
   "metadata": {},
   "source": [
    "Каждая зона покрывает все штаты."
   ]
  },
  {
   "cell_type": "code",
   "execution_count": 24,
   "metadata": {},
   "outputs": [
    {
     "name": "stdout",
     "output_type": "stream",
     "text": [
      "415: 51\n",
      "408: 51\n",
      "510: 51\n"
     ]
    }
   ],
   "source": [
    "for code in data['Area code'].value_counts().index:\n",
    "    print(str(code) + ':', data[data['Area code'] == code]['State'].unique().shape[0])"
   ]
  },
  {
   "cell_type": "markdown",
   "metadata": {},
   "source": [
    "Таким образом, любой штат находиться в нескольких зонах покрытия."
   ]
  },
  {
   "cell_type": "markdown",
   "metadata": {},
   "source": [
    "### Задание 5  \n",
    "  \n",
    "Вычислите тарифные планы (стоимость минуты разговора): day, eve, night, intl.  \n",
    "Проверьте, различаются ли они для различных зон покрытия сети. "
   ]
  },
  {
   "cell_type": "code",
   "execution_count": 25,
   "metadata": {},
   "outputs": [],
   "source": [
    "tariff_plans = ('day', 'eve', 'night', 'intl')"
   ]
  },
  {
   "cell_type": "markdown",
   "metadata": {},
   "source": [
    "Заметим, что есть люди, которые вообще не использовали тот или иной тарифный план."
   ]
  },
  {
   "cell_type": "code",
   "execution_count": 26,
   "metadata": {},
   "outputs": [
    {
     "name": "stdout",
     "output_type": "stream",
     "text": [
      "day: 1\n",
      "eve: 1\n",
      "night: 0\n",
      "intl: 10\n"
     ]
    }
   ],
   "source": [
    "for i in tariff_plans:\n",
    "    print(i + ':', data[data['Total ' + i + ' minutes'] == 0].shape[0])"
   ]
  },
  {
   "cell_type": "markdown",
   "metadata": {},
   "source": [
    "Создадим признак для каждого тарифа. 0 заменим на среднее, тк их очень мало."
   ]
  },
  {
   "cell_type": "code",
   "execution_count": 27,
   "metadata": {},
   "outputs": [],
   "source": [
    "for i in tariff_plans:\n",
    "    data[i + ' rate'] = data['Total ' + i + ' charge']/data['Total ' + i + ' minutes']\n",
    "    data.loc[data['Total ' + i + ' minutes'] == 0.0, i + ' rate'] = data[i + ' rate'].mean()"
   ]
  },
  {
   "cell_type": "markdown",
   "metadata": {},
   "source": [
    " Видим, что различных значений получаетя очень много, кроме того, они все лежат в маленьком промежутке.\n",
    " Скорее всего, оплата производилась посекундно, а не поминутно."
   ]
  },
  {
   "cell_type": "code",
   "execution_count": 28,
   "metadata": {},
   "outputs": [
    {
     "name": "stdout",
     "output_type": "stream",
     "text": [
      "day:\n",
      "  от 0.1692 до 0.1705\n",
      "  1118 различных значений\n",
      "eve:\n",
      "  от 0.0849 до 0.0851\n",
      "  1170 различных значений\n",
      "night:\n",
      "  от 0.0448 до 0.0451\n",
      "  1159 различных значений\n",
      "intl:\n",
      "  от 0.2690 до 0.2727\n",
      "  115 различных значений\n"
     ]
    }
   ],
   "source": [
    "for i in tariff_plans:\n",
    "    max, min = data[i + ' rate'].max(), data[i + ' rate'].min()\n",
    "    print(i + ':\\n', ' от %.4f до %.4f' % (min, max))\n",
    "    print(' ', data[i + ' rate'].unique().shape[0], 'различных значений')"
   ]
  },
  {
   "cell_type": "markdown",
   "metadata": {},
   "source": [
    "Поэтому за цену минуты разумно взять среднее."
   ]
  },
  {
   "cell_type": "code",
   "execution_count": 29,
   "metadata": {},
   "outputs": [
    {
     "data": {
      "text/plain": [
       "day rate      0.170003\n",
       "eve rate      0.085001\n",
       "night rate    0.045000\n",
       "intl rate     0.270060\n",
       "dtype: float64"
      ]
     },
     "execution_count": 29,
     "metadata": {},
     "output_type": "execute_result"
    }
   ],
   "source": [
    "data[[i + ' rate' for i in tariff_plans]].mean()"
   ]
  },
  {
   "cell_type": "markdown",
   "metadata": {},
   "source": [
    "Странно, но стоимость минуты intl не зависит от Plans."
   ]
  },
  {
   "cell_type": "code",
   "execution_count": 30,
   "metadata": {},
   "outputs": [
    {
     "name": "stdout",
     "output_type": "stream",
     "text": [
      "Voice mail mean: 0.27007\n",
      "None mean: 0.27006\n",
      "International, Voice mail mean: 0.27005\n",
      "International mean: 0.27003\n"
     ]
    }
   ],
   "source": [
    "for i in data['Plans'].unique():\n",
    "    print(i, 'mean: %.5f' % data[data['Plans'] == i]['intl rate'].mean())"
   ]
  },
  {
   "cell_type": "markdown",
   "metadata": {},
   "source": [
    "Ну и очевидно, что тарифы не зависят от зоны покрытия."
   ]
  },
  {
   "cell_type": "markdown",
   "metadata": {},
   "source": [
    "Удаляем только что созданные признаки."
   ]
  },
  {
   "cell_type": "code",
   "execution_count": 31,
   "metadata": {},
   "outputs": [],
   "source": [
    "for i in tariff_plans:\n",
    "    data.drop([i + ' rate'], axis=1, inplace=True)"
   ]
  },
  {
   "cell_type": "markdown",
   "metadata": {},
   "source": [
    "### Задание 6  \n",
    "  \n",
    "По каждому штату и каждому плану в признаке `Plans` (International и Voice mail) вычислите количество клиентов, подключивших этот план и их долю **внутри штата**. Пример вывода:\n",
    "  \n",
    "<table border=\"1\" class=\"dataframe\">\n",
    "  <thead>\n",
    "    <tr style=\"text-align: right;\">\n",
    "      <th></th>\n",
    "      <th>State</th>\n",
    "      <th>Plan</th>\n",
    "      <th>Count</th>\n",
    "      <th>Frac</th>\n",
    "    </tr>\n",
    "  </thead>\n",
    "  <tbody>\n",
    "    <tr>\n",
    "      <th>0</th>\n",
    "      <td>state_1</td>\n",
    "      <td>International</td>\n",
    "      <td>40</td>\n",
    "      <td>0.4</td>\n",
    "    </tr>\n",
    "    <tr>\n",
    "      <th>1</th>\n",
    "      <td>state_1</td>\n",
    "      <td>Voice mail</td>\n",
    "      <td>30</td>\n",
    "      <td>0.3</td>\n",
    "    </tr>\n",
    "    <tr>\n",
    "      <th>2</th>\n",
    "      <td>state_2</td>\n",
    "      <td>International</td>\n",
    "      <td>25</td>\n",
    "      <td>0.5</td>\n",
    "    </tr>\n",
    "    <tr>\n",
    "      <th>3</th>\n",
    "      <td>state_2</td>\n",
    "      <td>Voice mail</td>\n",
    "      <td>35</td>\n",
    "      <td>0.7</td>\n",
    "    </tr>\n",
    "  </tbody>\n",
    "</table>"
   ]
  },
  {
   "cell_type": "markdown",
   "metadata": {},
   "source": [
    "Создадим DataFrame."
   ]
  },
  {
   "cell_type": "code",
   "execution_count": 32,
   "metadata": {
    "scrolled": false
   },
   "outputs": [],
   "source": [
    "df_pl = pd.DataFrame()\n",
    "df_pl['State'] = [i for i in data['State'].unique() for j in range(2)]\n",
    "df_pl['Plan'] = [j  for i in data['State'].unique() for j in ['International', 'Voice mail']]\n",
    "df_pl['Count'], df_pl['Frac'] = np.nan, np.nan"
   ]
  },
  {
   "cell_type": "code",
   "execution_count": 33,
   "metadata": {},
   "outputs": [],
   "source": [
    "for i in data['State'].unique():\n",
    "    for j in ['International', 'Voice mail']:\n",
    "        val_tmp = data[(data['State'] == i) & (data['Plans'] == j)].shape[0]\n",
    "        val_tmp += data[(data['State'] == i) & (data['Plans'] == 'International, Voice mail')].shape[0]\n",
    "        \n",
    "        df_pl.loc[(df_pl['State'] == i) & (df_pl['Plan'] == j), 'Count'] = int(val_tmp)\n",
    "        \n",
    "        num_people_st = data[data['State'] == i].shape[0]\n",
    "        \n",
    "        df_pl.loc[(df_pl['State'] == i) & (df_pl['Plan'] == j), 'Frac'] = val_tmp/num_people_st"
   ]
  },
  {
   "cell_type": "code",
   "execution_count": 34,
   "metadata": {},
   "outputs": [
    {
     "data": {
      "text/html": [
       "<div>\n",
       "<style scoped>\n",
       "    .dataframe tbody tr th:only-of-type {\n",
       "        vertical-align: middle;\n",
       "    }\n",
       "\n",
       "    .dataframe tbody tr th {\n",
       "        vertical-align: top;\n",
       "    }\n",
       "\n",
       "    .dataframe thead th {\n",
       "        text-align: right;\n",
       "    }\n",
       "</style>\n",
       "<table border=\"1\" class=\"dataframe\">\n",
       "  <thead>\n",
       "    <tr style=\"text-align: right;\">\n",
       "      <th></th>\n",
       "      <th>State</th>\n",
       "      <th>Plan</th>\n",
       "      <th>Count</th>\n",
       "      <th>Frac</th>\n",
       "    </tr>\n",
       "  </thead>\n",
       "  <tbody>\n",
       "    <tr>\n",
       "      <th>0</th>\n",
       "      <td>MN</td>\n",
       "      <td>International</td>\n",
       "      <td>3.0</td>\n",
       "      <td>0.044776</td>\n",
       "    </tr>\n",
       "    <tr>\n",
       "      <th>1</th>\n",
       "      <td>MN</td>\n",
       "      <td>Voice mail</td>\n",
       "      <td>21.0</td>\n",
       "      <td>0.313433</td>\n",
       "    </tr>\n",
       "    <tr>\n",
       "      <th>2</th>\n",
       "      <td>AR</td>\n",
       "      <td>International</td>\n",
       "      <td>7.0</td>\n",
       "      <td>0.152174</td>\n",
       "    </tr>\n",
       "    <tr>\n",
       "      <th>3</th>\n",
       "      <td>AR</td>\n",
       "      <td>Voice mail</td>\n",
       "      <td>11.0</td>\n",
       "      <td>0.239130</td>\n",
       "    </tr>\n",
       "    <tr>\n",
       "      <th>4</th>\n",
       "      <td>ND</td>\n",
       "      <td>International</td>\n",
       "      <td>7.0</td>\n",
       "      <td>0.148936</td>\n",
       "    </tr>\n",
       "    <tr>\n",
       "      <th>...</th>\n",
       "      <td>...</td>\n",
       "      <td>...</td>\n",
       "      <td>...</td>\n",
       "      <td>...</td>\n",
       "    </tr>\n",
       "    <tr>\n",
       "      <th>97</th>\n",
       "      <td>MO</td>\n",
       "      <td>Voice mail</td>\n",
       "      <td>14.0</td>\n",
       "      <td>0.280000</td>\n",
       "    </tr>\n",
       "    <tr>\n",
       "      <th>98</th>\n",
       "      <td>TX</td>\n",
       "      <td>International</td>\n",
       "      <td>4.0</td>\n",
       "      <td>0.076923</td>\n",
       "    </tr>\n",
       "    <tr>\n",
       "      <th>99</th>\n",
       "      <td>TX</td>\n",
       "      <td>Voice mail</td>\n",
       "      <td>12.0</td>\n",
       "      <td>0.230769</td>\n",
       "    </tr>\n",
       "    <tr>\n",
       "      <th>100</th>\n",
       "      <td>CT</td>\n",
       "      <td>International</td>\n",
       "      <td>5.0</td>\n",
       "      <td>0.098039</td>\n",
       "    </tr>\n",
       "    <tr>\n",
       "      <th>101</th>\n",
       "      <td>CT</td>\n",
       "      <td>Voice mail</td>\n",
       "      <td>17.0</td>\n",
       "      <td>0.333333</td>\n",
       "    </tr>\n",
       "  </tbody>\n",
       "</table>\n",
       "<p>102 rows × 4 columns</p>\n",
       "</div>"
      ],
      "text/plain": [
       "    State           Plan  Count      Frac\n",
       "0      MN  International    3.0  0.044776\n",
       "1      MN     Voice mail   21.0  0.313433\n",
       "2      AR  International    7.0  0.152174\n",
       "3      AR     Voice mail   11.0  0.239130\n",
       "4      ND  International    7.0  0.148936\n",
       "..    ...            ...    ...       ...\n",
       "97     MO     Voice mail   14.0  0.280000\n",
       "98     TX  International    4.0  0.076923\n",
       "99     TX     Voice mail   12.0  0.230769\n",
       "100    CT  International    5.0  0.098039\n",
       "101    CT     Voice mail   17.0  0.333333\n",
       "\n",
       "[102 rows x 4 columns]"
      ]
     },
     "execution_count": 34,
     "metadata": {},
     "output_type": "execute_result"
    }
   ],
   "source": [
    "df_pl"
   ]
  },
  {
   "cell_type": "markdown",
   "metadata": {},
   "source": [
    "### Задание 7  \n",
    "  \n",
    "Для нечисловых признаков выполните преобразование к числовому виду. Обоснуйте выбранное преобразование для каждого признака. "
   ]
  },
  {
   "cell_type": "markdown",
   "metadata": {},
   "source": [
    "Phone number уникальный для всех, поэтому не имеет смысла его использовать. Так как вся полезная информация из номера содержиться в Area code, то можем считать, что мы заменили  Phone number на Area code."
   ]
  },
  {
   "cell_type": "code",
   "execution_count": 35,
   "metadata": {},
   "outputs": [],
   "source": [
    "data.drop(['Phone number'], axis=1, inplace=True)"
   ]
  },
  {
   "cell_type": "code",
   "execution_count": 36,
   "metadata": {},
   "outputs": [],
   "source": [
    "labelencoder = LabelEncoder()\n",
    "data['State'] = labelencoder.fit_transform(data['State'])"
   ]
  },
  {
   "cell_type": "markdown",
   "metadata": {},
   "source": [
    "Видим, что Churn вообще не зависит от Sex. Поэтому можно просто удалить этот признак."
   ]
  },
  {
   "cell_type": "code",
   "execution_count": 37,
   "metadata": {},
   "outputs": [
    {
     "data": {
      "text/html": [
       "<div>\n",
       "<style scoped>\n",
       "    .dataframe tbody tr th:only-of-type {\n",
       "        vertical-align: middle;\n",
       "    }\n",
       "\n",
       "    .dataframe tbody tr th {\n",
       "        vertical-align: top;\n",
       "    }\n",
       "\n",
       "    .dataframe thead th {\n",
       "        text-align: right;\n",
       "    }\n",
       "</style>\n",
       "<table border=\"1\" class=\"dataframe\">\n",
       "  <thead>\n",
       "    <tr style=\"text-align: right;\">\n",
       "      <th>Sex</th>\n",
       "      <th>Female</th>\n",
       "      <th>Male</th>\n",
       "      <th>All</th>\n",
       "    </tr>\n",
       "    <tr>\n",
       "      <th>Churn</th>\n",
       "      <th></th>\n",
       "      <th></th>\n",
       "      <th></th>\n",
       "    </tr>\n",
       "  </thead>\n",
       "  <tbody>\n",
       "    <tr>\n",
       "      <th>0</th>\n",
       "      <td>1080</td>\n",
       "      <td>1057</td>\n",
       "      <td>2137</td>\n",
       "    </tr>\n",
       "    <tr>\n",
       "      <th>1</th>\n",
       "      <td>183</td>\n",
       "      <td>179</td>\n",
       "      <td>362</td>\n",
       "    </tr>\n",
       "    <tr>\n",
       "      <th>All</th>\n",
       "      <td>1263</td>\n",
       "      <td>1236</td>\n",
       "      <td>2499</td>\n",
       "    </tr>\n",
       "  </tbody>\n",
       "</table>\n",
       "</div>"
      ],
      "text/plain": [
       "Sex    Female  Male   All\n",
       "Churn                    \n",
       "0        1080  1057  2137\n",
       "1         183   179   362\n",
       "All      1263  1236  2499"
      ]
     },
     "execution_count": 37,
     "metadata": {},
     "output_type": "execute_result"
    }
   ],
   "source": [
    "pd.crosstab(data['Churn'], data['Sex'], margins=True)"
   ]
  },
  {
   "cell_type": "code",
   "execution_count": 38,
   "metadata": {},
   "outputs": [],
   "source": [
    "data.drop(['Sex'], axis=1, inplace=True)"
   ]
  },
  {
   "cell_type": "markdown",
   "metadata": {},
   "source": [
    "Вместо Plans можно ввести 2 параметра. Один отвечает за Voice mail, другой за International."
   ]
  },
  {
   "cell_type": "code",
   "execution_count": 39,
   "metadata": {},
   "outputs": [],
   "source": [
    "data['Roaming'], data['Voice mail'] = 0, 0\n",
    "\n",
    "data.loc[(data['Plans'] == 'International') | (data['Plans'] == 'International, Voice mail'),'Roaming'] = 1\n",
    "\n",
    "data.loc[(data['Plans'] == 'Voice mail') | (data['Plans'] == 'International, Voice mail'),'Voice mail'] = 1"
   ]
  },
  {
   "cell_type": "code",
   "execution_count": 40,
   "metadata": {},
   "outputs": [],
   "source": [
    "data.drop(['Plans'], axis=1, inplace=True)"
   ]
  },
  {
   "cell_type": "markdown",
   "metadata": {},
   "source": [
    "### Задание 8  \n",
    "  \n",
    "Сколько линейно-зависимых признаков присутствует в данных?  \n",
    "Определите и удалите признаки, которые линейно зависят от остальных."
   ]
  },
  {
   "cell_type": "markdown",
   "metadata": {},
   "source": [
    "У нас точно есть линейно зависимые признаки."
   ]
  },
  {
   "cell_type": "code",
   "execution_count": 41,
   "metadata": {},
   "outputs": [
    {
     "data": {
      "text/plain": [
       "1"
      ]
     },
     "execution_count": 41,
     "metadata": {},
     "output_type": "execute_result"
    }
   ],
   "source": [
    "data.shape[1] - np.linalg.matrix_rank(data)"
   ]
  },
  {
   "cell_type": "markdown",
   "metadata": {},
   "source": [
    "Не сложно догадаться, что это группа признаков ...charge."
   ]
  },
  {
   "cell_type": "code",
   "execution_count": 42,
   "metadata": {},
   "outputs": [],
   "source": [
    "df = data[['Total day charge', 'Total eve charge', 'Total night charge', 'Total intl charge', 'Total charge']]"
   ]
  },
  {
   "cell_type": "code",
   "execution_count": 43,
   "metadata": {},
   "outputs": [
    {
     "data": {
      "text/plain": [
       "1"
      ]
     },
     "execution_count": 43,
     "metadata": {},
     "output_type": "execute_result"
    }
   ],
   "source": [
    "df.shape[1] - np.linalg.matrix_rank(df)"
   ]
  },
  {
   "cell_type": "markdown",
   "metadata": {},
   "source": [
    "Поэтому удалим признак Total charge."
   ]
  },
  {
   "cell_type": "code",
   "execution_count": 44,
   "metadata": {},
   "outputs": [],
   "source": [
    "data.drop(['Total charge'], axis=1, inplace=True)"
   ]
  },
  {
   "cell_type": "markdown",
   "metadata": {},
   "source": [
    "Как мы узнали ранее тарифные планы для всех пользователей одинаковые, поэтому можем удалить все признаки содержащие Charge."
   ]
  },
  {
   "cell_type": "code",
   "execution_count": 45,
   "metadata": {},
   "outputs": [],
   "source": [
    "data.drop(['Total ' + i +' charge' for i in tariff_plans], axis=1, inplace=True)"
   ]
  },
  {
   "cell_type": "markdown",
   "metadata": {},
   "source": [
    "Мы знаем, что те у кого не подклчена голосовая почта не могу её использовать и наоборот, все, у кого она подключена её используют."
   ]
  },
  {
   "cell_type": "code",
   "execution_count": 46,
   "metadata": {},
   "outputs": [
    {
     "data": {
      "text/plain": [
       "4"
      ]
     },
     "execution_count": 46,
     "metadata": {},
     "output_type": "execute_result"
    }
   ],
   "source": [
    "data[data['Voice mail'] == 1]['Number vmail messages'].min()"
   ]
  },
  {
   "cell_type": "markdown",
   "metadata": {},
   "source": [
    "Поэтому можем удалить созданный нами признак Voice mail"
   ]
  },
  {
   "cell_type": "code",
   "execution_count": 47,
   "metadata": {},
   "outputs": [],
   "source": [
    "data.drop(['Voice mail'], axis=1, inplace=True)"
   ]
  },
  {
   "cell_type": "markdown",
   "metadata": {},
   "source": [
    "### Задание 9  \n",
    "  \n",
    "Проведите анализ зависимости признаков.  \n",
    "Для числовых признаков вычислите корреляции друг с другом и с целевой переменной `Churn`. Постройте heatmap.  \n",
    "Для категориальных признаков оцените их связь с целевой переменной, постройте графики.  \n",
    "  \n",
    "Сделайте выводы по результатм анализа. Можно ли избавиться от некоторых признаков? Если да, то от каких и почему?"
   ]
  },
  {
   "cell_type": "markdown",
   "metadata": {},
   "source": []
  },
  {
   "cell_type": "markdown",
   "metadata": {},
   "source": [
    "Сразу удалим ID."
   ]
  },
  {
   "cell_type": "code",
   "execution_count": 48,
   "metadata": {},
   "outputs": [],
   "source": [
    "data.drop(['ID'], axis=1, inplace=True)"
   ]
  },
  {
   "cell_type": "markdown",
   "metadata": {},
   "source": [
    "Видно, что Churn не зависит от Area code"
   ]
  },
  {
   "cell_type": "code",
   "execution_count": 49,
   "metadata": {},
   "outputs": [
    {
     "data": {
      "text/html": [
       "<div>\n",
       "<style scoped>\n",
       "    .dataframe tbody tr th:only-of-type {\n",
       "        vertical-align: middle;\n",
       "    }\n",
       "\n",
       "    .dataframe tbody tr th {\n",
       "        vertical-align: top;\n",
       "    }\n",
       "\n",
       "    .dataframe thead th {\n",
       "        text-align: right;\n",
       "    }\n",
       "</style>\n",
       "<table border=\"1\" class=\"dataframe\">\n",
       "  <thead>\n",
       "    <tr style=\"text-align: right;\">\n",
       "      <th>Area code</th>\n",
       "      <th>408</th>\n",
       "      <th>415</th>\n",
       "      <th>510</th>\n",
       "      <th>All</th>\n",
       "    </tr>\n",
       "    <tr>\n",
       "      <th>Churn</th>\n",
       "      <th></th>\n",
       "      <th></th>\n",
       "      <th></th>\n",
       "      <th></th>\n",
       "    </tr>\n",
       "  </thead>\n",
       "  <tbody>\n",
       "    <tr>\n",
       "      <th>0</th>\n",
       "      <td>533</td>\n",
       "      <td>1077</td>\n",
       "      <td>527</td>\n",
       "      <td>2137</td>\n",
       "    </tr>\n",
       "    <tr>\n",
       "      <th>1</th>\n",
       "      <td>99</td>\n",
       "      <td>170</td>\n",
       "      <td>93</td>\n",
       "      <td>362</td>\n",
       "    </tr>\n",
       "    <tr>\n",
       "      <th>All</th>\n",
       "      <td>632</td>\n",
       "      <td>1247</td>\n",
       "      <td>620</td>\n",
       "      <td>2499</td>\n",
       "    </tr>\n",
       "  </tbody>\n",
       "</table>\n",
       "</div>"
      ],
      "text/plain": [
       "Area code  408   415  510   All\n",
       "Churn                          \n",
       "0          533  1077  527  2137\n",
       "1           99   170   93   362\n",
       "All        632  1247  620  2499"
      ]
     },
     "execution_count": 49,
     "metadata": {},
     "output_type": "execute_result"
    }
   ],
   "source": [
    "pd.crosstab(data['Churn'], data['Area code'], margins=True)"
   ]
  },
  {
   "cell_type": "code",
   "execution_count": 50,
   "metadata": {},
   "outputs": [],
   "source": [
    "data.drop(['Area code'], axis=1, inplace=True)"
   ]
  },
  {
   "cell_type": "markdown",
   "metadata": {},
   "source": [
    "Корреляция всех оставшихся признаков."
   ]
  },
  {
   "cell_type": "code",
   "execution_count": 51,
   "metadata": {},
   "outputs": [
    {
     "data": {
      "image/png": "[encoded data removed]",
      "text/plain": [
       "<Figure size 1080x720 with 2 Axes>"
      ]
     },
     "metadata": {},
     "output_type": "display_data"
    }
   ],
   "source": [
    "plt.figure(figsize=(15, 10))\n",
    "sns.heatmap(data.corr(), annot=True, cmap='Blues')\n",
    "plt.show()"
   ]
  },
  {
   "cell_type": "markdown",
   "metadata": {},
   "source": [
    "### Задание 10  \n",
    "  \n",
    "Рассмотрим основанную на правилах модель для предсказания оттока клиентов: \n",
    "* Если у пользователя подключен роуминг (International plan) & клиент звонил в тех. поддержку более 3-х раз => клиент уйдет (Churn = True)\n",
    "* Иначе => клиент останется (Churn = False)  \n",
    "  \n",
    "  \n",
    "Оцените качество данной модели на 5-fold валидации из 5 повторений. Для оценки качества рассмотрите различные метрики: F1-score, precision, recall, accuracy, balanced accuracy. Дайте комментарий к оценке."
   ]
  },
  {
   "cell_type": "code",
   "execution_count": 52,
   "metadata": {},
   "outputs": [],
   "source": [
    "X = data.drop('Churn', axis=1)\n",
    "Y = data['Churn']"
   ]
  },
  {
   "cell_type": "code",
   "execution_count": 53,
   "metadata": {},
   "outputs": [],
   "source": [
    "X['pred'] = 0\n",
    "X.loc[(X['Roaming'] == 1) & (X['Customer service calls'] > 3), 'pred'] = 1"
   ]
  },
  {
   "cell_type": "markdown",
   "metadata": {},
   "source": [
    "Найдём средние значения метрик по всем 5 повторения 5-fold валидации."
   ]
  },
  {
   "cell_type": "code",
   "execution_count": 54,
   "metadata": {},
   "outputs": [
    {
     "name": "stdout",
     "output_type": "stream",
     "text": [
      "F1: 0.06659\n",
      "recall: 0.03550\n",
      "precision: 0.57400\n",
      "accuracy: 0.85755\n",
      "balanced accuracy: 0.51611\n"
     ]
    }
   ],
   "source": [
    "mtrcs_sum = [0]*5\n",
    "\n",
    "for i in range(5):\n",
    "    kf = KFold(n_splits=5, shuffle=True, random_state = 228*i)\n",
    "    kf.get_n_splits(X)\n",
    "\n",
    "    for _, test_index in kf.split(X):\n",
    "        pr = X.iloc[test_index]['pred']\n",
    "        answ = Y[test_index]\n",
    "\n",
    "        mtrcs_sum += tmp_mtrcs(answ, pr)\n",
    "        \n",
    "mtrcs_mean = mtrcs_sum/25   \n",
    "\n",
    "prnt_mtrcs(mtrcs_mean)"
   ]
  },
  {
   "cell_type": "markdown",
   "metadata": {},
   "source": [
    "F1 всегда очень низкая. Recall так же очень низкий, модель пропускает большинство ушедших клиентов. Precision не такой низкий, но в любом случае плохой, модель часто путает клиентов которые уйдут и тех, которые остануться. Accuracy высокий из-за того, что клиентов, которые ушли значительно меньше. Balanced accuracy уже не такое высокое.\n",
    "Модель плохая!"
   ]
  },
  {
   "cell_type": "markdown",
   "metadata": {},
   "source": [
    "Значения на всех данных не сильно отличаются от средних на k-fold. Что не удивительно!\n",
    "\n",
    "Roc auc находится около значения 0.5, а это практически минимальное значение."
   ]
  },
  {
   "cell_type": "code",
   "execution_count": 55,
   "metadata": {},
   "outputs": [
    {
     "name": "stdout",
     "output_type": "stream",
     "text": [
      "F1: 0.06806\n",
      "recall: 0.03591\n",
      "precision: 0.65000\n",
      "accuracy: 0.85754\n",
      "balanced accuracy: 0.51632\n"
     ]
    }
   ],
   "source": [
    "prnt_mtrcs(tmp_mtrcs(Y, X['pred']))"
   ]
  },
  {
   "cell_type": "markdown",
   "metadata": {},
   "source": [
    "Если вообще не учитывать количество звонков в поддержку, то некоторые метрики ненмого возрастают."
   ]
  },
  {
   "cell_type": "code",
   "execution_count": 56,
   "metadata": {},
   "outputs": [
    {
     "name": "stdout",
     "output_type": "stream",
     "text": [
      "F1: 0.32119\n",
      "recall: 0.26796\n",
      "precision: 0.40083\n",
      "accuracy: 0.83593\n",
      "balanced accuracy: 0.60005\n"
     ]
    }
   ],
   "source": [
    "X['pred'] = 0\n",
    "X.loc[X['Roaming'] == 1, 'pred'] = 1\n",
    "prnt_mtrcs(tmp_mtrcs(Y, X['pred']))"
   ]
  },
  {
   "cell_type": "code",
   "execution_count": 57,
   "metadata": {},
   "outputs": [],
   "source": [
    "X.drop(['pred'], axis=1, inplace=True)"
   ]
  },
  {
   "cell_type": "markdown",
   "metadata": {},
   "source": [
    "# Преобразование тестовых данных"
   ]
  },
  {
   "cell_type": "code",
   "execution_count": 58,
   "metadata": {},
   "outputs": [],
   "source": [
    "df_test = pd.read_csv('test.csv', sep=';')"
   ]
  },
  {
   "cell_type": "code",
   "execution_count": 59,
   "metadata": {},
   "outputs": [],
   "source": [
    "df_test.drop(['Total day charge', 'Total eve charge',\n",
    "              'Total night charge', 'Total intl charge',\n",
    "              'Total charge', 'ID', 'Sex', 'Age', 'Phone number'], axis=1, inplace=True)"
   ]
  },
  {
   "cell_type": "code",
   "execution_count": 60,
   "metadata": {},
   "outputs": [],
   "source": [
    "df_test['Plans'] = df_test['Plans'].fillna('None')"
   ]
  },
  {
   "cell_type": "code",
   "execution_count": 61,
   "metadata": {},
   "outputs": [],
   "source": [
    "df_test['Roaming'] = 0\n",
    "\n",
    "df_test.loc[(df_test['Plans'] == 'International') | (df_test['Plans'] == 'International, Voice mail'),'Roaming'] = 1"
   ]
  },
  {
   "cell_type": "code",
   "execution_count": 62,
   "metadata": {},
   "outputs": [],
   "source": [
    "df_test.drop(['Plans'], axis=1, inplace=True)"
   ]
  },
  {
   "cell_type": "code",
   "execution_count": 63,
   "metadata": {},
   "outputs": [],
   "source": [
    "labelencoder = LabelEncoder()\n",
    "df_test['State'] = labelencoder.fit_transform(df_test['State'])"
   ]
  },
  {
   "cell_type": "code",
   "execution_count": 64,
   "metadata": {},
   "outputs": [],
   "source": [
    "non_num = df_test.dtypes[df_test.dtypes == 'object'].index.tolist()"
   ]
  },
  {
   "cell_type": "code",
   "execution_count": 65,
   "metadata": {},
   "outputs": [],
   "source": [
    "for i in non_num:\n",
    "    for j in df_test[i]:\n",
    "        new_val = j\n",
    "        \n",
    "        if not isfloat(j):\n",
    "            for x, y in ('o', '0'), ('l', '1'), (',', '.'), (' hundred', ''):\n",
    "                new_val = new_val.replace(x, y)\n",
    "            if 'hundred' in j:\n",
    "                new_val = str(float(new_val)*100)\n",
    "            \n",
    "            df_test.loc[df_test[i] == j, i] = new_val"
   ]
  },
  {
   "cell_type": "code",
   "execution_count": 66,
   "metadata": {},
   "outputs": [],
   "source": [
    "df_test[non_num] = df_test[non_num].apply(pd.to_numeric)"
   ]
  },
  {
   "cell_type": "markdown",
   "metadata": {},
   "source": [
    "## Часть 2. Методы машинного обучения <a id=\"part2\"></a>"
   ]
  },
  {
   "cell_type": "markdown",
   "metadata": {},
   "source": [
    "*Вес в общей оценке - 0.5*"
   ]
  },
  {
   "cell_type": "markdown",
   "metadata": {},
   "source": [
    "Продолжаем работать с данными по оттоку клиентов.  \n",
    "Сформулируем задачу машинного обучения: необходимо построить модель, определяющую, останется клиент или уйдет. \n",
    "  \n",
    "Для решения заданий, представленных ниже, необходимо использовать данные, полученные после выполнения всех преобразований в первой части. "
   ]
  },
  {
   "cell_type": "markdown",
   "metadata": {},
   "source": [
    "### Задание 1  \n",
    "  \n",
    "* Постройте дерево решений глубины 5 (остальные параметры по умолчанию), оцените качество на 5-fold валидации.  \n",
    "* Для одного из деревьев (т.е. обученного на одной из итераций кросс-валидации) выведите само дерево - постройте график или выведите в текстовом виде. По структуре дерева сформулируйте правила, по которым принимается решение.  \n",
    "* Сравните между собой деревья решений, полученных на различных итерациях 5-fold валидации. Сделайте вывод, насколько сильно они похожи или различаются между собой. "
   ]
  },
  {
   "cell_type": "markdown",
   "metadata": {},
   "source": [
    "Значения метрик на каждой итерации."
   ]
  },
  {
   "cell_type": "code",
   "execution_count": 67,
   "metadata": {},
   "outputs": [
    {
     "name": "stdout",
     "output_type": "stream",
     "text": [
      "F1: 0.64286\n",
      "recall: 0.53731\n",
      "precision: 0.80000\n",
      "accuracy: 0.92000\n",
      "balanced accuracy: 0.75826\n",
      "\n",
      "F1: 0.72152\n",
      "recall: 0.67059\n",
      "precision: 0.78082\n",
      "accuracy: 0.91200\n",
      "balanced accuracy: 0.81602\n",
      "\n",
      "F1: 0.74227\n",
      "recall: 0.64286\n",
      "precision: 0.87805\n",
      "accuracy: 0.95000\n",
      "balanced accuracy: 0.81580\n",
      "\n",
      "F1: 0.80556\n",
      "recall: 0.72500\n",
      "precision: 0.90625\n",
      "accuracy: 0.94400\n",
      "balanced accuracy: 0.85536\n",
      "\n",
      "F1: 0.75000\n",
      "recall: 0.68919\n",
      "precision: 0.82258\n",
      "accuracy: 0.93186\n",
      "balanced accuracy: 0.83165\n",
      "\n"
     ]
    }
   ],
   "source": [
    "kf = KFold(n_splits=5, shuffle=True, random_state = 322)\n",
    "kf.get_n_splits(X)\n",
    "\n",
    "mtrcs_sum = [0]*5\n",
    "\n",
    "for train_index, test_index in kf.split(X):\n",
    "        dt = DecisionTreeClassifier(max_depth=5)\n",
    "        dt.fit(X.iloc[train_index], Y.iloc[train_index])\n",
    "        \n",
    "        pr = dt.predict(X.iloc[test_index])\n",
    "        answ = Y[test_index]\n",
    "        \n",
    "        prnt_mtrcs(tmp_mtrcs(answ, pr))\n",
    "        print()\n",
    "        \n",
    "        mtrcs_sum += tmp_mtrcs(answ, pr)\n",
    "\n",
    "mtrcs_mean = mtrcs_sum/5   "
   ]
  },
  {
   "cell_type": "markdown",
   "metadata": {},
   "source": [
    "Средние значения всех метрик."
   ]
  },
  {
   "cell_type": "code",
   "execution_count": 70,
   "metadata": {},
   "outputs": [
    {
     "name": "stdout",
     "output_type": "stream",
     "text": [
      "F1: 0.72916\n",
      "recall: 0.64828\n",
      "precision: 0.83631\n",
      "accuracy: 0.93077\n",
      "balanced accuracy: 0.81306\n"
     ]
    }
   ],
   "source": [
    "prnt_mtrcs(mtrcs_mean)"
   ]
  },
  {
   "cell_type": "markdown",
   "metadata": {},
   "source": [
    "Самое лучшее дерево четвёртое, поэтому посмотрим на него."
   ]
  },
  {
   "cell_type": "code",
   "execution_count": 71,
   "metadata": {},
   "outputs": [],
   "source": [
    "ind_tr = list(kf.split(X))[3][0]\n",
    "\n",
    "x_train_kf = X.iloc[ind_tr]\n",
    "y_train_kf = Y.iloc[ind_tr]"
   ]
  },
  {
   "cell_type": "code",
   "execution_count": 72,
   "metadata": {},
   "outputs": [],
   "source": [
    "dt = DecisionTreeClassifier(max_depth=5)\n",
    "dt.fit(x_train_kf, y_train_kf)\n",
    "\n",
    "dot_data = export_graphviz(dt, \n",
    "                           out_file=None, \n",
    "                           feature_names=x_train_kf.columns, \n",
    "                           class_names=['0', '1'],\n",
    "                           filled=True, \n",
    "                           rounded=True, \n",
    "                           special_characters=True)\n",
    "\n",
    "graph = graphviz.Source(dot_data) "
   ]
  },
  {
   "cell_type": "markdown",
   "metadata": {},
   "source": [
    "В основном дерево смотрит на количество звонков/минут. Людей которые много звонят, оно относит к классу \"ушедших\", а тех, которые мало к классу \"оставшихся\". \n",
    "\n",
    "Изначально дерево смотри много ли люди говорят по телефону днём, затем смотрит на подключённые услуги и количество звонков в поддержку. А дальше уже смотрит по различным \"типам звонков\"(описано выше)."
   ]
  },
  {
   "cell_type": "code",
   "execution_count": 73,
   "metadata": {
    "scrolled": false
   },
   "outputs": [
    {
     "data": {
      "image/svg+xml": [
       "<?xml version=\"1.0\" encoding=\"UTF-8\" standalone=\"no\"?>\n",
       "<!DOCTYPE svg PUBLIC \"-//W3C//DTD SVG 1.1//EN\"\n",
       " \"http://www.w3.org/Graphics/SVG/1.1/DTD/svg11.dtd\">\n",
       "<!-- Generated by graphviz version 2.40.1 (20161225.0304)\n",
       " -->\n",
       "<!-- Title: Tree Pages: 1 -->\n",
       "<svg width=\"3085pt\" height=\"671pt\"\n",
       " viewBox=\"0.00 0.00 3085.00 671.00\" xmlns=\"http://www.w3.org/2000/svg\" xmlns:xlink=\"http://www.w3.org/1999/xlink\">\n",
       "<g id=\"graph0\" class=\"graph\" transform=\"scale(1 1) rotate(0) translate(4 667)\">\n",
       "<title>Tree</title>\n",
       "<polygon fill=\"#ffffff\" stroke=\"transparent\" points=\"-4,4 -4,-667 3081,-667 3081,4 -4,4\"/>\n",
       "<!-- 0 -->\n",
       "<g id=\"node1\" class=\"node\">\n",
       "<title>0</title>\n",
       "<path fill=\"#e9965a\" stroke=\"#000000\" d=\"M1767,-663C1767,-663 1610,-663 1610,-663 1604,-663 1598,-657 1598,-651 1598,-651 1598,-592 1598,-592 1598,-586 1604,-580 1610,-580 1610,-580 1767,-580 1767,-580 1773,-580 1779,-586 1779,-592 1779,-592 1779,-651 1779,-651 1779,-657 1773,-663 1767,-663\"/>\n",
       "<text text-anchor=\"start\" x=\"1606\" y=\"-647.8\" font-family=\"Helvetica,sans-Serif\" font-size=\"14.00\" fill=\"#000000\">Total day minutes ≤ 264.55</text>\n",
       "<text text-anchor=\"start\" x=\"1653\" y=\"-632.8\" font-family=\"Helvetica,sans-Serif\" font-size=\"14.00\" fill=\"#000000\">gini = 0.242</text>\n",
       "<text text-anchor=\"start\" x=\"1640\" y=\"-617.8\" font-family=\"Helvetica,sans-Serif\" font-size=\"14.00\" fill=\"#000000\">samples = 1999</text>\n",
       "<text text-anchor=\"start\" x=\"1630.5\" y=\"-602.8\" font-family=\"Helvetica,sans-Serif\" font-size=\"14.00\" fill=\"#000000\">value = [1717, 282]</text>\n",
       "<text text-anchor=\"start\" x=\"1661\" y=\"-587.8\" font-family=\"Helvetica,sans-Serif\" font-size=\"14.00\" fill=\"#000000\">class = 0</text>\n",
       "</g>\n",
       "<!-- 1 -->\n",
       "<g id=\"node2\" class=\"node\">\n",
       "<title>1</title>\n",
       "<path fill=\"#e89151\" stroke=\"#000000\" d=\"M1290.5,-544C1290.5,-544 1126.5,-544 1126.5,-544 1120.5,-544 1114.5,-538 1114.5,-532 1114.5,-532 1114.5,-473 1114.5,-473 1114.5,-467 1120.5,-461 1126.5,-461 1126.5,-461 1290.5,-461 1290.5,-461 1296.5,-461 1302.5,-467 1302.5,-473 1302.5,-473 1302.5,-532 1302.5,-532 1302.5,-538 1296.5,-544 1290.5,-544\"/>\n",
       "<text text-anchor=\"start\" x=\"1122.5\" y=\"-528.8\" font-family=\"Helvetica,sans-Serif\" font-size=\"14.00\" fill=\"#000000\">Customer service calls ≤ 3.5</text>\n",
       "<text text-anchor=\"start\" x=\"1173\" y=\"-513.8\" font-family=\"Helvetica,sans-Serif\" font-size=\"14.00\" fill=\"#000000\">gini = 0.195</text>\n",
       "<text text-anchor=\"start\" x=\"1160\" y=\"-498.8\" font-family=\"Helvetica,sans-Serif\" font-size=\"14.00\" fill=\"#000000\">samples = 1869</text>\n",
       "<text text-anchor=\"start\" x=\"1150.5\" y=\"-483.8\" font-family=\"Helvetica,sans-Serif\" font-size=\"14.00\" fill=\"#000000\">value = [1664, 205]</text>\n",
       "<text text-anchor=\"start\" x=\"1181\" y=\"-468.8\" font-family=\"Helvetica,sans-Serif\" font-size=\"14.00\" fill=\"#000000\">class = 0</text>\n",
       "</g>\n",
       "<!-- 0&#45;&gt;1 -->\n",
       "<g id=\"edge1\" class=\"edge\">\n",
       "<title>0&#45;&gt;1</title>\n",
       "<path fill=\"none\" stroke=\"#000000\" d=\"M1597.9337,-599.0471C1516.7894,-578.9301 1397.7935,-549.429 1312.7203,-528.3379\"/>\n",
       "<polygon fill=\"#000000\" stroke=\"#000000\" points=\"1313.3275,-524.8826 1302.7791,-525.8734 1311.643,-531.6769 1313.3275,-524.8826\"/>\n",
       "<text text-anchor=\"middle\" x=\"1315.6835\" y=\"-543.5854\" font-family=\"Helvetica,sans-Serif\" font-size=\"14.00\" fill=\"#000000\">True</text>\n",
       "</g>\n",
       "<!-- 30 -->\n",
       "<g id=\"node31\" class=\"node\">\n",
       "<title>30</title>\n",
       "<path fill=\"#c1e0f7\" stroke=\"#000000\" d=\"M2246.5,-544C2246.5,-544 2068.5,-544 2068.5,-544 2062.5,-544 2056.5,-538 2056.5,-532 2056.5,-532 2056.5,-473 2056.5,-473 2056.5,-467 2062.5,-461 2068.5,-461 2068.5,-461 2246.5,-461 2246.5,-461 2252.5,-461 2258.5,-467 2258.5,-473 2258.5,-473 2258.5,-532 2258.5,-532 2258.5,-538 2252.5,-544 2246.5,-544\"/>\n",
       "<text text-anchor=\"start\" x=\"2064.5\" y=\"-528.8\" font-family=\"Helvetica,sans-Serif\" font-size=\"14.00\" fill=\"#000000\">Number vmail messages ≤ 6.5</text>\n",
       "<text text-anchor=\"start\" x=\"2122\" y=\"-513.8\" font-family=\"Helvetica,sans-Serif\" font-size=\"14.00\" fill=\"#000000\">gini = 0.483</text>\n",
       "<text text-anchor=\"start\" x=\"2112.5\" y=\"-498.8\" font-family=\"Helvetica,sans-Serif\" font-size=\"14.00\" fill=\"#000000\">samples = 130</text>\n",
       "<text text-anchor=\"start\" x=\"2110.5\" y=\"-483.8\" font-family=\"Helvetica,sans-Serif\" font-size=\"14.00\" fill=\"#000000\">value = [53, 77]</text>\n",
       "<text text-anchor=\"start\" x=\"2130\" y=\"-468.8\" font-family=\"Helvetica,sans-Serif\" font-size=\"14.00\" fill=\"#000000\">class = 1</text>\n",
       "</g>\n",
       "<!-- 0&#45;&gt;30 -->\n",
       "<g id=\"edge30\" class=\"edge\">\n",
       "<title>0&#45;&gt;30</title>\n",
       "<path fill=\"none\" stroke=\"#000000\" d=\"M1779.2058,-598.4851C1855.5865,-579.1049 1965.1173,-551.3135 2046.6816,-530.6181\"/>\n",
       "<polygon fill=\"#000000\" stroke=\"#000000\" points=\"2047.6537,-533.9824 2056.4857,-528.1305 2045.932,-527.1974 2047.6537,-533.9824\"/>\n",
       "<text text-anchor=\"middle\" x=\"2043.6986\" y=\"-545.9128\" font-family=\"Helvetica,sans-Serif\" font-size=\"14.00\" fill=\"#000000\">False</text>\n",
       "</g>\n",
       "<!-- 2 -->\n",
       "<g id=\"node3\" class=\"node\">\n",
       "<title>2</title>\n",
       "<path fill=\"#e78b49\" stroke=\"#000000\" d=\"M749.5,-425C749.5,-425 641.5,-425 641.5,-425 635.5,-425 629.5,-419 629.5,-413 629.5,-413 629.5,-354 629.5,-354 629.5,-348 635.5,-342 641.5,-342 641.5,-342 749.5,-342 749.5,-342 755.5,-342 761.5,-348 761.5,-354 761.5,-354 761.5,-413 761.5,-413 761.5,-419 755.5,-425 749.5,-425\"/>\n",
       "<text text-anchor=\"start\" x=\"650.5\" y=\"-409.8\" font-family=\"Helvetica,sans-Serif\" font-size=\"14.00\" fill=\"#000000\">Roaming ≤ 0.5</text>\n",
       "<text text-anchor=\"start\" x=\"660\" y=\"-394.8\" font-family=\"Helvetica,sans-Serif\" font-size=\"14.00\" fill=\"#000000\">gini = 0.139</text>\n",
       "<text text-anchor=\"start\" x=\"647\" y=\"-379.8\" font-family=\"Helvetica,sans-Serif\" font-size=\"14.00\" fill=\"#000000\">samples = 1730</text>\n",
       "<text text-anchor=\"start\" x=\"637.5\" y=\"-364.8\" font-family=\"Helvetica,sans-Serif\" font-size=\"14.00\" fill=\"#000000\">value = [1600, 130]</text>\n",
       "<text text-anchor=\"start\" x=\"668\" y=\"-349.8\" font-family=\"Helvetica,sans-Serif\" font-size=\"14.00\" fill=\"#000000\">class = 0</text>\n",
       "</g>\n",
       "<!-- 1&#45;&gt;2 -->\n",
       "<g id=\"edge2\" class=\"edge\">\n",
       "<title>1&#45;&gt;2</title>\n",
       "<path fill=\"none\" stroke=\"#000000\" d=\"M1114.4079,-480.6736C1015.8508,-457.8114 862.9493,-422.343 771.6815,-401.1717\"/>\n",
       "<polygon fill=\"#000000\" stroke=\"#000000\" points=\"772.2156,-397.7028 761.6833,-398.8525 770.6338,-404.5217 772.2156,-397.7028\"/>\n",
       "</g>\n",
       "<!-- 15 -->\n",
       "<g id=\"node16\" class=\"node\">\n",
       "<title>15</title>\n",
       "<path fill=\"#e2f1fb\" stroke=\"#000000\" d=\"M1283,-425C1283,-425 1134,-425 1134,-425 1128,-425 1122,-419 1122,-413 1122,-413 1122,-354 1122,-354 1122,-348 1128,-342 1134,-342 1134,-342 1283,-342 1283,-342 1289,-342 1295,-348 1295,-354 1295,-354 1295,-413 1295,-413 1295,-419 1289,-425 1283,-425\"/>\n",
       "<text text-anchor=\"start\" x=\"1130\" y=\"-409.8\" font-family=\"Helvetica,sans-Serif\" font-size=\"14.00\" fill=\"#000000\">Total day minutes ≤ 160.2</text>\n",
       "<text text-anchor=\"start\" x=\"1173\" y=\"-394.8\" font-family=\"Helvetica,sans-Serif\" font-size=\"14.00\" fill=\"#000000\">gini = 0.497</text>\n",
       "<text text-anchor=\"start\" x=\"1163.5\" y=\"-379.8\" font-family=\"Helvetica,sans-Serif\" font-size=\"14.00\" fill=\"#000000\">samples = 139</text>\n",
       "<text text-anchor=\"start\" x=\"1161.5\" y=\"-364.8\" font-family=\"Helvetica,sans-Serif\" font-size=\"14.00\" fill=\"#000000\">value = [64, 75]</text>\n",
       "<text text-anchor=\"start\" x=\"1181\" y=\"-349.8\" font-family=\"Helvetica,sans-Serif\" font-size=\"14.00\" fill=\"#000000\">class = 1</text>\n",
       "</g>\n",
       "<!-- 1&#45;&gt;15 -->\n",
       "<g id=\"edge15\" class=\"edge\">\n",
       "<title>1&#45;&gt;15</title>\n",
       "<path fill=\"none\" stroke=\"#000000\" d=\"M1208.5,-460.8796C1208.5,-452.6838 1208.5,-443.9891 1208.5,-435.5013\"/>\n",
       "<polygon fill=\"#000000\" stroke=\"#000000\" points=\"1212.0001,-435.298 1208.5,-425.2981 1205.0001,-435.2981 1212.0001,-435.298\"/>\n",
       "</g>\n",
       "<!-- 3 -->\n",
       "<g id=\"node4\" class=\"node\">\n",
       "<title>3</title>\n",
       "<path fill=\"#e68844\" stroke=\"#000000\" d=\"M486,-306C486,-306 329,-306 329,-306 323,-306 317,-300 317,-294 317,-294 317,-235 317,-235 317,-229 323,-223 329,-223 329,-223 486,-223 486,-223 492,-223 498,-229 498,-235 498,-235 498,-294 498,-294 498,-300 492,-306 486,-306\"/>\n",
       "<text text-anchor=\"start\" x=\"325\" y=\"-290.8\" font-family=\"Helvetica,sans-Serif\" font-size=\"14.00\" fill=\"#000000\">Total day minutes ≤ 221.85</text>\n",
       "<text text-anchor=\"start\" x=\"372\" y=\"-275.8\" font-family=\"Helvetica,sans-Serif\" font-size=\"14.00\" fill=\"#000000\">gini = 0.097</text>\n",
       "<text text-anchor=\"start\" x=\"359\" y=\"-260.8\" font-family=\"Helvetica,sans-Serif\" font-size=\"14.00\" fill=\"#000000\">samples = 1569</text>\n",
       "<text text-anchor=\"start\" x=\"353\" y=\"-245.8\" font-family=\"Helvetica,sans-Serif\" font-size=\"14.00\" fill=\"#000000\">value = [1489, 80]</text>\n",
       "<text text-anchor=\"start\" x=\"380\" y=\"-230.8\" font-family=\"Helvetica,sans-Serif\" font-size=\"14.00\" fill=\"#000000\">class = 0</text>\n",
       "</g>\n",
       "<!-- 2&#45;&gt;3 -->\n",
       "<g id=\"edge3\" class=\"edge\">\n",
       "<title>2&#45;&gt;3</title>\n",
       "<path fill=\"none\" stroke=\"#000000\" d=\"M629.427,-356.199C593.298,-341.2707 547.8036,-322.4727 507.4257,-305.7888\"/>\n",
       "<polygon fill=\"#000000\" stroke=\"#000000\" points=\"508.6688,-302.5154 498.0901,-301.9313 505.9956,-308.9849 508.6688,-302.5154\"/>\n",
       "</g>\n",
       "<!-- 10 -->\n",
       "<g id=\"node11\" class=\"node\">\n",
       "<title>10</title>\n",
       "<path fill=\"#f1ba92\" stroke=\"#000000\" d=\"M764,-306C764,-306 627,-306 627,-306 621,-306 615,-300 615,-294 615,-294 615,-235 615,-235 615,-229 621,-223 627,-223 627,-223 764,-223 764,-223 770,-223 776,-229 776,-235 776,-235 776,-294 776,-294 776,-300 770,-306 764,-306\"/>\n",
       "<text text-anchor=\"start\" x=\"623\" y=\"-290.8\" font-family=\"Helvetica,sans-Serif\" font-size=\"14.00\" fill=\"#000000\">Total intl minutes ≤ 13.1</text>\n",
       "<text text-anchor=\"start\" x=\"660\" y=\"-275.8\" font-family=\"Helvetica,sans-Serif\" font-size=\"14.00\" fill=\"#000000\">gini = 0.428</text>\n",
       "<text text-anchor=\"start\" x=\"650.5\" y=\"-260.8\" font-family=\"Helvetica,sans-Serif\" font-size=\"14.00\" fill=\"#000000\">samples = 161</text>\n",
       "<text text-anchor=\"start\" x=\"645\" y=\"-245.8\" font-family=\"Helvetica,sans-Serif\" font-size=\"14.00\" fill=\"#000000\">value = [111, 50]</text>\n",
       "<text text-anchor=\"start\" x=\"668\" y=\"-230.8\" font-family=\"Helvetica,sans-Serif\" font-size=\"14.00\" fill=\"#000000\">class = 0</text>\n",
       "</g>\n",
       "<!-- 2&#45;&gt;10 -->\n",
       "<g id=\"edge10\" class=\"edge\">\n",
       "<title>2&#45;&gt;10</title>\n",
       "<path fill=\"none\" stroke=\"#000000\" d=\"M695.5,-341.8796C695.5,-333.6838 695.5,-324.9891 695.5,-316.5013\"/>\n",
       "<polygon fill=\"#000000\" stroke=\"#000000\" points=\"699.0001,-316.298 695.5,-306.2981 692.0001,-316.2981 699.0001,-316.298\"/>\n",
       "</g>\n",
       "<!-- 4 -->\n",
       "<g id=\"node5\" class=\"node\">\n",
       "<title>4</title>\n",
       "<path fill=\"#e6853f\" stroke=\"#000000\" d=\"M256,-187C256,-187 125,-187 125,-187 119,-187 113,-181 113,-175 113,-175 113,-116 113,-116 113,-110 119,-104 125,-104 125,-104 256,-104 256,-104 262,-104 268,-110 268,-116 268,-116 268,-175 268,-175 268,-181 262,-187 256,-187\"/>\n",
       "<text text-anchor=\"start\" x=\"121\" y=\"-171.8\" font-family=\"Helvetica,sans-Serif\" font-size=\"14.00\" fill=\"#000000\">Account length ≤ 224.5</text>\n",
       "<text text-anchor=\"start\" x=\"155\" y=\"-156.8\" font-family=\"Helvetica,sans-Serif\" font-size=\"14.00\" fill=\"#000000\">gini = 0.056</text>\n",
       "<text text-anchor=\"start\" x=\"142\" y=\"-141.8\" font-family=\"Helvetica,sans-Serif\" font-size=\"14.00\" fill=\"#000000\">samples = 1317</text>\n",
       "<text text-anchor=\"start\" x=\"136\" y=\"-126.8\" font-family=\"Helvetica,sans-Serif\" font-size=\"14.00\" fill=\"#000000\">value = [1279, 38]</text>\n",
       "<text text-anchor=\"start\" x=\"163\" y=\"-111.8\" font-family=\"Helvetica,sans-Serif\" font-size=\"14.00\" fill=\"#000000\">class = 0</text>\n",
       "</g>\n",
       "<!-- 3&#45;&gt;4 -->\n",
       "<g id=\"edge4\" class=\"edge\">\n",
       "<title>3&#45;&gt;4</title>\n",
       "<path fill=\"none\" stroke=\"#000000\" d=\"M331.6039,-222.8796C313.4333,-212.915 293.9177,-202.2129 275.3704,-192.0418\"/>\n",
       "<polygon fill=\"#000000\" stroke=\"#000000\" points=\"276.8043,-188.8365 266.3532,-187.0969 273.4384,-194.9741 276.8043,-188.8365\"/>\n",
       "</g>\n",
       "<!-- 7 -->\n",
       "<g id=\"node8\" class=\"node\">\n",
       "<title>7</title>\n",
       "<path fill=\"#ea9a61\" stroke=\"#000000\" d=\"M482,-187C482,-187 333,-187 333,-187 327,-187 321,-181 321,-175 321,-175 321,-116 321,-116 321,-110 327,-104 333,-104 333,-104 482,-104 482,-104 488,-104 494,-110 494,-116 494,-116 494,-175 494,-175 494,-181 488,-187 482,-187\"/>\n",
       "<text text-anchor=\"start\" x=\"329\" y=\"-171.8\" font-family=\"Helvetica,sans-Serif\" font-size=\"14.00\" fill=\"#000000\">Total eve minutes ≤ 267.0</text>\n",
       "<text text-anchor=\"start\" x=\"372\" y=\"-156.8\" font-family=\"Helvetica,sans-Serif\" font-size=\"14.00\" fill=\"#000000\">gini = 0.278</text>\n",
       "<text text-anchor=\"start\" x=\"362.5\" y=\"-141.8\" font-family=\"Helvetica,sans-Serif\" font-size=\"14.00\" fill=\"#000000\">samples = 252</text>\n",
       "<text text-anchor=\"start\" x=\"357\" y=\"-126.8\" font-family=\"Helvetica,sans-Serif\" font-size=\"14.00\" fill=\"#000000\">value = [210, 42]</text>\n",
       "<text text-anchor=\"start\" x=\"380\" y=\"-111.8\" font-family=\"Helvetica,sans-Serif\" font-size=\"14.00\" fill=\"#000000\">class = 0</text>\n",
       "</g>\n",
       "<!-- 3&#45;&gt;7 -->\n",
       "<g id=\"edge7\" class=\"edge\">\n",
       "<title>3&#45;&gt;7</title>\n",
       "<path fill=\"none\" stroke=\"#000000\" d=\"M407.5,-222.8796C407.5,-214.6838 407.5,-205.9891 407.5,-197.5013\"/>\n",
       "<polygon fill=\"#000000\" stroke=\"#000000\" points=\"411.0001,-197.298 407.5,-187.2981 404.0001,-197.2981 411.0001,-197.298\"/>\n",
       "</g>\n",
       "<!-- 5 -->\n",
       "<g id=\"node6\" class=\"node\">\n",
       "<title>5</title>\n",
       "<path fill=\"#e6853f\" stroke=\"#000000\" d=\"M113,-68C113,-68 12,-68 12,-68 6,-68 0,-62 0,-56 0,-56 0,-12 0,-12 0,-6 6,0 12,0 12,0 113,0 113,0 119,0 125,-6 125,-12 125,-12 125,-56 125,-56 125,-62 119,-68 113,-68\"/>\n",
       "<text text-anchor=\"start\" x=\"27\" y=\"-52.8\" font-family=\"Helvetica,sans-Serif\" font-size=\"14.00\" fill=\"#000000\">gini = 0.055</text>\n",
       "<text text-anchor=\"start\" x=\"14\" y=\"-37.8\" font-family=\"Helvetica,sans-Serif\" font-size=\"14.00\" fill=\"#000000\">samples = 1316</text>\n",
       "<text text-anchor=\"start\" x=\"8\" y=\"-22.8\" font-family=\"Helvetica,sans-Serif\" font-size=\"14.00\" fill=\"#000000\">value = [1279, 37]</text>\n",
       "<text text-anchor=\"start\" x=\"35\" y=\"-7.8\" font-family=\"Helvetica,sans-Serif\" font-size=\"14.00\" fill=\"#000000\">class = 0</text>\n",
       "</g>\n",
       "<!-- 4&#45;&gt;5 -->\n",
       "<g id=\"edge5\" class=\"edge\">\n",
       "<title>4&#45;&gt;5</title>\n",
       "<path fill=\"none\" stroke=\"#000000\" d=\"M142.8375,-103.9815C131.9703,-94.5151 120.4295,-84.462 109.5865,-75.0168\"/>\n",
       "<polygon fill=\"#000000\" stroke=\"#000000\" points=\"111.6734,-72.1929 101.8341,-68.2637 107.0755,-77.4712 111.6734,-72.1929\"/>\n",
       "</g>\n",
       "<!-- 6 -->\n",
       "<g id=\"node7\" class=\"node\">\n",
       "<title>6</title>\n",
       "<path fill=\"#399de5\" stroke=\"#000000\" d=\"M226,-68C226,-68 155,-68 155,-68 149,-68 143,-62 143,-56 143,-56 143,-12 143,-12 143,-6 149,0 155,0 155,0 226,0 226,0 232,0 238,-6 238,-12 238,-12 238,-56 238,-56 238,-62 232,-68 226,-68\"/>\n",
       "<text text-anchor=\"start\" x=\"162.5\" y=\"-52.8\" font-family=\"Helvetica,sans-Serif\" font-size=\"14.00\" fill=\"#000000\">gini = 0.0</text>\n",
       "<text text-anchor=\"start\" x=\"153\" y=\"-37.8\" font-family=\"Helvetica,sans-Serif\" font-size=\"14.00\" fill=\"#000000\">samples = 1</text>\n",
       "<text text-anchor=\"start\" x=\"151\" y=\"-22.8\" font-family=\"Helvetica,sans-Serif\" font-size=\"14.00\" fill=\"#000000\">value = [0, 1]</text>\n",
       "<text text-anchor=\"start\" x=\"163\" y=\"-7.8\" font-family=\"Helvetica,sans-Serif\" font-size=\"14.00\" fill=\"#000000\">class = 1</text>\n",
       "</g>\n",
       "<!-- 4&#45;&gt;6 -->\n",
       "<g id=\"edge6\" class=\"edge\">\n",
       "<title>4&#45;&gt;6</title>\n",
       "<path fill=\"none\" stroke=\"#000000\" d=\"M190.5,-103.9815C190.5,-95.618 190.5,-86.7965 190.5,-78.3409\"/>\n",
       "<polygon fill=\"#000000\" stroke=\"#000000\" points=\"194.0001,-78.2636 190.5,-68.2637 187.0001,-78.2637 194.0001,-78.2636\"/>\n",
       "</g>\n",
       "<!-- 8 -->\n",
       "<g id=\"node9\" class=\"node\">\n",
       "<title>8</title>\n",
       "<path fill=\"#e89051\" stroke=\"#000000\" d=\"M361,-68C361,-68 268,-68 268,-68 262,-68 256,-62 256,-56 256,-56 256,-12 256,-12 256,-6 262,0 268,0 268,0 361,0 361,0 367,0 373,-6 373,-12 373,-12 373,-56 373,-56 373,-62 367,-68 361,-68\"/>\n",
       "<text text-anchor=\"start\" x=\"279\" y=\"-52.8\" font-family=\"Helvetica,sans-Serif\" font-size=\"14.00\" fill=\"#000000\">gini = 0.195</text>\n",
       "<text text-anchor=\"start\" x=\"269.5\" y=\"-37.8\" font-family=\"Helvetica,sans-Serif\" font-size=\"14.00\" fill=\"#000000\">samples = 229</text>\n",
       "<text text-anchor=\"start\" x=\"264\" y=\"-22.8\" font-family=\"Helvetica,sans-Serif\" font-size=\"14.00\" fill=\"#000000\">value = [204, 25]</text>\n",
       "<text text-anchor=\"start\" x=\"287\" y=\"-7.8\" font-family=\"Helvetica,sans-Serif\" font-size=\"14.00\" fill=\"#000000\">class = 0</text>\n",
       "</g>\n",
       "<!-- 7&#45;&gt;8 -->\n",
       "<g id=\"edge8\" class=\"edge\">\n",
       "<title>7&#45;&gt;8</title>\n",
       "<path fill=\"none\" stroke=\"#000000\" d=\"M372.8702,-103.9815C365.2811,-94.8828 357.24,-85.242 349.6314,-76.1199\"/>\n",
       "<polygon fill=\"#000000\" stroke=\"#000000\" points=\"352.1717,-73.7012 343.0787,-68.2637 346.7961,-78.1849 352.1717,-73.7012\"/>\n",
       "</g>\n",
       "<!-- 9 -->\n",
       "<g id=\"node10\" class=\"node\">\n",
       "<title>9</title>\n",
       "<path fill=\"#7fc0ee\" stroke=\"#000000\" d=\"M481.5,-68C481.5,-68 403.5,-68 403.5,-68 397.5,-68 391.5,-62 391.5,-56 391.5,-56 391.5,-12 391.5,-12 391.5,-6 397.5,0 403.5,0 403.5,0 481.5,0 481.5,0 487.5,0 493.5,-6 493.5,-12 493.5,-12 493.5,-56 493.5,-56 493.5,-62 487.5,-68 481.5,-68\"/>\n",
       "<text text-anchor=\"start\" x=\"407\" y=\"-52.8\" font-family=\"Helvetica,sans-Serif\" font-size=\"14.00\" fill=\"#000000\">gini = 0.386</text>\n",
       "<text text-anchor=\"start\" x=\"401.5\" y=\"-37.8\" font-family=\"Helvetica,sans-Serif\" font-size=\"14.00\" fill=\"#000000\">samples = 23</text>\n",
       "<text text-anchor=\"start\" x=\"399.5\" y=\"-22.8\" font-family=\"Helvetica,sans-Serif\" font-size=\"14.00\" fill=\"#000000\">value = [6, 17]</text>\n",
       "<text text-anchor=\"start\" x=\"415\" y=\"-7.8\" font-family=\"Helvetica,sans-Serif\" font-size=\"14.00\" fill=\"#000000\">class = 1</text>\n",
       "</g>\n",
       "<!-- 7&#45;&gt;9 -->\n",
       "<g id=\"edge9\" class=\"edge\">\n",
       "<title>7&#45;&gt;9</title>\n",
       "<path fill=\"none\" stroke=\"#000000\" d=\"M420.5327,-103.9815C423.1869,-95.5261 425.988,-86.6026 428.6688,-78.0623\"/>\n",
       "<polygon fill=\"#000000\" stroke=\"#000000\" points=\"432.0889,-78.8529 431.7446,-68.2637 425.4102,-76.7564 432.0889,-78.8529\"/>\n",
       "</g>\n",
       "<!-- 11 -->\n",
       "<g id=\"node12\" class=\"node\">\n",
       "<title>11</title>\n",
       "<path fill=\"#eb9d66\" stroke=\"#000000\" d=\"M677,-187C677,-187 568,-187 568,-187 562,-187 556,-181 556,-175 556,-175 556,-116 556,-116 556,-110 562,-104 568,-104 568,-104 677,-104 677,-104 683,-104 689,-110 689,-116 689,-116 689,-175 689,-175 689,-181 683,-187 677,-187\"/>\n",
       "<text text-anchor=\"start\" x=\"564\" y=\"-171.8\" font-family=\"Helvetica,sans-Serif\" font-size=\"14.00\" fill=\"#000000\">Total intl calls ≤ 2.5</text>\n",
       "<text text-anchor=\"start\" x=\"594.5\" y=\"-156.8\" font-family=\"Helvetica,sans-Serif\" font-size=\"14.00\" fill=\"#000000\">gini = 0.3</text>\n",
       "<text text-anchor=\"start\" x=\"577.5\" y=\"-141.8\" font-family=\"Helvetica,sans-Serif\" font-size=\"14.00\" fill=\"#000000\">samples = 136</text>\n",
       "<text text-anchor=\"start\" x=\"572\" y=\"-126.8\" font-family=\"Helvetica,sans-Serif\" font-size=\"14.00\" fill=\"#000000\">value = [111, 25]</text>\n",
       "<text text-anchor=\"start\" x=\"595\" y=\"-111.8\" font-family=\"Helvetica,sans-Serif\" font-size=\"14.00\" fill=\"#000000\">class = 0</text>\n",
       "</g>\n",
       "<!-- 10&#45;&gt;11 -->\n",
       "<g id=\"edge11\" class=\"edge\">\n",
       "<title>10&#45;&gt;11</title>\n",
       "<path fill=\"none\" stroke=\"#000000\" d=\"M669.9681,-222.8796C664.609,-214.1434 658.9021,-204.8404 653.3718,-195.8253\"/>\n",
       "<polygon fill=\"#000000\" stroke=\"#000000\" points=\"656.3533,-193.9919 648.1408,-187.2981 650.3865,-197.6522 656.3533,-193.9919\"/>\n",
       "</g>\n",
       "<!-- 14 -->\n",
       "<g id=\"node15\" class=\"node\">\n",
       "<title>14</title>\n",
       "<path fill=\"#399de5\" stroke=\"#000000\" d=\"M797.5,-179.5C797.5,-179.5 719.5,-179.5 719.5,-179.5 713.5,-179.5 707.5,-173.5 707.5,-167.5 707.5,-167.5 707.5,-123.5 707.5,-123.5 707.5,-117.5 713.5,-111.5 719.5,-111.5 719.5,-111.5 797.5,-111.5 797.5,-111.5 803.5,-111.5 809.5,-117.5 809.5,-123.5 809.5,-123.5 809.5,-167.5 809.5,-167.5 809.5,-173.5 803.5,-179.5 797.5,-179.5\"/>\n",
       "<text text-anchor=\"start\" x=\"730.5\" y=\"-164.3\" font-family=\"Helvetica,sans-Serif\" font-size=\"14.00\" fill=\"#000000\">gini = 0.0</text>\n",
       "<text text-anchor=\"start\" x=\"717.5\" y=\"-149.3\" font-family=\"Helvetica,sans-Serif\" font-size=\"14.00\" fill=\"#000000\">samples = 25</text>\n",
       "<text text-anchor=\"start\" x=\"715.5\" y=\"-134.3\" font-family=\"Helvetica,sans-Serif\" font-size=\"14.00\" fill=\"#000000\">value = [0, 25]</text>\n",
       "<text text-anchor=\"start\" x=\"731\" y=\"-119.3\" font-family=\"Helvetica,sans-Serif\" font-size=\"14.00\" fill=\"#000000\">class = 1</text>\n",
       "</g>\n",
       "<!-- 10&#45;&gt;14 -->\n",
       "<g id=\"edge14\" class=\"edge\">\n",
       "<title>10&#45;&gt;14</title>\n",
       "<path fill=\"none\" stroke=\"#000000\" d=\"M717.5343,-222.8796C723.3558,-211.8835 729.6527,-199.9893 735.5227,-188.9015\"/>\n",
       "<polygon fill=\"#000000\" stroke=\"#000000\" points=\"738.7476,-190.2905 740.3333,-179.8149 732.5611,-187.0152 738.7476,-190.2905\"/>\n",
       "</g>\n",
       "<!-- 12 -->\n",
       "<g id=\"node13\" class=\"node\">\n",
       "<title>12</title>\n",
       "<path fill=\"#399de5\" stroke=\"#000000\" d=\"M601.5,-68C601.5,-68 523.5,-68 523.5,-68 517.5,-68 511.5,-62 511.5,-56 511.5,-56 511.5,-12 511.5,-12 511.5,-6 517.5,0 523.5,0 523.5,0 601.5,0 601.5,0 607.5,0 613.5,-6 613.5,-12 613.5,-12 613.5,-56 613.5,-56 613.5,-62 607.5,-68 601.5,-68\"/>\n",
       "<text text-anchor=\"start\" x=\"534.5\" y=\"-52.8\" font-family=\"Helvetica,sans-Serif\" font-size=\"14.00\" fill=\"#000000\">gini = 0.0</text>\n",
       "<text text-anchor=\"start\" x=\"521.5\" y=\"-37.8\" font-family=\"Helvetica,sans-Serif\" font-size=\"14.00\" fill=\"#000000\">samples = 20</text>\n",
       "<text text-anchor=\"start\" x=\"519.5\" y=\"-22.8\" font-family=\"Helvetica,sans-Serif\" font-size=\"14.00\" fill=\"#000000\">value = [0, 20]</text>\n",
       "<text text-anchor=\"start\" x=\"535\" y=\"-7.8\" font-family=\"Helvetica,sans-Serif\" font-size=\"14.00\" fill=\"#000000\">class = 1</text>\n",
       "</g>\n",
       "<!-- 11&#45;&gt;12 -->\n",
       "<g id=\"edge12\" class=\"edge\">\n",
       "<title>11&#45;&gt;12</title>\n",
       "<path fill=\"none\" stroke=\"#000000\" d=\"M600.1582,-103.9815C595.4598,-95.2504 590.4929,-86.0202 585.7617,-77.2281\"/>\n",
       "<polygon fill=\"#000000\" stroke=\"#000000\" points=\"588.7586,-75.4111 580.9379,-68.2637 582.5944,-78.7282 588.7586,-75.4111\"/>\n",
       "</g>\n",
       "<!-- 13 -->\n",
       "<g id=\"node14\" class=\"node\">\n",
       "<title>13</title>\n",
       "<path fill=\"#e68742\" stroke=\"#000000\" d=\"M729.5,-68C729.5,-68 643.5,-68 643.5,-68 637.5,-68 631.5,-62 631.5,-56 631.5,-56 631.5,-12 631.5,-12 631.5,-6 637.5,0 643.5,0 643.5,0 729.5,0 729.5,0 735.5,0 741.5,-6 741.5,-12 741.5,-12 741.5,-56 741.5,-56 741.5,-62 735.5,-68 729.5,-68\"/>\n",
       "<text text-anchor=\"start\" x=\"651\" y=\"-52.8\" font-family=\"Helvetica,sans-Serif\" font-size=\"14.00\" fill=\"#000000\">gini = 0.082</text>\n",
       "<text text-anchor=\"start\" x=\"641.5\" y=\"-37.8\" font-family=\"Helvetica,sans-Serif\" font-size=\"14.00\" fill=\"#000000\">samples = 116</text>\n",
       "<text text-anchor=\"start\" x=\"639.5\" y=\"-22.8\" font-family=\"Helvetica,sans-Serif\" font-size=\"14.00\" fill=\"#000000\">value = [111, 5]</text>\n",
       "<text text-anchor=\"start\" x=\"659\" y=\"-7.8\" font-family=\"Helvetica,sans-Serif\" font-size=\"14.00\" fill=\"#000000\">class = 0</text>\n",
       "</g>\n",
       "<!-- 11&#45;&gt;13 -->\n",
       "<g id=\"edge13\" class=\"edge\">\n",
       "<title>11&#45;&gt;13</title>\n",
       "<path fill=\"none\" stroke=\"#000000\" d=\"M646.3312,-103.9815C651.3956,-95.1585 656.7525,-85.8258 661.8468,-76.9506\"/>\n",
       "<polygon fill=\"#000000\" stroke=\"#000000\" points=\"664.8903,-78.6789 666.833,-68.2637 658.8193,-75.1942 664.8903,-78.6789\"/>\n",
       "</g>\n",
       "<!-- 16 -->\n",
       "<g id=\"node17\" class=\"node\">\n",
       "<title>16</title>\n",
       "<path fill=\"#4fa8e8\" stroke=\"#000000\" d=\"M1185,-306C1185,-306 1028,-306 1028,-306 1022,-306 1016,-300 1016,-294 1016,-294 1016,-235 1016,-235 1016,-229 1022,-223 1028,-223 1028,-223 1185,-223 1185,-223 1191,-223 1197,-229 1197,-235 1197,-235 1197,-294 1197,-294 1197,-300 1191,-306 1185,-306\"/>\n",
       "<text text-anchor=\"start\" x=\"1024\" y=\"-290.8\" font-family=\"Helvetica,sans-Serif\" font-size=\"14.00\" fill=\"#000000\">Total eve minutes ≤ 267.25</text>\n",
       "<text text-anchor=\"start\" x=\"1074.5\" y=\"-275.8\" font-family=\"Helvetica,sans-Serif\" font-size=\"14.00\" fill=\"#000000\">gini = 0.18</text>\n",
       "<text text-anchor=\"start\" x=\"1065.5\" y=\"-260.8\" font-family=\"Helvetica,sans-Serif\" font-size=\"14.00\" fill=\"#000000\">samples = 60</text>\n",
       "<text text-anchor=\"start\" x=\"1063.5\" y=\"-245.8\" font-family=\"Helvetica,sans-Serif\" font-size=\"14.00\" fill=\"#000000\">value = [6, 54]</text>\n",
       "<text text-anchor=\"start\" x=\"1079\" y=\"-230.8\" font-family=\"Helvetica,sans-Serif\" font-size=\"14.00\" fill=\"#000000\">class = 1</text>\n",
       "</g>\n",
       "<!-- 15&#45;&gt;16 -->\n",
       "<g id=\"edge16\" class=\"edge\">\n",
       "<title>15&#45;&gt;16</title>\n",
       "<path fill=\"none\" stroke=\"#000000\" d=\"M1172.8253,-341.8796C1165.1057,-332.8733 1156.8695,-323.2644 1148.9197,-313.9897\"/>\n",
       "<polygon fill=\"#000000\" stroke=\"#000000\" points=\"1151.4923,-311.6129 1142.3269,-306.2981 1146.1775,-316.1684 1151.4923,-311.6129\"/>\n",
       "</g>\n",
       "<!-- 23 -->\n",
       "<g id=\"node24\" class=\"node\">\n",
       "<title>23</title>\n",
       "<path fill=\"#eeaf81\" stroke=\"#000000\" d=\"M1385,-306C1385,-306 1236,-306 1236,-306 1230,-306 1224,-300 1224,-294 1224,-294 1224,-235 1224,-235 1224,-229 1230,-223 1236,-223 1236,-223 1385,-223 1385,-223 1391,-223 1397,-229 1397,-235 1397,-235 1397,-294 1397,-294 1397,-300 1391,-306 1385,-306\"/>\n",
       "<text text-anchor=\"start\" x=\"1232\" y=\"-290.8\" font-family=\"Helvetica,sans-Serif\" font-size=\"14.00\" fill=\"#000000\">Total eve minutes ≤ 146.8</text>\n",
       "<text text-anchor=\"start\" x=\"1278.5\" y=\"-275.8\" font-family=\"Helvetica,sans-Serif\" font-size=\"14.00\" fill=\"#000000\">gini = 0.39</text>\n",
       "<text text-anchor=\"start\" x=\"1269.5\" y=\"-260.8\" font-family=\"Helvetica,sans-Serif\" font-size=\"14.00\" fill=\"#000000\">samples = 79</text>\n",
       "<text text-anchor=\"start\" x=\"1263.5\" y=\"-245.8\" font-family=\"Helvetica,sans-Serif\" font-size=\"14.00\" fill=\"#000000\">value = [58, 21]</text>\n",
       "<text text-anchor=\"start\" x=\"1283\" y=\"-230.8\" font-family=\"Helvetica,sans-Serif\" font-size=\"14.00\" fill=\"#000000\">class = 0</text>\n",
       "</g>\n",
       "<!-- 15&#45;&gt;23 -->\n",
       "<g id=\"edge23\" class=\"edge\">\n",
       "<title>15&#45;&gt;23</title>\n",
       "<path fill=\"none\" stroke=\"#000000\" d=\"M1244.1747,-341.8796C1251.8943,-332.8733 1260.1305,-323.2644 1268.0803,-313.9897\"/>\n",
       "<polygon fill=\"#000000\" stroke=\"#000000\" points=\"1270.8225,-316.1684 1274.6731,-306.2981 1265.5077,-311.6129 1270.8225,-316.1684\"/>\n",
       "</g>\n",
       "<!-- 17 -->\n",
       "<g id=\"node18\" class=\"node\">\n",
       "<title>17</title>\n",
       "<path fill=\"#48a4e7\" stroke=\"#000000\" d=\"M1006,-187C1006,-187 849,-187 849,-187 843,-187 837,-181 837,-175 837,-175 837,-116 837,-116 837,-110 843,-104 849,-104 849,-104 1006,-104 1006,-104 1012,-104 1018,-110 1018,-116 1018,-116 1018,-175 1018,-175 1018,-181 1012,-187 1006,-187\"/>\n",
       "<text text-anchor=\"start\" x=\"845\" y=\"-171.8\" font-family=\"Helvetica,sans-Serif\" font-size=\"14.00\" fill=\"#000000\">Total night minutes ≤ 255.9</text>\n",
       "<text text-anchor=\"start\" x=\"892\" y=\"-156.8\" font-family=\"Helvetica,sans-Serif\" font-size=\"14.00\" fill=\"#000000\">gini = 0.131</text>\n",
       "<text text-anchor=\"start\" x=\"886.5\" y=\"-141.8\" font-family=\"Helvetica,sans-Serif\" font-size=\"14.00\" fill=\"#000000\">samples = 57</text>\n",
       "<text text-anchor=\"start\" x=\"884.5\" y=\"-126.8\" font-family=\"Helvetica,sans-Serif\" font-size=\"14.00\" fill=\"#000000\">value = [4, 53]</text>\n",
       "<text text-anchor=\"start\" x=\"900\" y=\"-111.8\" font-family=\"Helvetica,sans-Serif\" font-size=\"14.00\" fill=\"#000000\">class = 1</text>\n",
       "</g>\n",
       "<!-- 16&#45;&gt;17 -->\n",
       "<g id=\"edge17\" class=\"edge\">\n",
       "<title>16&#45;&gt;17</title>\n",
       "<path fill=\"none\" stroke=\"#000000\" d=\"M1043.8945,-222.8796C1029.3146,-213.1868 1013.6849,-202.7961 998.7618,-192.8752\"/>\n",
       "<polygon fill=\"#000000\" stroke=\"#000000\" points=\"1000.3355,-189.7185 990.0702,-187.0969 996.4601,-195.5479 1000.3355,-189.7185\"/>\n",
       "</g>\n",
       "<!-- 20 -->\n",
       "<g id=\"node21\" class=\"node\">\n",
       "<title>20</title>\n",
       "<path fill=\"#f2c09c\" stroke=\"#000000\" d=\"M1147.5,-187C1147.5,-187 1065.5,-187 1065.5,-187 1059.5,-187 1053.5,-181 1053.5,-175 1053.5,-175 1053.5,-116 1053.5,-116 1053.5,-110 1059.5,-104 1065.5,-104 1065.5,-104 1147.5,-104 1147.5,-104 1153.5,-104 1159.5,-110 1159.5,-116 1159.5,-116 1159.5,-175 1159.5,-175 1159.5,-181 1153.5,-187 1147.5,-187\"/>\n",
       "<text text-anchor=\"start\" x=\"1061.5\" y=\"-171.8\" font-family=\"Helvetica,sans-Serif\" font-size=\"14.00\" fill=\"#000000\">Roaming ≤ 0.5</text>\n",
       "<text text-anchor=\"start\" x=\"1071\" y=\"-156.8\" font-family=\"Helvetica,sans-Serif\" font-size=\"14.00\" fill=\"#000000\">gini = 0.444</text>\n",
       "<text text-anchor=\"start\" x=\"1069\" y=\"-141.8\" font-family=\"Helvetica,sans-Serif\" font-size=\"14.00\" fill=\"#000000\">samples = 3</text>\n",
       "<text text-anchor=\"start\" x=\"1067\" y=\"-126.8\" font-family=\"Helvetica,sans-Serif\" font-size=\"14.00\" fill=\"#000000\">value = [2, 1]</text>\n",
       "<text text-anchor=\"start\" x=\"1079\" y=\"-111.8\" font-family=\"Helvetica,sans-Serif\" font-size=\"14.00\" fill=\"#000000\">class = 0</text>\n",
       "</g>\n",
       "<!-- 16&#45;&gt;20 -->\n",
       "<g id=\"edge20\" class=\"edge\">\n",
       "<title>16&#45;&gt;20</title>\n",
       "<path fill=\"none\" stroke=\"#000000\" d=\"M1106.5,-222.8796C1106.5,-214.6838 1106.5,-205.9891 1106.5,-197.5013\"/>\n",
       "<polygon fill=\"#000000\" stroke=\"#000000\" points=\"1110.0001,-197.298 1106.5,-187.2981 1103.0001,-197.2981 1110.0001,-197.298\"/>\n",
       "</g>\n",
       "<!-- 18 -->\n",
       "<g id=\"node19\" class=\"node\">\n",
       "<title>18</title>\n",
       "<path fill=\"#41a1e6\" stroke=\"#000000\" d=\"M849.5,-68C849.5,-68 771.5,-68 771.5,-68 765.5,-68 759.5,-62 759.5,-56 759.5,-56 759.5,-12 759.5,-12 759.5,-6 765.5,0 771.5,0 771.5,0 849.5,0 849.5,0 855.5,0 861.5,-6 861.5,-12 861.5,-12 861.5,-56 861.5,-56 861.5,-62 855.5,-68 849.5,-68\"/>\n",
       "<text text-anchor=\"start\" x=\"775\" y=\"-52.8\" font-family=\"Helvetica,sans-Serif\" font-size=\"14.00\" fill=\"#000000\">gini = 0.074</text>\n",
       "<text text-anchor=\"start\" x=\"769.5\" y=\"-37.8\" font-family=\"Helvetica,sans-Serif\" font-size=\"14.00\" fill=\"#000000\">samples = 52</text>\n",
       "<text text-anchor=\"start\" x=\"767.5\" y=\"-22.8\" font-family=\"Helvetica,sans-Serif\" font-size=\"14.00\" fill=\"#000000\">value = [2, 50]</text>\n",
       "<text text-anchor=\"start\" x=\"783\" y=\"-7.8\" font-family=\"Helvetica,sans-Serif\" font-size=\"14.00\" fill=\"#000000\">class = 1</text>\n",
       "</g>\n",
       "<!-- 17&#45;&gt;18 -->\n",
       "<g id=\"edge18\" class=\"edge\">\n",
       "<title>17&#45;&gt;18</title>\n",
       "<path fill=\"none\" stroke=\"#000000\" d=\"M883.9335,-103.9815C874.0966,-94.607 863.656,-84.6572 853.8289,-75.2921\"/>\n",
       "<polygon fill=\"#000000\" stroke=\"#000000\" points=\"856.1076,-72.6289 846.4538,-68.2637 851.2784,-77.6963 856.1076,-72.6289\"/>\n",
       "</g>\n",
       "<!-- 19 -->\n",
       "<g id=\"node20\" class=\"node\">\n",
       "<title>19</title>\n",
       "<path fill=\"#bddef6\" stroke=\"#000000\" d=\"M963,-68C963,-68 892,-68 892,-68 886,-68 880,-62 880,-56 880,-56 880,-12 880,-12 880,-6 886,0 892,0 892,0 963,0 963,0 969,0 975,-6 975,-12 975,-12 975,-56 975,-56 975,-62 969,-68 963,-68\"/>\n",
       "<text text-anchor=\"start\" x=\"895.5\" y=\"-52.8\" font-family=\"Helvetica,sans-Serif\" font-size=\"14.00\" fill=\"#000000\">gini = 0.48</text>\n",
       "<text text-anchor=\"start\" x=\"890\" y=\"-37.8\" font-family=\"Helvetica,sans-Serif\" font-size=\"14.00\" fill=\"#000000\">samples = 5</text>\n",
       "<text text-anchor=\"start\" x=\"888\" y=\"-22.8\" font-family=\"Helvetica,sans-Serif\" font-size=\"14.00\" fill=\"#000000\">value = [2, 3]</text>\n",
       "<text text-anchor=\"start\" x=\"900\" y=\"-7.8\" font-family=\"Helvetica,sans-Serif\" font-size=\"14.00\" fill=\"#000000\">class = 1</text>\n",
       "</g>\n",
       "<!-- 17&#45;&gt;19 -->\n",
       "<g id=\"edge19\" class=\"edge\">\n",
       "<title>17&#45;&gt;19</title>\n",
       "<path fill=\"none\" stroke=\"#000000\" d=\"M927.5,-103.9815C927.5,-95.618 927.5,-86.7965 927.5,-78.3409\"/>\n",
       "<polygon fill=\"#000000\" stroke=\"#000000\" points=\"931.0001,-78.2636 927.5,-68.2637 924.0001,-78.2637 931.0001,-78.2636\"/>\n",
       "</g>\n",
       "<!-- 21 -->\n",
       "<g id=\"node22\" class=\"node\">\n",
       "<title>21</title>\n",
       "<path fill=\"#e58139\" stroke=\"#000000\" d=\"M1076,-68C1076,-68 1005,-68 1005,-68 999,-68 993,-62 993,-56 993,-56 993,-12 993,-12 993,-6 999,0 1005,0 1005,0 1076,0 1076,0 1082,0 1088,-6 1088,-12 1088,-12 1088,-56 1088,-56 1088,-62 1082,-68 1076,-68\"/>\n",
       "<text text-anchor=\"start\" x=\"1012.5\" y=\"-52.8\" font-family=\"Helvetica,sans-Serif\" font-size=\"14.00\" fill=\"#000000\">gini = 0.0</text>\n",
       "<text text-anchor=\"start\" x=\"1003\" y=\"-37.8\" font-family=\"Helvetica,sans-Serif\" font-size=\"14.00\" fill=\"#000000\">samples = 2</text>\n",
       "<text text-anchor=\"start\" x=\"1001\" y=\"-22.8\" font-family=\"Helvetica,sans-Serif\" font-size=\"14.00\" fill=\"#000000\">value = [2, 0]</text>\n",
       "<text text-anchor=\"start\" x=\"1013\" y=\"-7.8\" font-family=\"Helvetica,sans-Serif\" font-size=\"14.00\" fill=\"#000000\">class = 0</text>\n",
       "</g>\n",
       "<!-- 20&#45;&gt;21 -->\n",
       "<g id=\"edge21\" class=\"edge\">\n",
       "<title>20&#45;&gt;21</title>\n",
       "<path fill=\"none\" stroke=\"#000000\" d=\"M1081.924,-103.9815C1076.7014,-95.1585 1071.1771,-85.8258 1065.9237,-76.9506\"/>\n",
       "<polygon fill=\"#000000\" stroke=\"#000000\" points=\"1068.8874,-75.0863 1060.7816,-68.2637 1062.8636,-78.652 1068.8874,-75.0863\"/>\n",
       "</g>\n",
       "<!-- 22 -->\n",
       "<g id=\"node23\" class=\"node\">\n",
       "<title>22</title>\n",
       "<path fill=\"#399de5\" stroke=\"#000000\" d=\"M1189,-68C1189,-68 1118,-68 1118,-68 1112,-68 1106,-62 1106,-56 1106,-56 1106,-12 1106,-12 1106,-6 1112,0 1118,0 1118,0 1189,0 1189,0 1195,0 1201,-6 1201,-12 1201,-12 1201,-56 1201,-56 1201,-62 1195,-68 1189,-68\"/>\n",
       "<text text-anchor=\"start\" x=\"1125.5\" y=\"-52.8\" font-family=\"Helvetica,sans-Serif\" font-size=\"14.00\" fill=\"#000000\">gini = 0.0</text>\n",
       "<text text-anchor=\"start\" x=\"1116\" y=\"-37.8\" font-family=\"Helvetica,sans-Serif\" font-size=\"14.00\" fill=\"#000000\">samples = 1</text>\n",
       "<text text-anchor=\"start\" x=\"1114\" y=\"-22.8\" font-family=\"Helvetica,sans-Serif\" font-size=\"14.00\" fill=\"#000000\">value = [0, 1]</text>\n",
       "<text text-anchor=\"start\" x=\"1126\" y=\"-7.8\" font-family=\"Helvetica,sans-Serif\" font-size=\"14.00\" fill=\"#000000\">class = 1</text>\n",
       "</g>\n",
       "<!-- 20&#45;&gt;22 -->\n",
       "<g id=\"edge22\" class=\"edge\">\n",
       "<title>20&#45;&gt;22</title>\n",
       "<path fill=\"none\" stroke=\"#000000\" d=\"M1124.0011,-103.9815C1127.6427,-95.3423 1131.4903,-86.2144 1135.1612,-77.5059\"/>\n",
       "<polygon fill=\"#000000\" stroke=\"#000000\" points=\"1138.3979,-78.838 1139.057,-68.2637 1131.9475,-76.119 1138.3979,-78.838\"/>\n",
       "</g>\n",
       "<!-- 24 -->\n",
       "<g id=\"node25\" class=\"node\">\n",
       "<title>24</title>\n",
       "<path fill=\"#91c9f1\" stroke=\"#000000\" d=\"M1385,-187C1385,-187 1236,-187 1236,-187 1230,-187 1224,-181 1224,-175 1224,-175 1224,-116 1224,-116 1224,-110 1230,-104 1236,-104 1236,-104 1385,-104 1385,-104 1391,-104 1397,-110 1397,-116 1397,-116 1397,-175 1397,-175 1397,-181 1391,-187 1385,-187\"/>\n",
       "<text text-anchor=\"start\" x=\"1232\" y=\"-171.8\" font-family=\"Helvetica,sans-Serif\" font-size=\"14.00\" fill=\"#000000\">Total day minutes ≤ 202.2</text>\n",
       "<text text-anchor=\"start\" x=\"1275\" y=\"-156.8\" font-family=\"Helvetica,sans-Serif\" font-size=\"14.00\" fill=\"#000000\">gini = 0.426</text>\n",
       "<text text-anchor=\"start\" x=\"1269.5\" y=\"-141.8\" font-family=\"Helvetica,sans-Serif\" font-size=\"14.00\" fill=\"#000000\">samples = 13</text>\n",
       "<text text-anchor=\"start\" x=\"1271\" y=\"-126.8\" font-family=\"Helvetica,sans-Serif\" font-size=\"14.00\" fill=\"#000000\">value = [4, 9]</text>\n",
       "<text text-anchor=\"start\" x=\"1283\" y=\"-111.8\" font-family=\"Helvetica,sans-Serif\" font-size=\"14.00\" fill=\"#000000\">class = 1</text>\n",
       "</g>\n",
       "<!-- 23&#45;&gt;24 -->\n",
       "<g id=\"edge24\" class=\"edge\">\n",
       "<title>23&#45;&gt;24</title>\n",
       "<path fill=\"none\" stroke=\"#000000\" d=\"M1310.5,-222.8796C1310.5,-214.6838 1310.5,-205.9891 1310.5,-197.5013\"/>\n",
       "<polygon fill=\"#000000\" stroke=\"#000000\" points=\"1314.0001,-197.298 1310.5,-187.2981 1307.0001,-197.2981 1314.0001,-197.298\"/>\n",
       "</g>\n",
       "<!-- 27 -->\n",
       "<g id=\"node28\" class=\"node\">\n",
       "<title>27</title>\n",
       "<path fill=\"#eb9d65\" stroke=\"#000000\" d=\"M1564.5,-187C1564.5,-187 1436.5,-187 1436.5,-187 1430.5,-187 1424.5,-181 1424.5,-175 1424.5,-175 1424.5,-116 1424.5,-116 1424.5,-110 1430.5,-104 1436.5,-104 1436.5,-104 1564.5,-104 1564.5,-104 1570.5,-104 1576.5,-110 1576.5,-116 1576.5,-116 1576.5,-175 1576.5,-175 1576.5,-181 1570.5,-187 1564.5,-187\"/>\n",
       "<text text-anchor=\"start\" x=\"1432.5\" y=\"-171.8\" font-family=\"Helvetica,sans-Serif\" font-size=\"14.00\" fill=\"#000000\">Total day calls ≤ 138.5</text>\n",
       "<text text-anchor=\"start\" x=\"1465\" y=\"-156.8\" font-family=\"Helvetica,sans-Serif\" font-size=\"14.00\" fill=\"#000000\">gini = 0.298</text>\n",
       "<text text-anchor=\"start\" x=\"1459.5\" y=\"-141.8\" font-family=\"Helvetica,sans-Serif\" font-size=\"14.00\" fill=\"#000000\">samples = 66</text>\n",
       "<text text-anchor=\"start\" x=\"1453.5\" y=\"-126.8\" font-family=\"Helvetica,sans-Serif\" font-size=\"14.00\" fill=\"#000000\">value = [54, 12]</text>\n",
       "<text text-anchor=\"start\" x=\"1473\" y=\"-111.8\" font-family=\"Helvetica,sans-Serif\" font-size=\"14.00\" fill=\"#000000\">class = 0</text>\n",
       "</g>\n",
       "<!-- 23&#45;&gt;27 -->\n",
       "<g id=\"edge27\" class=\"edge\">\n",
       "<title>23&#45;&gt;27</title>\n",
       "<path fill=\"none\" stroke=\"#000000\" d=\"M1376.9528,-222.8796C1392.5733,-213.0962 1409.329,-202.6019 1425.3029,-192.5971\"/>\n",
       "<polygon fill=\"#000000\" stroke=\"#000000\" points=\"1427.4676,-195.3712 1434.0847,-187.0969 1423.7519,-189.4387 1427.4676,-195.3712\"/>\n",
       "</g>\n",
       "<!-- 25 -->\n",
       "<g id=\"node26\" class=\"node\">\n",
       "<title>25</title>\n",
       "<path fill=\"#399de5\" stroke=\"#000000\" d=\"M1302,-68C1302,-68 1231,-68 1231,-68 1225,-68 1219,-62 1219,-56 1219,-56 1219,-12 1219,-12 1219,-6 1225,0 1231,0 1231,0 1302,0 1302,0 1308,0 1314,-6 1314,-12 1314,-12 1314,-56 1314,-56 1314,-62 1308,-68 1302,-68\"/>\n",
       "<text text-anchor=\"start\" x=\"1238.5\" y=\"-52.8\" font-family=\"Helvetica,sans-Serif\" font-size=\"14.00\" fill=\"#000000\">gini = 0.0</text>\n",
       "<text text-anchor=\"start\" x=\"1229\" y=\"-37.8\" font-family=\"Helvetica,sans-Serif\" font-size=\"14.00\" fill=\"#000000\">samples = 8</text>\n",
       "<text text-anchor=\"start\" x=\"1227\" y=\"-22.8\" font-family=\"Helvetica,sans-Serif\" font-size=\"14.00\" fill=\"#000000\">value = [0, 8]</text>\n",
       "<text text-anchor=\"start\" x=\"1239\" y=\"-7.8\" font-family=\"Helvetica,sans-Serif\" font-size=\"14.00\" fill=\"#000000\">class = 1</text>\n",
       "</g>\n",
       "<!-- 24&#45;&gt;25 -->\n",
       "<g id=\"edge25\" class=\"edge\">\n",
       "<title>24&#45;&gt;25</title>\n",
       "<path fill=\"none\" stroke=\"#000000\" d=\"M1294.116,-103.9815C1290.7431,-95.4342 1287.1814,-86.4086 1283.778,-77.7839\"/>\n",
       "<polygon fill=\"#000000\" stroke=\"#000000\" points=\"1286.9475,-76.2808 1280.0211,-68.2637 1280.4362,-78.8504 1286.9475,-76.2808\"/>\n",
       "</g>\n",
       "<!-- 26 -->\n",
       "<g id=\"node27\" class=\"node\">\n",
       "<title>26</title>\n",
       "<path fill=\"#eca06a\" stroke=\"#000000\" d=\"M1415,-68C1415,-68 1344,-68 1344,-68 1338,-68 1332,-62 1332,-56 1332,-56 1332,-12 1332,-12 1332,-6 1338,0 1344,0 1344,0 1415,0 1415,0 1421,0 1427,-6 1427,-12 1427,-12 1427,-56 1427,-56 1427,-62 1421,-68 1415,-68\"/>\n",
       "<text text-anchor=\"start\" x=\"1347.5\" y=\"-52.8\" font-family=\"Helvetica,sans-Serif\" font-size=\"14.00\" fill=\"#000000\">gini = 0.32</text>\n",
       "<text text-anchor=\"start\" x=\"1342\" y=\"-37.8\" font-family=\"Helvetica,sans-Serif\" font-size=\"14.00\" fill=\"#000000\">samples = 5</text>\n",
       "<text text-anchor=\"start\" x=\"1340\" y=\"-22.8\" font-family=\"Helvetica,sans-Serif\" font-size=\"14.00\" fill=\"#000000\">value = [4, 1]</text>\n",
       "<text text-anchor=\"start\" x=\"1352\" y=\"-7.8\" font-family=\"Helvetica,sans-Serif\" font-size=\"14.00\" fill=\"#000000\">class = 0</text>\n",
       "</g>\n",
       "<!-- 24&#45;&gt;26 -->\n",
       "<g id=\"edge26\" class=\"edge\">\n",
       "<title>24&#45;&gt;26</title>\n",
       "<path fill=\"none\" stroke=\"#000000\" d=\"M1336.1931,-103.9815C1341.6531,-95.1585 1347.4284,-85.8258 1352.9207,-76.9506\"/>\n",
       "<polygon fill=\"#000000\" stroke=\"#000000\" points=\"1356.0104,-78.609 1358.2965,-68.2637 1350.058,-74.9254 1356.0104,-78.609\"/>\n",
       "</g>\n",
       "<!-- 28 -->\n",
       "<g id=\"node29\" class=\"node\">\n",
       "<title>28</title>\n",
       "<path fill=\"#ea985e\" stroke=\"#000000\" d=\"M1543.5,-68C1543.5,-68 1457.5,-68 1457.5,-68 1451.5,-68 1445.5,-62 1445.5,-56 1445.5,-56 1445.5,-12 1445.5,-12 1445.5,-6 1451.5,0 1457.5,0 1457.5,0 1543.5,0 1543.5,0 1549.5,0 1555.5,-6 1555.5,-12 1555.5,-12 1555.5,-56 1555.5,-56 1555.5,-62 1549.5,-68 1543.5,-68\"/>\n",
       "<text text-anchor=\"start\" x=\"1465\" y=\"-52.8\" font-family=\"Helvetica,sans-Serif\" font-size=\"14.00\" fill=\"#000000\">gini = 0.264</text>\n",
       "<text text-anchor=\"start\" x=\"1459.5\" y=\"-37.8\" font-family=\"Helvetica,sans-Serif\" font-size=\"14.00\" fill=\"#000000\">samples = 64</text>\n",
       "<text text-anchor=\"start\" x=\"1453.5\" y=\"-22.8\" font-family=\"Helvetica,sans-Serif\" font-size=\"14.00\" fill=\"#000000\">value = [54, 10]</text>\n",
       "<text text-anchor=\"start\" x=\"1473\" y=\"-7.8\" font-family=\"Helvetica,sans-Serif\" font-size=\"14.00\" fill=\"#000000\">class = 0</text>\n",
       "</g>\n",
       "<!-- 27&#45;&gt;28 -->\n",
       "<g id=\"edge28\" class=\"edge\">\n",
       "<title>27&#45;&gt;28</title>\n",
       "<path fill=\"none\" stroke=\"#000000\" d=\"M1500.5,-103.9815C1500.5,-95.618 1500.5,-86.7965 1500.5,-78.3409\"/>\n",
       "<polygon fill=\"#000000\" stroke=\"#000000\" points=\"1504.0001,-78.2636 1500.5,-68.2637 1497.0001,-78.2637 1504.0001,-78.2636\"/>\n",
       "</g>\n",
       "<!-- 29 -->\n",
       "<g id=\"node30\" class=\"node\">\n",
       "<title>29</title>\n",
       "<path fill=\"#399de5\" stroke=\"#000000\" d=\"M1657,-68C1657,-68 1586,-68 1586,-68 1580,-68 1574,-62 1574,-56 1574,-56 1574,-12 1574,-12 1574,-6 1580,0 1586,0 1586,0 1657,0 1657,0 1663,0 1669,-6 1669,-12 1669,-12 1669,-56 1669,-56 1669,-62 1663,-68 1657,-68\"/>\n",
       "<text text-anchor=\"start\" x=\"1593.5\" y=\"-52.8\" font-family=\"Helvetica,sans-Serif\" font-size=\"14.00\" fill=\"#000000\">gini = 0.0</text>\n",
       "<text text-anchor=\"start\" x=\"1584\" y=\"-37.8\" font-family=\"Helvetica,sans-Serif\" font-size=\"14.00\" fill=\"#000000\">samples = 2</text>\n",
       "<text text-anchor=\"start\" x=\"1582\" y=\"-22.8\" font-family=\"Helvetica,sans-Serif\" font-size=\"14.00\" fill=\"#000000\">value = [0, 2]</text>\n",
       "<text text-anchor=\"start\" x=\"1594\" y=\"-7.8\" font-family=\"Helvetica,sans-Serif\" font-size=\"14.00\" fill=\"#000000\">class = 1</text>\n",
       "</g>\n",
       "<!-- 27&#45;&gt;29 -->\n",
       "<g id=\"edge29\" class=\"edge\">\n",
       "<title>27&#45;&gt;29</title>\n",
       "<path fill=\"none\" stroke=\"#000000\" d=\"M1545.5559,-103.9815C1555.7291,-94.607 1566.5267,-84.6572 1576.6898,-75.2921\"/>\n",
       "<polygon fill=\"#000000\" stroke=\"#000000\" points=\"1579.3349,-77.6141 1584.317,-68.2637 1574.5913,-72.4663 1579.3349,-77.6141\"/>\n",
       "</g>\n",
       "<!-- 31 -->\n",
       "<g id=\"node32\" class=\"node\">\n",
       "<title>31</title>\n",
       "<path fill=\"#76bbed\" stroke=\"#000000\" d=\"M2236,-425C2236,-425 2079,-425 2079,-425 2073,-425 2067,-419 2067,-413 2067,-413 2067,-354 2067,-354 2067,-348 2073,-342 2079,-342 2079,-342 2236,-342 2236,-342 2242,-342 2248,-348 2248,-354 2248,-354 2248,-413 2248,-413 2248,-419 2242,-425 2236,-425\"/>\n",
       "<text text-anchor=\"start\" x=\"2075\" y=\"-409.8\" font-family=\"Helvetica,sans-Serif\" font-size=\"14.00\" fill=\"#000000\">Total eve minutes ≤ 187.75</text>\n",
       "<text text-anchor=\"start\" x=\"2122\" y=\"-394.8\" font-family=\"Helvetica,sans-Serif\" font-size=\"14.00\" fill=\"#000000\">gini = 0.359</text>\n",
       "<text text-anchor=\"start\" x=\"2116.5\" y=\"-379.8\" font-family=\"Helvetica,sans-Serif\" font-size=\"14.00\" fill=\"#000000\">samples = 94</text>\n",
       "<text text-anchor=\"start\" x=\"2110.5\" y=\"-364.8\" font-family=\"Helvetica,sans-Serif\" font-size=\"14.00\" fill=\"#000000\">value = [22, 72]</text>\n",
       "<text text-anchor=\"start\" x=\"2130\" y=\"-349.8\" font-family=\"Helvetica,sans-Serif\" font-size=\"14.00\" fill=\"#000000\">class = 1</text>\n",
       "</g>\n",
       "<!-- 30&#45;&gt;31 -->\n",
       "<g id=\"edge31\" class=\"edge\">\n",
       "<title>30&#45;&gt;31</title>\n",
       "<path fill=\"none\" stroke=\"#000000\" d=\"M2157.5,-460.8796C2157.5,-452.6838 2157.5,-443.9891 2157.5,-435.5013\"/>\n",
       "<polygon fill=\"#000000\" stroke=\"#000000\" points=\"2161.0001,-435.298 2157.5,-425.2981 2154.0001,-435.2981 2161.0001,-435.298\"/>\n",
       "</g>\n",
       "<!-- 46 -->\n",
       "<g id=\"node47\" class=\"node\">\n",
       "<title>46</title>\n",
       "<path fill=\"#e99559\" stroke=\"#000000\" d=\"M2668.5,-425C2668.5,-425 2586.5,-425 2586.5,-425 2580.5,-425 2574.5,-419 2574.5,-413 2574.5,-413 2574.5,-354 2574.5,-354 2574.5,-348 2580.5,-342 2586.5,-342 2586.5,-342 2668.5,-342 2668.5,-342 2674.5,-342 2680.5,-348 2680.5,-354 2680.5,-354 2680.5,-413 2680.5,-413 2680.5,-419 2674.5,-425 2668.5,-425\"/>\n",
       "<text text-anchor=\"start\" x=\"2582.5\" y=\"-409.8\" font-family=\"Helvetica,sans-Serif\" font-size=\"14.00\" fill=\"#000000\">Roaming ≤ 0.5</text>\n",
       "<text text-anchor=\"start\" x=\"2592\" y=\"-394.8\" font-family=\"Helvetica,sans-Serif\" font-size=\"14.00\" fill=\"#000000\">gini = 0.239</text>\n",
       "<text text-anchor=\"start\" x=\"2586.5\" y=\"-379.8\" font-family=\"Helvetica,sans-Serif\" font-size=\"14.00\" fill=\"#000000\">samples = 36</text>\n",
       "<text text-anchor=\"start\" x=\"2584.5\" y=\"-364.8\" font-family=\"Helvetica,sans-Serif\" font-size=\"14.00\" fill=\"#000000\">value = [31, 5]</text>\n",
       "<text text-anchor=\"start\" x=\"2600\" y=\"-349.8\" font-family=\"Helvetica,sans-Serif\" font-size=\"14.00\" fill=\"#000000\">class = 0</text>\n",
       "</g>\n",
       "<!-- 30&#45;&gt;46 -->\n",
       "<g id=\"edge46\" class=\"edge\">\n",
       "<title>30&#45;&gt;46</title>\n",
       "<path fill=\"none\" stroke=\"#000000\" d=\"M2258.6154,-476.8984C2351.4989,-453.3811 2486.2574,-419.2614 2564.5801,-399.4308\"/>\n",
       "<polygon fill=\"#000000\" stroke=\"#000000\" points=\"2565.4772,-402.8142 2574.3122,-396.9667 2563.759,-396.0283 2565.4772,-402.8142\"/>\n",
       "</g>\n",
       "<!-- 32 -->\n",
       "<g id=\"node33\" class=\"node\">\n",
       "<title>32</title>\n",
       "<path fill=\"#fae4d5\" stroke=\"#000000\" d=\"M2138.5,-306C2138.5,-306 1974.5,-306 1974.5,-306 1968.5,-306 1962.5,-300 1962.5,-294 1962.5,-294 1962.5,-235 1962.5,-235 1962.5,-229 1968.5,-223 1974.5,-223 1974.5,-223 2138.5,-223 2138.5,-223 2144.5,-223 2150.5,-229 2150.5,-235 2150.5,-235 2150.5,-294 2150.5,-294 2150.5,-300 2144.5,-306 2138.5,-306\"/>\n",
       "<text text-anchor=\"start\" x=\"1970.5\" y=\"-290.8\" font-family=\"Helvetica,sans-Serif\" font-size=\"14.00\" fill=\"#000000\">Total night minutes ≤ 212.65</text>\n",
       "<text text-anchor=\"start\" x=\"2021\" y=\"-275.8\" font-family=\"Helvetica,sans-Serif\" font-size=\"14.00\" fill=\"#000000\">gini = 0.493</text>\n",
       "<text text-anchor=\"start\" x=\"2015.5\" y=\"-260.8\" font-family=\"Helvetica,sans-Serif\" font-size=\"14.00\" fill=\"#000000\">samples = 34</text>\n",
       "<text text-anchor=\"start\" x=\"2009.5\" y=\"-245.8\" font-family=\"Helvetica,sans-Serif\" font-size=\"14.00\" fill=\"#000000\">value = [19, 15]</text>\n",
       "<text text-anchor=\"start\" x=\"2029\" y=\"-230.8\" font-family=\"Helvetica,sans-Serif\" font-size=\"14.00\" fill=\"#000000\">class = 0</text>\n",
       "</g>\n",
       "<!-- 31&#45;&gt;32 -->\n",
       "<g id=\"edge32\" class=\"edge\">\n",
       "<title>31&#45;&gt;32</title>\n",
       "<path fill=\"none\" stroke=\"#000000\" d=\"M2122.1751,-341.8796C2114.5311,-332.8733 2106.3757,-323.2644 2098.5039,-313.9897\"/>\n",
       "<polygon fill=\"#000000\" stroke=\"#000000\" points=\"2101.1151,-311.6574 2091.9757,-306.2981 2095.7782,-316.1871 2101.1151,-311.6574\"/>\n",
       "</g>\n",
       "<!-- 39 -->\n",
       "<g id=\"node40\" class=\"node\">\n",
       "<title>39</title>\n",
       "<path fill=\"#43a2e6\" stroke=\"#000000\" d=\"M2340,-306C2340,-306 2183,-306 2183,-306 2177,-306 2171,-300 2171,-294 2171,-294 2171,-235 2171,-235 2171,-229 2177,-223 2183,-223 2183,-223 2340,-223 2340,-223 2346,-223 2352,-229 2352,-235 2352,-235 2352,-294 2352,-294 2352,-300 2346,-306 2340,-306\"/>\n",
       "<text text-anchor=\"start\" x=\"2179\" y=\"-290.8\" font-family=\"Helvetica,sans-Serif\" font-size=\"14.00\" fill=\"#000000\">Total night minutes ≤ 114.5</text>\n",
       "<text text-anchor=\"start\" x=\"2226\" y=\"-275.8\" font-family=\"Helvetica,sans-Serif\" font-size=\"14.00\" fill=\"#000000\">gini = 0.095</text>\n",
       "<text text-anchor=\"start\" x=\"2220.5\" y=\"-260.8\" font-family=\"Helvetica,sans-Serif\" font-size=\"14.00\" fill=\"#000000\">samples = 60</text>\n",
       "<text text-anchor=\"start\" x=\"2218.5\" y=\"-245.8\" font-family=\"Helvetica,sans-Serif\" font-size=\"14.00\" fill=\"#000000\">value = [3, 57]</text>\n",
       "<text text-anchor=\"start\" x=\"2234\" y=\"-230.8\" font-family=\"Helvetica,sans-Serif\" font-size=\"14.00\" fill=\"#000000\">class = 1</text>\n",
       "</g>\n",
       "<!-- 31&#45;&gt;39 -->\n",
       "<g id=\"edge39\" class=\"edge\">\n",
       "<title>31&#45;&gt;39</title>\n",
       "<path fill=\"none\" stroke=\"#000000\" d=\"M2193.8742,-341.8796C2201.7452,-332.8733 2210.1429,-323.2644 2218.2485,-313.9897\"/>\n",
       "<polygon fill=\"#000000\" stroke=\"#000000\" points=\"2221.0254,-316.131 2224.9706,-306.2981 2215.7546,-311.5246 2221.0254,-316.131\"/>\n",
       "</g>\n",
       "<!-- 33 -->\n",
       "<g id=\"node34\" class=\"node\">\n",
       "<title>33</title>\n",
       "<path fill=\"#eda673\" stroke=\"#000000\" d=\"M1934,-187C1934,-187 1777,-187 1777,-187 1771,-187 1765,-181 1765,-175 1765,-175 1765,-116 1765,-116 1765,-110 1771,-104 1777,-104 1777,-104 1934,-104 1934,-104 1940,-104 1946,-110 1946,-116 1946,-116 1946,-175 1946,-175 1946,-181 1940,-187 1934,-187\"/>\n",
       "<text text-anchor=\"start\" x=\"1773\" y=\"-171.8\" font-family=\"Helvetica,sans-Serif\" font-size=\"14.00\" fill=\"#000000\">Total day minutes ≤ 305.15</text>\n",
       "<text text-anchor=\"start\" x=\"1820\" y=\"-156.8\" font-family=\"Helvetica,sans-Serif\" font-size=\"14.00\" fill=\"#000000\">gini = 0.351</text>\n",
       "<text text-anchor=\"start\" x=\"1814.5\" y=\"-141.8\" font-family=\"Helvetica,sans-Serif\" font-size=\"14.00\" fill=\"#000000\">samples = 22</text>\n",
       "<text text-anchor=\"start\" x=\"1812.5\" y=\"-126.8\" font-family=\"Helvetica,sans-Serif\" font-size=\"14.00\" fill=\"#000000\">value = [17, 5]</text>\n",
       "<text text-anchor=\"start\" x=\"1828\" y=\"-111.8\" font-family=\"Helvetica,sans-Serif\" font-size=\"14.00\" fill=\"#000000\">class = 0</text>\n",
       "</g>\n",
       "<!-- 32&#45;&gt;33 -->\n",
       "<g id=\"edge33\" class=\"edge\">\n",
       "<title>32&#45;&gt;33</title>\n",
       "<path fill=\"none\" stroke=\"#000000\" d=\"M1986.2,-222.8796C1969.5221,-213.0056 1951.621,-202.4075 1934.5814,-192.3193\"/>\n",
       "<polygon fill=\"#000000\" stroke=\"#000000\" points=\"1936.1485,-189.1797 1925.7604,-187.0969 1932.5823,-195.2032 1936.1485,-189.1797\"/>\n",
       "</g>\n",
       "<!-- 36 -->\n",
       "<g id=\"node37\" class=\"node\">\n",
       "<title>36</title>\n",
       "<path fill=\"#61b1ea\" stroke=\"#000000\" d=\"M2131,-187C2131,-187 1982,-187 1982,-187 1976,-187 1970,-181 1970,-175 1970,-175 1970,-116 1970,-116 1970,-110 1976,-104 1982,-104 1982,-104 2131,-104 2131,-104 2137,-104 2143,-110 2143,-116 2143,-116 2143,-175 2143,-175 2143,-181 2137,-187 2131,-187\"/>\n",
       "<text text-anchor=\"start\" x=\"1978\" y=\"-171.8\" font-family=\"Helvetica,sans-Serif\" font-size=\"14.00\" fill=\"#000000\">Total eve minutes ≤ 132.6</text>\n",
       "<text text-anchor=\"start\" x=\"2021\" y=\"-156.8\" font-family=\"Helvetica,sans-Serif\" font-size=\"14.00\" fill=\"#000000\">gini = 0.278</text>\n",
       "<text text-anchor=\"start\" x=\"2015.5\" y=\"-141.8\" font-family=\"Helvetica,sans-Serif\" font-size=\"14.00\" fill=\"#000000\">samples = 12</text>\n",
       "<text text-anchor=\"start\" x=\"2013.5\" y=\"-126.8\" font-family=\"Helvetica,sans-Serif\" font-size=\"14.00\" fill=\"#000000\">value = [2, 10]</text>\n",
       "<text text-anchor=\"start\" x=\"2029\" y=\"-111.8\" font-family=\"Helvetica,sans-Serif\" font-size=\"14.00\" fill=\"#000000\">class = 1</text>\n",
       "</g>\n",
       "<!-- 32&#45;&gt;36 -->\n",
       "<g id=\"edge36\" class=\"edge\">\n",
       "<title>32&#45;&gt;36</title>\n",
       "<path fill=\"none\" stroke=\"#000000\" d=\"M2056.5,-222.8796C2056.5,-214.6838 2056.5,-205.9891 2056.5,-197.5013\"/>\n",
       "<polygon fill=\"#000000\" stroke=\"#000000\" points=\"2060.0001,-197.298 2056.5,-187.2981 2053.0001,-197.2981 2060.0001,-197.298\"/>\n",
       "</g>\n",
       "<!-- 34 -->\n",
       "<g id=\"node35\" class=\"node\">\n",
       "<title>34</title>\n",
       "<path fill=\"#e89050\" stroke=\"#000000\" d=\"M1777.5,-68C1777.5,-68 1699.5,-68 1699.5,-68 1693.5,-68 1687.5,-62 1687.5,-56 1687.5,-56 1687.5,-12 1687.5,-12 1687.5,-6 1693.5,0 1699.5,0 1699.5,0 1777.5,0 1777.5,0 1783.5,0 1789.5,-6 1789.5,-12 1789.5,-12 1789.5,-56 1789.5,-56 1789.5,-62 1783.5,-68 1777.5,-68\"/>\n",
       "<text text-anchor=\"start\" x=\"1703\" y=\"-52.8\" font-family=\"Helvetica,sans-Serif\" font-size=\"14.00\" fill=\"#000000\">gini = 0.188</text>\n",
       "<text text-anchor=\"start\" x=\"1697.5\" y=\"-37.8\" font-family=\"Helvetica,sans-Serif\" font-size=\"14.00\" fill=\"#000000\">samples = 19</text>\n",
       "<text text-anchor=\"start\" x=\"1695.5\" y=\"-22.8\" font-family=\"Helvetica,sans-Serif\" font-size=\"14.00\" fill=\"#000000\">value = [17, 2]</text>\n",
       "<text text-anchor=\"start\" x=\"1711\" y=\"-7.8\" font-family=\"Helvetica,sans-Serif\" font-size=\"14.00\" fill=\"#000000\">class = 0</text>\n",
       "</g>\n",
       "<!-- 33&#45;&gt;34 -->\n",
       "<g id=\"edge34\" class=\"edge\">\n",
       "<title>33&#45;&gt;34</title>\n",
       "<path fill=\"none\" stroke=\"#000000\" d=\"M1811.9335,-103.9815C1802.0966,-94.607 1791.656,-84.6572 1781.8289,-75.2921\"/>\n",
       "<polygon fill=\"#000000\" stroke=\"#000000\" points=\"1784.1076,-72.6289 1774.4538,-68.2637 1779.2784,-77.6963 1784.1076,-72.6289\"/>\n",
       "</g>\n",
       "<!-- 35 -->\n",
       "<g id=\"node36\" class=\"node\">\n",
       "<title>35</title>\n",
       "<path fill=\"#399de5\" stroke=\"#000000\" d=\"M1891,-68C1891,-68 1820,-68 1820,-68 1814,-68 1808,-62 1808,-56 1808,-56 1808,-12 1808,-12 1808,-6 1814,0 1820,0 1820,0 1891,0 1891,0 1897,0 1903,-6 1903,-12 1903,-12 1903,-56 1903,-56 1903,-62 1897,-68 1891,-68\"/>\n",
       "<text text-anchor=\"start\" x=\"1827.5\" y=\"-52.8\" font-family=\"Helvetica,sans-Serif\" font-size=\"14.00\" fill=\"#000000\">gini = 0.0</text>\n",
       "<text text-anchor=\"start\" x=\"1818\" y=\"-37.8\" font-family=\"Helvetica,sans-Serif\" font-size=\"14.00\" fill=\"#000000\">samples = 3</text>\n",
       "<text text-anchor=\"start\" x=\"1816\" y=\"-22.8\" font-family=\"Helvetica,sans-Serif\" font-size=\"14.00\" fill=\"#000000\">value = [0, 3]</text>\n",
       "<text text-anchor=\"start\" x=\"1828\" y=\"-7.8\" font-family=\"Helvetica,sans-Serif\" font-size=\"14.00\" fill=\"#000000\">class = 1</text>\n",
       "</g>\n",
       "<!-- 33&#45;&gt;35 -->\n",
       "<g id=\"edge35\" class=\"edge\">\n",
       "<title>33&#45;&gt;35</title>\n",
       "<path fill=\"none\" stroke=\"#000000\" d=\"M1855.5,-103.9815C1855.5,-95.618 1855.5,-86.7965 1855.5,-78.3409\"/>\n",
       "<polygon fill=\"#000000\" stroke=\"#000000\" points=\"1859.0001,-78.2636 1855.5,-68.2637 1852.0001,-78.2637 1859.0001,-78.2636\"/>\n",
       "</g>\n",
       "<!-- 37 -->\n",
       "<g id=\"node38\" class=\"node\">\n",
       "<title>37</title>\n",
       "<path fill=\"#e58139\" stroke=\"#000000\" d=\"M2004,-68C2004,-68 1933,-68 1933,-68 1927,-68 1921,-62 1921,-56 1921,-56 1921,-12 1921,-12 1921,-6 1927,0 1933,0 1933,0 2004,0 2004,0 2010,0 2016,-6 2016,-12 2016,-12 2016,-56 2016,-56 2016,-62 2010,-68 2004,-68\"/>\n",
       "<text text-anchor=\"start\" x=\"1940.5\" y=\"-52.8\" font-family=\"Helvetica,sans-Serif\" font-size=\"14.00\" fill=\"#000000\">gini = 0.0</text>\n",
       "<text text-anchor=\"start\" x=\"1931\" y=\"-37.8\" font-family=\"Helvetica,sans-Serif\" font-size=\"14.00\" fill=\"#000000\">samples = 2</text>\n",
       "<text text-anchor=\"start\" x=\"1929\" y=\"-22.8\" font-family=\"Helvetica,sans-Serif\" font-size=\"14.00\" fill=\"#000000\">value = [2, 0]</text>\n",
       "<text text-anchor=\"start\" x=\"1941\" y=\"-7.8\" font-family=\"Helvetica,sans-Serif\" font-size=\"14.00\" fill=\"#000000\">class = 0</text>\n",
       "</g>\n",
       "<!-- 36&#45;&gt;37 -->\n",
       "<g id=\"edge37\" class=\"edge\">\n",
       "<title>36&#45;&gt;37</title>\n",
       "<path fill=\"none\" stroke=\"#000000\" d=\"M2023.732,-103.9815C2016.551,-94.8828 2008.9421,-85.242 2001.7426,-76.1199\"/>\n",
       "<polygon fill=\"#000000\" stroke=\"#000000\" points=\"2004.4849,-73.9451 1995.5422,-68.2637 1998.9901,-78.2818 2004.4849,-73.9451\"/>\n",
       "</g>\n",
       "<!-- 38 -->\n",
       "<g id=\"node39\" class=\"node\">\n",
       "<title>38</title>\n",
       "<path fill=\"#399de5\" stroke=\"#000000\" d=\"M2124.5,-68C2124.5,-68 2046.5,-68 2046.5,-68 2040.5,-68 2034.5,-62 2034.5,-56 2034.5,-56 2034.5,-12 2034.5,-12 2034.5,-6 2040.5,0 2046.5,0 2046.5,0 2124.5,0 2124.5,0 2130.5,0 2136.5,-6 2136.5,-12 2136.5,-12 2136.5,-56 2136.5,-56 2136.5,-62 2130.5,-68 2124.5,-68\"/>\n",
       "<text text-anchor=\"start\" x=\"2057.5\" y=\"-52.8\" font-family=\"Helvetica,sans-Serif\" font-size=\"14.00\" fill=\"#000000\">gini = 0.0</text>\n",
       "<text text-anchor=\"start\" x=\"2044.5\" y=\"-37.8\" font-family=\"Helvetica,sans-Serif\" font-size=\"14.00\" fill=\"#000000\">samples = 10</text>\n",
       "<text text-anchor=\"start\" x=\"2042.5\" y=\"-22.8\" font-family=\"Helvetica,sans-Serif\" font-size=\"14.00\" fill=\"#000000\">value = [0, 10]</text>\n",
       "<text text-anchor=\"start\" x=\"2058\" y=\"-7.8\" font-family=\"Helvetica,sans-Serif\" font-size=\"14.00\" fill=\"#000000\">class = 1</text>\n",
       "</g>\n",
       "<!-- 36&#45;&gt;38 -->\n",
       "<g id=\"edge38\" class=\"edge\">\n",
       "<title>36&#45;&gt;38</title>\n",
       "<path fill=\"none\" stroke=\"#000000\" d=\"M2067.2985,-103.9815C2069.4977,-95.5261 2071.8186,-86.6026 2074.0399,-78.0623\"/>\n",
       "<polygon fill=\"#000000\" stroke=\"#000000\" points=\"2077.4585,-78.8227 2076.5884,-68.2637 2070.6838,-77.0607 2077.4585,-78.8227\"/>\n",
       "</g>\n",
       "<!-- 40 -->\n",
       "<g id=\"node41\" class=\"node\">\n",
       "<title>40</title>\n",
       "<path fill=\"#f2c09c\" stroke=\"#000000\" d=\"M2316,-187C2316,-187 2207,-187 2207,-187 2201,-187 2195,-181 2195,-175 2195,-175 2195,-116 2195,-116 2195,-110 2201,-104 2207,-104 2207,-104 2316,-104 2316,-104 2322,-104 2328,-110 2328,-116 2328,-116 2328,-175 2328,-175 2328,-181 2322,-187 2316,-187\"/>\n",
       "<text text-anchor=\"start\" x=\"2203\" y=\"-171.8\" font-family=\"Helvetica,sans-Serif\" font-size=\"14.00\" fill=\"#000000\">Total intl calls ≤ 2.5</text>\n",
       "<text text-anchor=\"start\" x=\"2226\" y=\"-156.8\" font-family=\"Helvetica,sans-Serif\" font-size=\"14.00\" fill=\"#000000\">gini = 0.444</text>\n",
       "<text text-anchor=\"start\" x=\"2224\" y=\"-141.8\" font-family=\"Helvetica,sans-Serif\" font-size=\"14.00\" fill=\"#000000\">samples = 3</text>\n",
       "<text text-anchor=\"start\" x=\"2222\" y=\"-126.8\" font-family=\"Helvetica,sans-Serif\" font-size=\"14.00\" fill=\"#000000\">value = [2, 1]</text>\n",
       "<text text-anchor=\"start\" x=\"2234\" y=\"-111.8\" font-family=\"Helvetica,sans-Serif\" font-size=\"14.00\" fill=\"#000000\">class = 0</text>\n",
       "</g>\n",
       "<!-- 39&#45;&gt;40 -->\n",
       "<g id=\"edge40\" class=\"edge\">\n",
       "<title>39&#45;&gt;40</title>\n",
       "<path fill=\"none\" stroke=\"#000000\" d=\"M2261.5,-222.8796C2261.5,-214.6838 2261.5,-205.9891 2261.5,-197.5013\"/>\n",
       "<polygon fill=\"#000000\" stroke=\"#000000\" points=\"2265.0001,-197.298 2261.5,-187.2981 2258.0001,-197.2981 2265.0001,-197.298\"/>\n",
       "</g>\n",
       "<!-- 43 -->\n",
       "<g id=\"node44\" class=\"node\">\n",
       "<title>43</title>\n",
       "<path fill=\"#3d9fe5\" stroke=\"#000000\" d=\"M2491.5,-187C2491.5,-187 2361.5,-187 2361.5,-187 2355.5,-187 2349.5,-181 2349.5,-175 2349.5,-175 2349.5,-116 2349.5,-116 2349.5,-110 2355.5,-104 2361.5,-104 2361.5,-104 2491.5,-104 2491.5,-104 2497.5,-104 2503.5,-110 2503.5,-116 2503.5,-116 2503.5,-175 2503.5,-175 2503.5,-181 2497.5,-187 2491.5,-187\"/>\n",
       "<text text-anchor=\"start\" x=\"2357.5\" y=\"-171.8\" font-family=\"Helvetica,sans-Serif\" font-size=\"14.00\" fill=\"#000000\">Total intl minutes ≤ 6.1</text>\n",
       "<text text-anchor=\"start\" x=\"2391\" y=\"-156.8\" font-family=\"Helvetica,sans-Serif\" font-size=\"14.00\" fill=\"#000000\">gini = 0.034</text>\n",
       "<text text-anchor=\"start\" x=\"2385.5\" y=\"-141.8\" font-family=\"Helvetica,sans-Serif\" font-size=\"14.00\" fill=\"#000000\">samples = 57</text>\n",
       "<text text-anchor=\"start\" x=\"2383.5\" y=\"-126.8\" font-family=\"Helvetica,sans-Serif\" font-size=\"14.00\" fill=\"#000000\">value = [1, 56]</text>\n",
       "<text text-anchor=\"start\" x=\"2399\" y=\"-111.8\" font-family=\"Helvetica,sans-Serif\" font-size=\"14.00\" fill=\"#000000\">class = 1</text>\n",
       "</g>\n",
       "<!-- 39&#45;&gt;43 -->\n",
       "<g id=\"edge43\" class=\"edge\">\n",
       "<title>39&#45;&gt;43</title>\n",
       "<path fill=\"none\" stroke=\"#000000\" d=\"M2319.209,-222.8796C2332.523,-213.2774 2346.7866,-202.9903 2360.4259,-193.1534\"/>\n",
       "<polygon fill=\"#000000\" stroke=\"#000000\" points=\"2362.7602,-195.7852 2368.8236,-187.0969 2358.6655,-190.1077 2362.7602,-195.7852\"/>\n",
       "</g>\n",
       "<!-- 41 -->\n",
       "<g id=\"node42\" class=\"node\">\n",
       "<title>41</title>\n",
       "<path fill=\"#399de5\" stroke=\"#000000\" d=\"M2238,-68C2238,-68 2167,-68 2167,-68 2161,-68 2155,-62 2155,-56 2155,-56 2155,-12 2155,-12 2155,-6 2161,0 2167,0 2167,0 2238,0 2238,0 2244,0 2250,-6 2250,-12 2250,-12 2250,-56 2250,-56 2250,-62 2244,-68 2238,-68\"/>\n",
       "<text text-anchor=\"start\" x=\"2174.5\" y=\"-52.8\" font-family=\"Helvetica,sans-Serif\" font-size=\"14.00\" fill=\"#000000\">gini = 0.0</text>\n",
       "<text text-anchor=\"start\" x=\"2165\" y=\"-37.8\" font-family=\"Helvetica,sans-Serif\" font-size=\"14.00\" fill=\"#000000\">samples = 1</text>\n",
       "<text text-anchor=\"start\" x=\"2163\" y=\"-22.8\" font-family=\"Helvetica,sans-Serif\" font-size=\"14.00\" fill=\"#000000\">value = [0, 1]</text>\n",
       "<text text-anchor=\"start\" x=\"2175\" y=\"-7.8\" font-family=\"Helvetica,sans-Serif\" font-size=\"14.00\" fill=\"#000000\">class = 1</text>\n",
       "</g>\n",
       "<!-- 40&#45;&gt;41 -->\n",
       "<g id=\"edge41\" class=\"edge\">\n",
       "<title>40&#45;&gt;41</title>\n",
       "<path fill=\"none\" stroke=\"#000000\" d=\"M2239.5306,-103.9815C2234.9105,-95.2504 2230.0264,-86.0202 2225.374,-77.2281\"/>\n",
       "<polygon fill=\"#000000\" stroke=\"#000000\" points=\"2228.4013,-75.4655 2220.6306,-68.2637 2222.2141,-78.7395 2228.4013,-75.4655\"/>\n",
       "</g>\n",
       "<!-- 42 -->\n",
       "<g id=\"node43\" class=\"node\">\n",
       "<title>42</title>\n",
       "<path fill=\"#e58139\" stroke=\"#000000\" d=\"M2351,-68C2351,-68 2280,-68 2280,-68 2274,-68 2268,-62 2268,-56 2268,-56 2268,-12 2268,-12 2268,-6 2274,0 2280,0 2280,0 2351,0 2351,0 2357,0 2363,-6 2363,-12 2363,-12 2363,-56 2363,-56 2363,-62 2357,-68 2351,-68\"/>\n",
       "<text text-anchor=\"start\" x=\"2287.5\" y=\"-52.8\" font-family=\"Helvetica,sans-Serif\" font-size=\"14.00\" fill=\"#000000\">gini = 0.0</text>\n",
       "<text text-anchor=\"start\" x=\"2278\" y=\"-37.8\" font-family=\"Helvetica,sans-Serif\" font-size=\"14.00\" fill=\"#000000\">samples = 2</text>\n",
       "<text text-anchor=\"start\" x=\"2276\" y=\"-22.8\" font-family=\"Helvetica,sans-Serif\" font-size=\"14.00\" fill=\"#000000\">value = [2, 0]</text>\n",
       "<text text-anchor=\"start\" x=\"2288\" y=\"-7.8\" font-family=\"Helvetica,sans-Serif\" font-size=\"14.00\" fill=\"#000000\">class = 0</text>\n",
       "</g>\n",
       "<!-- 40&#45;&gt;42 -->\n",
       "<g id=\"edge42\" class=\"edge\">\n",
       "<title>40&#45;&gt;42</title>\n",
       "<path fill=\"none\" stroke=\"#000000\" d=\"M2281.6076,-103.9815C2285.7916,-95.3423 2290.2123,-86.2144 2294.4299,-77.5059\"/>\n",
       "<polygon fill=\"#000000\" stroke=\"#000000\" points=\"2297.6971,-78.7893 2298.9059,-68.2637 2291.3971,-75.7382 2297.6971,-78.7893\"/>\n",
       "</g>\n",
       "<!-- 44 -->\n",
       "<g id=\"node45\" class=\"node\">\n",
       "<title>44</title>\n",
       "<path fill=\"#7bbeee\" stroke=\"#000000\" d=\"M2464,-68C2464,-68 2393,-68 2393,-68 2387,-68 2381,-62 2381,-56 2381,-56 2381,-12 2381,-12 2381,-6 2387,0 2393,0 2393,0 2464,0 2464,0 2470,0 2476,-6 2476,-12 2476,-12 2476,-56 2476,-56 2476,-62 2470,-68 2464,-68\"/>\n",
       "<text text-anchor=\"start\" x=\"2393\" y=\"-52.8\" font-family=\"Helvetica,sans-Serif\" font-size=\"14.00\" fill=\"#000000\">gini = 0.375</text>\n",
       "<text text-anchor=\"start\" x=\"2391\" y=\"-37.8\" font-family=\"Helvetica,sans-Serif\" font-size=\"14.00\" fill=\"#000000\">samples = 4</text>\n",
       "<text text-anchor=\"start\" x=\"2389\" y=\"-22.8\" font-family=\"Helvetica,sans-Serif\" font-size=\"14.00\" fill=\"#000000\">value = [1, 3]</text>\n",
       "<text text-anchor=\"start\" x=\"2401\" y=\"-7.8\" font-family=\"Helvetica,sans-Serif\" font-size=\"14.00\" fill=\"#000000\">class = 1</text>\n",
       "</g>\n",
       "<!-- 43&#45;&gt;44 -->\n",
       "<g id=\"edge44\" class=\"edge\">\n",
       "<title>43&#45;&gt;44</title>\n",
       "<path fill=\"none\" stroke=\"#000000\" d=\"M2427.2447,-103.9815C2427.3947,-95.618 2427.553,-86.7965 2427.7046,-78.3409\"/>\n",
       "<polygon fill=\"#000000\" stroke=\"#000000\" points=\"2431.2054,-78.3249 2427.8854,-68.2637 2424.2065,-78.1993 2431.2054,-78.3249\"/>\n",
       "</g>\n",
       "<!-- 45 -->\n",
       "<g id=\"node46\" class=\"node\">\n",
       "<title>45</title>\n",
       "<path fill=\"#399de5\" stroke=\"#000000\" d=\"M2584.5,-68C2584.5,-68 2506.5,-68 2506.5,-68 2500.5,-68 2494.5,-62 2494.5,-56 2494.5,-56 2494.5,-12 2494.5,-12 2494.5,-6 2500.5,0 2506.5,0 2506.5,0 2584.5,0 2584.5,0 2590.5,0 2596.5,-6 2596.5,-12 2596.5,-12 2596.5,-56 2596.5,-56 2596.5,-62 2590.5,-68 2584.5,-68\"/>\n",
       "<text text-anchor=\"start\" x=\"2517.5\" y=\"-52.8\" font-family=\"Helvetica,sans-Serif\" font-size=\"14.00\" fill=\"#000000\">gini = 0.0</text>\n",
       "<text text-anchor=\"start\" x=\"2504.5\" y=\"-37.8\" font-family=\"Helvetica,sans-Serif\" font-size=\"14.00\" fill=\"#000000\">samples = 53</text>\n",
       "<text text-anchor=\"start\" x=\"2502.5\" y=\"-22.8\" font-family=\"Helvetica,sans-Serif\" font-size=\"14.00\" fill=\"#000000\">value = [0, 53]</text>\n",
       "<text text-anchor=\"start\" x=\"2518\" y=\"-7.8\" font-family=\"Helvetica,sans-Serif\" font-size=\"14.00\" fill=\"#000000\">class = 1</text>\n",
       "</g>\n",
       "<!-- 43&#45;&gt;45 -->\n",
       "<g id=\"edge45\" class=\"edge\">\n",
       "<title>43&#45;&gt;45</title>\n",
       "<path fill=\"none\" stroke=\"#000000\" d=\"M2470.8112,-103.9815C2480.8163,-94.607 2491.4354,-84.6572 2501.4304,-75.2921\"/>\n",
       "<polygon fill=\"#000000\" stroke=\"#000000\" points=\"2504.0274,-77.6551 2508.9316,-68.2637 2499.2412,-72.547 2504.0274,-77.6551\"/>\n",
       "</g>\n",
       "<!-- 47 -->\n",
       "<g id=\"node48\" class=\"node\">\n",
       "<title>47</title>\n",
       "<path fill=\"#e68540\" stroke=\"#000000\" d=\"M2702,-306C2702,-306 2553,-306 2553,-306 2547,-306 2541,-300 2541,-294 2541,-294 2541,-235 2541,-235 2541,-229 2547,-223 2553,-223 2553,-223 2702,-223 2702,-223 2708,-223 2714,-229 2714,-235 2714,-235 2714,-294 2714,-294 2714,-300 2708,-306 2702,-306\"/>\n",
       "<text text-anchor=\"start\" x=\"2549\" y=\"-290.8\" font-family=\"Helvetica,sans-Serif\" font-size=\"14.00\" fill=\"#000000\">Total day minutes ≤ 398.7</text>\n",
       "<text text-anchor=\"start\" x=\"2592\" y=\"-275.8\" font-family=\"Helvetica,sans-Serif\" font-size=\"14.00\" fill=\"#000000\">gini = 0.064</text>\n",
       "<text text-anchor=\"start\" x=\"2586.5\" y=\"-260.8\" font-family=\"Helvetica,sans-Serif\" font-size=\"14.00\" fill=\"#000000\">samples = 30</text>\n",
       "<text text-anchor=\"start\" x=\"2584.5\" y=\"-245.8\" font-family=\"Helvetica,sans-Serif\" font-size=\"14.00\" fill=\"#000000\">value = [29, 1]</text>\n",
       "<text text-anchor=\"start\" x=\"2600\" y=\"-230.8\" font-family=\"Helvetica,sans-Serif\" font-size=\"14.00\" fill=\"#000000\">class = 0</text>\n",
       "</g>\n",
       "<!-- 46&#45;&gt;47 -->\n",
       "<g id=\"edge47\" class=\"edge\">\n",
       "<title>46&#45;&gt;47</title>\n",
       "<path fill=\"none\" stroke=\"#000000\" d=\"M2627.5,-341.8796C2627.5,-333.6838 2627.5,-324.9891 2627.5,-316.5013\"/>\n",
       "<polygon fill=\"#000000\" stroke=\"#000000\" points=\"2631.0001,-316.298 2627.5,-306.2981 2624.0001,-316.2981 2631.0001,-316.298\"/>\n",
       "</g>\n",
       "<!-- 50 -->\n",
       "<g id=\"node51\" class=\"node\">\n",
       "<title>50</title>\n",
       "<path fill=\"#9ccef2\" stroke=\"#000000\" d=\"M2920,-306C2920,-306 2799,-306 2799,-306 2793,-306 2787,-300 2787,-294 2787,-294 2787,-235 2787,-235 2787,-229 2793,-223 2799,-223 2799,-223 2920,-223 2920,-223 2926,-223 2932,-229 2932,-235 2932,-235 2932,-294 2932,-294 2932,-300 2926,-306 2920,-306\"/>\n",
       "<text text-anchor=\"start\" x=\"2795\" y=\"-290.8\" font-family=\"Helvetica,sans-Serif\" font-size=\"14.00\" fill=\"#000000\">Total eve calls ≤ 86.0</text>\n",
       "<text text-anchor=\"start\" x=\"2824\" y=\"-275.8\" font-family=\"Helvetica,sans-Serif\" font-size=\"14.00\" fill=\"#000000\">gini = 0.444</text>\n",
       "<text text-anchor=\"start\" x=\"2822\" y=\"-260.8\" font-family=\"Helvetica,sans-Serif\" font-size=\"14.00\" fill=\"#000000\">samples = 6</text>\n",
       "<text text-anchor=\"start\" x=\"2820\" y=\"-245.8\" font-family=\"Helvetica,sans-Serif\" font-size=\"14.00\" fill=\"#000000\">value = [2, 4]</text>\n",
       "<text text-anchor=\"start\" x=\"2832\" y=\"-230.8\" font-family=\"Helvetica,sans-Serif\" font-size=\"14.00\" fill=\"#000000\">class = 1</text>\n",
       "</g>\n",
       "<!-- 46&#45;&gt;50 -->\n",
       "<g id=\"edge50\" class=\"edge\">\n",
       "<title>46&#45;&gt;50</title>\n",
       "<path fill=\"none\" stroke=\"#000000\" d=\"M2680.7255,-356.199C2709.4616,-341.4593 2745.5527,-322.9471 2777.7693,-306.4222\"/>\n",
       "<polygon fill=\"#000000\" stroke=\"#000000\" points=\"2779.4436,-309.4971 2786.744,-301.8188 2776.2488,-303.2686 2779.4436,-309.4971\"/>\n",
       "</g>\n",
       "<!-- 48 -->\n",
       "<g id=\"node49\" class=\"node\">\n",
       "<title>48</title>\n",
       "<path fill=\"#e58139\" stroke=\"#000000\" d=\"M2611.5,-179.5C2611.5,-179.5 2533.5,-179.5 2533.5,-179.5 2527.5,-179.5 2521.5,-173.5 2521.5,-167.5 2521.5,-167.5 2521.5,-123.5 2521.5,-123.5 2521.5,-117.5 2527.5,-111.5 2533.5,-111.5 2533.5,-111.5 2611.5,-111.5 2611.5,-111.5 2617.5,-111.5 2623.5,-117.5 2623.5,-123.5 2623.5,-123.5 2623.5,-167.5 2623.5,-167.5 2623.5,-173.5 2617.5,-179.5 2611.5,-179.5\"/>\n",
       "<text text-anchor=\"start\" x=\"2544.5\" y=\"-164.3\" font-family=\"Helvetica,sans-Serif\" font-size=\"14.00\" fill=\"#000000\">gini = 0.0</text>\n",
       "<text text-anchor=\"start\" x=\"2531.5\" y=\"-149.3\" font-family=\"Helvetica,sans-Serif\" font-size=\"14.00\" fill=\"#000000\">samples = 29</text>\n",
       "<text text-anchor=\"start\" x=\"2529.5\" y=\"-134.3\" font-family=\"Helvetica,sans-Serif\" font-size=\"14.00\" fill=\"#000000\">value = [29, 0]</text>\n",
       "<text text-anchor=\"start\" x=\"2545\" y=\"-119.3\" font-family=\"Helvetica,sans-Serif\" font-size=\"14.00\" fill=\"#000000\">class = 0</text>\n",
       "</g>\n",
       "<!-- 47&#45;&gt;48 -->\n",
       "<g id=\"edge48\" class=\"edge\">\n",
       "<title>47&#45;&gt;48</title>\n",
       "<path fill=\"none\" stroke=\"#000000\" d=\"M2608.2637,-222.8796C2603.1814,-211.8835 2597.6841,-199.9893 2592.5595,-188.9015\"/>\n",
       "<polygon fill=\"#000000\" stroke=\"#000000\" points=\"2595.7324,-187.4239 2588.3598,-179.8149 2589.3782,-190.3607 2595.7324,-187.4239\"/>\n",
       "</g>\n",
       "<!-- 49 -->\n",
       "<g id=\"node50\" class=\"node\">\n",
       "<title>49</title>\n",
       "<path fill=\"#399de5\" stroke=\"#000000\" d=\"M2725,-179.5C2725,-179.5 2654,-179.5 2654,-179.5 2648,-179.5 2642,-173.5 2642,-167.5 2642,-167.5 2642,-123.5 2642,-123.5 2642,-117.5 2648,-111.5 2654,-111.5 2654,-111.5 2725,-111.5 2725,-111.5 2731,-111.5 2737,-117.5 2737,-123.5 2737,-123.5 2737,-167.5 2737,-167.5 2737,-173.5 2731,-179.5 2725,-179.5\"/>\n",
       "<text text-anchor=\"start\" x=\"2661.5\" y=\"-164.3\" font-family=\"Helvetica,sans-Serif\" font-size=\"14.00\" fill=\"#000000\">gini = 0.0</text>\n",
       "<text text-anchor=\"start\" x=\"2652\" y=\"-149.3\" font-family=\"Helvetica,sans-Serif\" font-size=\"14.00\" fill=\"#000000\">samples = 1</text>\n",
       "<text text-anchor=\"start\" x=\"2650\" y=\"-134.3\" font-family=\"Helvetica,sans-Serif\" font-size=\"14.00\" fill=\"#000000\">value = [0, 1]</text>\n",
       "<text text-anchor=\"start\" x=\"2662\" y=\"-119.3\" font-family=\"Helvetica,sans-Serif\" font-size=\"14.00\" fill=\"#000000\">class = 1</text>\n",
       "</g>\n",
       "<!-- 47&#45;&gt;49 -->\n",
       "<g id=\"edge49\" class=\"edge\">\n",
       "<title>47&#45;&gt;49</title>\n",
       "<path fill=\"none\" stroke=\"#000000\" d=\"M2649.1846,-222.8796C2654.9136,-211.8835 2661.1106,-199.9893 2666.8874,-188.9015\"/>\n",
       "<polygon fill=\"#000000\" stroke=\"#000000\" points=\"2670.105,-190.3007 2671.6216,-179.8149 2663.897,-187.0662 2670.105,-190.3007\"/>\n",
       "</g>\n",
       "<!-- 51 -->\n",
       "<g id=\"node52\" class=\"node\">\n",
       "<title>51</title>\n",
       "<path fill=\"#f2c09c\" stroke=\"#000000\" d=\"M2952,-187C2952,-187 2767,-187 2767,-187 2761,-187 2755,-181 2755,-175 2755,-175 2755,-116 2755,-116 2755,-110 2761,-104 2767,-104 2767,-104 2952,-104 2952,-104 2958,-104 2964,-110 2964,-116 2964,-116 2964,-175 2964,-175 2964,-181 2958,-187 2952,-187\"/>\n",
       "<text text-anchor=\"start\" x=\"2763\" y=\"-171.8\" font-family=\"Helvetica,sans-Serif\" font-size=\"14.00\" fill=\"#000000\">Number vmail messages ≤ 26.5</text>\n",
       "<text text-anchor=\"start\" x=\"2824\" y=\"-156.8\" font-family=\"Helvetica,sans-Serif\" font-size=\"14.00\" fill=\"#000000\">gini = 0.444</text>\n",
       "<text text-anchor=\"start\" x=\"2822\" y=\"-141.8\" font-family=\"Helvetica,sans-Serif\" font-size=\"14.00\" fill=\"#000000\">samples = 3</text>\n",
       "<text text-anchor=\"start\" x=\"2820\" y=\"-126.8\" font-family=\"Helvetica,sans-Serif\" font-size=\"14.00\" fill=\"#000000\">value = [2, 1]</text>\n",
       "<text text-anchor=\"start\" x=\"2832\" y=\"-111.8\" font-family=\"Helvetica,sans-Serif\" font-size=\"14.00\" fill=\"#000000\">class = 0</text>\n",
       "</g>\n",
       "<!-- 50&#45;&gt;51 -->\n",
       "<g id=\"edge51\" class=\"edge\">\n",
       "<title>50&#45;&gt;51</title>\n",
       "<path fill=\"none\" stroke=\"#000000\" d=\"M2859.5,-222.8796C2859.5,-214.6838 2859.5,-205.9891 2859.5,-197.5013\"/>\n",
       "<polygon fill=\"#000000\" stroke=\"#000000\" points=\"2863.0001,-197.298 2859.5,-187.2981 2856.0001,-197.2981 2863.0001,-197.298\"/>\n",
       "</g>\n",
       "<!-- 54 -->\n",
       "<g id=\"node55\" class=\"node\">\n",
       "<title>54</title>\n",
       "<path fill=\"#399de5\" stroke=\"#000000\" d=\"M3065,-179.5C3065,-179.5 2994,-179.5 2994,-179.5 2988,-179.5 2982,-173.5 2982,-167.5 2982,-167.5 2982,-123.5 2982,-123.5 2982,-117.5 2988,-111.5 2994,-111.5 2994,-111.5 3065,-111.5 3065,-111.5 3071,-111.5 3077,-117.5 3077,-123.5 3077,-123.5 3077,-167.5 3077,-167.5 3077,-173.5 3071,-179.5 3065,-179.5\"/>\n",
       "<text text-anchor=\"start\" x=\"3001.5\" y=\"-164.3\" font-family=\"Helvetica,sans-Serif\" font-size=\"14.00\" fill=\"#000000\">gini = 0.0</text>\n",
       "<text text-anchor=\"start\" x=\"2992\" y=\"-149.3\" font-family=\"Helvetica,sans-Serif\" font-size=\"14.00\" fill=\"#000000\">samples = 3</text>\n",
       "<text text-anchor=\"start\" x=\"2990\" y=\"-134.3\" font-family=\"Helvetica,sans-Serif\" font-size=\"14.00\" fill=\"#000000\">value = [0, 3]</text>\n",
       "<text text-anchor=\"start\" x=\"3002\" y=\"-119.3\" font-family=\"Helvetica,sans-Serif\" font-size=\"14.00\" fill=\"#000000\">class = 1</text>\n",
       "</g>\n",
       "<!-- 50&#45;&gt;54 -->\n",
       "<g id=\"edge54\" class=\"edge\">\n",
       "<title>50&#45;&gt;54</title>\n",
       "<path fill=\"none\" stroke=\"#000000\" d=\"M2921.6432,-222.9236C2938.5599,-211.4239 2956.8158,-198.8459 2973.5,-187 2974.129,-186.5534 2974.7614,-186.1033 2975.3967,-185.6502\"/>\n",
       "<polygon fill=\"#000000\" stroke=\"#000000\" points=\"2977.6971,-188.3068 2983.7694,-179.6248 2973.6083,-182.6251 2977.6971,-188.3068\"/>\n",
       "</g>\n",
       "<!-- 52 -->\n",
       "<g id=\"node53\" class=\"node\">\n",
       "<title>52</title>\n",
       "<path fill=\"#e58139\" stroke=\"#000000\" d=\"M2839,-68C2839,-68 2768,-68 2768,-68 2762,-68 2756,-62 2756,-56 2756,-56 2756,-12 2756,-12 2756,-6 2762,0 2768,0 2768,0 2839,0 2839,0 2845,0 2851,-6 2851,-12 2851,-12 2851,-56 2851,-56 2851,-62 2845,-68 2839,-68\"/>\n",
       "<text text-anchor=\"start\" x=\"2775.5\" y=\"-52.8\" font-family=\"Helvetica,sans-Serif\" font-size=\"14.00\" fill=\"#000000\">gini = 0.0</text>\n",
       "<text text-anchor=\"start\" x=\"2766\" y=\"-37.8\" font-family=\"Helvetica,sans-Serif\" font-size=\"14.00\" fill=\"#000000\">samples = 2</text>\n",
       "<text text-anchor=\"start\" x=\"2764\" y=\"-22.8\" font-family=\"Helvetica,sans-Serif\" font-size=\"14.00\" fill=\"#000000\">value = [2, 0]</text>\n",
       "<text text-anchor=\"start\" x=\"2776\" y=\"-7.8\" font-family=\"Helvetica,sans-Serif\" font-size=\"14.00\" fill=\"#000000\">class = 0</text>\n",
       "</g>\n",
       "<!-- 51&#45;&gt;52 -->\n",
       "<g id=\"edge52\" class=\"edge\">\n",
       "<title>51&#45;&gt;52</title>\n",
       "<path fill=\"none\" stroke=\"#000000\" d=\"M2838.6477,-103.9815C2834.2625,-95.2504 2829.6267,-86.0202 2825.211,-77.2281\"/>\n",
       "<polygon fill=\"#000000\" stroke=\"#000000\" points=\"2828.3246,-75.6291 2820.7087,-68.2637 2822.0692,-78.7708 2828.3246,-75.6291\"/>\n",
       "</g>\n",
       "<!-- 53 -->\n",
       "<g id=\"node54\" class=\"node\">\n",
       "<title>53</title>\n",
       "<path fill=\"#399de5\" stroke=\"#000000\" d=\"M2952,-68C2952,-68 2881,-68 2881,-68 2875,-68 2869,-62 2869,-56 2869,-56 2869,-12 2869,-12 2869,-6 2875,0 2881,0 2881,0 2952,0 2952,0 2958,0 2964,-6 2964,-12 2964,-12 2964,-56 2964,-56 2964,-62 2958,-68 2952,-68\"/>\n",
       "<text text-anchor=\"start\" x=\"2888.5\" y=\"-52.8\" font-family=\"Helvetica,sans-Serif\" font-size=\"14.00\" fill=\"#000000\">gini = 0.0</text>\n",
       "<text text-anchor=\"start\" x=\"2879\" y=\"-37.8\" font-family=\"Helvetica,sans-Serif\" font-size=\"14.00\" fill=\"#000000\">samples = 1</text>\n",
       "<text text-anchor=\"start\" x=\"2877\" y=\"-22.8\" font-family=\"Helvetica,sans-Serif\" font-size=\"14.00\" fill=\"#000000\">value = [0, 1]</text>\n",
       "<text text-anchor=\"start\" x=\"2889\" y=\"-7.8\" font-family=\"Helvetica,sans-Serif\" font-size=\"14.00\" fill=\"#000000\">class = 1</text>\n",
       "</g>\n",
       "<!-- 51&#45;&gt;53 -->\n",
       "<g id=\"edge53\" class=\"edge\">\n",
       "<title>51&#45;&gt;53</title>\n",
       "<path fill=\"none\" stroke=\"#000000\" d=\"M2880.7247,-103.9815C2885.1881,-95.2504 2889.9067,-86.0202 2894.4013,-77.2281\"/>\n",
       "<polygon fill=\"#000000\" stroke=\"#000000\" points=\"2897.5486,-78.7608 2898.984,-68.2637 2891.3158,-75.5745 2897.5486,-78.7608\"/>\n",
       "</g>\n",
       "</g>\n",
       "</svg>\n"
      ],
      "text/plain": [
       "<graphviz.files.Source at 0x7f4c09d61748>"
      ]
     },
     "metadata": {},
     "output_type": "display_data"
    }
   ],
   "source": [
    "display(graph)"
   ]
  },
  {
   "cell_type": "code",
   "execution_count": null,
   "metadata": {},
   "outputs": [],
   "source": []
  },
  {
   "cell_type": "code",
   "execution_count": null,
   "metadata": {},
   "outputs": [],
   "source": []
  },
  {
   "cell_type": "markdown",
   "metadata": {},
   "source": [
    "### Задание 2  \n",
    "  \n",
    "На кросс-валидации (5-fold из 5 повторений) оцените, как меняется качество модели Random Forest с ростом числа деревьев (при дефолтных значениях остальных параметров). Провизуализируйте результаты. Сколько деревьев достаточно в данном случае и почему?  \n",
    "**NB:** В сравнение включите конфигурацию, аналогичную простому дереву решений. "
   ]
  },
  {
   "cell_type": "markdown",
   "metadata": {},
   "source": [
    "Где-то начиная с 60 деревьев можно точно сказать, что f1 и roc auc практически перестают расти, поэтому 65 деревьев точно будет достаточно."
   ]
  },
  {
   "cell_type": "code",
   "execution_count": 169,
   "metadata": {},
   "outputs": [],
   "source": [
    "def func1(f, n, s):\n",
    "    scores_f1, scores_roc = [], []\n",
    "    for i in range(f, n, s):\n",
    "        rf = RandomForestClassifier(n_estimators=i, random_state=1337)\n",
    "        skf = RepeatedStratifiedKFold(n_splits=5, n_repeats=5, random_state=1337)\n",
    "\n",
    "\n",
    "        res = cross_validate(rf, X, Y, cv=skf, scoring=['f1_macro', 'roc_auc'], n_jobs=-1)\n",
    "        scores_f1.append(np.mean(res['test_f1_macro']))\n",
    "        scores_roc.append(np.mean(res['test_roc_auc']))\n",
    "\n",
    "    plt.figure(figsize = (15, 6))\n",
    "    plt.plot([i for i in range(f, n, s)], scores_f1, \n",
    "             marker='o', color='pink', label='f1')\n",
    "    plt.plot([i for i in range(f, n, s)], scores_roc, \n",
    "             marker='o', color='mediumvioletred', label='roc auc')\n",
    "    plt.legend()\n",
    "    plt.show()\n"
   ]
  },
  {
   "cell_type": "code",
   "execution_count": 170,
   "metadata": {},
   "outputs": [
    {
     "data": {
      "image/png": "[encoded data removed]",
      "text/plain": [
       "<Figure size 1080x432 with 1 Axes>"
      ]
     },
     "metadata": {},
     "output_type": "display_data"
    },
    {
     "name": "stdout",
     "output_type": "stream",
     "text": [
      "CPU times: user 3.03 s, sys: 111 ms, total: 3.14 s\n",
      "Wall time: 1min 46s\n"
     ]
    }
   ],
   "source": [
    "%%time\n",
    "func1(1, 200, 10)"
   ]
  },
  {
   "cell_type": "code",
   "execution_count": 171,
   "metadata": {
    "scrolled": false
   },
   "outputs": [
    {
     "data": {
      "image/png": "[encoded data removed]",
      "text/plain": [
       "<Figure size 1080x432 with 1 Axes>"
      ]
     },
     "metadata": {},
     "output_type": "display_data"
    },
    {
     "name": "stdout",
     "output_type": "stream",
     "text": [
      "CPU times: user 4.15 s, sys: 142 ms, total: 4.29 s\n",
      "Wall time: 1min 26s\n"
     ]
    }
   ],
   "source": [
    "%%time\n",
    "func1(10, 100, 3)"
   ]
  },
  {
   "cell_type": "markdown",
   "metadata": {},
   "source": [
    "### Задание 3  \n",
    "  \n",
    "* Настройте гиперпараметры модели Random Forest на 5-fold валдиации из 5 повторений. В качестве метрики используйте F1-score. Замерьте время, затраченное на вычисления.\n",
    "* Разделите данные на обучающую и тестовую выборки в пропорциях 70:30 (сохраните seed). Обучите Random Forest  с настроенными параметрами на обучающей выборке. На тестовой выборке оцените качество (F1-score) всего ансамбля и <u>каждого дерева отдельно</u>. Постройте график распределения качества деревьев в ансамбле и сравните результаты с качеством всего леса. Дайте комментарий.  \n",
    "* Выведите важность признаков в Random Forest, сделайте выводы. "
   ]
  },
  {
   "cell_type": "code",
   "execution_count": 74,
   "metadata": {},
   "outputs": [],
   "source": [
    "rf = RandomForestClassifier(n_estimators=65, random_state=1337)\n",
    "params = {'max_depth': np.arange(5,40)}\n",
    "\n",
    "rskf = RepeatedStratifiedKFold(n_splits=5, n_repeats=5, random_state=1337)\n",
    "\n",
    "rf_grid = GridSearchCV(rf, params, cv=rskf, scoring='f1_macro', n_jobs=-1)\n"
   ]
  },
  {
   "cell_type": "code",
   "execution_count": 75,
   "metadata": {},
   "outputs": [
    {
     "name": "stdout",
     "output_type": "stream",
     "text": [
      "CPU times: user 5 s, sys: 147 ms, total: 5.15 s\n",
      "Wall time: 1min 44s\n"
     ]
    },
    {
     "data": {
      "text/plain": [
       "{'max_depth': 24}"
      ]
     },
     "execution_count": 75,
     "metadata": {},
     "output_type": "execute_result"
    }
   ],
   "source": [
    "%%time\n",
    "rf_grid.fit(X, Y)\n",
    "rf_grid.best_params_"
   ]
  },
  {
   "cell_type": "markdown",
   "metadata": {},
   "source": [
    "Разобьём данные."
   ]
  },
  {
   "cell_type": "code",
   "execution_count": 69,
   "metadata": {},
   "outputs": [],
   "source": [
    "(trainData, \n",
    " testData, \n",
    " train_label, \n",
    " test_label) = train_test_split(X,\n",
    "                                Y,\n",
    "                                test_size=0.3, \n",
    "                                random_state=54335)"
   ]
  },
  {
   "cell_type": "markdown",
   "metadata": {},
   "source": [
    "Проверим распределение значений целевой переменной."
   ]
  },
  {
   "cell_type": "code",
   "execution_count": 175,
   "metadata": {},
   "outputs": [
    {
     "data": {
      "text/plain": [
       "0    0.856489\n",
       "1    0.143511\n",
       "Name: Churn, dtype: float64"
      ]
     },
     "execution_count": 175,
     "metadata": {},
     "output_type": "execute_result"
    }
   ],
   "source": [
    "train_label.value_counts(normalize=True)"
   ]
  },
  {
   "cell_type": "code",
   "execution_count": 176,
   "metadata": {},
   "outputs": [
    {
     "data": {
      "text/plain": [
       "0    0.852\n",
       "1    0.148\n",
       "Name: Churn, dtype: float64"
      ]
     },
     "execution_count": 176,
     "metadata": {},
     "output_type": "execute_result"
    }
   ],
   "source": [
    "test_label.value_counts(normalize=True)"
   ]
  },
  {
   "cell_type": "markdown",
   "metadata": {},
   "source": [
    "Обучим модель с наилучшими параметрами."
   ]
  },
  {
   "cell_type": "code",
   "execution_count": 76,
   "metadata": {},
   "outputs": [],
   "source": [
    "rf = RandomForestClassifier(n_estimators=65, **rf_grid.best_params_, random_state=1337)\n",
    "rf.fit(trainData, train_label)\n",
    "\n",
    "preds = rf.predict(testData)\n",
    "\n",
    "rf_f1 = metrics.f1_score(test_label, preds)"
   ]
  },
  {
   "cell_type": "code",
   "execution_count": 178,
   "metadata": {},
   "outputs": [
    {
     "data": {
      "text/plain": [
       "0.8167539267015707"
      ]
     },
     "execution_count": 178,
     "metadata": {},
     "output_type": "execute_result"
    }
   ],
   "source": [
    "rf_f1"
   ]
  },
  {
   "cell_type": "markdown",
   "metadata": {},
   "source": [
    "Посмотрим на деревья по отдельности."
   ]
  },
  {
   "cell_type": "code",
   "execution_count": 179,
   "metadata": {},
   "outputs": [],
   "source": [
    "dt_f1 = []\n",
    "for dt in rf.estimators_:\n",
    "    dt.fit(trainData, train_label)\n",
    "\n",
    "    preds = dt.predict(testData)\n",
    "\n",
    "    dt_f1.append(metrics.f1_score(test_label, preds))"
   ]
  },
  {
   "cell_type": "markdown",
   "metadata": {},
   "source": [
    "**Распределение качества деревьев.**"
   ]
  },
  {
   "cell_type": "markdown",
   "metadata": {},
   "source": [
    "Распределение нормальное. Качетсво всего леса(красная линия на графике) заметно выше, чем у любого из деревьев.\n",
    "Разница с большинством деревьев составляет 0.2 по f1, а с самыми лучшими 0.1, что весьма значительно."
   ]
  },
  {
   "cell_type": "code",
   "execution_count": 180,
   "metadata": {},
   "outputs": [
    {
     "data": {
      "image/png": "[encoded data removed]",
      "text/plain": [
       "<Figure size 432x288 with 1 Axes>"
      ]
     },
     "metadata": {},
     "output_type": "display_data"
    }
   ],
   "source": [
    "sns.distplot(dt_f1, hist=True, label='dt')\n",
    "plt.vlines(x=rf_f1, ymin=0, ymax=10, label='rf', colors='red')\n",
    "plt.legend(loc='upper left')\n",
    "plt.show()"
   ]
  },
  {
   "cell_type": "markdown",
   "metadata": {},
   "source": [
    "**Важность признаков.**"
   ]
  },
  {
   "cell_type": "markdown",
   "metadata": {},
   "source": [
    "Примерно такую же картину мы могли видеть в корреляционной табличке и у дерева в задании 1. \n",
    "Правда в случае леса, признак roaming \"ниже\", чем в выше описанных случаях."
   ]
  },
  {
   "cell_type": "code",
   "execution_count": 181,
   "metadata": {},
   "outputs": [
    {
     "name": "stdout",
     "output_type": "stream",
     "text": [
      "Total day minutes\n",
      "Customer service calls\n",
      "Total eve minutes\n",
      "Total intl minutes\n",
      "Roaming\n",
      "Total night minutes\n",
      "Number vmail messages\n",
      "Total intl calls\n",
      "Account length\n",
      "Total night calls\n",
      "Total day calls\n",
      "Total eve calls\n",
      "State\n"
     ]
    }
   ],
   "source": [
    "for i in np.argsort(rf.feature_importances_)[::-1]:\n",
    "    print(X.columns[i])"
   ]
  },
  {
   "cell_type": "markdown",
   "metadata": {},
   "source": [
    "### Задание 4  \n",
    "  \n",
    "* Используйте логистическую регрессию для решения задачи, подберите оптимальные значения гипермараметров. Оцените качество (roc auc) на 5-fold валидации из 5 повторений. \n",
    "* Аналогично (на такой же валидации (тех же подвыборках) с такой же метрикой) оцените качество Random Forest  с подобранными в предыдущем задании параметрами. Сравните с качеством логистическом регрессии.\n",
    "* Разделите данные на обучающую и тестовую выборки в пропорциях 70:30 (используйте тот же seed, что и в Задании 3). На обучающей выборке обучите логистическую регрессию и Random Forest  с настроенными параметрами. Для обеих моделей оцените качество на тестовой выборке - постройте ROC-кривую, вычислите roc auc."
   ]
  },
  {
   "cell_type": "code",
   "execution_count": 68,
   "metadata": {},
   "outputs": [],
   "source": [
    "sc = StandardScaler().fit(X)\n",
    "X_sc = sc.transform(X)\n",
    "rskf = RepeatedStratifiedKFold(n_splits=5, n_repeats=5, random_state=1337)"
   ]
  },
  {
   "cell_type": "markdown",
   "metadata": {},
   "source": [
    "Видим, что при сильной регуляризации начинает падать f1.\n",
    "Стандартное значение C=1 нам в принципе подходит, тк начиная с 0.1 значение f1 и roc auc практически не меняются."
   ]
  },
  {
   "cell_type": "code",
   "execution_count": 183,
   "metadata": {},
   "outputs": [
    {
     "data": {
      "image/png": "[encoded data removed]",
      "text/plain": [
       "<Figure size 1080x432 with 1 Axes>"
      ]
     },
     "metadata": {},
     "output_type": "display_data"
    }
   ],
   "source": [
    "C_nums = [1*(10**i) for i in range(-5, 5)]\n",
    "scores_f1, scores_roc = [], []\n",
    "for i in C_nums:\n",
    "    lr = LogisticRegression(C=i, n_jobs=-1, max_iter=100000, random_state=322)\n",
    "\n",
    "    res = cross_validate(lr, X_sc, Y, cv=rskf, scoring=['f1_macro', 'roc_auc'])\n",
    "    scores_f1.append(np.mean(res['test_f1_macro']))\n",
    "    scores_roc.append(np.mean(res['test_roc_auc']))\n",
    "\n",
    "plt.figure(figsize = (15, 6))\n",
    "plt.plot(scores_f1, \n",
    "             marker='o', color='pink', label='f1')\n",
    "plt.plot(scores_roc, \n",
    "             marker='o', color='mediumvioletred', label='roc auc')\n",
    "plt.xticks(range(10), C_nums)\n",
    "plt.legend()\n",
    "plt.xlabel('значени C')\n",
    "plt.show()"
   ]
  },
  {
   "cell_type": "markdown",
   "metadata": {},
   "source": [
    "Видим, что логистическая регрессия уступает лесу по метрики roc auc."
   ]
  },
  {
   "cell_type": "markdown",
   "metadata": {},
   "source": [
    "Логистическая регрессия."
   ]
  },
  {
   "cell_type": "code",
   "execution_count": 184,
   "metadata": {},
   "outputs": [
    {
     "data": {
      "text/plain": [
       "0.8013701717901317"
      ]
     },
     "execution_count": 184,
     "metadata": {},
     "output_type": "execute_result"
    }
   ],
   "source": [
    "np.mean(cross_val_score(lr, X_sc, Y, cv=rskf, n_jobs=-1, scoring='roc_auc'))"
   ]
  },
  {
   "cell_type": "markdown",
   "metadata": {},
   "source": [
    "Рандомный лес."
   ]
  },
  {
   "cell_type": "code",
   "execution_count": 185,
   "metadata": {},
   "outputs": [
    {
     "data": {
      "text/plain": [
       "0.9055604403862353"
      ]
     },
     "execution_count": 185,
     "metadata": {},
     "output_type": "execute_result"
    }
   ],
   "source": [
    "np.mean(cross_val_score(rf, X_sc, Y, cv=rskf, n_jobs=-1, scoring='roc_auc'))"
   ]
  },
  {
   "cell_type": "markdown",
   "metadata": {},
   "source": [
    "Построим roc-кривую. Видим, что roc-кривая леса практически всегда больше кривой регрессии."
   ]
  },
  {
   "cell_type": "code",
   "execution_count": 82,
   "metadata": {},
   "outputs": [
    {
     "data": {
      "image/png": "[encoded data removed]",
      "text/plain": [
       "<Figure size 432x288 with 1 Axes>"
      ]
     },
     "metadata": {},
     "output_type": "display_data"
    }
   ],
   "source": [
    "lr = LogisticRegression(n_jobs=-1, max_iter=100000, random_state=322)\n",
    "\n",
    "lr.fit(sc.transform(trainData), train_label)\n",
    "pred_lr = lr.predict_proba(sc.transform(testData))\n",
    "\n",
    "rf.fit(trainData, train_label)\n",
    "pred_rf = rf.predict_proba(testData)\n",
    "\n",
    "fpr_lr, tpr_lr, _ = metrics.roc_curve(test_label,  pred_lr[::,1])\n",
    "auc_lr = metrics.roc_auc_score(test_label,  pred_lr[::,1])\n",
    "plt.plot(fpr_lr,tpr_lr,label='lr, auc='+str(auc_lr))\n",
    "\n",
    "fpr_rf, tpr_rf, _ = metrics.roc_curve(test_label,  pred_rf[::,1])\n",
    "auc_rf = metrics.roc_auc_score(test_label,  pred_rf[::,1])\n",
    "plt.plot(fpr_rf,tpr_rf,label='rf, auc='+str(auc_rf))\n",
    "\n",
    "plt.plot([0,1], c='red', linestyle='--')\n",
    "\n",
    "plt.legend(loc=4)\n",
    "plt.show()"
   ]
  },
  {
   "cell_type": "markdown",
   "metadata": {},
   "source": [
    "### Задание 5  \n",
    "  \n",
    "Для алгоритма AdaBoost с параметрами по умолчанию оцените на 5-fold валидации, как растет качество модели на обучающей и на тестовой выборках при добавлении каждого дерева. Провизуализируйте результаты. "
   ]
  },
  {
   "cell_type": "markdown",
   "metadata": {},
   "source": [
    "Начинаем с 50 деревьев и добавляем по одному. На каждом шаге сначала берём среднее значение F1 на 5-fold на трейне и потом сравниваем его со значением F1 на тесте.\n",
    "\n",
    "Нельзя сказать, как меняется качество модели при добавлении одного дерева. Но видно, что при большом увеличении числа деревьев обобщающая способность модели увеличивается."
   ]
  },
  {
   "cell_type": "code",
   "execution_count": 187,
   "metadata": {},
   "outputs": [
    {
     "data": {
      "image/png": "[encoded data removed]",
      "text/plain": [
       "<Figure size 1080x720 with 1 Axes>"
      ]
     },
     "metadata": {},
     "output_type": "display_data"
    },
    {
     "name": "stdout",
     "output_type": "stream",
     "text": [
      "CPU times: user 6min 17s, sys: 328 ms, total: 6min 17s\n",
      "Wall time: 6min 17s\n"
     ]
    }
   ],
   "source": [
    "%%time\n",
    "kf = KFold(n_splits=5, shuffle=True, random_state = 1337)\n",
    "kf.get_n_splits(trainData)\n",
    "\n",
    "test_f1, train_f1 = [], []\n",
    "\n",
    "n_est = range(50, 200, 1)\n",
    "\n",
    "for i in n_est:\n",
    "    mtrcs_sum_train = 0\n",
    "\n",
    "    for train_index, test_index in kf.split(trainData):\n",
    "        ada = AdaBoostClassifier(n_estimators=i, random_state=1337) \n",
    "        ada.fit(trainData.iloc[train_index], train_label.iloc[train_index])\n",
    "        \n",
    "        pr = ada.predict(trainData.iloc[test_index])\n",
    "        answ = train_label.iloc[test_index]\n",
    "\n",
    "        mtrcs_sum_train += metrics.f1_score(answ, pr)\n",
    "\n",
    "    train_f1.append(mtrcs_sum_train/5)\n",
    "        \n",
    "    ada = AdaBoostClassifier(n_estimators=i, random_state=1337) \n",
    "    ada.fit(trainData, train_label)\n",
    "    \n",
    "    pr = ada.predict(testData)\n",
    "    answ = test_label\n",
    "\n",
    "    test_f1.append(metrics.f1_score(answ, pr))\n",
    "\n",
    "plt.figure(figsize=(15, 10))\n",
    "plt.plot(n_est, train_f1, label='train')\n",
    "plt.plot(n_est, test_f1, label='test')\n",
    "plt.legend()\n",
    "\n",
    "plt.show()"
   ]
  },
  {
   "cell_type": "markdown",
   "metadata": {},
   "source": [
    "### Задание 6  \n",
    "  \n",
    "* Настройте гиперпараметры AdaBoost на 5-fold валидации, используя в качестве базовых классификаторов дерево решений и SVM. В качестве метрики используйте F1-score. Замерьте время, затраченное на вычисления.    \n",
    "* Выведите наилучшую конфигурацию параметров для каждого базового классификатора. Сравните качество. "
   ]
  },
  {
   "cell_type": "markdown",
   "metadata": {},
   "source": [
    "**Decision Tree**"
   ]
  },
  {
   "cell_type": "code",
   "execution_count": 188,
   "metadata": {},
   "outputs": [],
   "source": [
    "ada = AdaBoostClassifier(random_state=1337)\n",
    "params = {'n_estimators': np.arange(1, 10, 1),\n",
    "         'base_estimator': [DecisionTreeClassifier(max_depth=i, random_state=1337) for i in range(1, 10)]}\n",
    "\n",
    "rskf = RepeatedStratifiedKFold(n_splits=5, n_repeats=1, random_state=1337)\n",
    "\n",
    "ada_grid_dt = GridSearchCV(ada, params, cv=rskf, scoring='f1_macro', n_jobs=-1)"
   ]
  },
  {
   "cell_type": "code",
   "execution_count": 189,
   "metadata": {},
   "outputs": [
    {
     "name": "stdout",
     "output_type": "stream",
     "text": [
      "CPU times: user 845 ms, sys: 68 ms, total: 913 ms\n",
      "Wall time: 10.8 s\n"
     ]
    },
    {
     "data": {
      "text/plain": [
       "{'base_estimator': DecisionTreeClassifier(max_depth=6, random_state=1337),\n",
       " 'n_estimators': 1}"
      ]
     },
     "execution_count": 189,
     "metadata": {},
     "output_type": "execute_result"
    }
   ],
   "source": [
    "%%time\n",
    "ada_grid_dt.fit(X, Y)\n",
    "ada_grid_dt.best_params_"
   ]
  },
  {
   "cell_type": "code",
   "execution_count": 190,
   "metadata": {},
   "outputs": [],
   "source": [
    "ada_dt = AdaBoostClassifier(**ada_grid_dt.best_params_, random_state=1337)\n",
    "ada_dt.fit(trainData, train_label)\n",
    "preds = ada_dt.predict(testData)\n",
    "ada_dt_f1 = metrics.f1_score(test_label, preds)"
   ]
  },
  {
   "cell_type": "markdown",
   "metadata": {},
   "source": [
    "**SVM**"
   ]
  },
  {
   "cell_type": "markdown",
   "metadata": {},
   "source": [
    "Тюнинг SVM без буста."
   ]
  },
  {
   "cell_type": "code",
   "execution_count": 191,
   "metadata": {},
   "outputs": [],
   "source": [
    "sv = SVC(kernel='poly', random_state=1337)\n",
    "params = {'degree': np.arange(2, 10),\n",
    "         'C': loguniform(1e1, 1e4)}\n",
    "\n",
    "sv_rs = RandomizedSearchCV(sv, params, cv=rskf, scoring='f1_macro', n_iter=100, n_jobs=-1, random_state=322)"
   ]
  },
  {
   "cell_type": "code",
   "execution_count": 192,
   "metadata": {},
   "outputs": [
    {
     "name": "stdout",
     "output_type": "stream",
     "text": [
      "CPU times: user 2.36 s, sys: 43.6 ms, total: 2.41 s\n",
      "Wall time: 7min 53s\n"
     ]
    },
    {
     "data": {
      "text/plain": [
       "{'C': 18.906003016264613, 'degree': 3}"
      ]
     },
     "execution_count": 192,
     "metadata": {},
     "output_type": "execute_result"
    }
   ],
   "source": [
    "%%time\n",
    "sv_rs.fit(X_sc, Y)\n",
    "sv_rs.best_params_"
   ]
  },
  {
   "cell_type": "code",
   "execution_count": 193,
   "metadata": {},
   "outputs": [],
   "source": [
    "sv = SVC(kernel='poly', **sv_rs.best_params_,random_state=1337)"
   ]
  },
  {
   "cell_type": "code",
   "execution_count": 194,
   "metadata": {},
   "outputs": [
    {
     "data": {
      "text/plain": [
       "0.7617317680079843"
      ]
     },
     "execution_count": 194,
     "metadata": {},
     "output_type": "execute_result"
    }
   ],
   "source": [
    "np.mean(cross_val_score(sv, X_sc, Y, cv=rskf, n_jobs=-1, scoring='f1_macro'))"
   ]
  },
  {
   "cell_type": "markdown",
   "metadata": {},
   "source": [
    "Добавляем буст, подбираем количество моделей.\n",
    "\n",
    "Получилось не очень удачно."
   ]
  },
  {
   "cell_type": "code",
   "execution_count": 195,
   "metadata": {},
   "outputs": [],
   "source": [
    "ada_sv = AdaBoostClassifier(base_estimator=sv, algorithm='SAMME', random_state=1337)\n",
    "params = {'n_estimators': np.arange(1, 100, 1)}\n",
    "\n",
    "ada_sv_rs = RandomizedSearchCV(ada_sv, params, cv=rskf, scoring='f1_macro', n_iter=30, n_jobs=-1, random_state=323)\n"
   ]
  },
  {
   "cell_type": "code",
   "execution_count": 196,
   "metadata": {},
   "outputs": [
    {
     "name": "stdout",
     "output_type": "stream",
     "text": [
      "CPU times: user 24.7 s, sys: 702 ms, total: 25.4 s\n",
      "Wall time: 11min 37s\n"
     ]
    },
    {
     "data": {
      "text/plain": [
       "{'n_estimators': 74}"
      ]
     },
     "execution_count": 196,
     "metadata": {},
     "output_type": "execute_result"
    }
   ],
   "source": [
    "%%time\n",
    "ada_sv_rs.fit(X_sc, Y)\n",
    "ada_sv_rs.best_params_"
   ]
  },
  {
   "cell_type": "code",
   "execution_count": 197,
   "metadata": {},
   "outputs": [],
   "source": [
    "ada_sv = AdaBoostClassifier(base_estimator=sv, **ada_sv_rs.best_params_, algorithm='SAMME', random_state=1337)"
   ]
  },
  {
   "cell_type": "code",
   "execution_count": 198,
   "metadata": {},
   "outputs": [
    {
     "data": {
      "text/plain": [
       "0.5727617680029201"
      ]
     },
     "execution_count": 198,
     "metadata": {},
     "output_type": "execute_result"
    }
   ],
   "source": [
    "np.mean(cross_val_score(ada_sv, X_sc, Y, cv=rskf, n_jobs=-1, scoring='f1_macro'))"
   ]
  },
  {
   "cell_type": "markdown",
   "metadata": {},
   "source": [
    "Тюним всё вместе."
   ]
  },
  {
   "cell_type": "code",
   "execution_count": 199,
   "metadata": {},
   "outputs": [],
   "source": [
    "sv = SVC(kernel='poly', random_state=1337)\n",
    "ada_sv = AdaBoostClassifier(base_estimator=sv, algorithm='SAMME', random_state=1337)\n",
    "params = {'base_estimator__degree': np.arange(2, 10),\n",
    "         'base_estimator__C': loguniform(1e-2, 1e2),\n",
    "         'n_estimators': np.arange(1, 30, 5)}\n",
    "\n",
    "ada_sv_rs = RandomizedSearchCV(ada_sv, params, cv=rskf, scoring='f1_macro', n_iter=10, n_jobs=-1, random_state=323)\n"
   ]
  },
  {
   "cell_type": "code",
   "execution_count": 200,
   "metadata": {},
   "outputs": [
    {
     "name": "stdout",
     "output_type": "stream",
     "text": [
      "CPU times: user 6.89 s, sys: 99.9 ms, total: 6.99 s\n",
      "Wall time: 1min 9s\n"
     ]
    },
    {
     "data": {
      "text/plain": [
       "{'base_estimator__C': 78.26253331777104,\n",
       " 'base_estimator__degree': 2,\n",
       " 'n_estimators': 21}"
      ]
     },
     "execution_count": 200,
     "metadata": {},
     "output_type": "execute_result"
    }
   ],
   "source": [
    "%%time\n",
    "ada_sv_rs.fit(X_sc, Y)\n",
    "ada_sv_rs.best_params_"
   ]
  },
  {
   "cell_type": "code",
   "execution_count": 201,
   "metadata": {},
   "outputs": [
    {
     "data": {
      "text/plain": [
       "0.7206892469447072"
      ]
     },
     "execution_count": 201,
     "metadata": {},
     "output_type": "execute_result"
    }
   ],
   "source": [
    "sv = SVC(kernel='poly', degree=2, C=78, random_state=1337)\n",
    "ada_sv = AdaBoostClassifier(base_estimator=sv, n_estimators=21, algorithm='SAMME', random_state=1337)\n",
    "np.mean(cross_val_score(ada_sv, X_sc, Y, cv=rskf, n_jobs=-1, scoring='f1_macro'))"
   ]
  },
  {
   "cell_type": "markdown",
   "metadata": {},
   "source": [
    "На рандоме получили неплохой результат. Сужаем выборку гиперпараметров."
   ]
  },
  {
   "cell_type": "code",
   "execution_count": 202,
   "metadata": {},
   "outputs": [],
   "source": [
    "sv = SVC(kernel='poly', random_state=1337)\n",
    "ada_sv = AdaBoostClassifier(base_estimator=sv, algorithm='SAMME', random_state=1337)\n",
    "params = {'base_estimator__degree': np.arange(2, 5),\n",
    "         'base_estimator__C': np.arange(50, 100, 5),\n",
    "         'n_estimators': np.arange(5, 40, 5)}\n",
    "\n",
    "ada_sv_rs = GridSearchCV(ada_sv, params, cv=rskf, scoring='f1_macro', n_jobs=-1)"
   ]
  },
  {
   "cell_type": "code",
   "execution_count": 203,
   "metadata": {},
   "outputs": [
    {
     "name": "stdout",
     "output_type": "stream",
     "text": [
      "CPU times: user 14.1 s, sys: 226 ms, total: 14.3 s\n",
      "Wall time: 30min 26s\n"
     ]
    },
    {
     "data": {
      "text/plain": [
       "{'base_estimator__C': 80, 'base_estimator__degree': 3, 'n_estimators': 30}"
      ]
     },
     "execution_count": 203,
     "metadata": {},
     "output_type": "execute_result"
    }
   ],
   "source": [
    "%%time\n",
    "ada_sv_rs.fit(X_sc, Y)\n",
    "ada_sv_rs.best_params_"
   ]
  },
  {
   "cell_type": "code",
   "execution_count": 204,
   "metadata": {},
   "outputs": [
    {
     "data": {
      "text/plain": [
       "0.7450966646024407"
      ]
     },
     "execution_count": 204,
     "metadata": {},
     "output_type": "execute_result"
    }
   ],
   "source": [
    "sv = SVC(kernel='poly', degree=3, C=80, random_state=1337)\n",
    "ada_sv = AdaBoostClassifier(base_estimator=sv, n_estimators=30, algorithm='SAMME', random_state=1337)\n",
    "np.mean(cross_val_score(ada_sv, X_sc, Y, cv=rskf, n_jobs=-1, scoring='f1_macro'))"
   ]
  },
  {
   "cell_type": "markdown",
   "metadata": {},
   "source": [
    "Пробуем подобрать параметры наиболее точно."
   ]
  },
  {
   "cell_type": "code",
   "execution_count": 205,
   "metadata": {},
   "outputs": [],
   "source": [
    "sv = SVC(kernel='poly', random_state=1337)\n",
    "ada_sv = AdaBoostClassifier(base_estimator=sv, algorithm='SAMME', random_state=1337)\n",
    "params = {'base_estimator__C': np.arange(75, 85, 1),\n",
    "         'n_estimators': np.arange(25, 35, 1)}\n",
    "\n",
    "ada_sv_rs = GridSearchCV(ada_sv, params, cv=rskf, scoring='f1_macro', n_jobs=-1)"
   ]
  },
  {
   "cell_type": "code",
   "execution_count": 206,
   "metadata": {},
   "outputs": [
    {
     "name": "stdout",
     "output_type": "stream",
     "text": [
      "CPU times: user 12.2 s, sys: 164 ms, total: 12.4 s\n",
      "Wall time: 22min 43s\n"
     ]
    },
    {
     "data": {
      "text/plain": [
       "{'base_estimator__C': 83, 'n_estimators': 31}"
      ]
     },
     "execution_count": 206,
     "metadata": {},
     "output_type": "execute_result"
    }
   ],
   "source": [
    "%%time\n",
    "ada_sv_rs.fit(X_sc, Y)\n",
    "ada_sv_rs.best_params_"
   ]
  },
  {
   "cell_type": "code",
   "execution_count": 207,
   "metadata": {},
   "outputs": [
    {
     "data": {
      "text/plain": [
       "0.7473567045238296"
      ]
     },
     "execution_count": 207,
     "metadata": {},
     "output_type": "execute_result"
    }
   ],
   "source": [
    "sv = SVC(kernel='poly', degree=3, C=83, random_state=1337)\n",
    "ada_sv = AdaBoostClassifier(base_estimator=sv, n_estimators=31, algorithm='SAMME', random_state=1337)\n",
    "np.mean(cross_val_score(ada_sv, X_sc, Y, cv=rskf, n_jobs=-1, scoring='f1_macro'))"
   ]
  },
  {
   "cell_type": "code",
   "execution_count": 208,
   "metadata": {},
   "outputs": [],
   "source": [
    "ada_sv.fit(sc.transform(trainData), train_label)\n",
    "preds = ada_dt.predict(sc.transform(testData))\n",
    "ada_sv_f1 = metrics.f1_score(test_label, preds)"
   ]
  },
  {
   "cell_type": "markdown",
   "metadata": {},
   "source": [
    "**Итог**"
   ]
  },
  {
   "cell_type": "markdown",
   "metadata": {},
   "source": [
    "Лучшая конфигурация для дерева."
   ]
  },
  {
   "cell_type": "code",
   "execution_count": 209,
   "metadata": {},
   "outputs": [
    {
     "data": {
      "text/plain": [
       "DecisionTreeClassifier(max_depth=6, random_state=1337)"
      ]
     },
     "execution_count": 209,
     "metadata": {},
     "output_type": "execute_result"
    }
   ],
   "source": [
    "ada_dt.base_estimator_"
   ]
  },
  {
   "cell_type": "markdown",
   "metadata": {},
   "source": [
    "Значение F1 для дерева."
   ]
  },
  {
   "cell_type": "code",
   "execution_count": 210,
   "metadata": {},
   "outputs": [
    {
     "name": "stdout",
     "output_type": "stream",
     "text": [
      "0.7487179487179488\n"
     ]
    }
   ],
   "source": [
    "print(ada_dt_f1)"
   ]
  },
  {
   "cell_type": "markdown",
   "metadata": {},
   "source": [
    "Лучшая конфигурация для SVM."
   ]
  },
  {
   "cell_type": "code",
   "execution_count": 211,
   "metadata": {},
   "outputs": [
    {
     "data": {
      "text/plain": [
       "SVC(C=83, kernel='poly', random_state=1337)"
      ]
     },
     "execution_count": 211,
     "metadata": {},
     "output_type": "execute_result"
    }
   ],
   "source": [
    "ada_sv.base_estimator_"
   ]
  },
  {
   "cell_type": "markdown",
   "metadata": {},
   "source": [
    "Значение F1 для SVM."
   ]
  },
  {
   "cell_type": "code",
   "execution_count": 212,
   "metadata": {},
   "outputs": [
    {
     "name": "stdout",
     "output_type": "stream",
     "text": [
      "0.34375\n"
     ]
    }
   ],
   "source": [
    "print(ada_sv_f1)"
   ]
  },
  {
   "cell_type": "markdown",
   "metadata": {},
   "source": [
    "### Задание 7  \n",
    "  \n",
    "* Используйте для решения задачи один из фреймворков градиентного бустинга: XGBoost, LightGDB или CatBoost.  \n",
    "* Оцените на 5-fold валидации, как растет качество модели на обучающей и на тестовой выборках при добавлении каждого дерева. Провизуализируйте результаты.  \n",
    "* Настройте гиперпараметры модели на 5-fold валидации, в качестве метрики используйте F1-score. Замерьте время, затраченное на вычисления.  \n",
    "* Разделите данные на обучающую и тестовую выборки в пропорциях 70:30 (используйте тот же seed, что и в Задании 3). Обучите модель с настроенными параметрами на обучающей выборке. На тестовой выборке оцените качество. Сравните с предыдущими моделями, дайте комментарий.  \n",
    "* Оцените важность признаков в обученной модели с оптимальными параметрами. "
   ]
  },
  {
   "cell_type": "code",
   "execution_count": 85,
   "metadata": {},
   "outputs": [],
   "source": [
    "rskf = RepeatedStratifiedKFold(n_splits=5, n_repeats=1, random_state=1337)"
   ]
  },
  {
   "cell_type": "markdown",
   "metadata": {},
   "source": [
    "При добавлении первого дерева качество резко падает, при добавлении нескольких следующих резко возрастает. Где-то начиная со 2 дерева качество перестаёт меняться на тесте, а начиная с 20 перестаёт меняться на трейне."
   ]
  },
  {
   "cell_type": "code",
   "execution_count": 214,
   "metadata": {},
   "outputs": [
    {
     "data": {
      "image/png": "[encoded data removed]",
      "text/plain": [
       "<Figure size 1080x720 with 1 Axes>"
      ]
     },
     "metadata": {},
     "output_type": "display_data"
    },
    {
     "name": "stdout",
     "output_type": "stream",
     "text": [
      "CPU times: user 4min 17s, sys: 14.7 s, total: 4min 32s\n",
      "Wall time: 5min 45s\n"
     ]
    }
   ],
   "source": [
    "%%time\n",
    "kf = KFold(n_splits=5, shuffle=True, random_state = 1337)\n",
    "kf.get_n_splits(trainData)\n",
    "\n",
    "test_f1, train_f1 = [], []\n",
    "\n",
    "n_est = range(1, 100, 1)\n",
    "\n",
    "for i in n_est:\n",
    "    mtrcs_sum_train = 0\n",
    "\n",
    "    for train_index, test_index in kf.split(trainData):\n",
    "        cb = CatBoostClassifier(iterations=i, random_seed=322, verbose=False)\n",
    "        cb.fit(trainData.iloc[train_index], train_label.iloc[train_index])\n",
    "        \n",
    "        pr = cb.predict(trainData.iloc[test_index])\n",
    "        answ = train_label.iloc[test_index]\n",
    "\n",
    "        mtrcs_sum_train += metrics.f1_score(answ, pr)\n",
    "\n",
    "    train_f1.append(mtrcs_sum_train/5)\n",
    "        \n",
    "    cb = AdaBoostClassifier(n_estimators=i, random_state=1337) \n",
    "    cb.fit(trainData, train_label)\n",
    "    \n",
    "    pr = cb.predict(testData)\n",
    "    answ = test_label\n",
    "\n",
    "    test_f1.append(metrics.f1_score(answ, pr))\n",
    "\n",
    "plt.figure(figsize=(15, 10))\n",
    "plt.plot(n_est, train_f1, label='train')\n",
    "plt.plot(n_est, test_f1, label='test')\n",
    "plt.legend()\n",
    "\n",
    "plt.show()"
   ]
  },
  {
   "cell_type": "markdown",
   "metadata": {},
   "source": [
    "Настройка гиперпараметров."
   ]
  },
  {
   "cell_type": "code",
   "execution_count": 86,
   "metadata": {
    "scrolled": false
   },
   "outputs": [],
   "source": [
    "cb = CatBoostClassifier(verbose=False, random_seed=67897)\n",
    "\n",
    "params = {'depth': [6, 10],\n",
    "        'l2_leaf_reg': loguniform(1e0, 1e3),\n",
    "        'random_strength': loguniform(1e0, 1e3),\n",
    "        'bagging_temperature': loguniform(1e0, 1e3)}\n",
    "\n",
    "\n",
    "cb_rs = RandomizedSearchCV(cb, params, cv=rskf, scoring='f1', n_iter=10, n_jobs=-1, random_state=323)\n"
   ]
  },
  {
   "cell_type": "code",
   "execution_count": 87,
   "metadata": {},
   "outputs": [
    {
     "name": "stderr",
     "output_type": "stream",
     "text": [
      "/home/nikitos/.local/lib/python3.6/site-packages/joblib/externals/loky/process_executor.py:691: UserWarning: A worker stopped while some jobs were given to the executor. This can be caused by a too short worker timeout or by a memory leak.\n",
      "  \"timeout or by a memory leak.\", UserWarning\n"
     ]
    },
    {
     "name": "stdout",
     "output_type": "stream",
     "text": [
      "CPU times: user 6.72 s, sys: 361 ms, total: 7.08 s\n",
      "Wall time: 4min 32s\n"
     ]
    },
    {
     "data": {
      "text/plain": [
       "{'bagging_temperature': 7.414075255729104,\n",
       " 'depth': 6,\n",
       " 'l2_leaf_reg': 24.412759063908577,\n",
       " 'random_strength': 4.541403635214745}"
      ]
     },
     "execution_count": 87,
     "metadata": {},
     "output_type": "execute_result"
    }
   ],
   "source": [
    "%%time\n",
    "cb_rs.fit(X, Y)\n",
    "cb_rs.best_params_"
   ]
  },
  {
   "cell_type": "code",
   "execution_count": 88,
   "metadata": {},
   "outputs": [
    {
     "name": "stdout",
     "output_type": "stream",
     "text": [
      "CPU times: user 56.2 ms, sys: 4.38 ms, total: 60.6 ms\n",
      "Wall time: 11.9 s\n"
     ]
    },
    {
     "data": {
      "text/plain": [
       "0.8011397320876199"
      ]
     },
     "execution_count": 88,
     "metadata": {},
     "output_type": "execute_result"
    }
   ],
   "source": [
    "%%time\n",
    "cb = CatBoostClassifier(**cb_rs.best_params_, random_seed=67897)\n",
    "np.mean(cross_val_score(cb, X, Y, cv=rskf, n_jobs=-1, scoring='f1'))"
   ]
  },
  {
   "cell_type": "markdown",
   "metadata": {},
   "source": [
    "ЯНДЕКС ЛУЧШЕ ВСЕХ!!!!!!!!!!"
   ]
  },
  {
   "cell_type": "code",
   "execution_count": 89,
   "metadata": {},
   "outputs": [
    {
     "name": "stdout",
     "output_type": "stream",
     "text": [
      "0.8205128205128205\n"
     ]
    }
   ],
   "source": [
    "cb.fit(trainData, train_label, verbose=False)\n",
    "pred = cb.predict(testData)\n",
    "print(metrics.f1_score(test_label, pred))"
   ]
  },
  {
   "cell_type": "markdown",
   "metadata": {},
   "source": [
    "Важность признаков. Похожа на то, что было у леса, важность признака ещё больше коррелирует с его корреляцией."
   ]
  },
  {
   "cell_type": "code",
   "execution_count": 90,
   "metadata": {},
   "outputs": [
    {
     "name": "stdout",
     "output_type": "stream",
     "text": [
      "Total day minutes\n",
      "Customer service calls\n",
      "Total eve minutes\n",
      "Roaming\n",
      "Number vmail messages\n",
      "Total intl minutes\n",
      "Total night minutes\n",
      "Total intl calls\n",
      "Total night calls\n",
      "State\n",
      "Total eve calls\n",
      "Total day calls\n",
      "Account length\n"
     ]
    }
   ],
   "source": [
    "for i in np.argsort(cb.feature_importances_)[::-1]:\n",
    "    print(X.columns[i])"
   ]
  },
  {
   "cell_type": "markdown",
   "metadata": {},
   "source": [
    "## Часть 3. Соревнование по машинному обучению <a id=\"part3\"></a>"
   ]
  },
  {
   "cell_type": "markdown",
   "metadata": {},
   "source": [
    "*Вес в общей оценке - 0.3*"
   ]
  },
  {
   "cell_type": "markdown",
   "metadata": {},
   "source": [
    "В данном задании вам предлагается принять участие в [Inclass соревновании](https://www.kaggle.com/t/b25354482b484011b3b782da84d61186) на Kaggle.  \n",
    "Задача соревнования заключается в том, чтобы как можно лучше решить задачу предсказания оттока клиентов.  \n",
    "  \n",
    "Метрикой качества (точности) решения в данном соревновании является **ROC AUC**. "
   ]
  },
  {
   "cell_type": "markdown",
   "metadata": {},
   "source": [
    "Для участия в соревновании, т.е. для того, чтобы сабмитить результаты, вам необходимо создать аккаунт на [kaggle](https://www.kaggle.com/)."
   ]
  },
  {
   "cell_type": "markdown",
   "metadata": {},
   "source": [
    "После того, как вы выполните сабмит, в leaderboard вы сможете посмотреть качество вашей модели на тестовой выборке и место в общем зачете.  \n",
    "Вы можете делать много (до 10 в день) сабмитов - в leaderbord всегда отображается самый лучший (остальные можно посмотреть в `My Submissions`)."
   ]
  },
  {
   "cell_type": "markdown",
   "metadata": {},
   "source": [
    "**NB:** Обратите внимание, что текущий рейтинг (до конца соревнования) строится только на части тестовых данных. После окончания соревнования рейтинг будет пересчитан на всех данных и позиции могут измениться.\n",
    "Вы можете сами выбрать три модели (сабмита), которые будут провалидированы на всех данных. По умолчанию будут выбраны три модели, давшие лучший результат в текущем рейтинге."
   ]
  },
  {
   "cell_type": "markdown",
   "metadata": {},
   "source": [
    "### Задание  \n",
    "  \n",
    "Необходимо построить и засабмитить модель, которая:   \n",
    "* Задача минимум – покажет на тестовой выборке качество выше baseline: TBD\n",
    "* Задача максимум - решит задачу как можно точнее.  \n",
    "  \n",
    "При решении можно и нужно выполнять различные преобразования признаков и применять различные модели машинного обучения.  \n",
    "\n",
    "В качестве результата необходимо: \n",
    "* Сказать ваш логин на kaggle, чтобы мы могли распознать вас в leaderboard. \n",
    "* Для лучшей модели:\n",
    "    * Предоставить скрипт\\ноутбук, выполнив который можно получить файл для сабмита (чтобы можно было воспроизвести ваш результат). Также необходимо предоставить саму сохраненную модель.  \n",
    "    * Предоставить скрипт\\ноутбук для преобразования данных и обучения лучшей модели. \n",
    "    * (Опционально) Предоставить ноутбук с результатами для других моделей\\сабмитов, которые вы пробовали.  \n",
    "  \n",
    "По результатам будет составлен наш локальный leaderboard, и по нему будут определены баллы за задание. "
   ]
  },
  {
   "cell_type": "markdown",
   "metadata": {},
   "source": [
    "### Баллы за место в итоговом рейтинге  \n",
    "  \n",
    "* 1-5 место: 10 баллов\n",
    "* 6-10 место: 9 баллов  \n",
    "* 11-15 место: 8 баллов\n",
    "* 16-25 место: 7 баллов  \n",
    "* 26-35 место: 6 баллов\n",
    "* 36-50 место: 5 баллов\n",
    "* 51-65 место: 4 балла\n",
    "* 66-80 место: 3 балла\n",
    "* 81-... место: 2 балла  \n",
    "  \n",
    "**NB:** Чтобы получить баллы за соревнование, нужно превзойти baseline. В противном случае будет 0 баллов. "
   ]
  },
  {
   "cell_type": "code",
   "execution_count": 221,
   "metadata": {},
   "outputs": [],
   "source": [
    "csv(RandomForestClassifier(n_estimators=200, max_depth=11, random_state=1337))"
   ]
  },
  {
   "cell_type": "code",
   "execution_count": 222,
   "metadata": {},
   "outputs": [],
   "source": [
    "csv(AdaBoostClassifier(n_estimators=1,\n",
    "                                base_estimator=DecisionTreeClassifier(max_depth=6, random_state=1337),\n",
    "                                random_state=1337))"
   ]
  },
  {
   "cell_type": "code",
   "execution_count": 223,
   "metadata": {},
   "outputs": [],
   "source": [
    "csv(LogisticRegression(n_jobs=-1, max_iter=1000000, random_state=322))"
   ]
  },
  {
   "cell_type": "code",
   "execution_count": 224,
   "metadata": {},
   "outputs": [],
   "source": [
    "csv(AdaBoostClassifier(base_estimator= SVC(kernel='poly', degree=3, C=83, random_state=1337),\n",
    "                            n_estimators=31, algorithm='SAMME', random_state=1337))"
   ]
  },
  {
   "cell_type": "code",
   "execution_count": 83,
   "metadata": {},
   "outputs": [],
   "source": [
    "csv(CatBoostClassifier(iterations=100000, verbose=False))"
   ]
  },
  {
   "cell_type": "code",
   "execution_count": null,
   "metadata": {},
   "outputs": [],
   "source": []
  }
 ],
 "metadata": {
  "anaconda-cloud": {},
  "kernelspec": {
   "display_name": "Python 3",
   "language": "python",
   "name": "python3"
  },
  "language_info": {
   "codemirror_mode": {
    "name": "ipython",
    "version": 3
   },
   "file_extension": ".py",
   "mimetype": "text/x-python",
   "name": "python",
   "nbconvert_exporter": "python",
   "pygments_lexer": "ipython3",
   "version": "3.6.9"
  }
 },
 "nbformat": 4,
 "nbformat_minor": 1
}
