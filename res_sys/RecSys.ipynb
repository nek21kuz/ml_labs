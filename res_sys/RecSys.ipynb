{
 "cells": [
  {
   "cell_type": "markdown",
   "metadata": {
    "id": "pzjJmipNdE5C"
   },
   "source": [
    "# Майнор \"Интеллектуальный анализ данных\""
   ]
  },
  {
   "cell_type": "markdown",
   "metadata": {
    "id": "p5CAd5PydE5F"
   },
   "source": [
    "# Курс \"Прикладные задачи анализа данных\""
   ]
  },
  {
   "cell_type": "markdown",
   "metadata": {
    "id": "_jOeICYddE5H"
   },
   "source": [
    "## Лабораторная работа №2. RecSys"
   ]
  },
  {
   "cell_type": "markdown",
   "metadata": {
    "id": "3y3wRRLjdE5M"
   },
   "source": [
    "В рамках данной лабораторной работы вам предлагается решить задачу рекомендательной системы на основе следующих данных:"
   ]
  },
  {
   "cell_type": "markdown",
   "metadata": {
    "id": "xLTO8m79dE5P"
   },
   "source": [
    "* **rating.csv** - рейтинги аниме по 10 бальной шкале\n",
    "* **anime.csv** - описание items"
   ]
  },
  {
   "cell_type": "markdown",
   "metadata": {
    "id": "CgwRYPq2dE5R"
   },
   "source": [
    "Скачать данные можно [здесь](https://drive.google.com/drive/u/1/folders/1FarHUuqQq4tQSlERB9K8uEfZAZT9tQWv)"
   ]
  },
  {
   "cell_type": "code",
   "execution_count": 1,
   "metadata": {
    "colab": {
     "base_uri": "https://localhost:8080/"
    },
    "id": "nl65BKLISmPD",
    "outputId": "45ab574e-825b-4e87-8999-47a434c9f419"
   },
   "outputs": [
    {
     "name": "stdout",
     "output_type": "stream",
     "text": [
      "Mounted at /content/drive\n"
     ]
    }
   ],
   "source": [
    "from google.colab import drive\n",
    "drive.mount('/content/drive')"
   ]
  },
  {
   "cell_type": "code",
   "execution_count": 2,
   "metadata": {
    "id": "EJFL8s7GSE3D"
   },
   "outputs": [],
   "source": [
    "import pandas as pd\n",
    "import numpy as np"
   ]
  },
  {
   "cell_type": "markdown",
   "metadata": {
    "id": "_8bp-ZPsdE5S"
   },
   "source": [
    "## Данные"
   ]
  },
  {
   "cell_type": "markdown",
   "metadata": {
    "id": "tnR0rUxwPkMf"
   },
   "source": [
    "Данные содержат информацию об предподчтениях 73,516 пользователей в 12,294 аниме. Каждый пользователь может добавить аниме и выставить рейтниг.\n",
    "\n",
    "Anime.csv\n",
    "\n",
    "* anime_id - идентификатор аниме (items)\n",
    "* name - полное название аниме\n",
    "* genre - категория/категории для аниме (разделены запятой).\n",
    "* type - тип: movie, TV, OVA, etc.\n",
    "* episodes - количество эпизодов (для экранизаций)\n",
    "* rating - средний рейтинг по аниме.\n",
    "* members - количество членов коммьюнити к аниме\n",
    "\n",
    "Rating.csv\n",
    "\n",
    "* user_id - идентификатор пользователя (users)\n",
    "* anime_id - идентификатор аниме\n",
    "* rating - рейтинг пользователя по аниме (-1 пользователь смотрел, но не оставил рейтинг)."
   ]
  },
  {
   "cell_type": "code",
   "execution_count": 3,
   "metadata": {
    "id": "u_L6AjSTR9bs"
   },
   "outputs": [],
   "source": [
    "adata = pd.read_csv('/content/drive/MyDrive/Lab#2/anime.csv') \n",
    "rdata = pd.read_csv('/content/drive/MyDrive/Lab#2/rating.csv')"
   ]
  },
  {
   "cell_type": "markdown",
   "metadata": {
    "id": "hJYb7OM6dE56"
   },
   "source": [
    "## Задание №2 : Оценить разреженность данных по рейтингу (1/2 балла)"
   ]
  },
  {
   "cell_type": "markdown",
   "metadata": {
    "id": "JjYMJ-nPo3fw"
   },
   "source": [
    "Доля просмотренных, но не оценённых аниме"
   ]
  },
  {
   "cell_type": "code",
   "execution_count": 4,
   "metadata": {
    "colab": {
     "base_uri": "https://localhost:8080/"
    },
    "id": "XKqh9tWco1y-",
    "outputId": "11b33031-a4ba-487b-daab-5f068d49a453"
   },
   "outputs": [
    {
     "data": {
      "text/plain": [
       "0.18896156858107716"
      ]
     },
     "execution_count": 4,
     "metadata": {
      "tags": []
     },
     "output_type": "execute_result"
    }
   ],
   "source": [
    "len(rdata[rdata['rating'] == -1]) / len(rdata)"
   ]
  },
  {
   "cell_type": "markdown",
   "metadata": {
    "id": "bjY7k5dgpfQK"
   },
   "source": [
    "Разреженность"
   ]
  },
  {
   "cell_type": "code",
   "execution_count": 5,
   "metadata": {
    "colab": {
     "base_uri": "https://localhost:8080/"
    },
    "id": "A-XeNbELpQgy",
    "outputId": "c4b48b9a-2677-4981-ff0f-4aac4e1e834e"
   },
   "outputs": [
    {
     "data": {
      "text/plain": [
       "0.9905100307517416"
      ]
     },
     "execution_count": 5,
     "metadata": {
      "tags": []
     },
     "output_type": "execute_result"
    }
   ],
   "source": [
    "1 - len(rdata) / (len(rdata['user_id'].value_counts()) * len(rdata['anime_id'].value_counts()))"
   ]
  },
  {
   "cell_type": "markdown",
   "metadata": {
    "id": "Rmwy9PXBpvv_"
   },
   "source": [
    "### Вывод"
   ]
  },
  {
   "cell_type": "markdown",
   "metadata": {
    "id": "UqfEWJdeFVBy"
   },
   "source": [
    "Даные - плотны."
   ]
  },
  {
   "cell_type": "markdown",
   "metadata": {
    "id": "c_Lf3uQJdE55"
   },
   "source": [
    "## Задание №1 : Exploratory analysis (2 балла):\n",
    "\n",
    "* Распределение числа пользователей по количеству взаимодействий\n",
    "* Разпределение числа \"айтемов\" по количеству взаимодействий\n",
    "* Распределение числа рейтингов, средних рейтингов по пользователям, по \"айтемам\"\n",
    "* и т.д. (бонус)"
   ]
  },
  {
   "cell_type": "markdown",
   "metadata": {
    "id": "J1mrBbqxYfAU"
   },
   "source": [
    "Будем называть явным взаимодействием - оценку аниме, а неявным - просмотр без оценки(т.е. -1 в rating). Общее взаимодействие - какое либо(явное или неявное) взаимодействие."
   ]
  },
  {
   "cell_type": "code",
   "execution_count": 6,
   "metadata": {
    "id": "x1nK1TT6dkuo"
   },
   "outputs": [],
   "source": [
    "im_rdata = rdata[rdata['rating'] == -1]\n",
    "ex_rdata = rdata[rdata['rating'] != -1]"
   ]
  },
  {
   "cell_type": "markdown",
   "metadata": {
    "id": "E7BcoiGoeFa-"
   },
   "source": [
    "### Распределение числа пользователей по количеству взаимодействий"
   ]
  },
  {
   "cell_type": "markdown",
   "metadata": {
    "id": "Lp6Ife9yeNA1"
   },
   "source": [
    "Общее"
   ]
  },
  {
   "cell_type": "code",
   "execution_count": 7,
   "metadata": {
    "colab": {
     "base_uri": "https://localhost:8080/",
     "height": 282
    },
    "id": "zolah8ZrVLjR",
    "outputId": "a8af60c4-2023-4547-9c7b-a2b7ab5354c9"
   },
   "outputs": [
    {
     "data": {
      "text/plain": [
       "<matplotlib.axes._subplots.AxesSubplot at 0x7fb0b39a5fd0>"
      ]
     },
     "execution_count": 7,
     "metadata": {
      "tags": []
     },
     "output_type": "execute_result"
    },
    {
     "data": {
      "image/png": "[encoded data removed]",
      "text/plain": [
       "<Figure size 432x288 with 1 Axes>"
      ]
     },
     "metadata": {
      "needs_background": "light",
      "tags": []
     },
     "output_type": "display_data"
    }
   ],
   "source": [
    "rdata['user_id'].value_counts().plot.hist(bins=150, range=[0, 600])"
   ]
  },
  {
   "cell_type": "markdown",
   "metadata": {
    "id": "9DU0qtpBfBN1"
   },
   "source": [
    "Явное\n"
   ]
  },
  {
   "cell_type": "code",
   "execution_count": 8,
   "metadata": {
    "colab": {
     "base_uri": "https://localhost:8080/",
     "height": 282
    },
    "id": "5VpG-EZ2fAHX",
    "outputId": "d8740cb7-0b50-47dd-ce7c-457312843509"
   },
   "outputs": [
    {
     "data": {
      "text/plain": [
       "<matplotlib.axes._subplots.AxesSubplot at 0x7fb0b36ed0d0>"
      ]
     },
     "execution_count": 8,
     "metadata": {
      "tags": []
     },
     "output_type": "execute_result"
    },
    {
     "data": {
      "image/png": "[encoded data removed]",
      "text/plain": [
       "<Figure size 432x288 with 1 Axes>"
      ]
     },
     "metadata": {
      "needs_background": "light",
      "tags": []
     },
     "output_type": "display_data"
    }
   ],
   "source": [
    "ex_rdata['user_id'].value_counts().plot.hist(bins=150, range=[0, 600])"
   ]
  },
  {
   "cell_type": "markdown",
   "metadata": {
    "id": "bVQir-okezZt"
   },
   "source": [
    "Неявное"
   ]
  },
  {
   "cell_type": "code",
   "execution_count": 9,
   "metadata": {
    "colab": {
     "base_uri": "https://localhost:8080/",
     "height": 282
    },
    "id": "nLuptDorezZt",
    "outputId": "46ca0fc7-c7c9-4733-8b95-cdcb5efbeb15"
   },
   "outputs": [
    {
     "data": {
      "text/plain": [
       "<matplotlib.axes._subplots.AxesSubplot at 0x7fb0b41db510>"
      ]
     },
     "execution_count": 9,
     "metadata": {
      "tags": []
     },
     "output_type": "execute_result"
    },
    {
     "data": {
      "image/png": "[encoded data removed]",
      "text/plain": [
       "<Figure size 432x288 with 1 Axes>"
      ]
     },
     "metadata": {
      "needs_background": "light",
      "tags": []
     },
     "output_type": "display_data"
    }
   ],
   "source": [
    "im_rdata['user_id'].value_counts().plot.hist(bins=150, range=[0, 300])"
   ]
  },
  {
   "cell_type": "code",
   "execution_count": 10,
   "metadata": {
    "colab": {
     "base_uri": "https://localhost:8080/"
    },
    "id": "7dd0tXQIlkl9",
    "outputId": "4db70d07-cb66-4efd-b994-da442dba0e60"
   },
   "outputs": [
    {
     "data": {
      "text/plain": [
       "0.23298719426955675"
      ]
     },
     "execution_count": 10,
     "metadata": {
      "tags": []
     },
     "output_type": "execute_result"
    }
   ],
   "source": [
    "len(im_rdata) / len(ex_rdata)"
   ]
  },
  {
   "cell_type": "markdown",
   "metadata": {
    "id": "f_Ju5v0yoKiB"
   },
   "source": [
    "### Раcпределение числа \"айтемов\" по количеству взаимодействий"
   ]
  },
  {
   "cell_type": "markdown",
   "metadata": {
    "id": "F3wgP4nRod4m"
   },
   "source": [
    "Общее"
   ]
  },
  {
   "cell_type": "code",
   "execution_count": 11,
   "metadata": {
    "colab": {
     "base_uri": "https://localhost:8080/",
     "height": 282
    },
    "id": "quNyLUHAod4m",
    "outputId": "a0dd53eb-06b4-4d97-c7d1-efbce71cf079"
   },
   "outputs": [
    {
     "data": {
      "text/plain": [
       "<matplotlib.axes._subplots.AxesSubplot at 0x7fb0b2ded510>"
      ]
     },
     "execution_count": 11,
     "metadata": {
      "tags": []
     },
     "output_type": "execute_result"
    },
    {
     "data": {
      "image/png": "[encoded data removed]",
      "text/plain": [
       "<Figure size 432x288 with 1 Axes>"
      ]
     },
     "metadata": {
      "needs_background": "light",
      "tags": []
     },
     "output_type": "display_data"
    }
   ],
   "source": [
    "rdata['anime_id'].value_counts().plot.hist(bins=150, range=[0, 300])"
   ]
  },
  {
   "cell_type": "markdown",
   "metadata": {
    "id": "fLo8bdHcod4n"
   },
   "source": [
    "Явное\n"
   ]
  },
  {
   "cell_type": "code",
   "execution_count": 12,
   "metadata": {
    "colab": {
     "base_uri": "https://localhost:8080/",
     "height": 282
    },
    "id": "KRp0BC1Cod4n",
    "outputId": "38467f26-cdf8-4c76-ab4e-e1d463516cb7"
   },
   "outputs": [
    {
     "data": {
      "text/plain": [
       "<matplotlib.axes._subplots.AxesSubplot at 0x7fb0b2c0f710>"
      ]
     },
     "execution_count": 12,
     "metadata": {
      "tags": []
     },
     "output_type": "execute_result"
    },
    {
     "data": {
      "image/png": "[encoded data removed]",
      "text/plain": [
       "<Figure size 432x288 with 1 Axes>"
      ]
     },
     "metadata": {
      "needs_background": "light",
      "tags": []
     },
     "output_type": "display_data"
    }
   ],
   "source": [
    "ex_rdata['anime_id'].value_counts().plot.hist(bins=150, range=[0, 300])"
   ]
  },
  {
   "cell_type": "markdown",
   "metadata": {
    "id": "6cwnXDqyod4o"
   },
   "source": [
    "Неявное"
   ]
  },
  {
   "cell_type": "code",
   "execution_count": 13,
   "metadata": {
    "colab": {
     "base_uri": "https://localhost:8080/",
     "height": 282
    },
    "id": "oEGkOShVtKkW",
    "outputId": "dfdd1aac-caed-4670-f571-e3bcc4b81068"
   },
   "outputs": [
    {
     "data": {
      "text/plain": [
       "<matplotlib.axes._subplots.AxesSubplot at 0x7fb0b3066450>"
      ]
     },
     "execution_count": 13,
     "metadata": {
      "tags": []
     },
     "output_type": "execute_result"
    },
    {
     "data": {
      "image/png": "[encoded data removed]",
      "text/plain": [
       "<Figure size 432x288 with 1 Axes>"
      ]
     },
     "metadata": {
      "needs_background": "light",
      "tags": []
     },
     "output_type": "display_data"
    }
   ],
   "source": [
    "im_rdata['anime_id'].value_counts().plot.hist(bins=150, range=[0, 300])"
   ]
  },
  {
   "cell_type": "code",
   "execution_count": 14,
   "metadata": {
    "colab": {
     "base_uri": "https://localhost:8080/",
     "height": 282
    },
    "id": "PFlGyD7Lod4o",
    "outputId": "65380460-9176-4f3f-986d-620a4cb913c6"
   },
   "outputs": [
    {
     "data": {
      "text/plain": [
       "<matplotlib.axes._subplots.AxesSubplot at 0x7fb0b2daed10>"
      ]
     },
     "execution_count": 14,
     "metadata": {
      "tags": []
     },
     "output_type": "execute_result"
    },
    {
     "data": {
      "image/png": "[encoded data removed]",
      "text/plain": [
       "<Figure size 432x288 with 1 Axes>"
      ]
     },
     "metadata": {
      "needs_background": "light",
      "tags": []
     },
     "output_type": "display_data"
    }
   ],
   "source": [
    "im_rdata['anime_id'].value_counts().plot.hist(bins=100, range=[200, 300])"
   ]
  },
  {
   "cell_type": "markdown",
   "metadata": {
    "id": "HFgMj_xX2jAp"
   },
   "source": [
    "### Распределение рейтингов"
   ]
  },
  {
   "cell_type": "markdown",
   "metadata": {
    "id": "celtHKg23xah"
   },
   "source": [
    "По количеству пользователей"
   ]
  },
  {
   "cell_type": "code",
   "execution_count": 15,
   "metadata": {
    "colab": {
     "base_uri": "https://localhost:8080/"
    },
    "id": "WyYS975u2oVa",
    "outputId": "ea006c7e-5703-4db4-e6ab-e2028719e392"
   },
   "outputs": [
    {
     "name": "stdout",
     "output_type": "stream",
     "text": [
      "-1 37128\n",
      "1 6038\n",
      "2 8486\n",
      "3 11828\n",
      "4 21788\n",
      "5 34554\n",
      "6 46396\n",
      "7 55881\n",
      "8 60462\n",
      "9 62164\n",
      "10 62029\n"
     ]
    }
   ],
   "source": [
    "for i in [-1] + [i for i in range(1, 11)]:\n",
    "  print(i, len(rdata[rdata['rating'] == i]['user_id'].unique()))"
   ]
  },
  {
   "cell_type": "markdown",
   "metadata": {
    "id": "7BvF1DPG4f-x"
   },
   "source": [
    "По количеству аниме"
   ]
  },
  {
   "cell_type": "code",
   "execution_count": 16,
   "metadata": {
    "colab": {
     "base_uri": "https://localhost:8080/"
    },
    "id": "NyTj5U5Z4JMd",
    "outputId": "06d93bbb-6de6-4516-fa05-4c333e126010"
   },
   "outputs": [
    {
     "name": "stdout",
     "output_type": "stream",
     "text": [
      "-1 10697\n",
      "1 3981\n",
      "2 4495\n",
      "3 5884\n",
      "4 7015\n",
      "5 8224\n",
      "6 8414\n",
      "7 8352\n",
      "8 7787\n",
      "9 7030\n",
      "10 6845\n"
     ]
    }
   ],
   "source": [
    "for i in [-1] + [i for i in range(1, 11)]:\n",
    "  print(i, len(rdata[rdata['rating'] == i]['anime_id'].unique()))"
   ]
  },
  {
   "cell_type": "markdown",
   "metadata": {
    "id": "0MPs6ih1t9ZI"
   },
   "source": [
    "### Распределение средних рейтингов"
   ]
  },
  {
   "cell_type": "markdown",
   "metadata": {
    "id": "2iqFP7YJ1-30"
   },
   "source": [
    "По количеству аниме."
   ]
  },
  {
   "cell_type": "code",
   "execution_count": 17,
   "metadata": {
    "colab": {
     "base_uri": "https://localhost:8080/",
     "height": 297
    },
    "id": "XvYqyuaUoJWO",
    "outputId": "e0259c96-5d59-476d-88b8-6d4c7dd605f3"
   },
   "outputs": [
    {
     "data": {
      "text/plain": [
       "<matplotlib.axes._subplots.AxesSubplot at 0x7fb0a4409ed0>"
      ]
     },
     "execution_count": 17,
     "metadata": {
      "tags": []
     },
     "output_type": "execute_result"
    },
    {
     "data": {
      "image/png": "[encoded data removed]",
      "text/plain": [
       "<Figure size 432x288 with 1 Axes>"
      ]
     },
     "metadata": {
      "needs_background": "light",
      "tags": []
     },
     "output_type": "display_data"
    }
   ],
   "source": [
    "import seaborn as sns\n",
    "sns.histplot(data=adata['rating'].value_counts().rename_axis('avg_rating').reset_index(name='count').sort_values(by=['avg_rating']), x='avg_rating', binwidth=0.4)"
   ]
  },
  {
   "cell_type": "markdown",
   "metadata": {
    "id": "IvPVXNGk2MWZ"
   },
   "source": [
    "По количеству пользователей"
   ]
  },
  {
   "cell_type": "code",
   "execution_count": 18,
   "metadata": {
    "colab": {
     "base_uri": "https://localhost:8080/",
     "height": 297
    },
    "id": "8yUh2nsP6nOq",
    "outputId": "f5238d6c-a92e-46d1-c5a1-2f1f19644d21"
   },
   "outputs": [
    {
     "data": {
      "text/plain": [
       "<matplotlib.axes._subplots.AxesSubplot at 0x7fb0a3b80090>"
      ]
     },
     "execution_count": 18,
     "metadata": {
      "tags": []
     },
     "output_type": "execute_result"
    },
    {
     "data": {
      "image/png": "[encoded data removed]",
      "text/plain": [
       "<Figure size 432x288 with 1 Axes>"
      ]
     },
     "metadata": {
      "needs_background": "light",
      "tags": []
     },
     "output_type": "display_data"
    }
   ],
   "source": [
    "import random\n",
    "sns.histplot(data=pd.DataFrame([[i, ex_rdata[ex_rdata['user_id'] == i]['rating'].mean()] for i in random.sample(ex_rdata['user_id'].unique().tolist(),7300)], columns=['user_id', 'avg_rating']), x='avg_rating', binwidth=0.4)\n"
   ]
  },
  {
   "cell_type": "markdown",
   "metadata": {
    "id": "qOxxGheLDeD2"
   },
   "source": [
    "### Вывод"
   ]
  },
  {
   "cell_type": "markdown",
   "metadata": {
    "id": "8lmWXEYDDhWy"
   },
   "source": [
    "Пользователи склонны ставить очень высокие оценки(7-10). Но при этом, у большинства аниме оценки достаточно средненькие(4-8).\n",
    "Это связанно с тем, что популярные аниме получают только высокие оценки, а непопулярные средние и низкие. В общем то, так оно и должно быть. "
   ]
  },
  {
   "cell_type": "markdown",
   "metadata": {
    "id": "EcI2JL5UNjhA"
   },
   "source": [
    "### Предобработка"
   ]
  },
  {
   "cell_type": "markdown",
   "metadata": {
    "id": "Aaxlo77lNvpL"
   },
   "source": [
    "Удалим просмотры без оценок"
   ]
  },
  {
   "cell_type": "code",
   "execution_count": 19,
   "metadata": {
    "id": "4FiIA3fcNhMi"
   },
   "outputs": [],
   "source": [
    "data = ex_rdata"
   ]
  },
  {
   "cell_type": "markdown",
   "metadata": {
    "id": "z5TjCMjFN4uN"
   },
   "source": [
    "Отберём юзеров с 5 и более оценками."
   ]
  },
  {
   "cell_type": "code",
   "execution_count": 20,
   "metadata": {
    "id": "HWqT_VwNP7U4"
   },
   "outputs": [],
   "source": [
    "rate_count = data['user_id'].value_counts().rename_axis('user_id').reset_index(name='count')\n",
    "filtered_users = rate_count[rate_count['count'] >= 5]"
   ]
  },
  {
   "cell_type": "markdown",
   "metadata": {
    "id": "jxVlXagNdE57"
   },
   "source": [
    "## Задание №3 : Разделить данные на тренировочные и валидационные (1/2 балла)"
   ]
  },
  {
   "cell_type": "code",
   "execution_count": 90,
   "metadata": {
    "colab": {
     "base_uri": "https://localhost:8080/"
    },
    "id": "ylY2g7mJwj-9",
    "outputId": "c1b8fabf-8a1c-4239-9ff3-9ae2556faa64"
   },
   "outputs": [
    {
     "name": "stdout",
     "output_type": "stream",
     "text": [
      "CPU times: user 36min 53s, sys: 1min 17s, total: 38min 10s\n",
      "Wall time: 33min 20s\n"
     ]
    }
   ],
   "source": [
    "%%time\n",
    "train = pd.DataFrame()\n",
    "test = pd.DataFrame()\n",
    "for user in filtered_users.index.unique()[:]:\n",
    "    temp_table = data[data.user_id == user]\n",
    "    cnt = temp_table.shape[0]\n",
    "    size_train = round(cnt*0.7, 0)\n",
    "    train = train.append(temp_table.sort_values(by='rating', ascending=False).iloc[:int(size_train)])\n",
    "    test = test.append(temp_table.sort_values(by='rating', ascending=False).iloc[int(size_train):])"
   ]
  },
  {
   "cell_type": "code",
   "execution_count": 92,
   "metadata": {
    "colab": {
     "base_uri": "https://localhost:8080/"
    },
    "id": "Z65E_1SAgE5q",
    "outputId": "9faf817f-eeb9-4fe4-8121-2d111056cb86"
   },
   "outputs": [
    {
     "name": "stdout",
     "output_type": "stream",
     "text": [
      "dataset train  3751688  test 1607799\n",
      "unique user in train 57769 test  55084\n",
      "cold-user in the test  0\n"
     ]
    }
   ],
   "source": [
    "print('dataset train ', train.shape[0], ' test', test.shape[0])\n",
    "print('unique user in train', train.user_id.nunique(), 'test ', test.user_id.nunique())\n",
    "print('cold-user in the test ', test.user_id.nunique() - test[test.user_id.isin(train.user_id)].user_id.nunique())"
   ]
  },
  {
   "cell_type": "code",
   "execution_count": 93,
   "metadata": {
    "id": "mjrRcjkJthVn"
   },
   "outputs": [],
   "source": [
    "test_group = test.sort_values(by='rating', ascending=False).groupby('user_id')['anime_id'].apply(lambda x: list(x)).to_frame().reset_index()"
   ]
  },
  {
   "cell_type": "markdown",
   "metadata": {
    "id": "LX78TCHFdE58"
   },
   "source": [
    "## Задание №4 : Решить задачу на основе предложения всем юзерам наиболее популярных item (1 балл)"
   ]
  },
  {
   "cell_type": "markdown",
   "metadata": {
    "id": "wjAa6KoLs_q3"
   },
   "source": [
    "### 10 самых лучших аниме из 500 самых популярных."
   ]
  },
  {
   "cell_type": "markdown",
   "metadata": {
    "id": "mTNtQWGjwy9i"
   },
   "source": [
    "members более 100000 имеют немногим более 500 аниме. Пробуем отобрать из 10 с максимальным средним рейтингом."
   ]
  },
  {
   "cell_type": "code",
   "execution_count": 55,
   "metadata": {
    "colab": {
     "base_uri": "https://localhost:8080/",
     "height": 142
    },
    "id": "79vecskPtCwX",
    "outputId": "e5efaa4a-c229-40ff-c994-1f6e8b992483"
   },
   "outputs": [
    {
     "data": {
      "text/html": [
       "<div>\n",
       "<style scoped>\n",
       "    .dataframe tbody tr th:only-of-type {\n",
       "        vertical-align: middle;\n",
       "    }\n",
       "\n",
       "    .dataframe tbody tr th {\n",
       "        vertical-align: top;\n",
       "    }\n",
       "\n",
       "    .dataframe thead th {\n",
       "        text-align: right;\n",
       "    }\n",
       "</style>\n",
       "<table border=\"1\" class=\"dataframe\">\n",
       "  <thead>\n",
       "    <tr style=\"text-align: right;\">\n",
       "      <th></th>\n",
       "      <th>MRR</th>\n",
       "      <th>MAP@K</th>\n",
       "      <th>NDCG@K</th>\n",
       "    </tr>\n",
       "  </thead>\n",
       "  <tbody>\n",
       "    <tr>\n",
       "      <th>top5</th>\n",
       "      <td>0.00708697</td>\n",
       "      <td>0.00708697</td>\n",
       "      <td>0.0137337</td>\n",
       "    </tr>\n",
       "    <tr>\n",
       "      <th>top10</th>\n",
       "      <td>0.0120061</td>\n",
       "      <td>0.0119718</td>\n",
       "      <td>0.0257627</td>\n",
       "    </tr>\n",
       "    <tr>\n",
       "      <th>top25</th>\n",
       "      <td>0.0166528</td>\n",
       "      <td>0.0164569</td>\n",
       "      <td>0.0347288</td>\n",
       "    </tr>\n",
       "  </tbody>\n",
       "</table>\n",
       "</div>"
      ],
      "text/plain": [
       "              MRR       MAP@K     NDCG@K\n",
       "top5   0.00708697  0.00708697  0.0137337\n",
       "top10   0.0120061   0.0119718  0.0257627\n",
       "top25   0.0166528   0.0164569  0.0347288"
      ]
     },
     "metadata": {
      "tags": []
     },
     "output_type": "display_data"
    }
   ],
   "source": [
    "popular_anime = adata[adata['members'] > 100000].sort_values(by='rating', ascending=False)['anime_id'].tolist()[:10]\n",
    "\n",
    "predict_frame = test_group.copy()\n",
    "predict_frame['pred'] = [popular_anime] * len(test_group)\n",
    "\n",
    "Metrics.add_tops(predict_frame)\n",
    "Metrics.print_score(predict_frame)"
   ]
  },
  {
   "cell_type": "markdown",
   "metadata": {
    "id": "8c0hKGoyvexJ"
   },
   "source": [
    "### 10 самых популярных аниме\n"
   ]
  },
  {
   "cell_type": "code",
   "execution_count": 56,
   "metadata": {
    "colab": {
     "base_uri": "https://localhost:8080/",
     "height": 142
    },
    "id": "8ybqKUY9vjp2",
    "outputId": "bd2fb0db-d3c3-4552-e06f-050bdd2a0073"
   },
   "outputs": [
    {
     "data": {
      "text/html": [
       "<div>\n",
       "<style scoped>\n",
       "    .dataframe tbody tr th:only-of-type {\n",
       "        vertical-align: middle;\n",
       "    }\n",
       "\n",
       "    .dataframe tbody tr th {\n",
       "        vertical-align: top;\n",
       "    }\n",
       "\n",
       "    .dataframe thead th {\n",
       "        text-align: right;\n",
       "    }\n",
       "</style>\n",
       "<table border=\"1\" class=\"dataframe\">\n",
       "  <thead>\n",
       "    <tr style=\"text-align: right;\">\n",
       "      <th></th>\n",
       "      <th>MRR</th>\n",
       "      <th>MAP@K</th>\n",
       "      <th>NDCG@K</th>\n",
       "    </tr>\n",
       "  </thead>\n",
       "  <tbody>\n",
       "    <tr>\n",
       "      <th>top5</th>\n",
       "      <td>0.0640435</td>\n",
       "      <td>0.0638994</td>\n",
       "      <td>0.0949087</td>\n",
       "    </tr>\n",
       "    <tr>\n",
       "      <th>top10</th>\n",
       "      <td>0.106742</td>\n",
       "      <td>0.102378</td>\n",
       "      <td>0.166151</td>\n",
       "    </tr>\n",
       "    <tr>\n",
       "      <th>top25</th>\n",
       "      <td>0.144019</td>\n",
       "      <td>0.136319</td>\n",
       "      <td>0.2178</td>\n",
       "    </tr>\n",
       "  </tbody>\n",
       "</table>\n",
       "</div>"
      ],
      "text/plain": [
       "             MRR      MAP@K     NDCG@K\n",
       "top5   0.0640435  0.0638994  0.0949087\n",
       "top10   0.106742   0.102378   0.166151\n",
       "top25   0.144019   0.136319     0.2178"
      ]
     },
     "metadata": {
      "tags": []
     },
     "output_type": "display_data"
    }
   ],
   "source": [
    "popular_anime = adata.sort_values(by='members', ascending=False)['anime_id'].tolist()[:10]\n",
    "\n",
    "predict_frame = test_group.copy()\n",
    "predict_frame['pred'] = [popular_anime] * len(test_group)\n",
    "\n",
    "Metrics.add_tops(predict_frame)\n",
    "Metrics.print_score(predict_frame)"
   ]
  },
  {
   "cell_type": "markdown",
   "metadata": {
    "id": "Nzz3cqrvwGUd"
   },
   "source": [
    "### 10 самых рейтинговых аниме"
   ]
  },
  {
   "cell_type": "code",
   "execution_count": 57,
   "metadata": {
    "colab": {
     "base_uri": "https://localhost:8080/",
     "height": 142
    },
    "id": "n9t6IYL_wFQ-",
    "outputId": "7080a218-4d52-4a51-cfb5-7268b2ac59dd"
   },
   "outputs": [
    {
     "data": {
      "text/html": [
       "<div>\n",
       "<style scoped>\n",
       "    .dataframe tbody tr th:only-of-type {\n",
       "        vertical-align: middle;\n",
       "    }\n",
       "\n",
       "    .dataframe tbody tr th {\n",
       "        vertical-align: top;\n",
       "    }\n",
       "\n",
       "    .dataframe thead th {\n",
       "        text-align: right;\n",
       "    }\n",
       "</style>\n",
       "<table border=\"1\" class=\"dataframe\">\n",
       "  <thead>\n",
       "    <tr style=\"text-align: right;\">\n",
       "      <th></th>\n",
       "      <th>MRR</th>\n",
       "      <th>MAP@K</th>\n",
       "      <th>NDCG@K</th>\n",
       "    </tr>\n",
       "  </thead>\n",
       "  <tbody>\n",
       "    <tr>\n",
       "      <th>top5</th>\n",
       "      <td>0.000111782</td>\n",
       "      <td>0.000111782</td>\n",
       "      <td>0.000223564</td>\n",
       "    </tr>\n",
       "    <tr>\n",
       "      <th>top10</th>\n",
       "      <td>0.00306282</td>\n",
       "      <td>0.00306282</td>\n",
       "      <td>0.00756737</td>\n",
       "    </tr>\n",
       "    <tr>\n",
       "      <th>top25</th>\n",
       "      <td>0.00425729</td>\n",
       "      <td>0.0042635</td>\n",
       "      <td>0.0104481</td>\n",
       "    </tr>\n",
       "  </tbody>\n",
       "</table>\n",
       "</div>"
      ],
      "text/plain": [
       "               MRR        MAP@K       NDCG@K\n",
       "top5   0.000111782  0.000111782  0.000223564\n",
       "top10   0.00306282   0.00306282   0.00756737\n",
       "top25   0.00425729    0.0042635    0.0104481"
      ]
     },
     "metadata": {
      "tags": []
     },
     "output_type": "display_data"
    }
   ],
   "source": [
    "popular_anime = adata.sort_values(by='rating', ascending=False)['anime_id'].tolist()[:10]\n",
    "\n",
    "predict_frame = test_group.copy()\n",
    "predict_frame['pred'] = [popular_anime] * len(test_group)\n",
    "\n",
    "Metrics.add_tops(predict_frame)\n",
    "Metrics.print_score(predict_frame)"
   ]
  },
  {
   "cell_type": "markdown",
   "metadata": {
    "id": "6O8jObO58LPM"
   },
   "source": [
    "### 10 рандомных аниме"
   ]
  },
  {
   "cell_type": "code",
   "execution_count": 71,
   "metadata": {
    "colab": {
     "base_uri": "https://localhost:8080/",
     "height": 142
    },
    "id": "mkhxn1Qq8Hm-",
    "outputId": "26c7cffb-317d-41cf-f64d-f3791f0af01f"
   },
   "outputs": [
    {
     "data": {
      "text/html": [
       "<div>\n",
       "<style scoped>\n",
       "    .dataframe tbody tr th:only-of-type {\n",
       "        vertical-align: middle;\n",
       "    }\n",
       "\n",
       "    .dataframe tbody tr th {\n",
       "        vertical-align: top;\n",
       "    }\n",
       "\n",
       "    .dataframe thead th {\n",
       "        text-align: right;\n",
       "    }\n",
       "</style>\n",
       "<table border=\"1\" class=\"dataframe\">\n",
       "  <thead>\n",
       "    <tr style=\"text-align: right;\">\n",
       "      <th></th>\n",
       "      <th>MRR</th>\n",
       "      <th>MAP@K</th>\n",
       "      <th>NDCG@K</th>\n",
       "    </tr>\n",
       "  </thead>\n",
       "  <tbody>\n",
       "    <tr>\n",
       "      <th>top5</th>\n",
       "      <td>0.000111782</td>\n",
       "      <td>0.000111782</td>\n",
       "      <td>0.000223564</td>\n",
       "    </tr>\n",
       "    <tr>\n",
       "      <th>top10</th>\n",
       "      <td>0.000766947</td>\n",
       "      <td>0.000766947</td>\n",
       "      <td>0.00173127</td>\n",
       "    </tr>\n",
       "    <tr>\n",
       "      <th>top25</th>\n",
       "      <td>0.00133207</td>\n",
       "      <td>0.00133207</td>\n",
       "      <td>0.00308195</td>\n",
       "    </tr>\n",
       "  </tbody>\n",
       "</table>\n",
       "</div>"
      ],
      "text/plain": [
       "               MRR        MAP@K       NDCG@K\n",
       "top5   0.000111782  0.000111782  0.000223564\n",
       "top10  0.000766947  0.000766947   0.00173127\n",
       "top25   0.00133207   0.00133207   0.00308195"
      ]
     },
     "metadata": {
      "tags": []
     },
     "output_type": "display_data"
    }
   ],
   "source": [
    "popular_anime = random.sample(adata['anime_id'].tolist() ,10)\n",
    "\n",
    "predict_frame = test_group.copy()\n",
    "predict_frame['pred'] = [popular_anime] * len(test_group)\n",
    "\n",
    "Metrics.add_tops(predict_frame)\n",
    "Metrics.print_score(predict_frame)"
   ]
  },
  {
   "cell_type": "markdown",
   "metadata": {
    "id": "hR-kWINBwc3f"
   },
   "source": [
    "### Вывод"
   ]
  },
  {
   "cell_type": "markdown",
   "metadata": {
    "id": "dQPlcTxtxNUw"
   },
   "source": [
    "Результат плохой. Лучше всего(на 2 порядка лучше рандома) себя показали аниме с наибольшим комьюнити. Остальные 2 случая опередили рандом всего лишь на 1 порядок."
   ]
  },
  {
   "cell_type": "markdown",
   "metadata": {
    "id": "W8jmqhiwdE59"
   },
   "source": [
    "## Задание №5 : Решить задачу на основе коллоборативной фильтрации (2 балла)\n",
    "\n",
    "* Реализовать один из методов коллоборативной фильтрации SVD, SVD++, ALS, ALS with implicit feedback"
   ]
  },
  {
   "cell_type": "markdown",
   "metadata": {
    "id": "UGceDHwK4N2l"
   },
   "source": [
    "### ALS"
   ]
  },
  {
   "cell_type": "code",
   "execution_count": 58,
   "metadata": {
    "id": "KFsJBJr3z_tE"
   },
   "outputs": [],
   "source": [
    "from scipy.sparse import csr_matrix\n",
    "#!pip install implicit\n",
    "from implicit.als import AlternatingLeastSquares"
   ]
  },
  {
   "cell_type": "code",
   "execution_count": 95,
   "metadata": {
    "colab": {
     "base_uri": "https://localhost:8080/",
     "height": 132,
     "referenced_widgets": [
      "bbfae79ba3114cc0ba9ac18586340526",
      "8294868e58104b86ae5738e09350e703",
      "12d0cba5d64847398149dfc22e4aaa49",
      "3daa49edb9b148329eca91adede6f441",
      "49f46726082b4ccbb9257f9ca5c4afef",
      "4aef6b385ba248109653f047e45bcd77",
      "d789f8aff979429286e9d12c7a46e80e",
      "7d8caff261ca4dc9bfd8216e0afe0768",
      "6ad6af3e3c4e4bc0abc32cae70eebfc3",
      "fbc7530b7a5f432689e47e799dffee35",
      "dd10080e6a0241fc82eedda8889297df",
      "28c1c3c6fd2e41c59285b493721faae2",
      "b42d5db87b3245fea74cf8790865b4a4",
      "7eb5ee03ffed4229affec380ffe3ce23",
      "53488df70ff643e4b33eff181c15d092",
      "c9bf215661114193b814ea691972912e"
     ]
    },
    "id": "35NoZ6THPlLB",
    "outputId": "238607fc-c037-44cb-99dd-0971eb6126a3"
   },
   "outputs": [
    {
     "name": "stderr",
     "output_type": "stream",
     "text": [
      "WARNING:implicit:GPU training requires factor size to be a multiple of 32. Increasing factors from 5 to 32.\n"
     ]
    },
    {
     "data": {
      "application/vnd.jupyter.widget-view+json": {
       "model_id": "bbfae79ba3114cc0ba9ac18586340526",
       "version_major": 2,
       "version_minor": 0
      },
      "text/plain": [
       "HBox(children=(FloatProgress(value=0.0, max=15.0), HTML(value='')))"
      ]
     },
     "metadata": {
      "tags": []
     },
     "output_type": "display_data"
    },
    {
     "name": "stdout",
     "output_type": "stream",
     "text": [
      "\n"
     ]
    },
    {
     "data": {
      "application/vnd.jupyter.widget-view+json": {
       "model_id": "6ad6af3e3c4e4bc0abc32cae70eebfc3",
       "version_major": 2,
       "version_minor": 0
      },
      "text/plain": [
       "HBox(children=(FloatProgress(value=0.0, max=57769.0), HTML(value='')))"
      ]
     },
     "metadata": {
      "tags": []
     },
     "output_type": "display_data"
    },
    {
     "name": "stdout",
     "output_type": "stream",
     "text": [
      "\n"
     ]
    }
   ],
   "source": [
    "rating = list(train.rating)\n",
    "\n",
    "user_id = {v: k for k, v in enumerate(train['user_id'].unique())}\n",
    "item_id = {v: k for k, v in enumerate(train['anime_id'].unique())}\n",
    "rows = train['user_id'].map(user_id)\n",
    "cols = train['anime_id'].map(item_id)\n",
    "\n",
    "rating_sparse = csr_matrix((rating, (rows, cols)), shape=(len(train['user_id'].unique()), len(train['anime_id'].unique())) )\n",
    "\n",
    "ALS = AlternatingLeastSquares(factors=5, regularization=0.05)\n",
    "ALS.fit(rating_sparse.T)\n",
    "predict = ALS.recommend_all(rating_sparse, filter_already_liked_items=True )"
   ]
  },
  {
   "cell_type": "code",
   "execution_count": 96,
   "metadata": {
    "colab": {
     "base_uri": "https://localhost:8080/",
     "height": 142
    },
    "id": "v0YRVoGIPlLC",
    "outputId": "20165ef6-d4d3-43f9-8d11-61719611522e"
   },
   "outputs": [
    {
     "data": {
      "text/html": [
       "<div>\n",
       "<style scoped>\n",
       "    .dataframe tbody tr th:only-of-type {\n",
       "        vertical-align: middle;\n",
       "    }\n",
       "\n",
       "    .dataframe tbody tr th {\n",
       "        vertical-align: top;\n",
       "    }\n",
       "\n",
       "    .dataframe thead th {\n",
       "        text-align: right;\n",
       "    }\n",
       "</style>\n",
       "<table border=\"1\" class=\"dataframe\">\n",
       "  <thead>\n",
       "    <tr style=\"text-align: right;\">\n",
       "      <th></th>\n",
       "      <th>MRR</th>\n",
       "      <th>MAP@K</th>\n",
       "      <th>NDCG@K</th>\n",
       "    </tr>\n",
       "  </thead>\n",
       "  <tbody>\n",
       "    <tr>\n",
       "      <th>top5</th>\n",
       "      <td>0.164417</td>\n",
       "      <td>0.161304</td>\n",
       "      <td>0.221072</td>\n",
       "    </tr>\n",
       "    <tr>\n",
       "      <th>top10</th>\n",
       "      <td>0.253371</td>\n",
       "      <td>0.231326</td>\n",
       "      <td>0.333919</td>\n",
       "    </tr>\n",
       "    <tr>\n",
       "      <th>top25</th>\n",
       "      <td>0.334192</td>\n",
       "      <td>0.296446</td>\n",
       "      <td>0.409987</td>\n",
       "    </tr>\n",
       "  </tbody>\n",
       "</table>\n",
       "</div>"
      ],
      "text/plain": [
       "            MRR     MAP@K    NDCG@K\n",
       "top5   0.164417  0.161304  0.221072\n",
       "top10  0.253371  0.231326  0.333919\n",
       "top25  0.334192  0.296446  0.409987"
      ]
     },
     "metadata": {
      "tags": []
     },
     "output_type": "display_data"
    }
   ],
   "source": [
    "predict_frame = test_group.copy()\n",
    "predict_frame['pred'] = predict_frame['user_id'].map(lambda x: predict[user_id[x], :])\n",
    "id_item = {k: v for k, v in enumerate(train['anime_id'].unique())}\n",
    "predict_frame['pred'] = predict_frame['pred'].map(lambda x: [id_item[i] for i in x])\n",
    "Metrics.add_tops(predict_frame)\n",
    "Metrics.print_score(predict_frame)"
   ]
  },
  {
   "cell_type": "markdown",
   "metadata": {
    "id": "GNWKlzEz422N"
   },
   "source": [
    "### Вывод\n"
   ]
  },
  {
   "cell_type": "markdown",
   "metadata": {
    "id": "iK2AIR5i4_gA"
   },
   "source": [
    "Результат намного лучше, чем с самыми популярными, но всё ещё плохой."
   ]
  },
  {
   "cell_type": "markdown",
   "metadata": {
    "id": "XmWhAehidE6G"
   },
   "source": [
    "## Задание №7 Оценить работу алгоритмов выбрав одну из метрик, сделать вывод по результатам работы (2 балла):\n",
    "\n",
    "* MAP@k\n",
    "* NDCG@k\n",
    "* MRR"
   ]
  },
  {
   "cell_type": "markdown",
   "metadata": {
    "id": "vUwQhDUWOJUS"
   },
   "source": [
    "Самым лучшим оказался ALS. Более подробные выводы и метрики находятся в соответствующих пунктах."
   ]
  },
  {
   "cell_type": "markdown",
   "metadata": {
    "id": "aCy4x5z3zxBG"
   },
   "source": [
    "## Метрики"
   ]
  },
  {
   "cell_type": "code",
   "execution_count": 54,
   "metadata": {
    "id": "sL9_jrCRzxBG"
   },
   "outputs": [],
   "source": [
    "class Metrics:\n",
    "    @staticmethod\n",
    "    def MRR(rs):\n",
    "        rs = (np.asarray(r).nonzero()[0] for r in rs)\n",
    "        return np.mean([1. / (r[0] + 1) if r.size else 0. for r in rs])\n",
    "    \n",
    "    @staticmethod\n",
    "    def _r_precision(r):\n",
    "        r = np.asarray(r) != 0\n",
    "        z = r.nonzero()[0]\n",
    "        if not z.size:\n",
    "            return 0\n",
    "        return np.mean(r[:z[-1] + 1])\n",
    "    \n",
    "    @staticmethod\n",
    "    def _presision_at_k(r, k):\n",
    "        assert k >= 1\n",
    "        r = np.asarray(r)[:k] != 0\n",
    "        if r.size != k:\n",
    "            raise ValueError(\"l < k\")\n",
    "        return np.mean(r)\n",
    "        \n",
    "    @staticmethod    \n",
    "    def _average_precision(r):\n",
    "        r = np.asarray(r) != 0\n",
    "        out = [Metrics._presision_at_k(r, k+1) for k in range(r.size) if r[k]]\n",
    "        if not out:\n",
    "            return 0.\n",
    "        return np.mean(out)\n",
    "    \n",
    "    @staticmethod\n",
    "    def mean_average_precision(rs):\n",
    "        return np.mean([Metrics._average_precision(r) for r in rs])\n",
    "    \n",
    "    @staticmethod\n",
    "    def _dcg_at_k(r, k, method=0):\n",
    "        r = np.asfarray(r)[:k]\n",
    "        if r.size:\n",
    "            if method == 0:\n",
    "                return r[0] + np.sum(r[1:] / np.log2(np.arange(2, r.size + 1)))\n",
    "            elif method == 1:\n",
    "                return np.sum(r / np.log2(np.arange(2, r.size + 2)))\n",
    "            else:\n",
    "                raise ValueError(\"bad method\")\n",
    "        return 0\n",
    "        \n",
    "    @staticmethod\n",
    "    def ndcg_at_k(r, k, method=0):\n",
    "        dcg_max = Metrics._dcg_at_k(sorted(r, reverse=True), k, method)\n",
    "        if not(dcg_max):\n",
    "            return 0.\n",
    "        return Metrics._dcg_at_k(r, k, method) / dcg_max\n",
    "    \n",
    "    @staticmethod\n",
    "    def print_score(data, tops=[5, 10, 25]):\n",
    "        metrics = pd.DataFrame(index=[f'top{top}' for top in tops], columns=['MRR', 'MAP@K', 'NDCG@K'])\n",
    "        for top in tops:\n",
    "            metrics.loc[f'top{top}', 'MRR'] = Metrics.MRR(list(data[f'top{top}'].values))\n",
    "            metrics.loc[f'top{top}', 'MAP@K'] = Metrics.mean_average_precision(list(data[f'top{top}'].values))    \n",
    "            metrics.loc[f'top{top}', 'NDCG@K'] = np.mean([Metrics.ndcg_at_k(i, top) for i in list(data[f'top{top}'].values)])\n",
    "        display(metrics)\n",
    "    \n",
    "    @staticmethod\n",
    "    def add_tops(data, tops=[5, 10, 25]):\n",
    "        for top in tops:\n",
    "            data[f'top{top}'] = data.apply(lambda x: [int(pred in x.anime_id[:top]) for pred in x.pred[:top]], axis=1)"
   ]
  },
  {
   "cell_type": "code",
   "execution_count": 121,
   "metadata": {
    "colab": {
     "base_uri": "https://localhost:8080/"
    },
    "id": "fCkoV1PcURZg",
    "outputId": "5359b354-4484-4729-9f1a-298ff11c7d90"
   },
   "outputs": [
    {
     "name": "stdout",
     "output_type": "stream",
     "text": [
      "Requirement already satisfied: nbconvert in /usr/local/lib/python3.7/dist-packages (5.6.1)\n",
      "Requirement already satisfied: mistune<2,>=0.8.1 in /usr/local/lib/python3.7/dist-packages (from nbconvert) (0.8.4)\n",
      "Requirement already satisfied: pygments in /usr/local/lib/python3.7/dist-packages (from nbconvert) (2.6.1)\n",
      "Requirement already satisfied: traitlets>=4.2 in /usr/local/lib/python3.7/dist-packages (from nbconvert) (5.0.5)\n",
      "Requirement already satisfied: pandocfilters>=1.4.1 in /usr/local/lib/python3.7/dist-packages (from nbconvert) (1.4.3)\n",
      "Requirement already satisfied: jinja2>=2.4 in /usr/local/lib/python3.7/dist-packages (from nbconvert) (2.11.3)\n",
      "Requirement already satisfied: nbformat>=4.4 in /usr/local/lib/python3.7/dist-packages (from nbconvert) (5.1.3)\n",
      "Requirement already satisfied: defusedxml in /usr/local/lib/python3.7/dist-packages (from nbconvert) (0.7.1)\n",
      "Requirement already satisfied: entrypoints>=0.2.2 in /usr/local/lib/python3.7/dist-packages (from nbconvert) (0.3)\n",
      "Requirement already satisfied: bleach in /usr/local/lib/python3.7/dist-packages (from nbconvert) (3.3.0)\n",
      "Requirement already satisfied: jupyter-core in /usr/local/lib/python3.7/dist-packages (from nbconvert) (4.7.1)\n",
      "Requirement already satisfied: testpath in /usr/local/lib/python3.7/dist-packages (from nbconvert) (0.5.0)\n",
      "Requirement already satisfied: ipython-genutils in /usr/local/lib/python3.7/dist-packages (from traitlets>=4.2->nbconvert) (0.2.0)\n",
      "Requirement already satisfied: MarkupSafe>=0.23 in /usr/local/lib/python3.7/dist-packages (from jinja2>=2.4->nbconvert) (2.0.1)\n",
      "Requirement already satisfied: jsonschema!=2.5.0,>=2.4 in /usr/local/lib/python3.7/dist-packages (from nbformat>=4.4->nbconvert) (2.6.0)\n",
      "Requirement already satisfied: six>=1.9.0 in /usr/local/lib/python3.7/dist-packages (from bleach->nbconvert) (1.15.0)\n",
      "Requirement already satisfied: packaging in /usr/local/lib/python3.7/dist-packages (from bleach->nbconvert) (20.9)\n",
      "Requirement already satisfied: webencodings in /usr/local/lib/python3.7/dist-packages (from bleach->nbconvert) (0.5.1)\n",
      "Requirement already satisfied: pyparsing>=2.0.2 in /usr/local/lib/python3.7/dist-packages (from packaging->bleach->nbconvert) (2.4.7)\n"
     ]
    }
   ],
   "source": [
    "pip install nbconvert"
   ]
  },
  {
   "cell_type": "code",
   "execution_count": null,
   "metadata": {
    "id": "qfRPMK8EUXlz"
   },
   "outputs": [],
   "source": []
  }
 ],
 "metadata": {
  "accelerator": "GPU",
  "colab": {
   "name": "Lab #2-RecSys.ipynb",
   "provenance": []
  },
  "kernelspec": {
   "display_name": "Python 3",
   "language": "python",
   "name": "python3"
  },
  "language_info": {
   "codemirror_mode": {
    "name": "ipython",
    "version": 3
   },
   "file_extension": ".py",
   "mimetype": "text/x-python",
   "name": "python",
   "nbconvert_exporter": "python",
   "pygments_lexer": "ipython3",
   "version": "3.6.9"
  },
  "widgets": {
   "application/vnd.jupyter.widget-state+json": {
    "12d0cba5d64847398149dfc22e4aaa49": {
     "model_module": "@jupyter-widgets/controls",
     "model_name": "FloatProgressModel",
     "state": {
      "_dom_classes": [],
      "_model_module": "@jupyter-widgets/controls",
      "_model_module_version": "1.5.0",
      "_model_name": "FloatProgressModel",
      "_view_count": null,
      "_view_module": "@jupyter-widgets/controls",
      "_view_module_version": "1.5.0",
      "_view_name": "ProgressView",
      "bar_style": "success",
      "description": "100%",
      "description_tooltip": null,
      "layout": "IPY_MODEL_4aef6b385ba248109653f047e45bcd77",
      "max": 15,
      "min": 0,
      "orientation": "horizontal",
      "style": "IPY_MODEL_49f46726082b4ccbb9257f9ca5c4afef",
      "value": 15
     }
    },
    "28c1c3c6fd2e41c59285b493721faae2": {
     "model_module": "@jupyter-widgets/controls",
     "model_name": "HTMLModel",
     "state": {
      "_dom_classes": [],
      "_model_module": "@jupyter-widgets/controls",
      "_model_module_version": "1.5.0",
      "_model_name": "HTMLModel",
      "_view_count": null,
      "_view_module": "@jupyter-widgets/controls",
      "_view_module_version": "1.5.0",
      "_view_name": "HTMLView",
      "description": "",
      "description_tooltip": null,
      "layout": "IPY_MODEL_c9bf215661114193b814ea691972912e",
      "placeholder": "​",
      "style": "IPY_MODEL_53488df70ff643e4b33eff181c15d092",
      "value": " 57769/57769 [00:08&lt;00:00, 6843.91it/s]"
     }
    },
    "3daa49edb9b148329eca91adede6f441": {
     "model_module": "@jupyter-widgets/controls",
     "model_name": "HTMLModel",
     "state": {
      "_dom_classes": [],
      "_model_module": "@jupyter-widgets/controls",
      "_model_module_version": "1.5.0",
      "_model_name": "HTMLModel",
      "_view_count": null,
      "_view_module": "@jupyter-widgets/controls",
      "_view_module_version": "1.5.0",
      "_view_name": "HTMLView",
      "description": "",
      "description_tooltip": null,
      "layout": "IPY_MODEL_7d8caff261ca4dc9bfd8216e0afe0768",
      "placeholder": "​",
      "style": "IPY_MODEL_d789f8aff979429286e9d12c7a46e80e",
      "value": " 15/15 [00:09&lt;00:00,  1.56it/s]"
     }
    },
    "49f46726082b4ccbb9257f9ca5c4afef": {
     "model_module": "@jupyter-widgets/controls",
     "model_name": "ProgressStyleModel",
     "state": {
      "_model_module": "@jupyter-widgets/controls",
      "_model_module_version": "1.5.0",
      "_model_name": "ProgressStyleModel",
      "_view_count": null,
      "_view_module": "@jupyter-widgets/base",
      "_view_module_version": "1.2.0",
      "_view_name": "StyleView",
      "bar_color": null,
      "description_width": "initial"
     }
    },
    "4aef6b385ba248109653f047e45bcd77": {
     "model_module": "@jupyter-widgets/base",
     "model_name": "LayoutModel",
     "state": {
      "_model_module": "@jupyter-widgets/base",
      "_model_module_version": "1.2.0",
      "_model_name": "LayoutModel",
      "_view_count": null,
      "_view_module": "@jupyter-widgets/base",
      "_view_module_version": "1.2.0",
      "_view_name": "LayoutView",
      "align_content": null,
      "align_items": null,
      "align_self": null,
      "border": null,
      "bottom": null,
      "display": null,
      "flex": null,
      "flex_flow": null,
      "grid_area": null,
      "grid_auto_columns": null,
      "grid_auto_flow": null,
      "grid_auto_rows": null,
      "grid_column": null,
      "grid_gap": null,
      "grid_row": null,
      "grid_template_areas": null,
      "grid_template_columns": null,
      "grid_template_rows": null,
      "height": null,
      "justify_content": null,
      "justify_items": null,
      "left": null,
      "margin": null,
      "max_height": null,
      "max_width": null,
      "min_height": null,
      "min_width": null,
      "object_fit": null,
      "object_position": null,
      "order": null,
      "overflow": null,
      "overflow_x": null,
      "overflow_y": null,
      "padding": null,
      "right": null,
      "top": null,
      "visibility": null,
      "width": null
     }
    },
    "53488df70ff643e4b33eff181c15d092": {
     "model_module": "@jupyter-widgets/controls",
     "model_name": "DescriptionStyleModel",
     "state": {
      "_model_module": "@jupyter-widgets/controls",
      "_model_module_version": "1.5.0",
      "_model_name": "DescriptionStyleModel",
      "_view_count": null,
      "_view_module": "@jupyter-widgets/base",
      "_view_module_version": "1.2.0",
      "_view_name": "StyleView",
      "description_width": ""
     }
    },
    "6ad6af3e3c4e4bc0abc32cae70eebfc3": {
     "model_module": "@jupyter-widgets/controls",
     "model_name": "HBoxModel",
     "state": {
      "_dom_classes": [],
      "_model_module": "@jupyter-widgets/controls",
      "_model_module_version": "1.5.0",
      "_model_name": "HBoxModel",
      "_view_count": null,
      "_view_module": "@jupyter-widgets/controls",
      "_view_module_version": "1.5.0",
      "_view_name": "HBoxView",
      "box_style": "",
      "children": [
       "IPY_MODEL_dd10080e6a0241fc82eedda8889297df",
       "IPY_MODEL_28c1c3c6fd2e41c59285b493721faae2"
      ],
      "layout": "IPY_MODEL_fbc7530b7a5f432689e47e799dffee35"
     }
    },
    "7d8caff261ca4dc9bfd8216e0afe0768": {
     "model_module": "@jupyter-widgets/base",
     "model_name": "LayoutModel",
     "state": {
      "_model_module": "@jupyter-widgets/base",
      "_model_module_version": "1.2.0",
      "_model_name": "LayoutModel",
      "_view_count": null,
      "_view_module": "@jupyter-widgets/base",
      "_view_module_version": "1.2.0",
      "_view_name": "LayoutView",
      "align_content": null,
      "align_items": null,
      "align_self": null,
      "border": null,
      "bottom": null,
      "display": null,
      "flex": null,
      "flex_flow": null,
      "grid_area": null,
      "grid_auto_columns": null,
      "grid_auto_flow": null,
      "grid_auto_rows": null,
      "grid_column": null,
      "grid_gap": null,
      "grid_row": null,
      "grid_template_areas": null,
      "grid_template_columns": null,
      "grid_template_rows": null,
      "height": null,
      "justify_content": null,
      "justify_items": null,
      "left": null,
      "margin": null,
      "max_height": null,
      "max_width": null,
      "min_height": null,
      "min_width": null,
      "object_fit": null,
      "object_position": null,
      "order": null,
      "overflow": null,
      "overflow_x": null,
      "overflow_y": null,
      "padding": null,
      "right": null,
      "top": null,
      "visibility": null,
      "width": null
     }
    },
    "7eb5ee03ffed4229affec380ffe3ce23": {
     "model_module": "@jupyter-widgets/base",
     "model_name": "LayoutModel",
     "state": {
      "_model_module": "@jupyter-widgets/base",
      "_model_module_version": "1.2.0",
      "_model_name": "LayoutModel",
      "_view_count": null,
      "_view_module": "@jupyter-widgets/base",
      "_view_module_version": "1.2.0",
      "_view_name": "LayoutView",
      "align_content": null,
      "align_items": null,
      "align_self": null,
      "border": null,
      "bottom": null,
      "display": null,
      "flex": null,
      "flex_flow": null,
      "grid_area": null,
      "grid_auto_columns": null,
      "grid_auto_flow": null,
      "grid_auto_rows": null,
      "grid_column": null,
      "grid_gap": null,
      "grid_row": null,
      "grid_template_areas": null,
      "grid_template_columns": null,
      "grid_template_rows": null,
      "height": null,
      "justify_content": null,
      "justify_items": null,
      "left": null,
      "margin": null,
      "max_height": null,
      "max_width": null,
      "min_height": null,
      "min_width": null,
      "object_fit": null,
      "object_position": null,
      "order": null,
      "overflow": null,
      "overflow_x": null,
      "overflow_y": null,
      "padding": null,
      "right": null,
      "top": null,
      "visibility": null,
      "width": null
     }
    },
    "8294868e58104b86ae5738e09350e703": {
     "model_module": "@jupyter-widgets/base",
     "model_name": "LayoutModel",
     "state": {
      "_model_module": "@jupyter-widgets/base",
      "_model_module_version": "1.2.0",
      "_model_name": "LayoutModel",
      "_view_count": null,
      "_view_module": "@jupyter-widgets/base",
      "_view_module_version": "1.2.0",
      "_view_name": "LayoutView",
      "align_content": null,
      "align_items": null,
      "align_self": null,
      "border": null,
      "bottom": null,
      "display": null,
      "flex": null,
      "flex_flow": null,
      "grid_area": null,
      "grid_auto_columns": null,
      "grid_auto_flow": null,
      "grid_auto_rows": null,
      "grid_column": null,
      "grid_gap": null,
      "grid_row": null,
      "grid_template_areas": null,
      "grid_template_columns": null,
      "grid_template_rows": null,
      "height": null,
      "justify_content": null,
      "justify_items": null,
      "left": null,
      "margin": null,
      "max_height": null,
      "max_width": null,
      "min_height": null,
      "min_width": null,
      "object_fit": null,
      "object_position": null,
      "order": null,
      "overflow": null,
      "overflow_x": null,
      "overflow_y": null,
      "padding": null,
      "right": null,
      "top": null,
      "visibility": null,
      "width": null
     }
    },
    "b42d5db87b3245fea74cf8790865b4a4": {
     "model_module": "@jupyter-widgets/controls",
     "model_name": "ProgressStyleModel",
     "state": {
      "_model_module": "@jupyter-widgets/controls",
      "_model_module_version": "1.5.0",
      "_model_name": "ProgressStyleModel",
      "_view_count": null,
      "_view_module": "@jupyter-widgets/base",
      "_view_module_version": "1.2.0",
      "_view_name": "StyleView",
      "bar_color": null,
      "description_width": "initial"
     }
    },
    "bbfae79ba3114cc0ba9ac18586340526": {
     "model_module": "@jupyter-widgets/controls",
     "model_name": "HBoxModel",
     "state": {
      "_dom_classes": [],
      "_model_module": "@jupyter-widgets/controls",
      "_model_module_version": "1.5.0",
      "_model_name": "HBoxModel",
      "_view_count": null,
      "_view_module": "@jupyter-widgets/controls",
      "_view_module_version": "1.5.0",
      "_view_name": "HBoxView",
      "box_style": "",
      "children": [
       "IPY_MODEL_12d0cba5d64847398149dfc22e4aaa49",
       "IPY_MODEL_3daa49edb9b148329eca91adede6f441"
      ],
      "layout": "IPY_MODEL_8294868e58104b86ae5738e09350e703"
     }
    },
    "c9bf215661114193b814ea691972912e": {
     "model_module": "@jupyter-widgets/base",
     "model_name": "LayoutModel",
     "state": {
      "_model_module": "@jupyter-widgets/base",
      "_model_module_version": "1.2.0",
      "_model_name": "LayoutModel",
      "_view_count": null,
      "_view_module": "@jupyter-widgets/base",
      "_view_module_version": "1.2.0",
      "_view_name": "LayoutView",
      "align_content": null,
      "align_items": null,
      "align_self": null,
      "border": null,
      "bottom": null,
      "display": null,
      "flex": null,
      "flex_flow": null,
      "grid_area": null,
      "grid_auto_columns": null,
      "grid_auto_flow": null,
      "grid_auto_rows": null,
      "grid_column": null,
      "grid_gap": null,
      "grid_row": null,
      "grid_template_areas": null,
      "grid_template_columns": null,
      "grid_template_rows": null,
      "height": null,
      "justify_content": null,
      "justify_items": null,
      "left": null,
      "margin": null,
      "max_height": null,
      "max_width": null,
      "min_height": null,
      "min_width": null,
      "object_fit": null,
      "object_position": null,
      "order": null,
      "overflow": null,
      "overflow_x": null,
      "overflow_y": null,
      "padding": null,
      "right": null,
      "top": null,
      "visibility": null,
      "width": null
     }
    },
    "d789f8aff979429286e9d12c7a46e80e": {
     "model_module": "@jupyter-widgets/controls",
     "model_name": "DescriptionStyleModel",
     "state": {
      "_model_module": "@jupyter-widgets/controls",
      "_model_module_version": "1.5.0",
      "_model_name": "DescriptionStyleModel",
      "_view_count": null,
      "_view_module": "@jupyter-widgets/base",
      "_view_module_version": "1.2.0",
      "_view_name": "StyleView",
      "description_width": ""
     }
    },
    "dd10080e6a0241fc82eedda8889297df": {
     "model_module": "@jupyter-widgets/controls",
     "model_name": "FloatProgressModel",
     "state": {
      "_dom_classes": [],
      "_model_module": "@jupyter-widgets/controls",
      "_model_module_version": "1.5.0",
      "_model_name": "FloatProgressModel",
      "_view_count": null,
      "_view_module": "@jupyter-widgets/controls",
      "_view_module_version": "1.5.0",
      "_view_name": "ProgressView",
      "bar_style": "success",
      "description": "100%",
      "description_tooltip": null,
      "layout": "IPY_MODEL_7eb5ee03ffed4229affec380ffe3ce23",
      "max": 57769,
      "min": 0,
      "orientation": "horizontal",
      "style": "IPY_MODEL_b42d5db87b3245fea74cf8790865b4a4",
      "value": 57769
     }
    },
    "fbc7530b7a5f432689e47e799dffee35": {
     "model_module": "@jupyter-widgets/base",
     "model_name": "LayoutModel",
     "state": {
      "_model_module": "@jupyter-widgets/base",
      "_model_module_version": "1.2.0",
      "_model_name": "LayoutModel",
      "_view_count": null,
      "_view_module": "@jupyter-widgets/base",
      "_view_module_version": "1.2.0",
      "_view_name": "LayoutView",
      "align_content": null,
      "align_items": null,
      "align_self": null,
      "border": null,
      "bottom": null,
      "display": null,
      "flex": null,
      "flex_flow": null,
      "grid_area": null,
      "grid_auto_columns": null,
      "grid_auto_flow": null,
      "grid_auto_rows": null,
      "grid_column": null,
      "grid_gap": null,
      "grid_row": null,
      "grid_template_areas": null,
      "grid_template_columns": null,
      "grid_template_rows": null,
      "height": null,
      "justify_content": null,
      "justify_items": null,
      "left": null,
      "margin": null,
      "max_height": null,
      "max_width": null,
      "min_height": null,
      "min_width": null,
      "object_fit": null,
      "object_position": null,
      "order": null,
      "overflow": null,
      "overflow_x": null,
      "overflow_y": null,
      "padding": null,
      "right": null,
      "top": null,
      "visibility": null,
      "width": null
     }
    }
   }
  }
 },
 "nbformat": 4,
 "nbformat_minor": 1
}
